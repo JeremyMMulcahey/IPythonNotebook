{
 "metadata": {
  "name": "",
  "signature": "sha256:3f21ebdfe6d553ebe65df7f31b44f4630994a9f23a528f75cb968e9b7a819f44"
 },
 "nbformat": 3,
 "nbformat_minor": 0,
 "worksheets": [
  {
   "cells": [
    {
     "cell_type": "heading",
     "level": 1,
     "metadata": {},
     "source": [
      "Time Series Analysis Notebooks"
     ]
    },
    {
     "cell_type": "heading",
     "level": 2,
     "metadata": {},
     "source": [
      "<font size =4>Notebooks by Jeremy Mulcahey<br>\n",
      "STAT 416 - Fall Quarter 2014<br>\n",
      "Cal Poly SLO Statistics Department<br>\n",
      "    Instructor: Dr. Gary Hughes</font>"
     ]
    },
    {
     "cell_type": "markdown",
     "metadata": {},
     "source": [
      "<ul><font size = '4.5'>\n",
      "<li>\n",
      "<a href = \"Chapter1.ipynb\">Chapter 1: Moving Averages, Modeling a Non-linear System, and Time Series Basics in Python</a>\n",
      "</li><br>\n",
      "\n",
      "<li>\n",
      "<a href = \"Chapter2.ipynb\">Chapter 2: Exponential Smoothing Methods, Introduction to Autocorrelation, and MA(q) models</a>\n",
      "</li><br>\n",
      "\n",
      "<li>\n",
      "<a href = \"Chapter3.ipynb\">Chapter 3:</a>\n",
      "</li><br>\n",
      "\n",
      "<li>\n",
      "<a href = \"Chapter4.ipynb\">The Project</a>\n",
      "</li><br>\n",
      "\n",
      "<li>\n",
      "<a href = \"Chapter5.ipynb\">Conclusion</a>\n",
      "</li><br></font>\n",
      "</ul>"
     ]
    },
    {
     "cell_type": "code",
     "collapsed": false,
     "input": [],
     "language": "python",
     "metadata": {},
     "outputs": []
    }
   ],
   "metadata": {}
  }
 ]
}