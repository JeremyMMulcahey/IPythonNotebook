{
 "metadata": {
  "name": "",
  "signature": "sha256:1a953a68cf5f8974fd9a80348868dd17bdcc94709f78d665d39f6d2c9103b3f4"
 },
 "nbformat": 3,
 "nbformat_minor": 0,
 "worksheets": [
  {
   "cells": [
    {
     "cell_type": "heading",
     "level": 1,
     "metadata": {},
     "source": [
      "Statistical Analysis of Time Series Notebooks"
     ]
    },
    {
     "cell_type": "markdown",
     "metadata": {},
     "source": [
      "<img src = 'images/cover.PNG', align='left', width=80%, height=80%>"
     ]
    },
    {
     "cell_type": "heading",
     "level": 2,
     "metadata": {},
     "source": [
      "<font size =4>Notebooks by Jeremy Mulcahey<br>\n",
      "STAT 416 - Fall Quarter 2014<br>\n",
      "Cal Poly SLO Statistics Department<br>\n",
      "    Instructor: Dr. Gary Hughes</font>"
     ]
    },
    {
     "cell_type": "markdown",
     "metadata": {},
     "source": [
      "<ul><font size = '4.5'>\n",
      "<li>\n",
      "<a href = \"Chapter1.ipynb\">Chapter 1: Moving Averages, Modeling a Non-linear System, and Time Series Basics in Python</a>\n",
      "</li><br>\n",
      "\n",
      "<li>\n",
      "<a href = \"Chapter2.ipynb\">Chapter 2: Exponential Smoothing Methods, Introduction to Autocorrelation, and MA(q) models</a>\n",
      "</li><br>\n",
      "\n",
      "<li>\n",
      "<a href = \"Chapter3.ipynb\">Chapter 3: ARMA Models</a>\n",
      "</li><br>\n",
      "\n",
      "<li>\n",
      "<a href = \"Chapter4.ipynb\">Chapter 4: ARIMA Models and Model selection</a>\n",
      "</li><br>\n",
      "\n",
      "<li>\n",
      "<a href = \"Chapter5.ipynb\">Chapter 5: FFT, Periodograms, Data Filters, and Cross Correlation</a>\n",
      "</li><br></font>\n",
      "</ul>"
     ]
    }
   ],
   "metadata": {}
  }
 ]
}