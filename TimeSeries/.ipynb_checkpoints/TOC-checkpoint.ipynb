{
 "metadata": {
  "name": "",
  "signature": "sha256:9bd284c2aedf4a288391eadc9123a2ca3ad4b84cfbe29e806fceb35b4feb0d0c"
 },
 "nbformat": 3,
 "nbformat_minor": 0,
 "worksheets": [
  {
   "cells": [
    {
     "cell_type": "heading",
     "level": 1,
     "metadata": {},
     "source": [
      "Statistical Analysis of Time Series Notebooks"
     ]
    },
    {
     "cell_type": "heading",
     "level": 2,
     "metadata": {},
     "source": [
      "<font size =4>Notebooks by Jeremy Mulcahey<br>\n",
      "STAT 416 - Fall Quarter 2014<br>\n",
      "Cal Poly SLO Statistics Department<br>\n",
      "    Instructor: Dr. Gary Hughes</font>"
     ]
    },
    {
     "cell_type": "markdown",
     "metadata": {},
     "source": [
      "<ul><font size = '4.5'>\n",
      "<li>\n",
      "<a href = \"Chapter1.ipynb\">Chapter 1: Moving Averages, Modeling a Non-linear System, and Time Series Basics in Python</a>\n",
      "</li><br>\n",
      "\n",
      "<li>\n",
      "<a href = \"Chapter2.ipynb\">Chapter 2: Exponential Smoothing Methods, Introduction to Autocorrelation, and MA(q) models</a>\n",
      "</li><br>\n",
      "\n",
      "<li>\n",
      "<a href = \"Chapter3.ipynb\">Chapter 3: ARMA Models</a>\n",
      "</li><br>\n",
      "\n",
      "<li>\n",
      "<a href = \"Chapter4.ipynb\">Chapter 4: ARIMA Models and Model selection</a>\n",
      "</li><br>\n",
      "\n",
      "<li>\n",
      "<a href = \"Chapter5.ipynb\">Chapter 5: FFT, Periodograms, Data Filters, and Cross Correlation</a>\n",
      "</li><br></font>\n",
      "</ul>"
     ]
    }
   ],
   "metadata": {}
  }
 ]
}