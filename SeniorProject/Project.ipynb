{
 "metadata": {
  "name": "",
  "signature": "sha256:beaa877be2227f15b7c7c07375c2d299b3cf54e8123e86f897c694c9604ec6b9"
 },
 "nbformat": 3,
 "nbformat_minor": 0,
 "worksheets": [
  {
   "cells": [
    {
     "cell_type": "heading",
     "level": 1,
     "metadata": {},
     "source": [
      "Introduction to Python and the IPython Notebook guide: Chapters 1-6"
     ]
    },
    {
     "cell_type": "markdown",
     "metadata": {},
     "source": [
      "<img src='images/ana.PNG', align='left'><img src = \"images/ipy.PNG\", align=\"left\">"
     ]
    },
    {
     "cell_type": "heading",
     "level": 4,
     "metadata": {},
     "source": [
      "<img src = \"images/gitlogo.PNG\", align=\"left\", height=400, width = 400><img src = \"images/Rlogo2.PNG\", align=\"right\", height=200, width=200>"
     ]
    }
   ],
   "metadata": {}
  }
 ]
}