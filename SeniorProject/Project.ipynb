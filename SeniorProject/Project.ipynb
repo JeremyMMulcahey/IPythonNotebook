{
 "metadata": {
  "name": "",
  "signature": "sha256:633a4735d12decc60811c46b802752d76d508cb7dc75cf3322fc6b7f77b65ed6"
 },
 "nbformat": 3,
 "nbformat_minor": 0,
 "worksheets": [
  {
   "cells": [
    {
     "cell_type": "heading",
     "level": 1,
     "metadata": {},
     "source": [
      "Introduction to Python and the IPython Notebook guide: Chapters 1-6"
     ]
    },
    {
     "cell_type": "markdown",
     "metadata": {},
     "source": [
      "<img src='images/ana.PNG', align='left'><img src = \"images/ipy.PNG\", align=\"left\">"
     ]
    },
    {
     "cell_type": "heading",
     "level": 4,
     "metadata": {},
     "source": [
      "<img src = \"images/gitlogo.PNG\", align=\"left\", height=400, width = 400><img src = \"images/Rlogo.PNG\", align=\"right\", height=200, width=200>"
     ]
    }
   ],
   "metadata": {}
  }
 ]
}