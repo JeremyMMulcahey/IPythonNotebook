{
 "metadata": {
  "name": "",
  "signature": "sha256:1f309f89bc2f83be3fa108b040c60f630a157660539667b932965d69a741af7e"
 },
 "nbformat": 3,
 "nbformat_minor": 0,
 "worksheets": [
  {
   "cells": [
    {
     "cell_type": "heading",
     "level": 1,
     "metadata": {},
     "source": [
      "Jeremy Mulcahey's Senior Project: The IPython Notebook for Data Analysis"
     ]
    },
    {
     "cell_type": "heading",
     "level": 2,
     "metadata": {},
     "source": [
      "Contents"
     ]
    },
    {
     "cell_type": "heading",
     "level": 4,
     "metadata": {},
     "source": [
      "1 Introduction"
     ]
    },
    {
     "cell_type": "markdown",
     "metadata": {},
     "source": [
      "<PRE>1.1 Background Requirements\n",
      "1.2 Goal</PRE>"
     ]
    },
    {
     "cell_type": "heading",
     "level": 4,
     "metadata": {},
     "source": [
      "2 Starting with Python"
     ]
    },
    {
     "cell_type": "markdown",
     "metadata": {},
     "source": [
      "<PRE>2.1 Why Python?\n",
      "2.2 Installing Python\n",
      "2.3 Updating Conda, Anaconda, and Anaconda Packages\n",
      "2.4 Installing and Updating Additional Packages\n",
      "2.5 Anaconda Add-Ons (Optional)</PRE>"
     ]
    },
    {
     "cell_type": "heading",
     "level": 4,
     "metadata": {},
     "source": [
      "3 Setting up the IPython Notebook"
     ]
    },
    {
     "cell_type": "markdown",
     "metadata": {},
     "source": [
      "<PRE>3.1 Install MathJax\n",
      "3.2 Accessing the IPython Notebook\n",
      "3.3 Your first IPython Notebook</PRE>"
     ]
    },
    {
     "cell_type": "heading",
     "level": 4,
     "metadata": {},
     "source": [
      "4 Starting with GitHub"
     ]
    },
    {
     "cell_type": "markdown",
     "metadata": {},
     "source": [
      "<PRE>4.1 Create an account\n",
      "4.2 Learn what GitHub is and how to use it\n",
      "4.3 Installing and understanding GitHub Desktop\n",
      "4.4 Using GitHub Desktop</PRE>"
     ]
    },
    {
     "cell_type": "heading",
     "level": 4,
     "metadata": {},
     "source": [
      "5 Sharing IPython Notebooks with NBViewer"
     ]
    },
    {
     "cell_type": "heading",
     "level": 4,
     "metadata": {},
     "source": [
      "6 R for the IPython Notebook"
     ]
    },
    {
     "cell_type": "markdown",
     "metadata": {},
     "source": [
      "<PRE>6.1 Installing Rpy2\n",
      "6.2 Testing the Rpy2 installation\n",
      "6.3 If the Kernel Crashes\n",
      "6.4 R installation Final Notes</PRE>"
     ]
    },
    {
     "cell_type": "heading",
     "level": 4,
     "metadata": {},
     "source": [
      "7 Analyzing NIST datasets in the IPython Notebook"
     ]
    },
    {
     "cell_type": "markdown",
     "metadata": {},
     "source": [
      "<PRE>7.1 Python Packages for data analysis and the Import Cell\n",
      "7.2 Linear Regression Analysis: Norris Dataset\n",
      "<PRE>7.2.1 Object Oriented Language Introduction: Reading in and preparing data from an ASCII webpage\n",
      "7.2.2 NIST Certified Values\n",
      "7.2.3 Linear Regression and ANOVA values in Python\n",
      "7.2.4 Linear Regression and ANOVA values in R (using Rpy2)\n",
      "7.2.5 Linear Regression and ANOVA values in SAS\n",
      "7.2.6 Testing Python's Precision against NIST, R, and SAS\n",
      "7.2.7 Plotting Norris data with Mathplotlib</PRE>\n",
      "7.3 ANOVA: SiR Dataset\n",
      "<PRE>7.3.1 Reading in and preparing data from an ASCII webpage\n",
      "7.3.2 NIST Certified Values\n",
      "7.3.3 ANOVA values in Python\n",
      "7.3.4 ANOVA values in R\n",
      "7.3.5 ANOVA values in SAS\n",
      "7.3.6 Testing Python's Precision against NIST, R, and SAS\n",
      "7.3.7 Plotting SiR data with Seaborn</PRE>\n",
      "7.4 Univariate Summary Statistics: PiDigits Dataset\n",
      "<PRE>7.4.1 Reading in and preparing data from an ASCII webpage\n",
      "7.4.2 NIST Certified Values\n",
      "7.4.3 Univariate Summary Statistics in Python\n",
      "7.4.4 Testing Python's Precision against NIST values</PRE></PRE>"
     ]
    },
    {
     "cell_type": "heading",
     "level": 4,
     "metadata": {},
     "source": [
      "8 Streaming Data in the IPython Notebook"
     ]
    },
    {
     "cell_type": "markdown",
     "metadata": {},
     "source": [
      "<PRE>8.1 Python Packages for Streaming Data and the Import Cell\n",
      "8.2 Streaming Data from USA.gov\n",
      "8.3 Streaming Data from Twitter\n",
      "</PRE>"
     ]
    },
    {
     "cell_type": "heading",
     "level": 4,
     "metadata": {},
     "source": [
      "9 Time Series and Plotting in the IPython Notebook"
     ]
    },
    {
     "cell_type": "heading",
     "level": 4,
     "metadata": {},
     "source": [
      "10 Formatting and Coverting IPython Notebooks"
     ]
    },
    {
     "cell_type": "heading",
     "level": 1,
     "metadata": {},
     "source": [
      "Chapter 1\n",
      "<br>Introduction"
     ]
    },
    {
     "cell_type": "markdown",
     "metadata": {},
     "source": [
      "This notebook is for anyone that has felt a tinge of excitement by the mention of terms such as: Data Science, Big Data, Python, etc. The IPython Notebook makes it easy to add another data analysis tool to your kit. This document contains installation and set up instructions for many of the tools that enable you to initially make the most of your own IPython Notebooks. This document will also provide examples using Python packages and coding in Python. As you grow more comfortable with Python, there are many alternatives to the IPython Notebook such as the IPython console, text editors, and IDEs, but those are not my focus. Dr. Granger and his team are striving to make the IPython Notebook capable of analyzing and presenting data for all situations that will arise."
     ]
    },
    {
     "cell_type": "heading",
     "level": 2,
     "metadata": {},
     "source": [
      "1.1 Background Requirements"
     ]
    },
    {
     "cell_type": "markdown",
     "metadata": {},
     "source": [
      "Patience and an open mind.<br><br> Ideally, this guide will be useful for the full range of statistics students from \"I have never programmed before\" to \"I know what i'm doing. I just want to know which programs I need and where to get them.\""
     ]
    },
    {
     "cell_type": "heading",
     "level": 2,
     "metadata": {},
     "source": [
      "1.2 Goal"
     ]
    },
    {
     "cell_type": "markdown",
     "metadata": {},
     "source": [
      "To pass along the struggles, successes, and code I learned while analyzing data in the IPython Notebook.\n",
      "Some of the packages and programs I will provide information on are:<br><br>\n",
      "<li>Anaconda</li>\n",
      "<li>Python</li>\n",
      "<li>IPython Notebook</li>\n",
      "<li>GitHub & Sharing IPython Notebooks</li>\n",
      "<li>Pandas</li>\n",
      "<li>Numpy</li>\n",
      "<li>Seaborn</li>\n",
      "<li>NBViewer</li>\n",
      "<li>Statsmodels</li>\n",
      "<li>Requests</li>\n",
      "<li>JSON</li>\n",
      "<li>ASCII</li>\n",
      "<li>SciPy</li>\n",
      "<li>Rpy2</li>\n",
      "<li>R in IPython Notebook</li>\n",
      "<li>urllib2</li>\n",
      "<li>and more!</li>\n",
      "\n"
     ]
    },
    {
     "cell_type": "heading",
     "level": 1,
     "metadata": {},
     "source": [
      "Chapter 2<br>\n",
      "Starting with Python"
     ]
    },
    {
     "cell_type": "heading",
     "level": 2,
     "metadata": {},
     "source": [
      "2.1 Why Python?"
     ]
    },
    {
     "cell_type": "markdown",
     "metadata": {},
     "source": [
      "The obvious answer is the IPython Notebook. IPython Notebook is a one-stop shop for data analysis, widgets, homework, and projects. The IPython notebook can take the place of an IDE, text editor, and/or console. Working in the IPython Notebook enables you to write code, analyze data in Python and R, format using LaTeX and HTML, and produce graphs - all in the same document! The notebooks can be converted to HTML, LaTeX, PDF, and more. The notebooks can also be shared, stored, and backed up using NBViewer and GitHub, which we will discuss later.\n",
      "\n",
      "Two important points to keep in mind as we introduce Python are:\n",
      "<li>Python is Executebale Pseudocode,</li>\n",
      "<li>& Python is an object oriented language.</li>\n",
      "\n",
      "If this is the first time you have heard these terms, there is no reason to be intimiated. Each of these bullet points is effectively contributing to the same idea, \"[T]he Python language is easy to fall in love with.\" (McKinney)\n",
      "\n",
      "<b>Python is Executeable Pseudocode.</b><br> \n",
      "This is a spoiling characteristic of the Python language. As you learn about writing code, or for those with coding experience, Python will surprise you time and time again as code you write executes with minimal syntax errors. With little understanding of programming logic, users can write what they think should work and, more often than not, it will work.\n",
      "\n",
      "<b>Python is an object oriented language.</b><br>\n",
      "Many smarter and more experienced programmers are working tirelessly to make analyzing data as painless as possible. A large portion of what we need Python for has already been coded into modules, libraries, methods, objects, etc. Thanks to these objects containing their own functions/methods and data,various examples in this notebook will require very few lines of code to produce a lot of information.\n",
      "\n",
      "If you would like a more indepth introduction of the IPython Notebook, here is what CO-founder Dr. Granger has to say about it:\n",
      "http://bit.ly/1rVyrpi"
     ]
    },
    {
     "cell_type": "heading",
     "level": 2,
     "metadata": {},
     "source": [
      "2.2 Installing Python"
     ]
    },
    {
     "cell_type": "markdown",
     "metadata": {},
     "source": [
      "During this project, Dr. Doi has put together a document for \"Installation and Configuration of Python on PC<b>&#42;</b> (mainly based on Sheppard's Inrtro to Python for Econometrics, Statisics, and Data Analysis - IPESDA)\". Most of this section will be directly from his document.<br>\n",
      "<b>&#42;</b>[see IPESDA for install instructions for Mac/Linux]\n",
      "\n",
      "The first and largest step is the installation of Anaconda. Anaconda is a \"Completely free enterprise-ready Python distribution for large-scale data processing, predictive analytics, and scientific computing\" with \"195+ of the most popular Python packages for science, math, engineering, and data analysis\". Thanks to Anaconda, beginning in Python is a relatively painless process."
     ]
    },
    {
     "cell_type": "markdown",
     "metadata": {},
     "source": [
      "\u2022\tDownload Anaconda (https://store.continuum.io/cshop/anaconda/)\n",
      "\n",
      "Follow the link above then click on \"Download Anaconda\" in the upper right.\n",
      "<img src='http://www.goldak.com/images/downloadAnaconda.PNG'><br>\n",
      "\n",
      "Click on the picture that matches your operating system.\n",
      "<img src='http://www.goldak.com/images/chooseInstall.PNG'><br>\n",
      "\n",
      "For this project, everything is coded in Python 2.7, not 3.4. Additionally, the books and resources Dr. Doi and I used to learn python and build this project suggest the use of Python 2.7, for now. So, download Python 2.7.\n",
      "<img src='http://www.goldak.com/images/installer.PNG'><br>\n",
      "\n",
      "Open the installer and follow the steps for the steps for the default/recommended installation. During installation, be sure to install in default directory(C:/Anaconda). If Anaconda is not installed there, be sure that target directory contains no unicode characters or spaces. Otherwise subsequent steps may not work well.\n",
      "<img src='http://www.goldak.com/images/anaconda.PNG'>"
     ]
    },
    {
     "cell_type": "heading",
     "level": 2,
     "metadata": {},
     "source": [
      "2.3 Updating Conda, Anaconda, and Anaconda Packages"
     ]
    },
    {
     "cell_type": "markdown",
     "metadata": {},
     "source": [
      "\u2022\tAfter installation is complete, open the command prompt. This can be done by opening the windows start menu by clicking in the lower left of your desktop. Just above the icon there will be a search box. Type letters <b>cmd</b> into the search box and hit enter.\n",
      "<img src='http://www.goldak.com/images/cmd.png'>\n",
      "A black window will open on the screen. Type the following lines one at time, hitting enter after each one and allowing the program to finish before submitting the next line:\n",
      "\n",
      "\tconda update conda\n",
      "\tconda update anaconda\n",
      "    \n",
      "The statements above can be used at any point to ensure that Anaconda is up to date with the latest packages.\n",
      "<img src='http://www.goldak.com/images/Conda.png'>\n",
      "\n",
      "\n",
      "I recommend repeating this update process periodically with any packages you use. Simply open <b>cmd</b>, type conda update and the name of the package you want to check for update and hit enter. Do it now.\n",
      "\n",
      "    conda update pandas\n",
      "\n",
      "The statement above will update the pandas package and the packages it is built on (ie Numpy). This is helpful since the individual packages update more frequently than Anaconda. A few times during this project I was attempting to access functions in a packages that I found in online documentation, but they did not exist. Executing these update commands solved the problem every time. "
     ]
    },
    {
     "cell_type": "heading",
     "level": 2,
     "metadata": {},
     "source": [
      "2.4 Installing and Updating Additional Packages"
     ]
    },
    {
     "cell_type": "markdown",
     "metadata": {},
     "source": [
      "The command prompt (<b>cmd</b>) should still be open at this point. If it is not, then open it.\n",
      "\n",
      "Let's install our first package using the command prompt the same way we used it to update a package. Type the following line and hit enter:\n",
      "\n",
      "    pip install seaborn\n",
      "    \n",
      "This statement installs the \"Seaborn: statistical data visulation\" package. This will be used in a later section.\n",
      "\n",
      "This process can be repeated for any packages you come across and want to try.\n",
      "\n",
      "    pip install [name of package]\n",
      "    \n",
      "<b>Note:</b> Packages installed using pip have a different update command:\n",
      "\n",
      "    pip install --upgrade [name of package]\n",
      "    \n",
      "<b>TIP:</b> For pip packages that fail to update, this has worked for me:\n",
      "\n",
      "    pip uninstall seaborn\n",
      "    pip install seaborn"
     ]
    },
    {
     "cell_type": "heading",
     "level": 2,
     "metadata": {},
     "source": [
      "2.5 Anaconda Add-Ons (Optional)"
     ]
    },
    {
     "cell_type": "markdown",
     "metadata": {},
     "source": [
      "I intend to use these Add-Ons in the future, but I did not use them for this project. If you want to move forward with the installations, skip to the next section. Otherwise, here are the descriptions and instructions from Dr. Doi's installation guide:\n",
      "\n",
      "\u2022\tGet Anaconda Add-Ons (https://store.continuum.io/cshop/anaconda/).\n",
      "<PRE>The Accelerate and IOPro Add-Ons speed up Python (Accelerate contains MKL optimizations)<br>\n",
      "<li>Select \"All Product are Free for Academic Use\"</li>\n",
      "<li>Get license by email by filling out form (select \"Anaconda Academic License\")</li>\n",
      "This license is good for one year.<br>\n",
      "<li>Copy the license file in the .continuum folder found in the root USER directory of Windows.</li>\n",
      "At the command prompt submit:</PRE>\n",
      "\n",
      "\tconda update conda\n",
      "\tconda install accelerate\n",
      "\tconda install iopro\n",
      "\n",
      "<PRE><li>If you look in the license file, it seems to grant access to numbapro, mkl, and iopro. So, the 30-day trial for mkl should now automatically be upgraded to a 1-year trial. If you remove the license file from the .continuum directory, you should see a message in the console when launching IPython Notebook that mkl is only good for xxx days if you're still within the 30-day trial window. When the license file is in the directory the warning message disappears.</li></PRE>"
     ]
    },
    {
     "cell_type": "heading",
     "level": 1,
     "metadata": {},
     "source": [
      "Chapter 3<br>Setting up the IPython Notebook"
     ]
    },
    {
     "cell_type": "heading",
     "level": 2,
     "metadata": {},
     "source": [
      "3.1 Install MathJax"
     ]
    },
    {
     "cell_type": "markdown",
     "metadata": {},
     "source": [
      "Whether or not you intend to use LaTeX, it is recommended that MathJax is installed before using IPython Notebook. The package that enables us to use LaTeX code in the IPython Notebook is called MathJax. Since MathJax is included in the Anaconda package list (http://docs.continuum.io/anaconda/pkg-docs.html), it can be managed with conda install and conda update (not pip). Running this conda install will add MathJax 2.2-0 (or later) as a \"NEW\" package. So, install it now: \n",
      "\n",
      "    conda install mathjax\n",
      "    Hit y, then enter.\n",
      "    \n",
      "   <img src='http://www.goldak.com/images/MathJax.png'>\n"
     ]
    },
    {
     "cell_type": "heading",
     "level": 2,
     "metadata": {},
     "source": [
      "3.2 Accessing the IPython Notebook"
     ]
    },
    {
     "cell_type": "markdown",
     "metadata": {},
     "source": [
      "Everything, from a Python standpoint, is ready to use. There are several ways to access the IPython Notebook for regular use. I would use one of the following three options:\n",
      "<li>Command Prompt,</li>\n",
      "<li>Windows start up,</li>\n",
      "<li>or creating a shortcut.</li>\n",
      "\n",
      "<b>Command Prompt:</b>\n",
      "Since the Anaconda installation has the IPython Notebook open in a restrictive directory, the command prompt is the most versatile way to your notebook kernel. This approach gives you the option to work out of any directory you choose. I prefer to use <b>C:\\</b> as my home directory since all of my notebooks and files are readily accessible from this location. To do this I type, type <b>cd ../../</b>. Then type <b>ipython notebook</b>.\n",
      "\n",
      "<img src='http://www.goldak.com/images/accessIPython.PNG'><br>\n",
      "\n",
      "If you choose to use a different directory, or have more directories to back out of to reach <b>C:\\</b>, simply use <b>cd ../</b> for each directory you need to back out of, then <b>cd [directory name]</b> to change to the desired directory (ie. cd desktop/myfiles/calpoly)\n",
      "\n",
      "<PRE><b>Note:</b> The following two methods open IPython Notebook in your IPython Notebook directory and only allows access to the IPython Notebook directory and its subdirectories.</PRE>\n",
      "\n",
      "<b>Windows start up:</b>\n",
      "Click the Windows start up menu and type <b>IPython</b> into the search box. You will see these options:\n",
      "<img src='http://www.goldak.com/images/IPython.png'>\n",
      "\n",
      "Select IPython Notebook from the list and it will open in your Web-browser.\n",
      "\n",
      "<b>Creating a shortcut:</b>\n",
      "Do eveything from the \"Windows start up\" instructions above, except for selecting \"IPython Notebook from the list\". Instead, right-click and hold on IPython Notebook and drag it to your desktop. Release the right-click and select <b>Create shortcuts here</b>. \n",
      "\n",
      "From there, you can move the shortcut anywhere you desire."
     ]
    },
    {
     "cell_type": "heading",
     "level": 2,
     "metadata": {},
     "source": [
      "3.3 Your first IPython Notebook"
     ]
    },
    {
     "cell_type": "markdown",
     "metadata": {},
     "source": [
      "Once IPython Notebook opens in the browser, you will see a relatively blank page with the IP[y]: Notebook heading.\n",
      "\n",
      "Click on <b>New Notebook</b>.\n",
      "\n",
      "Change the title by clicking on the word <b>Untitled</b> by the IP[y]: Notebook header.\n",
      "\n",
      "<img src='http://www.goldak.com/images/notebook.png'>\n",
      "\n",
      "\"Enter a new notebook name:\", hit ok, and you will have your first IPython notebook.\n",
      "\n",
      "You're ready to start using Python, but that's only part of our process. The last big step we need to take is sharing and backing-up your notebooks on GitHub.\n",
      "\n",
      "<b>Note:</b>After these installation chapters, if you would like to learn more about the IPython Notebook from Co-founder Dr. Granger:\n",
      "http://bit.ly/Zsoiqc"
     ]
    },
    {
     "cell_type": "heading",
     "level": 1,
     "metadata": {},
     "source": [
      "Chapter 4\n",
      "<br>Starting with GitHub"
     ]
    },
    {
     "cell_type": "markdown",
     "metadata": {},
     "source": [
      "If you haven't heard of GitHub yet, you will. Several people I have asked about getting a data science job have given me the same order, \"Get a GitHub\". GitHub is the easiest way to share your work with potential employers, back-up your projects/assignments, and work simultaneously with other students/colleagues on different sections of the same project. Aside from how essential GitHub is for aspiring data scientists and programmers, it's required to use NBViewer (how we currently share the IPython Notebooks)."
     ]
    },
    {
     "cell_type": "heading",
     "level": 2,
     "metadata": {},
     "source": [
      "4.1 Create an account"
     ]
    },
    {
     "cell_type": "markdown",
     "metadata": {},
     "source": [
      "Creating an account with GitHub is very straightforward. Go to https://github.com/ and create one now."
     ]
    },
    {
     "cell_type": "heading",
     "level": 2,
     "metadata": {},
     "source": [
      "4.2 Learn what GitHub is and how to use it"
     ]
    },
    {
     "cell_type": "markdown",
     "metadata": {},
     "source": [
      "GitHub has greatly simplified every process we will need to set up and share Notebooks. We can work around many of the issues I struggled with over the past year.\n",
      "\n",
      "Thoroughly read this GitHub introduction (it's brief) and you will almost be done with setting up and using your GitHub.\n",
      "\n",
      "https://guides.github.com/activities/hello-world/"
     ]
    },
    {
     "cell_type": "heading",
     "level": 2,
     "metadata": {},
     "source": [
      "4.3 Installing and understanding GitHub Desktop"
     ]
    },
    {
     "cell_type": "markdown",
     "metadata": {},
     "source": [
      "This miraculous tool is what now makes GitHub so simple that anyone can use it.\n",
      "\n",
      "Install GitHub Desktop using this link:\n",
      "https://windows.github.com/\n",
      "\n",
      "Read this brief tutorial on GitHub desktop: https://guides.github.com/introduction/getting-your-project-on-github/index.html\n",
      "\n",
      "If you are new to programming, I highly recommend using the desktop tool from this point on."
     ]
    },
    {
     "cell_type": "heading",
     "level": 2,
     "metadata": {},
     "source": [
      "4.4 Using GitHub Desktop"
     ]
    },
    {
     "cell_type": "markdown",
     "metadata": {},
     "source": [
      "Open GitHub desktop.\n",
      "\n",
      "Locate the folder that stored your IPython Notebook from earlier. If you are not sure where it is stored, you can perform a windows search to find it.\n",
      "\n",
      "<img src='http://www.goldak.com/images/search.png'>\n",
      "\n",
      "Type the name of your notebook into the search bar, or search for \"IPython Notebooks\".\n",
      "\n",
      "Once you have located the folder containing your notebook, drag it into GitHub desktop (as done in the previous tutorial).\n",
      "\n",
      "Now the repository can be viewed online in your GitHub account.\n",
      "\n",
      "Since the tutorial uses GitHub Desktop for Mac, I'll show you how I use it for windows.\n",
      "\n",
      "Return to your IPython Notebook in your web browser. Type <b>print('Hello World')</b> into the box and hit Shift+Enter. The notebook will execute this line of code. Hit the save icon on the left side of the icon bar.\n",
      "<img src='http://www.goldak.com/images/hello.png'>\n",
      "\n",
      "Having completed a change to your Notebook, return to GitHub desktop. GitHub desktop will now say you have <b>Uncommitted changes</b>. In the summary box, write what you feel summarizes the change you made. For this case, type <b>Hello</b> into the Summary box. You can add a detailed description in the Description box, if you choose.\n",
      "<img src='http://www.goldak.com/images/update.png'>\n",
      "\n",
      "The right side of the program will show you what has been removed and added from the file with the Uncommitted Changes. Below is an example of a change I made to this section.\n",
      "<img src='http://www.goldak.com/images/changes.png'>\n",
      "\n",
      "After reviewing the changes, click Commit to master.\n",
      "<img src='http://www.goldak.com/images/commit.png'>\n",
      "\n",
      "Finally, in the upper right corner of the program, click the Sync button.\n",
      "<img src='http://www.goldak.com/images/sync.png'>\n",
      "\n",
      "From now on, your notebooks will be automatically updated in GitHub desktop. Repeat this commit process whenever you want to back them up online or share the changes you have made."
     ]
    },
    {
     "cell_type": "heading",
     "level": 1,
     "metadata": {},
     "source": [
      "Chapter 5<br>\n",
      "Sharing IPython Notebooks with NBViewer"
     ]
    },
    {
     "cell_type": "markdown",
     "metadata": {},
     "source": [
      "The hard parts are over.\n",
      "\n",
      "To share notebooks, we need to use NBViewer. \"IPython Notebook Viewer is a free webservice that allows you to share static html versions of hosted notebook files. If a notebook is publicly available, by giving its url to the Viewer, you should be able to view it.\"\n",
      "\n",
      "To obtain a url for sharing your notebook, go to http://nbviewer.ipython.org/ <br>\n",
      "Simply type your GitHub username (Section 4.1) into the box provided and hit \"Go!\".\n",
      "\n",
      "Save the URL from this page. This is the page that allows others to view your committed IPython Notebooks on GitHub using NBViewer!\n",
      "\n",
      "<img src='http://www.goldak.com/images/nbview.png'>"
     ]
    },
    {
     "cell_type": "heading",
     "level": 1,
     "metadata": {},
     "source": [
      "Chapter 6<br>R for IPython Notebook\n"
     ]
    },
    {
     "cell_type": "markdown",
     "metadata": {},
     "source": [
      "Is it time to code yet?\n",
      "\n",
      "It could be... \n",
      "As statistics majors, we have a required course in R. Since some of you might have prior experience with R, we should set R up right now. You can familiarize yourself with your IPython Notebook by running your pre-existing R scripts, or code snippets from your introductory statistics courses.\n",
      "\n",
      "<b>NOTE:</b> This is the most important note yet. Some time, some day, you can expect to see Python 3 and R support built-in to the IPython Notebook itself. It will be as simple as a dropdown menu in the upper-right corner of the notebook.\n",
      "\n",
      "<img src='http://www.goldak.com/images/rpython.PNG'>\n",
      "\n",
      "Until then, if you really want R now (like I did), buckle-up! It's going to be a bumpy ride."
     ]
    },
    {
     "cell_type": "heading",
     "level": 2,
     "metadata": {},
     "source": [
      "6.1 Installing Rpy2"
     ]
    },
    {
     "cell_type": "markdown",
     "metadata": {},
     "source": [
      "Rpy2 is the package we need to run R through the IPython Notebook. Unfortunately, it's not as simple as pip install rpy2.\n",
      "\n",
      "I have it on good authority that this entire section is completely unnecessary for Mac users. Rpy2 installs and works on Macs with zero issues. For us Windows users, you are benefiting from many meetings between Cal Poly's Dr. Brian Granger and myself, and many failed attempts to install Rpy2 on Windows. Luckly, there is now a native R kernel for IPython.\n",
      "\n",
      "To obtain Rpy2, click on the link. Hit control+f and type <b>rpy2</b> into the search bar.<br>\n",
      "http://www.lfd.uci.edu/~gohlke/pythonlibs/\n",
      "\n",
      "Hitting enter a couple times should take you to the Rpy2 section. Download version 2-2.4.3 for the correct operating system.\n",
      "<img src='http://www.goldak.com/images/rpy2.png'>\n",
      "\n",
      "<b>Follow the next steps carefully.</b> In my experience, here's where it gets tricky. The wrong combination of Rpy2 and version of R crashes the kernel. <br>\n",
      "    If you have R installed, I recommend backing up your scripts before proceeding (and anything else you want to save). <br>\n",
      "    If you do not have R installed, and you are using Windows 8.1, I recommend installing R version 3.0.2.\n",
      "    http://cran.r-project.org/bin/windows/base/old/3.0.2/\n",
      "\n",
      "<b>For those without R installed:</b>\n",
      "<li>Follow the link above. Download and install R version 3.0.2.</li>\n",
      "<li>Run the Rpy2 installation file.</li>\n",
      "\n",
      "<b>For those with R installed:</b>\n",
      "<li>Run the Rpy2 installation file.</li>"
     ]
    },
    {
     "cell_type": "heading",
     "level": 2,
     "metadata": {},
     "source": [
      "6.2 Testing the Rpy2 installation"
     ]
    },
    {
     "cell_type": "markdown",
     "metadata": {},
     "source": [
      "Go to your IPython Notebook. In the next cell (the empty one below Hello World), type these lines in their own cells (hitting shift+enter after each line):"
     ]
    },
    {
     "cell_type": "code",
     "collapsed": false,
     "input": [
      "import rpy2"
     ],
     "language": "python",
     "metadata": {},
     "outputs": [],
     "prompt_number": 1
    },
    {
     "cell_type": "code",
     "collapsed": false,
     "input": [
      "%load_ext rpy2.ipython"
     ],
     "language": "python",
     "metadata": {},
     "outputs": [],
     "prompt_number": 2
    },
    {
     "cell_type": "code",
     "collapsed": false,
     "input": [
      "%R install.packages(\"lattice\")"
     ],
     "language": "python",
     "metadata": {},
     "outputs": [],
     "prompt_number": 3
    },
    {
     "cell_type": "markdown",
     "metadata": {},
     "source": [
      "Scroll down to USA and select one of the USA portals."
     ]
    },
    {
     "cell_type": "code",
     "collapsed": false,
     "input": [
      "%R library(lattice)"
     ],
     "language": "python",
     "metadata": {},
     "outputs": [
      {
       "metadata": {},
       "output_type": "pyout",
       "prompt_number": 4,
       "text": [
        "<StrVector - Python:0x000000000CDA7708 / R:0x0000000007510870>\n",
        "[str, str, str, ..., str, str, str]"
       ]
      }
     ],
     "prompt_number": 4
    },
    {
     "cell_type": "markdown",
     "metadata": {},
     "source": [
      "If your output matches mine, then R is working. It is successfully downloading and installing packages. Skip ahead to Chapter 7."
     ]
    },
    {
     "cell_type": "heading",
     "level": 2,
     "metadata": {},
     "source": [
      "6.3 If the Kernel Crashes"
     ]
    },
    {
     "cell_type": "markdown",
     "metadata": {},
     "source": [
      "Go to your windows control panel.\n",
      "<img src='http://www.goldak.com/images/controlpanel.png'>\n",
      "\n",
      "Scroll down to <b>Programs and Features</b>.\n",
      "<img src='http://www.goldak.com/images/uninstall.png'>\n",
      "\n",
      "Uninstall both <b>R for Windows</b> and <b>Python 2.7 rpy2-2.4.3</b>.\n",
      "\n",
      "Download a different version of R (ie 3.0.1, 3.0.3, 3.1.0, etc). Install the new version of R and install Rpy2 again. \n",
      "\n",
      "Return to the \"Testing Rpy2 Installation\" section above and repeat the process.\n",
      "\n",
      "There should be a combination that enables R to work in the IPython Notebook. \n",
      "\n",
      "After Rpy2 is working as intended, install any version of R you prefer and add your backed up files. Rpy2 will work with the version it needs to and when you work exclusively in R, you can use your preferred version."
     ]
    },
    {
     "cell_type": "heading",
     "level": 2,
     "metadata": {},
     "source": [
      "6.4 R installation Final Notes"
     ]
    },
    {
     "cell_type": "markdown",
     "metadata": {},
     "source": [
      "Dr. Granger and his team are constantly working to improve functionality in all areas of the IPython Notebook. R is one of those areas. Originally, getting Rpy2 to work on a PC was almost impossible. Then, it was very hard. Now, it's a bit touchy. Soon, as previously mentioned, it will be a drop down option in the notebook itself."
     ]
    },
    {
     "cell_type": "heading",
     "level": 1,
     "metadata": {},
     "source": [
      "Chapter 7<br>Analyzing NIST datasets in the IPython Notebook"
     ]
    },
    {
     "cell_type": "markdown",
     "metadata": {},
     "source": [
      "Before introducing Python packages as an alternative to R and SAS, Dr. Doi and I felt it wise to investigate the precision of Python's data analysis capabilities compared to R's and SAS's. \n",
      "\n",
      "The NIST (National Institute of Standards and Technology) \"is the federal technology agency that works with industry to develop and apply technology, measurements, and standards.\"\n",
      "\n",
      "In this section I will analyze datasets from the NIST's Dataset Archives.  I will compare the NIST's \"Certified Values\" to the values obtained from analyzing the data in R, SAS, and Python. \n",
      "\n",
      "This section will provide an introduction to coding in Python, using statistical packages for analyzing and visualizing data, and establish ways to extract precise values in R, SAS, and Python."
     ]
    },
    {
     "cell_type": "heading",
     "level": 2,
     "metadata": {},
     "source": [
      "7.1 Python Packages for data analysis and the Import Cell"
     ]
    },
    {
     "cell_type": "markdown",
     "metadata": {},
     "source": [
      "Packages can be imported for use in any cell at any time. My preference is to import relevant packages and commands into a common cell at the beginning of the notebook, or section of the notebook. This will provide a collection of packages, with their abbreviations, in one convenient location. In the event that you cannot remember if you have imported a package, or what you imported it as, you can jump to your import cell."
     ]
    },
    {
     "cell_type": "markdown",
     "metadata": {},
     "source": [
      "Below is the list of packages we will need for this section. Please go to your <b>cmd</b> and <b>pip install urllib2</b> before moving on. Then, copy and execute the cell of packages by pasting them into your notebook cell and hitting shift+enter."
     ]
    },
    {
     "cell_type": "code",
     "collapsed": false,
     "input": [
      "import urllib2 as ul\n",
      "import pandas as pd\n",
      "import numpy as np\n",
      "import seaborn as sns\n",
      "import scipy as sp\n",
      "from statsmodels.formula.api import ols\n",
      "from statsmodels.stats.anova import anova_lm\n",
      "import matplotlib.pyplot as plt\n",
      "from IPython.core.display import Image\n",
      "from matplotlib.gridspec import GridSpec\n",
      "\n",
      "%matplotlib inline\n",
      "#This line allows the graphs to show up in the notebook cells"
     ],
     "language": "python",
     "metadata": {},
     "outputs": [],
     "prompt_number": 40
    },
    {
     "cell_type": "heading",
     "level": 2,
     "metadata": {},
     "source": [
      "7.2 Linear Regression Analysis: Norris Dataset"
     ]
    },
    {
     "cell_type": "heading",
     "level": 3,
     "metadata": {},
     "source": [
      "7.2.1 Object Oriented Language Introduction: Reading in and preparing data from an ASCII webpage"
     ]
    },
    {
     "cell_type": "code",
     "collapsed": false,
     "input": [
      "#create a variable for the web address\n",
      "url = 'http://www.itl.nist.gov/div898/strd/lls/data/LINKS/DATA/Norris.dat'\n",
      "\n",
      "#open creates a file object named Norris.dat\n",
      "#wb allows us to write to the file object\n",
      "#file objects have a built-in function to write to the file\n",
      "#use the urllib2 as ul package to write the website to the file\n",
      "#the .read function is built-in to the ul object\n",
      "open('data/Norris.dat','wb').write(ul.urlopen(url).read())"
     ],
     "language": "python",
     "metadata": {},
     "outputs": [],
     "prompt_number": 41
    },
    {
     "cell_type": "markdown",
     "metadata": {},
     "source": [
      "This is our first cell that takes advantage of Python being an object oriented language. It might take some time to wrap your head around it, or it might not. \n",
      "\n",
      "What just happened is... as we create objects, which are exactly what you might intuitively think of as objects (ie: a ball), those objects have their own functions (methods) and characteristics (data) we can immediately use. \n",
      "\n",
      "Let's continute with the ball example. If you have a ball, you do not determine its color, size, or inertia. You do not show the ball how to roll. The ball looks how it looks and if you set it on a decline, it rolls away. \n",
      "\n",
      "The ball knows what it knows, and you know how to use it to get what you want. You can roll the ball at pins, throw it, roll it up hill, hit it with your hand, hit it with a racket, etc.\n",
      "\n",
      "That is what we are doing here. A file knows how to write to itself, and the open function knows how to read the content of the page. By passing arguments (such as the filename and url) we are using what the objects know to accomplish what we need to accomplish."
     ]
    },
    {
     "cell_type": "code",
     "collapsed": false,
     "input": [
      "#creates a np array named NorrisData\n",
      "#uses the loadtxt method from the NumPy package (np) to read in \n",
      "#the data from line 60 to the end of the file\n",
      "NorrisData = np.loadtxt('data/Norris.dat',skiprows=60)"
     ],
     "language": "python",
     "metadata": {},
     "outputs": [],
     "prompt_number": 42
    },
    {
     "cell_type": "markdown",
     "metadata": {},
     "source": [
      "Since the NIST datasets are provided in ASCII and start on line 60 of the webpage, I found the best way to import them was to create the file (which we just completed), import them as a NumPy array, then convert them to a Pandas DataFrame.\n",
      "\n",
      "Having data in a Pandas DataFrame provides the greatest amount of flexbility for analyzing and manipulating data. My goal through-out the project was to make sure I could get any data I was working with into this format."
     ]
    },
    {
     "cell_type": "code",
     "collapsed": false,
     "input": [
      "#create a DataFrame object using the Pandas package (pd)\n",
      "#the columns can be named during the conversion from ndarray to pd.df\n",
      "NorrisFrame = pd.DataFrame(NorrisData,columns=['y','x'])"
     ],
     "language": "python",
     "metadata": {},
     "outputs": [],
     "prompt_number": 43
    },
    {
     "cell_type": "markdown",
     "metadata": {},
     "source": [
      "Always check to make sure the data was read in correctly. There are many ways to do this."
     ]
    },
    {
     "cell_type": "code",
     "collapsed": false,
     "input": [
      "#the dataframe object displays its first five observations\n",
      "NorrisFrame.head()"
     ],
     "language": "python",
     "metadata": {},
     "outputs": [
      {
       "html": [
        "<div style=\"max-height:1000px;max-width:1500px;overflow:auto;\">\n",
        "<table border=\"1\" class=\"dataframe\">\n",
        "  <thead>\n",
        "    <tr style=\"text-align: right;\">\n",
        "      <th></th>\n",
        "      <th>y</th>\n",
        "      <th>x</th>\n",
        "    </tr>\n",
        "  </thead>\n",
        "  <tbody>\n",
        "    <tr>\n",
        "      <th>0</th>\n",
        "      <td>   0.1</td>\n",
        "      <td>   0.2</td>\n",
        "    </tr>\n",
        "    <tr>\n",
        "      <th>1</th>\n",
        "      <td> 338.8</td>\n",
        "      <td> 337.4</td>\n",
        "    </tr>\n",
        "    <tr>\n",
        "      <th>2</th>\n",
        "      <td> 118.1</td>\n",
        "      <td> 118.2</td>\n",
        "    </tr>\n",
        "    <tr>\n",
        "      <th>3</th>\n",
        "      <td> 888.0</td>\n",
        "      <td> 884.6</td>\n",
        "    </tr>\n",
        "    <tr>\n",
        "      <th>4</th>\n",
        "      <td>   9.2</td>\n",
        "      <td>  10.1</td>\n",
        "    </tr>\n",
        "  </tbody>\n",
        "</table>\n",
        "</div>"
       ],
       "metadata": {},
       "output_type": "pyout",
       "prompt_number": 44,
       "text": [
        "       y      x\n",
        "0    0.1    0.2\n",
        "1  338.8  337.4\n",
        "2  118.1  118.2\n",
        "3  888.0  884.6\n",
        "4    9.2   10.1"
       ]
      }
     ],
     "prompt_number": 44
    },
    {
     "cell_type": "code",
     "collapsed": false,
     "input": [
      "#the dataframe object displays its last five observations\n",
      "NorrisFrame.tail()"
     ],
     "language": "python",
     "metadata": {},
     "outputs": [
      {
       "html": [
        "<div style=\"max-height:1000px;max-width:1500px;overflow:auto;\">\n",
        "<table border=\"1\" class=\"dataframe\">\n",
        "  <thead>\n",
        "    <tr style=\"text-align: right;\">\n",
        "      <th></th>\n",
        "      <th>y</th>\n",
        "      <th>x</th>\n",
        "    </tr>\n",
        "  </thead>\n",
        "  <tbody>\n",
        "    <tr>\n",
        "      <th>31</th>\n",
        "      <td> 117.6</td>\n",
        "      <td> 118.3</td>\n",
        "    </tr>\n",
        "    <tr>\n",
        "      <th>32</th>\n",
        "      <td> 228.9</td>\n",
        "      <td> 229.2</td>\n",
        "    </tr>\n",
        "    <tr>\n",
        "      <th>33</th>\n",
        "      <td> 668.4</td>\n",
        "      <td> 669.1</td>\n",
        "    </tr>\n",
        "    <tr>\n",
        "      <th>34</th>\n",
        "      <td> 449.2</td>\n",
        "      <td> 448.9</td>\n",
        "    </tr>\n",
        "    <tr>\n",
        "      <th>35</th>\n",
        "      <td>   0.2</td>\n",
        "      <td>   0.5</td>\n",
        "    </tr>\n",
        "  </tbody>\n",
        "</table>\n",
        "</div>"
       ],
       "metadata": {},
       "output_type": "pyout",
       "prompt_number": 45,
       "text": [
        "        y      x\n",
        "31  117.6  118.3\n",
        "32  228.9  229.2\n",
        "33  668.4  669.1\n",
        "34  449.2  448.9\n",
        "35    0.2    0.5"
       ]
      }
     ],
     "prompt_number": 45
    },
    {
     "cell_type": "markdown",
     "metadata": {},
     "source": [
      "It's clear to me that we have all 36 observations (indicies 0 to 35). The first value matches the first value of the webpage and the last value macthes the last value of the webpage. If you're uncomfortable with the indexing, you can check the number of observations with:"
     ]
    },
    {
     "cell_type": "code",
     "collapsed": false,
     "input": [
      "#number of observations\n",
      "len(NorrisFrame)"
     ],
     "language": "python",
     "metadata": {},
     "outputs": [
      {
       "metadata": {},
       "output_type": "pyout",
       "prompt_number": 46,
       "text": [
        "36"
       ]
      }
     ],
     "prompt_number": 46
    },
    {
     "cell_type": "markdown",
     "metadata": {},
     "source": [
      "Now is a good time to introduce the dir() function and explain why the previous two functions required no arguments.\n",
      "\n",
      "In Python, accessing functions/methods of an object always passes the object as the first argument. We do not see it, but what the code is really doing is executing <b>NorrisFrame.head(NorrisFrame)</b>, which returns the head of the NorrisFrame object.\n",
      "\n",
      "The <b>dir()</b> function is how I knew to use the .head() and .tail() functions. \n",
      "\n",
      "To access the full list of data and methods an object has, simply type:<b> dir(object name)</b>"
     ]
    },
    {
     "cell_type": "code",
     "collapsed": false,
     "input": [
      "#execute this code in your notebook \n",
      "#it is too much output for this document\n",
      "dir(NorrisFrame)"
     ],
     "language": "python",
     "metadata": {},
     "outputs": [],
     "prompt_number": 48
    },
    {
     "cell_type": "markdown",
     "metadata": {},
     "source": [
      "As you can see, the Pandas DataFrame is a robust and versatile object."
     ]
    },
    {
     "cell_type": "markdown",
     "metadata": {},
     "source": [
      "Before moving to the next section, it's worth summarzing and acknowledging what we've done. We created a data file from an ASCII webpage, read the data file into an array, and converted it to a DataFrame with named columns - in 4 lines of code."
     ]
    },
    {
     "cell_type": "heading",
     "level": 3,
     "metadata": {},
     "source": [
      "7.2.2 NIST Certified Values"
     ]
    },
    {
     "cell_type": "markdown",
     "metadata": {},
     "source": [
      "The Certified values we are trying to match can be found at:\n",
      "http://www.itl.nist.gov/div898/strd/anova/SiRstv_cv.html\n",
      "\n",
      "For easy reference, I have included them:\n",
      "<img src='http://www.goldak.com/images/project/Capture.PNG'>\n",
      "\n",
      "The Certified values are quite precise. It's important to view them so we can match the number of decimal places using SAS, R, and Python."
     ]
    },
    {
     "cell_type": "code",
     "collapsed": false,
     "input": [
      "#saving the values as strings (ie in quotes '') helps us with future \n",
      "#steps in this process, we will need their len() and to compare them digit by \n",
      "#digit, this also solves a problem I had with trailing zeros being ignored\n",
      "B0 = '-0.262323073774029'\n",
      "B1 = '1.00211681802045'\n",
      "STDofEstB0 = '0.232818234301152'\n",
      "STDofEstB1 = '0.000429796848199937'\n",
      "resstd = '0.884796396144373'\n",
      "Rsq = '0.999993745883712'\n",
      "ModSS = '4255954.13232369'\n",
      "ModMSE = '4255954.13232369'\n",
      "ModSSResid = '26.6173985294224'\n",
      "ModMSEResid = '0.782864662630069'\n",
      "Fstat = '5436385.54079785'\n",
      "\n",
      "#creates an array object named CertVals containing the certified values\n",
      "CertVals = np.array([B0, B1, STDofEstB0, STDofEstB1,resstd,Rsq,ModSS,\n",
      "                     ModMSE, ModSSResid,ModMSEResid,Fstat])"
     ],
     "language": "python",
     "metadata": {},
     "outputs": [],
     "prompt_number": 49
    },
    {
     "cell_type": "markdown",
     "metadata": {},
     "source": [
      "We now have the NIST Certified values in an array for our later comparisons."
     ]
    },
    {
     "cell_type": "heading",
     "level": 3,
     "metadata": {},
     "source": [
      "7.2.3 Linear Regression and ANOVA values in Python"
     ]
    },
    {
     "cell_type": "markdown",
     "metadata": {},
     "source": [
      "The package we will use for data analysis in this notebook is Statsmodels.\n",
      "\n",
      "Their help documentation can be found at:\n",
      "http://statsmodels.sourceforge.net/"
     ]
    },
    {
     "cell_type": "code",
     "collapsed": false,
     "input": [
      "#we imported ols (Oridnary Least Squares) in our import cell\n",
      "#we named our columns x and y, now we need to tell the OLS function\n",
      "#what we want to regress. The second argument is our DataFrame.\n",
      "NorrisLM = ols('y ~ x', NorrisFrame).fit()\n",
      "print NorrisLM.summary()"
     ],
     "language": "python",
     "metadata": {},
     "outputs": [
      {
       "output_type": "stream",
       "stream": "stdout",
       "text": [
        "                            OLS Regression Results                            \n",
        "==============================================================================\n",
        "Dep. Variable:                      y   R-squared:                       1.000\n",
        "Model:                            OLS   Adj. R-squared:                  1.000\n",
        "Method:                 Least Squares   F-statistic:                 5.436e+06\n",
        "Date:                Wed, 08 Oct 2014   Prob (F-statistic):           4.65e-90\n",
        "Time:                        15:03:35   Log-Likelihood:                -45.647\n",
        "No. Observations:                  36   AIC:                             95.29\n",
        "Df Residuals:                      34   BIC:                             98.46\n",
        "Df Model:                           1                                         \n",
        "==============================================================================\n",
        "                 coef    std err          t      P>|t|      [95.0% Conf. Int.]\n",
        "------------------------------------------------------------------------------\n",
        "Intercept     -0.2623      0.233     -1.127      0.268        -0.735     0.211\n",
        "x              1.0021      0.000   2331.606      0.000         1.001     1.003\n",
        "==============================================================================\n",
        "Omnibus:                        2.696   Durbin-Watson:                   1.272\n",
        "Prob(Omnibus):                  0.260   Jarque-Bera (JB):                1.566\n",
        "Skew:                          -0.450   Prob(JB):                        0.457\n",
        "Kurtosis:                       3.485   Cond. No.                         855.\n",
        "==============================================================================\n"
       ]
      }
     ],
     "prompt_number": 50
    },
    {
     "cell_type": "markdown",
     "metadata": {},
     "source": [
      "<PRE><b>Tips:</b> Don't forget to use dir() on unfamiliar objects. The linear model object has a wealth of information such as: <br>\n",
      "<b>.get_inflence().summary_table()</b>  (for Cook's, student redisuals, h, fitted values, etc)\n",
      "<b>.resid()</b>   (for residuals)\n",
      "\n",
      "The <b>anova_lm()</b> function provides just the anova table.\n",
      "\n",
      "<b>print NorrisLM.summary()</b> and executing just <b>NorrisLM.summary()</b> (without the print command) provide the table in different formats.\n",
      "\n",
      "I recommend trying these before moving on to familiarize yourself with some of the features statsmodels offers.</PRE>"
     ]
    },
    {
     "cell_type": "markdown",
     "metadata": {},
     "source": [
      "As you can see from the output table, the results provided by OLS are far from the precision we need. Like R and SAS, we can extract more decimal places. Some of these values can be extracted directly from the linear model object and others have to be accessed through the EstimatedParameters object."
     ]
    },
    {
     "cell_type": "code",
     "collapsed": false,
     "input": [
      "#create an Estimated parameters object\n",
      "NorrisParams = NorrisLM.params"
     ],
     "language": "python",
     "metadata": {},
     "outputs": [],
     "prompt_number": 51
    },
    {
     "cell_type": "code",
     "collapsed": false,
     "input": [
      "#repr() converts our values to strings without losing truncating them\n",
      "PB0 = repr(NorrisParams[0])\n",
      "PB1 = repr(NorrisParams[1])\n",
      "PSTDofEstB0 = repr(NorrisLM.bse[0])\n",
      "PSTDofEstB1 = repr(NorrisLM.bse[1])\n",
      "Presstd = repr(np.sqrt(NorrisLM.mse_resid))\n",
      "PRsq = repr(NorrisLM.rsquared)\n",
      "PModSS = repr(NorrisLM.ess)\n",
      "PModMSE = repr(NorrisLM.mse_model)\n",
      "PModSSResid = repr(NorrisLM.ssr)\n",
      "PModMSEResid = repr(NorrisLM.mse_resid)\n",
      "PFstat = repr(NorrisLM.fvalue)\n",
      "\n",
      "PyVals = np.array([PB0, PB1, PSTDofEstB0, PSTDofEstB1,Presstd,PRsq,\n",
      "                     PModSS,PModMSE, PModSSResid,PModMSEResid,PFstat])"
     ],
     "language": "python",
     "metadata": {},
     "outputs": [],
     "prompt_number": 71
    },
    {
     "cell_type": "markdown",
     "metadata": {},
     "source": [
      "Unforunately, there's no shortcut or easier explanation to what happened in the cell above. Determining how to extract those values was the result of a lot of time, dir() usage, and help documentation. The great part is, once you've done it, you'll know how to repeat the process (as we've done here by replicating my extractions)."
     ]
    },
    {
     "cell_type": "heading",
     "level": 3,
     "metadata": {},
     "source": [
      "7.2.4 Linear Regression and ANOVA values in R (using Rpy2)"
     ]
    },
    {
     "cell_type": "markdown",
     "metadata": {},
     "source": [
      "Here's our first real look at R in the IPython Notebook. We can use this notebook to extract the necessary values for our precision comparison (SAS will be a different story)."
     ]
    },
    {
     "cell_type": "markdown",
     "metadata": {},
     "source": [
      "To prepare for working with R, I exported our Pandas DataFrame as a csv file."
     ]
    },
    {
     "cell_type": "code",
     "collapsed": false,
     "input": [
      "NorrisFrame.to_csv('C:/Users/flunk_000/Desktop/CalPoly/IPythonNotebook/SeniorProject/data/NorrisFrame.txt')"
     ],
     "language": "python",
     "metadata": {},
     "outputs": [],
     "prompt_number": 53
    },
    {
     "cell_type": "markdown",
     "metadata": {},
     "source": [
      "As i'm sure you noticed during the Rpy2 installation, we need import and load rpy2 to use it."
     ]
    },
    {
     "cell_type": "code",
     "collapsed": false,
     "input": [
      "import rpy2\n",
      "%load_ext rpy2.ipython"
     ],
     "language": "python",
     "metadata": {},
     "outputs": [
      {
       "output_type": "stream",
       "stream": "stdout",
       "text": [
        "The rpy2.ipython extension is already loaded. To reload it, use:\n",
        "  %reload_ext rpy2.ipython\n"
       ]
      }
     ],
     "prompt_number": 54
    },
    {
     "cell_type": "markdown",
     "metadata": {},
     "source": [
      "Since this notebook is about using Python and the IPython Notebook, the R and SAS data extractions will be brief. \n",
      "\n",
      "To run R code in your notebook, start the line with <b>%R</b>.\n",
      "If you want execute an entire cell of R code, start the cell with <b>%%R</b>."
     ]
    },
    {
     "cell_type": "code",
     "collapsed": false,
     "input": [
      "%%R\n",
      "#read in data\n",
      "setwd(\"C:/Users/flunk_000/Desktop/CalPoly/IPythonNotebook/SeniorProject/\");\n",
      "Norris = read.csv('data/NorrisFrame.txt', header=T);\n",
      "NorrisFrame = as.data.frame(Norris);"
     ],
     "language": "python",
     "metadata": {},
     "outputs": [],
     "prompt_number": 55
    },
    {
     "cell_type": "code",
     "collapsed": false,
     "input": [
      "%R head(NorrisFrame)"
     ],
     "language": "python",
     "metadata": {},
     "outputs": [
      {
       "html": [
        "<div style=\"max-height:1000px;max-width:1500px;overflow:auto;\">\n",
        "<table border=\"1\" class=\"dataframe\">\n",
        "  <thead>\n",
        "    <tr style=\"text-align: right;\">\n",
        "      <th></th>\n",
        "      <th>X</th>\n",
        "      <th>y</th>\n",
        "      <th>x</th>\n",
        "    </tr>\n",
        "  </thead>\n",
        "  <tbody>\n",
        "    <tr>\n",
        "      <th>0</th>\n",
        "      <td> 0</td>\n",
        "      <td>   0.1</td>\n",
        "      <td>   0.2</td>\n",
        "    </tr>\n",
        "    <tr>\n",
        "      <th>1</th>\n",
        "      <td> 1</td>\n",
        "      <td> 338.8</td>\n",
        "      <td> 337.4</td>\n",
        "    </tr>\n",
        "    <tr>\n",
        "      <th>2</th>\n",
        "      <td> 2</td>\n",
        "      <td> 118.1</td>\n",
        "      <td> 118.2</td>\n",
        "    </tr>\n",
        "    <tr>\n",
        "      <th>3</th>\n",
        "      <td> 3</td>\n",
        "      <td> 888.0</td>\n",
        "      <td> 884.6</td>\n",
        "    </tr>\n",
        "    <tr>\n",
        "      <th>4</th>\n",
        "      <td> 4</td>\n",
        "      <td>   9.2</td>\n",
        "      <td>  10.1</td>\n",
        "    </tr>\n",
        "    <tr>\n",
        "      <th>5</th>\n",
        "      <td> 5</td>\n",
        "      <td> 228.1</td>\n",
        "      <td> 226.5</td>\n",
        "    </tr>\n",
        "  </tbody>\n",
        "</table>\n",
        "</div>"
       ],
       "metadata": {},
       "output_type": "pyout",
       "prompt_number": 56,
       "text": [
        "   X      y      x\n",
        "0  0    0.1    0.2\n",
        "1  1  338.8  337.4\n",
        "2  2  118.1  118.2\n",
        "3  3  888.0  884.6\n",
        "4  4    9.2   10.1\n",
        "5  5  228.1  226.5"
       ]
      }
     ],
     "prompt_number": 56
    },
    {
     "cell_type": "code",
     "collapsed": false,
     "input": [
      "%R tail(NorrisFrame)"
     ],
     "language": "python",
     "metadata": {},
     "outputs": [
      {
       "html": [
        "<div style=\"max-height:1000px;max-width:1500px;overflow:auto;\">\n",
        "<table border=\"1\" class=\"dataframe\">\n",
        "  <thead>\n",
        "    <tr style=\"text-align: right;\">\n",
        "      <th></th>\n",
        "      <th>X</th>\n",
        "      <th>y</th>\n",
        "      <th>x</th>\n",
        "    </tr>\n",
        "  </thead>\n",
        "  <tbody>\n",
        "    <tr>\n",
        "      <th>0</th>\n",
        "      <td> 30</td>\n",
        "      <td>  10.2</td>\n",
        "      <td>  11.1</td>\n",
        "    </tr>\n",
        "    <tr>\n",
        "      <th>1</th>\n",
        "      <td> 31</td>\n",
        "      <td> 117.6</td>\n",
        "      <td> 118.3</td>\n",
        "    </tr>\n",
        "    <tr>\n",
        "      <th>2</th>\n",
        "      <td> 32</td>\n",
        "      <td> 228.9</td>\n",
        "      <td> 229.2</td>\n",
        "    </tr>\n",
        "    <tr>\n",
        "      <th>3</th>\n",
        "      <td> 33</td>\n",
        "      <td> 668.4</td>\n",
        "      <td> 669.1</td>\n",
        "    </tr>\n",
        "    <tr>\n",
        "      <th>4</th>\n",
        "      <td> 34</td>\n",
        "      <td> 449.2</td>\n",
        "      <td> 448.9</td>\n",
        "    </tr>\n",
        "    <tr>\n",
        "      <th>5</th>\n",
        "      <td> 35</td>\n",
        "      <td>   0.2</td>\n",
        "      <td>   0.5</td>\n",
        "    </tr>\n",
        "  </tbody>\n",
        "</table>\n",
        "</div>"
       ],
       "metadata": {},
       "output_type": "pyout",
       "prompt_number": 57,
       "text": [
        "    X      y      x\n",
        "0  30   10.2   11.1\n",
        "1  31  117.6  118.3\n",
        "2  32  228.9  229.2\n",
        "3  33  668.4  669.1\n",
        "4  34  449.2  448.9\n",
        "5  35    0.2    0.5"
       ]
      }
     ],
     "prompt_number": 57
    },
    {
     "cell_type": "markdown",
     "metadata": {},
     "source": [
      "We have verified the data was read in correctly."
     ]
    },
    {
     "cell_type": "code",
     "collapsed": false,
     "input": [
      "%%R\n",
      "#analysis in R\n",
      "NorrisLM = lm(y ~ x, data=NorrisFrame);\n",
      "NorrisResid = NorrisLM$residuals;\n",
      "NorrisCoef = NorrisLM$coefficients; \n",
      "NorrisANOVA = aov(y ~ x, data=NorrisFrame);"
     ],
     "language": "python",
     "metadata": {},
     "outputs": [],
     "prompt_number": 58
    },
    {
     "cell_type": "code",
     "collapsed": false,
     "input": [
      "%%R\n",
      "#obtaining precise numbers in R\n",
      "print(summary(NorrisANOVA), digits =20);\n",
      "print(summary(NorrisLM), digits =20);\n",
      "print(sqrt(deviance(NorrisANOVA)/df.residual(NorrisANOVA)), digits = 20);"
     ],
     "language": "python",
     "metadata": {},
     "outputs": [],
     "prompt_number": 59
    },
    {
     "cell_type": "markdown",
     "metadata": {},
     "source": [
      "Currently, these values print to the R kernel in your IPython Notebook console:\n",
      "<img src='http://www.goldak.com/images/project/R.png'>"
     ]
    },
    {
     "cell_type": "markdown",
     "metadata": {},
     "source": [
      "There are different tricks you can experiment with in order to print to the notebook instead of the console, but they're not the focus of this section (and will soon be unnecessary). If you want to be able to copy and paste the values we need, copy and paste my R code into R and run it."
     ]
    },
    {
     "cell_type": "code",
     "collapsed": false,
     "input": [
      "RB0 = '-0.26232307377411718'\n",
      "RB1 = '1.00211681802045427'\n",
      "RSTDofEstB0 = '0.23281823430115431'\n",
      "RSTDofEstB1 = '0.00042979684819994'\n",
      "Rresstd = '0.88479639614437943784'\n",
      "RRsq = '0.999993745883712'\n",
      "RModSS = '4255954.13232369348406792'\n",
      "RModMSE = '4255954.13232369348406792'\n",
      "RModSSResid = '26.61739852942280038'\n",
      "RModMSEResid = '0.78286466263010001665'\n",
      "RFstat = '5436385.5407999996096'\n",
      "\n",
      "RVals = np.array([RB0, RB1, RSTDofEstB0, RSTDofEstB1,Rresstd,RRsq,\n",
      "                    RModSS,RModMSE, RModSSResid,RModMSEResid,RFstat])"
     ],
     "language": "python",
     "metadata": {},
     "outputs": [],
     "prompt_number": 72
    },
    {
     "cell_type": "heading",
     "level": 3,
     "metadata": {},
     "source": [
      "7.2.5 Linear Regression and ANOVA values in SAS"
     ]
    },
    {
     "cell_type": "markdown",
     "metadata": {},
     "source": [
      "Here is my code for the SAS analysis and value extractions:"
     ]
    },
    {
     "cell_type": "code",
     "collapsed": false,
     "input": [
      "OPTIONS NODATE NONUMBER CENTER LS=160;\n",
      "*Removes the header information and centers output;\n",
      "OPTIONS FORMDLIM=\"~\";\t\n",
      "\n",
      "data NorrisData;\n",
      "infile \"C:/Users/flunk_000/Desktop/CalPoly/IPythonNotebook/SeniorProject/data/NorrisFrameSAS.txt\" DLM=',';\n",
      "input subject y x;\n",
      "\n",
      "ODS TRACE ON;\n",
      "proc glm data= NorrisData;\n",
      "\tmodel y = x;\n",
      "\t\toutput out = linear_norris;\n",
      "\t\tODS output ParameterEstimates = pe;\n",
      "\t\tODS output Overallanova = anova;\n",
      "\t\tODS output fitstatistics = fs;\n",
      "run;\n",
      "ODS Trace off;\n",
      "\n",
      "proc print data=pe;\n",
      "\tformat estimate 20.19\n",
      "\t\tstderr 20.19\n",
      "\t\tprobt pvalue20.19;\n",
      "\trun;\n",
      "    \n",
      "proc print data=anova;\n",
      "\tformat SS 20.19\n",
      "\t\tMS 20.19\n",
      "\t\tfvalue 20.19;\n",
      "\trun;\n",
      "    \n",
      "proc print data=fs\n",
      "\tformat \n",
      "\t\trsquare 20.19\n",
      "\t\trootmse 20.19;\n",
      "\trun;\n"
     ],
     "language": "python",
     "metadata": {},
     "outputs": []
    },
    {
     "cell_type": "code",
     "collapsed": false,
     "input": [
      "SB0 = '-0.26232307377383600'\n",
      "SB1 = '1.00211681802045000'\n",
      "SSTDofEstB0 = '0.23281823431377200'\n",
      "SSTDofEstB1 = '0.0004297968482232346'\n",
      "Sresstd = '0.884796396192334000'\n",
      "SRsq = '0.9999937458837110000'\n",
      "SModSS = '4255954.132323680000'\n",
      "SModMSE = '4255954.132323680000'\n",
      "SModSSResid = '26.61739853230800000'\n",
      "SModMSEResid = '0.782864662714941000'\n",
      "SFstat = '5436385.54020847000'\n",
      "    \n",
      "SASVals = np.array([SB0, SB1, SSTDofEstB0, SSTDofEstB1,Sresstd,SRsq,\n",
      "                    SModSS,SModMSE, SModSSResid,SModMSEResid,SFstat])"
     ],
     "language": "python",
     "metadata": {},
     "outputs": [],
     "prompt_number": 73
    },
    {
     "cell_type": "heading",
     "level": 3,
     "metadata": {},
     "source": [
      "7.2.6 Testing Python's Precision against NIST, R, and SAS"
     ]
    },
    {
     "cell_type": "markdown",
     "metadata": {},
     "source": [
      "I prefer to write functions for any task I have to repeat (and any task I can get away with writing a function for). Let's look at the functions we'll use to compare the precision of our programs."
     ]
    },
    {
     "cell_type": "code",
     "collapsed": false,
     "input": [
      "#def allows us to define a function\n",
      "#cert_val_lengths is the name of the function\n",
      "#it creates an array of the lengths of NIST values for later precision comparisons\n",
      "#the len() function determines the length of a string\n",
      "#the dtype argument here returns an array of integer values\n",
      "def cert_val_lengths(CertifiedValuesArray):\n",
      "\n",
      "    #creates an array of zeros to store the lengths\n",
      "    CertValLengths = np.zeros(len(CertifiedValuesArray),dtype=int)\n",
      "    \n",
      "    for val in range(len(CertifiedValuesArray)):\n",
      "        CertValLengths[val]= len(CertifiedValuesArray[val])\n",
      "    return CertValLengths"
     ],
     "language": "python",
     "metadata": {},
     "outputs": [],
     "prompt_number": 74
    },
    {
     "cell_type": "code",
     "collapsed": false,
     "input": [
      "#function requires three values, one I provide (from R, SAS, Py, etc)\n",
      "#another from the NIST certified values\n",
      "#third is the precision we are looking for\n",
      "def nist_compare(MyValue, NISTValue, CertValLength):\n",
      "    \n",
      "    #converts the value to a list\n",
      "    MyValueList = list(MyValue)\n",
      "    \n",
      "    NISTValueList = list(NISTValue)\n",
      "    \n",
      "    counter = 0\n",
      "    \n",
      "    #checks to see how similar the values are\n",
      "    #the CertValLength allows us to ignore the extraneous precision\n",
      "    #added to the arrays by NumPy\n",
      "    for val in range(CertValLength):\n",
      "        if MyValueList[val] == NISTValueList[val]:\n",
      "            counter+=1\n",
      "        else:\n",
      "            return counter\n",
      "\n",
      "    #returns how many values matches\n",
      "    return counter"
     ],
     "language": "python",
     "metadata": {},
     "outputs": [],
     "prompt_number": 75
    },
    {
     "cell_type": "markdown",
     "metadata": {},
     "source": [
      "We have a way to compare the values, now let's write a function to compare the arrays."
     ]
    },
    {
     "cell_type": "code",
     "collapsed": false,
     "input": [
      "def array_compare(MyArray,NISTArray,LabelArray):\n",
      "        \n",
      "    #create an empty array for value comparisons\n",
      "    ValMatches = np.zeros(len(NISTArray),dtype=int)\n",
      "    \n",
      "    #uses our first function to create the lengths of the certified values\n",
      "    CertValLengths = cert_val_lengths(NISTArray)\n",
      "    \n",
      "    for val in range(len(LabelArray)):\n",
      "        \n",
      "        #compares the values using the previous function\n",
      "        ValMatch = nist_compare(MyArray[val],NISTArray[val],CertValLengths[val])\n",
      "        \n",
      "        #prints the comparison and uses our pre-determined precision\n",
      "        print(LabelArray[val], ValMatch,'of',CertValLengths[val])\n",
      "        \n",
      "        #stores the values in our empty array\n",
      "        ValMatches[val] = ValMatch\n",
      "    \n",
      "    #returns the precision we were looking for\n",
      "    return ValMatches    "
     ],
     "language": "python",
     "metadata": {},
     "outputs": [],
     "prompt_number": 76
    },
    {
     "cell_type": "code",
     "collapsed": false,
     "input": [
      "#create an array of the values we want to compare\n",
      "NorrisLabels = np.array(['Beta0:','Beta1:','STDofEstimateB0:',\n",
      "                           'STDofEstimateB1','resstd:','R-sq:',\n",
      "                           'Model SS:','Model MS:','Model SSResid:',\n",
      "                           'Model MSResid:','F-stat:'])"
     ],
     "language": "python",
     "metadata": {},
     "outputs": [],
     "prompt_number": 77
    },
    {
     "cell_type": "markdown",
     "metadata": {},
     "source": [
      "Let's look at how each program's output compared to the NIST Certified Values."
     ]
    },
    {
     "cell_type": "code",
     "collapsed": false,
     "input": [
      "R = array_compare(RVals,CertVals,NorrisLabels)"
     ],
     "language": "python",
     "metadata": {},
     "outputs": [
      {
       "output_type": "stream",
       "stream": "stdout",
       "text": [
        "('Beta0:', 15, 'of', 18)\n",
        "('Beta1:', 16, 'of', 16)\n",
        "('STDofEstimateB0:', 16, 'of', 17)\n",
        "('STDofEstimateB1', 18, 'of', 20)\n",
        "('resstd:', 16, 'of', 17)\n",
        "('R-sq:', 17, 'of', 17)\n",
        "('Model SS:', 16, 'of', 16)\n",
        "('Model MS:', 16, 'of', 16)\n",
        "('Model SSResid:', 15, 'of', 16)\n",
        "('Model MSResid:', 14, 'of', 17)\n",
        "('F-stat:', 13, 'of', 16)\n"
       ]
      }
     ],
     "prompt_number": 78
    },
    {
     "cell_type": "code",
     "collapsed": false,
     "input": [
      "SAS = array_compare(SASVals,CertVals,NorrisLabels)"
     ],
     "language": "python",
     "metadata": {},
     "outputs": [
      {
       "output_type": "stream",
       "stream": "stdout",
       "text": [
        "('Beta0:', 14, 'of', 18)\n",
        "('Beta1:', 16, 'of', 16)\n",
        "('STDofEstimateB0:', 12, 'of', 17)\n",
        "('STDofEstimateB1', 14, 'of', 20)\n",
        "('resstd:', 12, 'of', 17)\n",
        "('R-sq:', 16, 'of', 17)\n",
        "('Model SS:', 15, 'of', 16)\n",
        "('Model MS:', 15, 'of', 16)\n",
        "('Model SSResid:', 10, 'of', 16)\n",
        "('Model MSResid:', 11, 'of', 17)\n",
        "('F-stat:', 11, 'of', 16)\n"
       ]
      }
     ],
     "prompt_number": 79
    },
    {
     "cell_type": "code",
     "collapsed": false,
     "input": [
      "Py = array_compare(PyVals,CertVals,NorrisLabels)"
     ],
     "language": "python",
     "metadata": {},
     "outputs": [
      {
       "output_type": "stream",
       "stream": "stdout",
       "text": [
        "('Beta0:', 16, 'of', 18)\n",
        "('Beta1:', 16, 'of', 16)\n",
        "('STDofEstimateB0:', 16, 'of', 17)\n",
        "('STDofEstimateB1', 18, 'of', 20)\n",
        "('resstd:', 16, 'of', 17)\n",
        "('R-sq:', 16, 'of', 17)\n",
        "('Model SS:', 16, 'of', 16)\n",
        "('Model MS:', 16, 'of', 16)\n",
        "('Model SSResid:', 15, 'of', 16)\n",
        "('Model MSResid:', 15, 'of', 17)\n",
        "('F-stat:', 14, 'of', 16)\n"
       ]
      }
     ],
     "prompt_number": 80
    },
    {
     "cell_type": "code",
     "collapsed": false,
     "input": [
      "R,SAS,Py,cert_val_lengths(CertVals)"
     ],
     "language": "python",
     "metadata": {},
     "outputs": [
      {
       "metadata": {},
       "output_type": "pyout",
       "prompt_number": 81,
       "text": [
        "(array([15, 16, 16, 18, 16, 17, 16, 16, 15, 14, 13]),\n",
        " array([14, 16, 12, 14, 12, 16, 15, 15, 10, 11, 11]),\n",
        " array([16, 16, 16, 18, 16, 16, 16, 16, 15, 15, 14]),\n",
        " array([18, 16, 17, 20, 17, 17, 16, 16, 16, 17, 16]))"
       ]
      }
     ],
     "prompt_number": 81
    },
    {
     "cell_type": "markdown",
     "metadata": {},
     "source": [
      "We can do as little or as much as we want with this data (such as write functions to compare these integers and provide a rating, or determine if there are common values, such as SSE, that were rounded and used in other calculations yielding less a lower precision). \n",
      "\n",
      "We can also use this information to pick the program that best matches the task at hand. For instance, R or Python did a great job of matching 18 values of Standard Deviation of Estimate for Beta1, while SAS ony matched 14 values. If 18 is your target precision, you could use either R or Python.\n",
      "\n",
      "The important part is that upon visual inspection, Python appears to be the closest to the Certified values for Linear Regression, with R close behind, and SAS in third place."
     ]
    },
    {
     "cell_type": "markdown",
     "metadata": {},
     "source": [
      "We can use Numpy and matplotlib to verify if my visual inspection is correct:"
     ]
    },
    {
     "cell_type": "code",
     "collapsed": false,
     "input": [
      "#open a figure and add the axes\n",
      "hist = plt.figure(figsize=(16,4))\n",
      "gs = GridSpec(1,2)\n",
      "axis = hist.add_subplot(gs[0,0])\n",
      "\n",
      "programs=4\n",
      "#create array of bar values\n",
      "Matches = [np.sum(R),np.sum(SAS),np.sum(Py),np.sum(cert_val_lengths(CertVals))]\n",
      "\n",
      "#location of bars on plot\n",
      "loc = np.arange(programs)\n",
      "\n",
      "bars = axis.bar(loc, Matches)\n",
      "\n",
      "axis.set_ylim(0,200)\n",
      "axis.set_ylabel('# of matching values')\n",
      "axis.set_title('Precision of R,SAS,Py')\n",
      "axis.set_xticks(loc+.35)\n",
      "XNames = axis.set_xticklabels(['R', 'SAS', 'Python','NIST'])\n",
      "\n",
      "axis2 = hist.add_subplot(gs[0,1])\n",
      "bars2 = axis2.bar(loc, Matches)\n",
      "\n",
      "axis2.set_ylim(145,200)\n",
      "axis2.set_ylabel('# of matching values')\n",
      "axis2.set_title('Precision of R,SAS,Py')\n",
      "axis2.set_xticks(loc+.35)\n",
      "XNames = axis2.set_xticklabels(['R', 'SAS', 'Python','NIST'])\n",
      "Matches"
     ],
     "language": "python",
     "metadata": {},
     "outputs": [
      {
       "metadata": {},
       "output_type": "pyout",
       "prompt_number": 82,
       "text": [
        "[172, 146, 174, 186]"
       ]
      },
      {
       "metadata": {},
       "output_type": "display_data",
       "png": "[encoded data removed]",
       "text": [
        "<matplotlib.figure.Figure at 0x16f41b70>"
       ]
      }
     ],
     "prompt_number": 82
    },
    {
     "cell_type": "markdown",
     "metadata": {},
     "source": [
      "Over the 11 values of concern, Python was more precise than R by 2 decimal places. SAS was 26,28 decimals less precise than R,Py (respectively)."
     ]
    },
    {
     "cell_type": "markdown",
     "metadata": {},
     "source": [
      "<b>Important Note</b>: This does not mean that SAS miscalculated the values. If you return to the SAS output, you will see that each SAS value has trailing zeros instead of additonal digits. SAS simply doesn't provide the level of precision we sought to completely match the certified values in this exercise."
     ]
    },
    {
     "cell_type": "heading",
     "level": 3,
     "metadata": {},
     "source": [
      "7.2.7 Plotting Norris data with Mathplotlib"
     ]
    },
    {
     "cell_type": "markdown",
     "metadata": {},
     "source": [
      "The NIST graphics aren't as detailed as I would like, but they give us something to compare the Python graphics to.\n",
      "\n",
      "Norris Regression:<br>\n",
      "<img src='http://www.goldak.com/images/project/norrisreg.png' align='left'>"
     ]
    },
    {
     "cell_type": "code",
     "collapsed": false,
     "input": [
      "#using matplotlib\n",
      "#plots the points\n",
      "plt.scatter(NorrisFrame['y'],NorrisFrame['x'])\n",
      "\n",
      "#draws the lines\n",
      "plt.plot(NorrisFrame['y'],NorrisFrame['x'])\n",
      "\n",
      "#labels the X axis and Y axis\n",
      "plt.xlabel('Norris x values')\n",
      "plt.ylabel('Norris y values');"
     ],
     "language": "python",
     "metadata": {},
     "outputs": [
      {
       "metadata": {},
       "output_type": "display_data",
       "png": "[encoded data removed]",
       "text": [
        "<matplotlib.figure.Figure at 0x16524128>"
       ]
      }
     ],
     "prompt_number": 70
    },
    {
     "cell_type": "markdown",
     "metadata": {},
     "source": [
      "Looks good. Let's check the residual plot:\n",
      "\n",
      "<img src='http://www.goldak.com/images/project/norrisresid.png' align='left'>"
     ]
    },
    {
     "cell_type": "code",
     "collapsed": false,
     "input": [
      "#residual plot\n",
      "plt.scatter(NorrisFrame['x'],NorrisLM.resid)\n",
      "\n",
      "#adds a horizontal line at y=0\n",
      "plt.axhline()\n",
      "plt.xlabel('Norris x values')\n",
      "plt.ylabel('Residuals from Linear Regression on NorrisData')\n",
      "\n",
      "#adds a title\n",
      "plt.title('Residuals vs. x');"
     ],
     "language": "python",
     "metadata": {},
     "outputs": [
      {
       "metadata": {},
       "output_type": "display_data",
       "png": "[encoded data removed]",
       "text": [
        "<matplotlib.figure.Figure at 0x16c5b588>"
       ]
      }
     ],
     "prompt_number": 71
    },
    {
     "cell_type": "markdown",
     "metadata": {},
     "source": [
      "As much as we can tell, it appears the graphs are the same. We have successfully created both of the provided NIST graphics. This is the end of the Linear Regression Analysis on the Norris dataset."
     ]
    },
    {
     "cell_type": "heading",
     "level": 2,
     "metadata": {},
     "source": [
      "7.3 ANOVA: SiR Dataset"
     ]
    },
    {
     "cell_type": "heading",
     "level": 3,
     "metadata": {},
     "source": [
      "7.3.1 Reading in and preparing data from an ASCII webpage"
     ]
    },
    {
     "cell_type": "markdown",
     "metadata": {},
     "source": [
      "For a detailed explanation of this process, refer to Section 7.2.1."
     ]
    },
    {
     "cell_type": "code",
     "collapsed": false,
     "input": [
      "SiRurl = 'http://www.itl.nist.gov/div898/strd/anova/SiRstv.dat'\n",
      "open('data/SiRstv.dat','wb').write(ul.urlopen(SiRurl).read())"
     ],
     "language": "python",
     "metadata": {},
     "outputs": [],
     "prompt_number": 83
    },
    {
     "cell_type": "code",
     "collapsed": false,
     "input": [
      "SiRData = np.loadtxt('data/SiRstv.dat',skiprows=60)\n",
      "SiRFrame = pd.DataFrame(SiRData, columns=['Instrument','Resistance'])"
     ],
     "language": "python",
     "metadata": {},
     "outputs": [],
     "prompt_number": 84
    },
    {
     "cell_type": "code",
     "collapsed": false,
     "input": [
      "SiRFrame.head()"
     ],
     "language": "python",
     "metadata": {},
     "outputs": [
      {
       "html": [
        "<div style=\"max-height:1000px;max-width:1500px;overflow:auto;\">\n",
        "<table border=\"1\" class=\"dataframe\">\n",
        "  <thead>\n",
        "    <tr style=\"text-align: right;\">\n",
        "      <th></th>\n",
        "      <th>Instrument</th>\n",
        "      <th>Resistance</th>\n",
        "    </tr>\n",
        "  </thead>\n",
        "  <tbody>\n",
        "    <tr>\n",
        "      <th>0</th>\n",
        "      <td> 1</td>\n",
        "      <td> 196.3052</td>\n",
        "    </tr>\n",
        "    <tr>\n",
        "      <th>1</th>\n",
        "      <td> 1</td>\n",
        "      <td> 196.1240</td>\n",
        "    </tr>\n",
        "    <tr>\n",
        "      <th>2</th>\n",
        "      <td> 1</td>\n",
        "      <td> 196.1890</td>\n",
        "    </tr>\n",
        "    <tr>\n",
        "      <th>3</th>\n",
        "      <td> 1</td>\n",
        "      <td> 196.2569</td>\n",
        "    </tr>\n",
        "    <tr>\n",
        "      <th>4</th>\n",
        "      <td> 1</td>\n",
        "      <td> 196.3403</td>\n",
        "    </tr>\n",
        "  </tbody>\n",
        "</table>\n",
        "</div>"
       ],
       "metadata": {},
       "output_type": "pyout",
       "prompt_number": 85,
       "text": [
        "   Instrument  Resistance\n",
        "0           1    196.3052\n",
        "1           1    196.1240\n",
        "2           1    196.1890\n",
        "3           1    196.2569\n",
        "4           1    196.3403"
       ]
      }
     ],
     "prompt_number": 85
    },
    {
     "cell_type": "code",
     "collapsed": false,
     "input": [
      "SiRFrame.tail()"
     ],
     "language": "python",
     "metadata": {},
     "outputs": [
      {
       "html": [
        "<div style=\"max-height:1000px;max-width:1500px;overflow:auto;\">\n",
        "<table border=\"1\" class=\"dataframe\">\n",
        "  <thead>\n",
        "    <tr style=\"text-align: right;\">\n",
        "      <th></th>\n",
        "      <th>Instrument</th>\n",
        "      <th>Resistance</th>\n",
        "    </tr>\n",
        "  </thead>\n",
        "  <tbody>\n",
        "    <tr>\n",
        "      <th>20</th>\n",
        "      <td> 5</td>\n",
        "      <td> 196.2119</td>\n",
        "    </tr>\n",
        "    <tr>\n",
        "      <th>21</th>\n",
        "      <td> 5</td>\n",
        "      <td> 196.1051</td>\n",
        "    </tr>\n",
        "    <tr>\n",
        "      <th>22</th>\n",
        "      <td> 5</td>\n",
        "      <td> 196.1850</td>\n",
        "    </tr>\n",
        "    <tr>\n",
        "      <th>23</th>\n",
        "      <td> 5</td>\n",
        "      <td> 196.0052</td>\n",
        "    </tr>\n",
        "    <tr>\n",
        "      <th>24</th>\n",
        "      <td> 5</td>\n",
        "      <td> 196.2090</td>\n",
        "    </tr>\n",
        "  </tbody>\n",
        "</table>\n",
        "</div>"
       ],
       "metadata": {},
       "output_type": "pyout",
       "prompt_number": 86,
       "text": [
        "    Instrument  Resistance\n",
        "20           5    196.2119\n",
        "21           5    196.1051\n",
        "22           5    196.1850\n",
        "23           5    196.0052\n",
        "24           5    196.2090"
       ]
      }
     ],
     "prompt_number": 86
    },
    {
     "cell_type": "markdown",
     "metadata": {},
     "source": [
      "Data was read in correctly."
     ]
    },
    {
     "cell_type": "heading",
     "level": 3,
     "metadata": {},
     "source": [
      "7.3.2 NIST Certified Values"
     ]
    },
    {
     "cell_type": "markdown",
     "metadata": {},
     "source": [
      "For a detailed explanation of this process, refer to Section 7.2.2."
     ]
    },
    {
     "cell_type": "markdown",
     "metadata": {},
     "source": [
      "The Certified values we are trying to match can be found at:\n",
      "http://www.itl.nist.gov/div898/strd/anova/SiRstv_cv.html"
     ]
    },
    {
     "cell_type": "code",
     "collapsed": false,
     "input": [
      "Certresstd = '0.104076068334656'\n",
      "CertRsq = '0.190999039051129'\n",
      "CertModSS = '0.0511462616000000'\n",
      "CertModMSE = '0.0127865654000000'\n",
      "CertModSSResid = '0.216636560000000'\n",
      "CertModMSEResid = '0.0108318280000000'\n",
      "CertFstat = '1.18046237440255'\n",
      "\n",
      "SiRCertVals = np.array([Certresstd,CertRsq,CertModSS,CertModMSE,\n",
      "                        CertModSSResid,CertModMSEResid,CertFstat])"
     ],
     "language": "python",
     "metadata": {},
     "outputs": [],
     "prompt_number": 87
    },
    {
     "cell_type": "heading",
     "level": 3,
     "metadata": {},
     "source": [
      "7.3.3 ANOVA values in Python"
     ]
    },
    {
     "cell_type": "markdown",
     "metadata": {},
     "source": [
      "For a detailed explanation of this process, refer to Section 7.2.3."
     ]
    },
    {
     "cell_type": "code",
     "collapsed": false,
     "input": [
      "#In our formula argument, since we are analyzing Resistence by intstrument\n",
      "#we need to treat instrument as a categorical variable with C()\n",
      "SiRLM = ols('Resistance ~ C(Instrument)', SiRFrame).fit()\n",
      "\n",
      "#you can chose to use the anova_lm function\n",
      "#SiRANOVA = anova_lm(SiRLM)"
     ],
     "language": "python",
     "metadata": {},
     "outputs": [],
     "prompt_number": 88
    },
    {
     "cell_type": "code",
     "collapsed": false,
     "input": [
      "Pyresstd = repr(np.sqrt(SiRLM.mse_resid))\n",
      "PyRsq = repr(SiRLM.rsquared)\n",
      "PyModSS = repr(SiRLM.ess)\n",
      "PyModMSE = repr(SiRLM.mse_model)\n",
      "PyModSSResid = repr(SiRLM.ssr)\n",
      "PyModMSEResid = repr(SiRLM.mse_resid)\n",
      "PyFstat = repr(SiRLM.fvalue)\n",
      "\n",
      "SiRPyVals = np.array([Pyresstd, PyRsq, PyModSS, PyModMSE,PyModSSResid,\n",
      "                      PyModMSEResid,PyFstat])"
     ],
     "language": "python",
     "metadata": {},
     "outputs": [],
     "prompt_number": 89
    },
    {
     "cell_type": "heading",
     "level": 3,
     "metadata": {},
     "source": [
      "7.3.4 ANOVA values in R"
     ]
    },
    {
     "cell_type": "markdown",
     "metadata": {},
     "source": [
      "For a detailed explanation of this process, refer to Section 7.2.4."
     ]
    },
    {
     "cell_type": "code",
     "collapsed": false,
     "input": [
      "SiRFrame.to_csv('C:/Users/flunk_000/Desktop/CalPoly/IPythonNotebook/SeniorProject/data/SiRFrame.txt')"
     ],
     "language": "python",
     "metadata": {},
     "outputs": [],
     "prompt_number": 90
    },
    {
     "cell_type": "code",
     "collapsed": false,
     "input": [
      "import rpy2\n",
      "%load_ext rpy2.ipython"
     ],
     "language": "python",
     "metadata": {},
     "outputs": [
      {
       "output_type": "stream",
       "stream": "stdout",
       "text": [
        "The rpy2.ipython extension is already loaded. To reload it, use:\n",
        "  %reload_ext rpy2.ipython\n"
       ]
      }
     ],
     "prompt_number": 91
    },
    {
     "cell_type": "code",
     "collapsed": false,
     "input": [
      "%%R\n",
      "#read in data\n",
      "setwd(\"C:/Users/flunk_000/Desktop/CalPoly/IPythonNotebook/SeniorProject/\");\n",
      "SiR = read.csv('data/SiRFrame.txt', header=T);\n",
      "SiRFrame = as.data.frame(SiR);"
     ],
     "language": "python",
     "metadata": {},
     "outputs": [],
     "prompt_number": 92
    },
    {
     "cell_type": "code",
     "collapsed": false,
     "input": [
      "%R head(SiRFrame)"
     ],
     "language": "python",
     "metadata": {},
     "outputs": [
      {
       "html": [
        "<div style=\"max-height:1000px;max-width:1500px;overflow:auto;\">\n",
        "<table border=\"1\" class=\"dataframe\">\n",
        "  <thead>\n",
        "    <tr style=\"text-align: right;\">\n",
        "      <th></th>\n",
        "      <th>X</th>\n",
        "      <th>Instrument</th>\n",
        "      <th>Resistance</th>\n",
        "    </tr>\n",
        "  </thead>\n",
        "  <tbody>\n",
        "    <tr>\n",
        "      <th>0</th>\n",
        "      <td> 0</td>\n",
        "      <td> 1</td>\n",
        "      <td> 196.3052</td>\n",
        "    </tr>\n",
        "    <tr>\n",
        "      <th>1</th>\n",
        "      <td> 1</td>\n",
        "      <td> 1</td>\n",
        "      <td> 196.1240</td>\n",
        "    </tr>\n",
        "    <tr>\n",
        "      <th>2</th>\n",
        "      <td> 2</td>\n",
        "      <td> 1</td>\n",
        "      <td> 196.1890</td>\n",
        "    </tr>\n",
        "    <tr>\n",
        "      <th>3</th>\n",
        "      <td> 3</td>\n",
        "      <td> 1</td>\n",
        "      <td> 196.2569</td>\n",
        "    </tr>\n",
        "    <tr>\n",
        "      <th>4</th>\n",
        "      <td> 4</td>\n",
        "      <td> 1</td>\n",
        "      <td> 196.3403</td>\n",
        "    </tr>\n",
        "    <tr>\n",
        "      <th>5</th>\n",
        "      <td> 5</td>\n",
        "      <td> 2</td>\n",
        "      <td> 196.3042</td>\n",
        "    </tr>\n",
        "  </tbody>\n",
        "</table>\n",
        "</div>"
       ],
       "metadata": {},
       "output_type": "pyout",
       "prompt_number": 93,
       "text": [
        "   X  Instrument  Resistance\n",
        "0  0           1    196.3052\n",
        "1  1           1    196.1240\n",
        "2  2           1    196.1890\n",
        "3  3           1    196.2569\n",
        "4  4           1    196.3403\n",
        "5  5           2    196.3042"
       ]
      }
     ],
     "prompt_number": 93
    },
    {
     "cell_type": "code",
     "collapsed": false,
     "input": [
      "%R tail(SiRFrame)"
     ],
     "language": "python",
     "metadata": {},
     "outputs": [
      {
       "html": [
        "<div style=\"max-height:1000px;max-width:1500px;overflow:auto;\">\n",
        "<table border=\"1\" class=\"dataframe\">\n",
        "  <thead>\n",
        "    <tr style=\"text-align: right;\">\n",
        "      <th></th>\n",
        "      <th>X</th>\n",
        "      <th>Instrument</th>\n",
        "      <th>Resistance</th>\n",
        "    </tr>\n",
        "  </thead>\n",
        "  <tbody>\n",
        "    <tr>\n",
        "      <th>0</th>\n",
        "      <td> 19</td>\n",
        "      <td> 4</td>\n",
        "      <td> 195.9885</td>\n",
        "    </tr>\n",
        "    <tr>\n",
        "      <th>1</th>\n",
        "      <td> 20</td>\n",
        "      <td> 5</td>\n",
        "      <td> 196.2119</td>\n",
        "    </tr>\n",
        "    <tr>\n",
        "      <th>2</th>\n",
        "      <td> 21</td>\n",
        "      <td> 5</td>\n",
        "      <td> 196.1051</td>\n",
        "    </tr>\n",
        "    <tr>\n",
        "      <th>3</th>\n",
        "      <td> 22</td>\n",
        "      <td> 5</td>\n",
        "      <td> 196.1850</td>\n",
        "    </tr>\n",
        "    <tr>\n",
        "      <th>4</th>\n",
        "      <td> 23</td>\n",
        "      <td> 5</td>\n",
        "      <td> 196.0052</td>\n",
        "    </tr>\n",
        "    <tr>\n",
        "      <th>5</th>\n",
        "      <td> 24</td>\n",
        "      <td> 5</td>\n",
        "      <td> 196.2090</td>\n",
        "    </tr>\n",
        "  </tbody>\n",
        "</table>\n",
        "</div>"
       ],
       "metadata": {},
       "output_type": "pyout",
       "prompt_number": 94,
       "text": [
        "    X  Instrument  Resistance\n",
        "0  19           4    195.9885\n",
        "1  20           5    196.2119\n",
        "2  21           5    196.1051\n",
        "3  22           5    196.1850\n",
        "4  23           5    196.0052\n",
        "5  24           5    196.2090"
       ]
      }
     ],
     "prompt_number": 94
    },
    {
     "cell_type": "markdown",
     "metadata": {},
     "source": [
      "Data was read in correctly."
     ]
    },
    {
     "cell_type": "code",
     "collapsed": false,
     "input": [
      "%%R\n",
      "#analysis in R\n",
      "SiRFrame$Instrument = factor(SiRFrame$Instrument);\n",
      "SiRANOVA = aov(Resistance ~ Instrument, data=SiRFrame);\n",
      "SiRLM = lm(Resistance ~ Instrument, data=SiRFrame);"
     ],
     "language": "python",
     "metadata": {},
     "outputs": [],
     "prompt_number": 95
    },
    {
     "cell_type": "code",
     "collapsed": false,
     "input": [
      "%%R\n",
      "#obtaining precise numbers in R\n",
      "print(summary(SiRANOVA), digits =17);\n",
      "print(sqrt(deviance(SiRANOVA)/df.residual(SiRANOVA)), digits = 17);\n",
      "print(summary(SiRLM), digits =17);"
     ],
     "language": "python",
     "metadata": {},
     "outputs": [],
     "prompt_number": 192
    },
    {
     "cell_type": "code",
     "collapsed": false,
     "input": [
      "SiRRresstd = '0.10407606833466272189'\n",
      "SiRRRsq = '0.19099903905112250446'\n",
      "SiRRModSS = '0.051146261600009186588'\n",
      "SiRRModMSE = '0.012786565400002294912'\n",
      "SiRRModSSResid = '0.216636560000027678097'\n",
      "SiRRModMSEResid = '0.010831828000001384252'\n",
      "SiRRFstat = '1.1804600000000000648'\n",
      "\n",
      "SiRRVals = np.array([SiRRresstd, SiRRRsq, SiRRModSS, SiRRModMSE,\n",
      "                     SiRRModSSResid,SiRRModMSEResid,SiRRFstat])"
     ],
     "language": "python",
     "metadata": {},
     "outputs": [],
     "prompt_number": 33
    },
    {
     "cell_type": "heading",
     "level": 3,
     "metadata": {},
     "source": [
      "7.3.5 ANOVA values in SAS"
     ]
    },
    {
     "cell_type": "code",
     "collapsed": false,
     "input": [
      "OPTIONS NODATE NONUMBER CENTER LS=160;\n",
      "*Removes the header information and centers output;\n",
      "OPTIONS FORMDLIM=\"~\";\t\n",
      "\n",
      "data SiRData;\n",
      "infile \"C:/Users/flunk_000/Desktop/CalPoly/IPythonNotebook/SeniorProject/data/SiRFrameSAS.txt\" DLM=',';\n",
      "input Instrument $ Resistance;\n",
      "proc print data=SiRData;\n",
      "run;\n",
      "\n",
      "proc glm data= SiRData;\n",
      "\tclass Instrument;\n",
      "\tmodel Resistance = Instrument;\n",
      "\t\tODS output Overallanova = SiRanova;\n",
      "\t\tODS output fitstatistics = SiRfs;\n",
      "run;\n",
      "\n",
      "proc print data=SiRanova;\n",
      "\tformat SS 17.16\n",
      "\t\tMS 17.16\n",
      "\t\tfvalue 17.16;\n",
      "\trun;\n",
      "    \n",
      "proc print data=SiRfs;\n",
      "\tformat rsquare 17.16\n",
      "\t\trootmse 17.16;\n",
      "\trun;"
     ],
     "language": "python",
     "metadata": {},
     "outputs": []
    },
    {
     "cell_type": "code",
     "collapsed": false,
     "input": [
      "SiRSASresstd = '0.1040760683346600'\n",
      "SiRSASRsq = '0.1909990390511160'\n",
      "SiRSASModSS = '0.0511462615999996'\n",
      "SiRSASModMSE = '0.0127865653999999'\n",
      "SiRSASModSSResid = '0.2166365600000160'\n",
      "SiRSASModMSEResid = '0.0108318280000008'\n",
      "SiRSASFstat = '1.180462374402440'\n",
      "\n",
      "SiRSASVals = np.array([SiRSASresstd,SiRSASRsq,SiRSASModSS,SiRSASModMSE\n",
      "                    ,SiRSASModSSResid,SiRSASModMSEResid,SiRSASFstat])"
     ],
     "language": "python",
     "metadata": {},
     "outputs": [],
     "prompt_number": 34
    },
    {
     "cell_type": "heading",
     "level": 3,
     "metadata": {},
     "source": [
      "7.3.6 Testing Python's Precision against NIST, R, and SAS"
     ]
    },
    {
     "cell_type": "markdown",
     "metadata": {},
     "source": [
      "For a detailed explanation of this process, refer to Section 7.2.6."
     ]
    },
    {
     "cell_type": "markdown",
     "metadata": {},
     "source": [
      "Like 7.2.6, we need a label array to print out the values of interest:"
     ]
    },
    {
     "cell_type": "code",
     "collapsed": false,
     "input": [
      "SiRLabels = np.array(['resstd:','R-sq:','Model SS:','Model MS:',\n",
      "                          'Model SSResid:','Model MSResid:','F-stat:'])"
     ],
     "language": "python",
     "metadata": {},
     "outputs": [],
     "prompt_number": 96
    },
    {
     "cell_type": "code",
     "collapsed": false,
     "input": [
      "SiRR = array_compare(SiRRVals,SiRCertVals,SiRLabels)"
     ],
     "language": "python",
     "metadata": {},
     "outputs": [
      {
       "output_type": "stream",
       "stream": "stdout",
       "text": [
        "('resstd:', 15, 'of', 17)\n",
        "('R-sq:', 16, 'of', 17)\n",
        "('Model SS:', 16, 'of', 18)\n",
        "('Model MS:', 16, 'of', 18)\n",
        "('Model SSResid:', 15, 'of', 17)\n",
        "('Model MSResid:', 16, 'of', 18)\n",
        "('F-stat:', 7, 'of', 16)\n"
       ]
      }
     ],
     "prompt_number": 97
    },
    {
     "cell_type": "code",
     "collapsed": false,
     "input": [
      "SiRSAS = array_compare(SiRSASVals,SiRCertVals,SiRLabels)"
     ],
     "language": "python",
     "metadata": {},
     "outputs": [
      {
       "output_type": "stream",
       "stream": "stdout",
       "text": [
        "('resstd:', 15, 'of', 17)\n",
        "('R-sq:', 15, 'of', 17)\n",
        "('Model SS:', 11, 'of', 18)\n",
        "('Model MS:', 11, 'of', 18)\n",
        "('Model SSResid:', 15, 'of', 17)\n",
        "('Model MSResid:', 17, 'of', 18)\n",
        "('F-stat:', 14, 'of', 16)\n"
       ]
      }
     ],
     "prompt_number": 98
    },
    {
     "cell_type": "code",
     "collapsed": false,
     "input": [
      "SiRPy = array_compare(SiRPyVals,SiRCertVals,SiRLabels)"
     ],
     "language": "python",
     "metadata": {},
     "outputs": [
      {
       "output_type": "stream",
       "stream": "stdout",
       "text": [
        "('resstd:', 15, 'of', 17)\n",
        "('R-sq:', 15, 'of', 17)\n",
        "('Model SS:', 11, 'of', 18)\n",
        "('Model MS:', 11, 'of', 18)\n",
        "('Model SSResid:', 15, 'of', 17)\n",
        "('Model MSResid:', 17, 'of', 18)\n",
        "('F-stat:', 14, 'of', 16)\n"
       ]
      }
     ],
     "prompt_number": 99
    },
    {
     "cell_type": "code",
     "collapsed": false,
     "input": [
      "SiRR, SiRSAS, SiRPy, cert_val_lengths(SiRCertVals)"
     ],
     "language": "python",
     "metadata": {},
     "outputs": [
      {
       "metadata": {},
       "output_type": "pyout",
       "prompt_number": 100,
       "text": [
        "(array([15, 16, 16, 16, 15, 16,  7]),\n",
        " array([15, 15, 11, 11, 15, 17, 14]),\n",
        " array([15, 15, 11, 11, 15, 17, 14]),\n",
        " array([17, 17, 18, 18, 17, 18, 16]))"
       ]
      }
     ],
     "prompt_number": 100
    },
    {
     "cell_type": "markdown",
     "metadata": {},
     "source": [
      "With the exception of rounding the F-statistics early, R appears to have handled this dataset well. Going back and examining the array values, you can see R has the trailing zeros that match the ceritified values while Python and SAS did not. Interestingly enough, extracting large enough R values added additional digits after 4 or 5 trailing zeros. Did R caluculate those digits or were they randomly produced since we forced R to provide the extract precision?"
     ]
    },
    {
     "cell_type": "code",
     "collapsed": false,
     "input": [
      "#open a figure and add the axes\n",
      "SiRhist = plt.figure(figsize=(16,4))\n",
      "gs=GridSpec(1,2)\n",
      "SiRaxis = SiRhist.add_subplot(gs[0,0])\n",
      "\n",
      "SiRprograms=4\n",
      "#create array of bar values\n",
      "SiRMatches = [np.sum(SiRR),np.sum(SiRSAS),np.sum(SiRPy),\n",
      "              np.sum(cert_val_lengths(SiRCertVals))]\n",
      "\n",
      "#location of bars on plot\n",
      "SiRloc = np.arange(SiRprograms)\n",
      "\n",
      "SiRbars = SiRaxis.bar(SiRloc, SiRMatches)\n",
      "\n",
      "SiRaxis.set_ylim(0,130)\n",
      "SiRaxis.set_ylabel('# of matching values')\n",
      "SiRaxis.set_title('Precision of R,SAS,Py')\n",
      "SiRaxis.set_xticks(SiRloc+.35)\n",
      "SiRXNames = SiRaxis.set_xticklabels(['R', 'SAS', 'Python','NIST'])\n",
      "\n",
      "SiRaxis2 = SiRhist.add_subplot(gs[0,1])\n",
      "SiRbars2 = SiRaxis2.bar(SiRloc, SiRMatches)\n",
      "SiRaxis2.set_ylim(95,125)\n",
      "SiRaxis2.set_ylabel('# of matching values')\n",
      "SiRaxis2.set_title('Precision of R,SAS,Py')\n",
      "SiRaxis2.set_xticks(SiRloc+.35)\n",
      "SiRXNames = SiRaxis2.set_xticklabels(['R', 'SAS', 'Python','NIST'])\n",
      "SiRMatches"
     ],
     "language": "python",
     "metadata": {},
     "outputs": [
      {
       "metadata": {},
       "output_type": "pyout",
       "prompt_number": 101,
       "text": [
        "[101, 98, 98, 121]"
       ]
      },
      {
       "metadata": {},
       "output_type": "display_data",
       "png": "[encoded data removed]",
       "text": [
        "<matplotlib.figure.Figure at 0x16bb58d0>"
       ]
      }
     ],
     "prompt_number": 101
    },
    {
     "cell_type": "markdown",
     "metadata": {},
     "source": [
      "Over the 7 values of concern, R was more precise than SAS and Python by 2 decimal places. The programs appear to have about the same precision overall, but this is due to big mismatches on some values. R rounded the F-stat early (7 decimal places before SAS and Python), yet R was 5 decimal places more precise than SAS and Python for calculating Model SS and Model MSE."
     ]
    },
    {
     "cell_type": "heading",
     "level": 3,
     "metadata": {},
     "source": [
      "7.3.7 Plotting SiR data with Seaborn"
     ]
    },
    {
     "cell_type": "markdown",
     "metadata": {},
     "source": [
      "The NIST graphics aren't as detailed as I would like, but they give us something to compare the Python graphics to. This time we will Seaborn to try to match the NIST plots.\n",
      "\n",
      "SiR ANOVA:<br>\n",
      "<img src='http://www.goldak.com/images/project/SiRplot.png' align='left'>"
     ]
    },
    {
     "cell_type": "code",
     "collapsed": false,
     "input": [
      "#plot with seaborns linear model plot\n",
      "#use the column names are the first and second argument\n",
      "#and the data frame as the thid argument\n",
      "SiRANOVA = sns.lmplot('Instrument','Resistance',data=SiRFrame,\n",
      "           ci=False, hue='Instrument',fit_reg=False)\n",
      "SiRANOVA.set(title ='Resistivity vs Instrument')\n",
      "SiRANOVA.set(ylabel = 'Resistivity,ohm*cm');"
     ],
     "language": "python",
     "metadata": {},
     "outputs": [
      {
       "metadata": {},
       "output_type": "display_data",
       "png": "[encoded data removed]",
       "text": [
        "<matplotlib.figure.Figure at 0x16e70278>"
       ]
      }
     ],
     "prompt_number": 102
    },
    {
     "cell_type": "markdown",
     "metadata": {},
     "source": [
      "SiR Residuals vs. Instrument:<br>\n",
      "<img src='http://www.goldak.com/images/project/SiRResid.png' align='left'>"
     ]
    },
    {
     "cell_type": "code",
     "collapsed": false,
     "input": [
      "SiRPlot = sns.regplot(SiRFrame['Instrument'],SiRLM.resid, ci=False)\n",
      "SiRPlot.set(ylabel = 'Residuals')\n",
      "SiRPlot.set(title='Residuals vs Instrument');"
     ],
     "language": "python",
     "metadata": {},
     "outputs": [
      {
       "metadata": {},
       "output_type": "display_data",
       "png": "[encoded data removed]",
       "text": [
        "<matplotlib.figure.Figure at 0x16c91ef0>"
       ]
      }
     ],
     "prompt_number": 101
    },
    {
     "cell_type": "markdown",
     "metadata": {},
     "source": [
      "In sections 7.2 and 7.3 we have determined Python can perform as well as SAS and R on these NIST data sets."
     ]
    },
    {
     "cell_type": "heading",
     "level": 2,
     "metadata": {},
     "source": [
      "7.4 Univariate Summary Statistics: PiDigits"
     ]
    },
    {
     "cell_type": "heading",
     "level": 3,
     "metadata": {},
     "source": [
      "7.4.1 Reading in and preparing data from an ASCII webpage"
     ]
    },
    {
     "cell_type": "markdown",
     "metadata": {},
     "source": [
      "For a detailed explanation of this process, refer to Secton 7.2.1."
     ]
    },
    {
     "cell_type": "code",
     "collapsed": false,
     "input": [
      "PiUrl = 'http://www.itl.nist.gov/div898/strd/univ/data/PiDigits.dat'\n",
      "open('data/Pi.dat','wb').write(ul.urlopen(PiUrl).read())"
     ],
     "language": "python",
     "metadata": {},
     "outputs": [],
     "prompt_number": 103
    },
    {
     "cell_type": "code",
     "collapsed": false,
     "input": [
      "PiData = np.loadtxt('data/Pi.dat',skiprows=60,dtype=int)\n",
      "PiFrame = pd.DataFrame(PiData)"
     ],
     "language": "python",
     "metadata": {},
     "outputs": [],
     "prompt_number": 104
    },
    {
     "cell_type": "code",
     "collapsed": false,
     "input": [
      "PiFrame.head()"
     ],
     "language": "python",
     "metadata": {},
     "outputs": [
      {
       "html": [
        "<div style=\"max-height:1000px;max-width:1500px;overflow:auto;\">\n",
        "<table border=\"1\" class=\"dataframe\">\n",
        "  <thead>\n",
        "    <tr style=\"text-align: right;\">\n",
        "      <th></th>\n",
        "      <th>0</th>\n",
        "    </tr>\n",
        "  </thead>\n",
        "  <tbody>\n",
        "    <tr>\n",
        "      <th>0</th>\n",
        "      <td> 3</td>\n",
        "    </tr>\n",
        "    <tr>\n",
        "      <th>1</th>\n",
        "      <td> 1</td>\n",
        "    </tr>\n",
        "    <tr>\n",
        "      <th>2</th>\n",
        "      <td> 4</td>\n",
        "    </tr>\n",
        "    <tr>\n",
        "      <th>3</th>\n",
        "      <td> 1</td>\n",
        "    </tr>\n",
        "    <tr>\n",
        "      <th>4</th>\n",
        "      <td> 5</td>\n",
        "    </tr>\n",
        "  </tbody>\n",
        "</table>\n",
        "</div>"
       ],
       "metadata": {},
       "output_type": "pyout",
       "prompt_number": 105,
       "text": [
        "   0\n",
        "0  3\n",
        "1  1\n",
        "2  4\n",
        "3  1\n",
        "4  5"
       ]
      }
     ],
     "prompt_number": 105
    },
    {
     "cell_type": "code",
     "collapsed": false,
     "input": [
      "PiFrame.tail()"
     ],
     "language": "python",
     "metadata": {},
     "outputs": [
      {
       "html": [
        "<div style=\"max-height:1000px;max-width:1500px;overflow:auto;\">\n",
        "<table border=\"1\" class=\"dataframe\">\n",
        "  <thead>\n",
        "    <tr style=\"text-align: right;\">\n",
        "      <th></th>\n",
        "      <th>0</th>\n",
        "    </tr>\n",
        "  </thead>\n",
        "  <tbody>\n",
        "    <tr>\n",
        "      <th>4995</th>\n",
        "      <td> 6</td>\n",
        "    </tr>\n",
        "    <tr>\n",
        "      <th>4996</th>\n",
        "      <td> 0</td>\n",
        "    </tr>\n",
        "    <tr>\n",
        "      <th>4997</th>\n",
        "      <td> 4</td>\n",
        "    </tr>\n",
        "    <tr>\n",
        "      <th>4998</th>\n",
        "      <td> 7</td>\n",
        "    </tr>\n",
        "    <tr>\n",
        "      <th>4999</th>\n",
        "      <td> 2</td>\n",
        "    </tr>\n",
        "  </tbody>\n",
        "</table>\n",
        "</div>"
       ],
       "metadata": {},
       "output_type": "pyout",
       "prompt_number": 106,
       "text": [
        "      0\n",
        "4995  6\n",
        "4996  0\n",
        "4997  4\n",
        "4998  7\n",
        "4999  2"
       ]
      }
     ],
     "prompt_number": 106
    },
    {
     "cell_type": "markdown",
     "metadata": {},
     "source": [
      "Data looks good. I think we can all agree that Pi starts with 31415..."
     ]
    },
    {
     "cell_type": "heading",
     "level": 3,
     "metadata": {},
     "source": [
      "7.4.2 NIST Certified Values"
     ]
    },
    {
     "cell_type": "markdown",
     "metadata": {},
     "source": [
      "For a detailed explanation of this process, refer to Section 7.2.2."
     ]
    },
    {
     "cell_type": "markdown",
     "metadata": {},
     "source": [
      "The Certified values we are trying to match can be found at:\n",
      "http://www.itl.nist.gov/div898/strd/univ/certvalues/pidigits.html"
     ]
    },
    {
     "cell_type": "code",
     "collapsed": false,
     "input": [
      "PiMean = '4.53480000000000'\n",
      "PiSigma = '2.86733906028871'\n",
      "\n",
      "PiCertVals = np.array([PiMean,PiSigma])"
     ],
     "language": "python",
     "metadata": {},
     "outputs": [],
     "prompt_number": 98
    },
    {
     "cell_type": "heading",
     "level": 3,
     "metadata": {},
     "source": [
      "7.4.3 Univariate Summary Statistics in Python"
     ]
    },
    {
     "cell_type": "markdown",
     "metadata": {},
     "source": [
      "NIST only provides the mean and standard deviation for comparison. I'm going to show you a couple things that might be helpful as well as extract the values for comparison."
     ]
    },
    {
     "cell_type": "code",
     "collapsed": false,
     "input": [
      "#dont forget to check dir(PiFrame) to see what a DataFrame can offer\n",
      "PiFrame.describe()"
     ],
     "language": "python",
     "metadata": {},
     "outputs": [
      {
       "html": [
        "<div style=\"max-height:1000px;max-width:1500px;overflow:auto;\">\n",
        "<table border=\"1\" class=\"dataframe\">\n",
        "  <thead>\n",
        "    <tr style=\"text-align: right;\">\n",
        "      <th></th>\n",
        "      <th>0</th>\n",
        "    </tr>\n",
        "  </thead>\n",
        "  <tbody>\n",
        "    <tr>\n",
        "      <th>count</th>\n",
        "      <td> 5000.000000</td>\n",
        "    </tr>\n",
        "    <tr>\n",
        "      <th>mean</th>\n",
        "      <td>    4.534800</td>\n",
        "    </tr>\n",
        "    <tr>\n",
        "      <th>std</th>\n",
        "      <td>    2.867339</td>\n",
        "    </tr>\n",
        "    <tr>\n",
        "      <th>min</th>\n",
        "      <td>    0.000000</td>\n",
        "    </tr>\n",
        "    <tr>\n",
        "      <th>25%</th>\n",
        "      <td>    2.000000</td>\n",
        "    </tr>\n",
        "    <tr>\n",
        "      <th>50%</th>\n",
        "      <td>    5.000000</td>\n",
        "    </tr>\n",
        "    <tr>\n",
        "      <th>75%</th>\n",
        "      <td>    7.000000</td>\n",
        "    </tr>\n",
        "    <tr>\n",
        "      <th>max</th>\n",
        "      <td>    9.000000</td>\n",
        "    </tr>\n",
        "  </tbody>\n",
        "</table>\n",
        "</div>"
       ],
       "metadata": {},
       "output_type": "pyout",
       "prompt_number": 99,
       "text": [
        "                 0\n",
        "count  5000.000000\n",
        "mean      4.534800\n",
        "std       2.867339\n",
        "min       0.000000\n",
        "25%       2.000000\n",
        "50%       5.000000\n",
        "75%       7.000000\n",
        "max       9.000000"
       ]
      }
     ],
     "prompt_number": 99
    },
    {
     "cell_type": "code",
     "collapsed": false,
     "input": [
      "PiFrame.hist();"
     ],
     "language": "python",
     "metadata": {},
     "outputs": [
      {
       "metadata": {},
       "output_type": "display_data",
       "png": "[encoded data removed]",
       "text": [
        "<matplotlib.figure.Figure at 0x1675b518>"
       ]
      }
     ],
     "prompt_number": 100
    },
    {
     "cell_type": "markdown",
     "metadata": {},
     "source": [
      "Back to the desired values. As you can see, the DataFrame has the values we want already built in. Since we desire a more precise value for this exercise, the simplest way is to use NumPy. "
     ]
    },
    {
     "cell_type": "code",
     "collapsed": false,
     "input": [
      "PyPiMean = repr(np.mean(PiData))\n",
      "PyPistd = repr(np.std(PiData))\n",
      "\n",
      "PyPiVals = np.array([PyPiMean, PyPistd])"
     ],
     "language": "python",
     "metadata": {},
     "outputs": [],
     "prompt_number": 399
    },
    {
     "cell_type": "heading",
     "level": 3,
     "metadata": {},
     "source": [
      "7.4.4 Testing Python's Precision against NIST values"
     ]
    },
    {
     "cell_type": "markdown",
     "metadata": {},
     "source": [
      "For a detailed explanation of this process, refer to Section 7.2.6."
     ]
    },
    {
     "cell_type": "code",
     "collapsed": false,
     "input": [
      "#specify titles for the output values\n",
      "PiLabelArray = np.array(['Mean:','Sigma:'])"
     ],
     "language": "python",
     "metadata": {},
     "outputs": [],
     "prompt_number": 394
    },
    {
     "cell_type": "code",
     "collapsed": false,
     "input": [
      "PiPy = array_compare(PyPiVals,PiCertVals,PiLabelArray)"
     ],
     "language": "python",
     "metadata": {},
     "outputs": [
      {
       "output_type": "stream",
       "stream": "stdout",
       "text": [
        "('Mean:', 5, 'of', 16)\n",
        "('Sigma:', 5, 'of', 16)\n"
       ]
      }
     ],
     "prompt_number": 395
    },
    {
     "cell_type": "markdown",
     "metadata": {},
     "source": [
      "That's unforunate... Let's look at the values and see if we feel our previous comparison method might be a bit misleading in this instance."
     ]
    },
    {
     "cell_type": "code",
     "collapsed": false,
     "input": [
      "print(PyPiVals[0])\n",
      "print(PiCertVals[0])"
     ],
     "language": "python",
     "metadata": {},
     "outputs": [
      {
       "output_type": "stream",
       "stream": "stdout",
       "text": [
        "4.5347999999999997\n",
        "4.53480000000000\n"
       ]
      }
     ],
     "prompt_number": 401
    },
    {
     "cell_type": "markdown",
     "metadata": {},
     "source": [
      "These means are essentially the same. Not nearly as bad as matching 5 of 16 digits would lead us to believe."
     ]
    },
    {
     "cell_type": "code",
     "collapsed": false,
     "input": [
      "print(PyPiVals[1])\n",
      "print(PiCertVals[1])"
     ],
     "language": "python",
     "metadata": {},
     "outputs": [
      {
       "output_type": "stream",
       "stream": "stdout",
       "text": [
        "2.8670523120445486\n",
        "2.86733906028871\n"
       ]
      }
     ],
     "prompt_number": 403
    },
    {
     "cell_type": "markdown",
     "metadata": {},
     "source": [
      "The NumPy standard deviation is way off. Lucky for us, we still have a Pandas DataFrame all set to go. Here's a work around:"
     ]
    },
    {
     "cell_type": "code",
     "collapsed": false,
     "input": [
      "PyMean = PiFrame.mean()\n",
      "print '%17.14f' % (PyMean)\n",
      "print(PiCertVals[0])\n",
      "\n",
      "PySTD = PiFrame.std()\n",
      "print '%17.14f' % (PySTD)\n",
      "print(PiCertVals[1])"
     ],
     "language": "python",
     "metadata": {},
     "outputs": [
      {
       "output_type": "stream",
       "stream": "stdout",
       "text": [
        " 4.53480000000000\n",
        "4.53480000000000\n",
        " 2.86733906028871\n",
        "2.86733906028871\n"
       ]
      }
     ],
     "prompt_number": 416
    },
    {
     "cell_type": "markdown",
     "metadata": {},
     "source": [
      "Success! This method might be a few more lines of code, but it appears to be a more precise approach."
     ]
    },
    {
     "cell_type": "heading",
     "level": 1,
     "metadata": {},
     "source": [
      "Chapter 8<br> Streaming Data in the IPython Notebook"
     ]
    },
    {
     "cell_type": "markdown",
     "metadata": {},
     "source": [
      "An interest in working with Dynamic data is what brought Dr. Doi and I together on this project. Dynamic data is data that is always changing. Some data sets might change only a few times in a 5 minute interval, others might change 100 times a second. The fascinating thing about dynamic data is any time it is analyzed, the analysis is potentionally behind the data. Consider LADWP's (Los Angeles Department of Water and Power) water data. In 2013, the United States Census Bureau estimated the population of the city of Los Angeles was about 3.9 millon people. With 3.9 million people, it seems impossible that the water consumption in Los Angeles could ever stop. This implys that as we analyze water consumption in LA, we are immediately missing new data.  In the future, I intend to use dynamic environmental data streams to provide people with accurate, analyzed in real time, information that enables them to make choices that best support sustainability in their area."
     ]
    },
    {
     "cell_type": "heading",
     "level": 2,
     "metadata": {},
     "source": [
      "8.1 Python Packages for Streaming and the Import Cell"
     ]
    },
    {
     "cell_type": "code",
     "collapsed": false,
     "input": [
      "import requests\n",
      "import json\n",
      "import pandas as pd\n",
      "import ijson"
     ],
     "language": "python",
     "metadata": {},
     "outputs": [],
     "prompt_number": 441
    },
    {
     "cell_type": "heading",
     "level": 2,
     "metadata": {},
     "source": [
      "8.2 Streaming Data from USA.gov"
     ]
    },
    {
     "cell_type": "markdown",
     "metadata": {},
     "source": [
      "USA.gov describes the data as, \"We provide a raw pub/sub feed of data created any time anyone clicks on a 1.USA.gov URL. The pub/sub endpoint responds to http requests for any 1.USA.gov URL and returns a stream of JSON entries, one per line, that represent real-time clicks.\"\n",
      "\n",
      "A few years ago USA.gov \"held a nationwide 1.USA.gov Hack Day... to encourage people to explore the 1.USA.gov data.\" The projects and code resulting from this are more sophicated than what we're doing here and can be found at: \n",
      "http://www.usa.gov/About/developer-resources/1usagov.shtml"
     ]
    },
    {
     "cell_type": "heading",
     "level": 2,
     "metadata": {},
     "source": []
    },
    {
     "cell_type": "heading",
     "level": 1,
     "metadata": {},
     "source": [
      "Chapter 9<br>\n",
      "Time Series, More with Data Frames, and Advanced Plotting in the IPython Notebook"
     ]
    },
    {
     "cell_type": "heading",
     "level": 2,
     "metadata": {},
     "source": [
      "9.1 Pendulum Data"
     ]
    },
    {
     "cell_type": "code",
     "collapsed": false,
     "input": [
      "import numpy as np\n",
      "import pandas as pd\n",
      "import math\n",
      "%matplotlib inline\n",
      "import matplotlib\n",
      "import matplotlib.pyplot as plt\n",
      "import pylab as pl"
     ],
     "language": "python",
     "metadata": {},
     "outputs": [],
     "prompt_number": 107
    },
    {
     "cell_type": "markdown",
     "metadata": {},
     "source": [
      "With a pendulum and a web camera, Dr. Hughes used the Matlab routine pendulum_data.m to obtain the pendulum dataset we will be working with. Additionally, the matlab routine also provided us with the center of the least-squares best fit circle for the data (1152.57606607623, 394.773399557239), which we will need in the following section."
     ]
    },
    {
     "cell_type": "heading",
     "level": 3,
     "metadata": {},
     "source": [
      "9.1.1 Converting x and y values to angular position ($\\theta$)"
     ]
    },
    {
     "cell_type": "code",
     "collapsed": false,
     "input": [
      "#read the csv file\n",
      "PendData = np.loadtxt('data/pend_data.csv', skiprows=1, delimiter=',')\n",
      "\n",
      "#convert the numpy structure into a pandas DataFrame\n",
      "PendFrame = pd.DataFrame(PendData,columns=['time(sec)','x(pixels)','y(pixels)'])\n",
      "PendFrame.head()"
     ],
     "language": "python",
     "metadata": {},
     "outputs": [
      {
       "html": [
        "<div style=\"max-height:1000px;max-width:1500px;overflow:auto;\">\n",
        "<table border=\"1\" class=\"dataframe\">\n",
        "  <thead>\n",
        "    <tr style=\"text-align: right;\">\n",
        "      <th></th>\n",
        "      <th>time(sec)</th>\n",
        "      <th>x(pixels)</th>\n",
        "      <th>y(pixels)</th>\n",
        "    </tr>\n",
        "  </thead>\n",
        "  <tbody>\n",
        "    <tr>\n",
        "      <th>0</th>\n",
        "      <td> 0.00000</td>\n",
        "      <td> 347.397</td>\n",
        "      <td> 11.801</td>\n",
        "    </tr>\n",
        "    <tr>\n",
        "      <th>1</th>\n",
        "      <td> 0.15452</td>\n",
        "      <td> 722.760</td>\n",
        "      <td> 60.761</td>\n",
        "    </tr>\n",
        "    <tr>\n",
        "      <th>2</th>\n",
        "      <td> 0.26375</td>\n",
        "      <td> 748.770</td>\n",
        "      <td> 66.665</td>\n",
        "    </tr>\n",
        "    <tr>\n",
        "      <th>3</th>\n",
        "      <td> 0.32808</td>\n",
        "      <td> 598.070</td>\n",
        "      <td> 28.983</td>\n",
        "    </tr>\n",
        "    <tr>\n",
        "      <th>4</th>\n",
        "      <td> 0.40682</td>\n",
        "      <td> 384.457</td>\n",
        "      <td> 11.128</td>\n",
        "    </tr>\n",
        "  </tbody>\n",
        "</table>\n",
        "</div>"
       ],
       "metadata": {},
       "output_type": "pyout",
       "prompt_number": 108,
       "text": [
        "   time(sec)  x(pixels)  y(pixels)\n",
        "0    0.00000    347.397     11.801\n",
        "1    0.15452    722.760     60.761\n",
        "2    0.26375    748.770     66.665\n",
        "3    0.32808    598.070     28.983\n",
        "4    0.40682    384.457     11.128"
       ]
      }
     ],
     "prompt_number": 108
    },
    {
     "cell_type": "markdown",
     "metadata": {},
     "source": [
      "Using the provided data set and center of the circle, let's make some changes to our data frame."
     ]
    },
    {
     "cell_type": "markdown",
     "metadata": {},
     "source": [
      "First, we need to convert x and y to $\\theta$ to obtain a time series in this format:\n",
      "$$\\{(t_i, \\theta_i):i=0,...,n\\}$$\n",
      "\n",
      "Where:\n",
      "\n",
      "$$\\theta_i = {180\\over\\pi}*atan2{\\left( y_i-1152.5760667263\\over x_i-394.773399557239\\right)}+90$$"
     ]
    },
    {
     "cell_type": "markdown",
     "metadata": {},
     "source": [
      "Let's write a fucntion that uses this equation to create a new column in the data frame that contains the computed $\\theta$ values."
     ]
    },
    {
     "cell_type": "code",
     "collapsed": false,
     "input": [
      "#function takes y and x, then returns the solution to the above equation\n",
      "def calc_theta(y,x):\n",
      "    return ((180/math.pi)*math.atan2((y-1152.57606607263),(x-394.773399557239)))+90\n",
      "\n",
      "#the left side creates a new column in the data frame names \"theta\"\n",
      "#the right side uses information from the existing columns and the theta function above\n",
      "#to create the \"theta\" column\n",
      "PendFrame['theta']= PendFrame.apply(lambda row: calc_theta(row['y(pixels)'],row['x(pixels)']), axis=1)\n",
      "PendFrame.head()"
     ],
     "language": "python",
     "metadata": {},
     "outputs": [
      {
       "html": [
        "<div style=\"max-height:1000px;max-width:1500px;overflow:auto;\">\n",
        "<table border=\"1\" class=\"dataframe\">\n",
        "  <thead>\n",
        "    <tr style=\"text-align: right;\">\n",
        "      <th></th>\n",
        "      <th>time(sec)</th>\n",
        "      <th>x(pixels)</th>\n",
        "      <th>y(pixels)</th>\n",
        "      <th>theta</th>\n",
        "    </tr>\n",
        "  </thead>\n",
        "  <tbody>\n",
        "    <tr>\n",
        "      <th>0</th>\n",
        "      <td> 0.00000</td>\n",
        "      <td> 347.397</td>\n",
        "      <td> 11.801</td>\n",
        "      <td> -2.378128</td>\n",
        "    </tr>\n",
        "    <tr>\n",
        "      <th>1</th>\n",
        "      <td> 0.15452</td>\n",
        "      <td> 722.760</td>\n",
        "      <td> 60.761</td>\n",
        "      <td> 16.720526</td>\n",
        "    </tr>\n",
        "    <tr>\n",
        "      <th>2</th>\n",
        "      <td> 0.26375</td>\n",
        "      <td> 748.770</td>\n",
        "      <td> 66.665</td>\n",
        "      <td> 18.055472</td>\n",
        "    </tr>\n",
        "    <tr>\n",
        "      <th>3</th>\n",
        "      <td> 0.32808</td>\n",
        "      <td> 598.070</td>\n",
        "      <td> 28.983</td>\n",
        "      <td> 10.255820</td>\n",
        "    </tr>\n",
        "    <tr>\n",
        "      <th>4</th>\n",
        "      <td> 0.40682</td>\n",
        "      <td> 384.457</td>\n",
        "      <td> 11.128</td>\n",
        "      <td> -0.517825</td>\n",
        "    </tr>\n",
        "  </tbody>\n",
        "</table>\n",
        "</div>"
       ],
       "metadata": {},
       "output_type": "pyout",
       "prompt_number": 109,
       "text": [
        "   time(sec)  x(pixels)  y(pixels)      theta\n",
        "0    0.00000    347.397     11.801  -2.378128\n",
        "1    0.15452    722.760     60.761  16.720526\n",
        "2    0.26375    748.770     66.665  18.055472\n",
        "3    0.32808    598.070     28.983  10.255820\n",
        "4    0.40682    384.457     11.128  -0.517825"
       ]
      }
     ],
     "prompt_number": 109
    },
    {
     "cell_type": "heading",
     "level": 3,
     "metadata": {},
     "source": [
      "9.1.2 Graphing the Time series: Angular position vs. Time"
     ]
    },
    {
     "cell_type": "markdown",
     "metadata": {},
     "source": [
      "Now that the data frame has a time column and a $\\theta$ column, let's graph the time series: $$\\{(t_i, \\theta_i):i=0,...,n\\}$$\n"
     ]
    },
    {
     "cell_type": "code",
     "collapsed": false,
     "input": [
      "#open a figure window\n",
      "plt.figure(figsize=(18,6))\n",
      "\n",
      "#plot the scatterplot first to keep the markers in the foreground\n",
      "#s is the size of the markers, and black is the color of the markers\n",
      "plt.scatter(PendFrame['time(sec)'],PendFrame['theta'], s=8, c='black')\n",
      "\n",
      "#built-in DataFrame function to plot time as x and theta as y, with custom y limits, line width, and color\n",
      "TSPlot = PendFrame.plot(x='time(sec)',y='theta',ylim=(-22,20),linewidth=.7, c='green')\n",
      "\n",
      "#change background of the plot to white\n",
      "TSPlot.set_axis_bgcolor('white')\n",
      "\n",
      "#set x and y labels, title, and adjust thier sizes according\n",
      "TSPlot.set_ylabel('pendulum angular position (degrees)', fontsize=16)\n",
      "TSPlot.set_xlabel('time (seconds)',fontsize=16)\n",
      "TSPlot.set_title('Pendulum Position Time Series',fontsize=20)\n",
      "\n",
      "#increase the font size of the x and y ticks\n",
      "plt.tick_params(axis='both', labelsize=15)"
     ],
     "language": "python",
     "metadata": {},
     "outputs": [
      {
       "metadata": {},
       "output_type": "display_data",
       "png": "[encoded data removed]",
       "text": [
        "<matplotlib.figure.Figure at 0x174d1630>"
       ]
      }
     ],
     "prompt_number": 110
    },
    {
     "cell_type": "heading",
     "level": 3,
     "metadata": {},
     "source": [
      "9.1.3 Summary Statistics"
     ]
    },
    {
     "cell_type": "markdown",
     "metadata": {},
     "source": [
      "Now that we have a visualization of our dataset, let's look at some other useful information."
     ]
    },
    {
     "cell_type": "code",
     "collapsed": false,
     "input": [
      "PendFrame.describe()"
     ],
     "language": "python",
     "metadata": {},
     "outputs": [
      {
       "html": [
        "<div style=\"max-height:1000px;max-width:1500px;overflow:auto;\">\n",
        "<table border=\"1\" class=\"dataframe\">\n",
        "  <thead>\n",
        "    <tr style=\"text-align: right;\">\n",
        "      <th></th>\n",
        "      <th>time(sec)</th>\n",
        "      <th>x(pixels)</th>\n",
        "      <th>y(pixels)</th>\n",
        "      <th>theta</th>\n",
        "    </tr>\n",
        "  </thead>\n",
        "  <tbody>\n",
        "    <tr>\n",
        "      <th>count</th>\n",
        "      <td> 512.000000</td>\n",
        "      <td> 512.000000</td>\n",
        "      <td> 512.000000</td>\n",
        "      <td> 512.000000</td>\n",
        "    </tr>\n",
        "    <tr>\n",
        "      <th>mean</th>\n",
        "      <td>  18.088852</td>\n",
        "      <td> 389.999988</td>\n",
        "      <td>  24.999988</td>\n",
        "      <td>  -0.243205</td>\n",
        "    </tr>\n",
        "    <tr>\n",
        "      <th>std</th>\n",
        "      <td>  10.262232</td>\n",
        "      <td> 184.034433</td>\n",
        "      <td>  14.569337</td>\n",
        "      <td>   9.307719</td>\n",
        "    </tr>\n",
        "    <tr>\n",
        "      <th>min</th>\n",
        "      <td>   0.000000</td>\n",
        "      <td>   2.140000</td>\n",
        "      <td>   9.884000</td>\n",
        "      <td> -20.105156</td>\n",
        "    </tr>\n",
        "    <tr>\n",
        "      <th>25%</th>\n",
        "      <td>   9.346825</td>\n",
        "      <td> 235.100000</td>\n",
        "      <td>  13.858000</td>\n",
        "      <td>  -8.029286</td>\n",
        "    </tr>\n",
        "    <tr>\n",
        "      <th>50%</th>\n",
        "      <td>  18.119500</td>\n",
        "      <td> 394.293500</td>\n",
        "      <td>  20.843000</td>\n",
        "      <td>  -0.024068</td>\n",
        "    </tr>\n",
        "    <tr>\n",
        "      <th>75%</th>\n",
        "      <td>  26.951250</td>\n",
        "      <td> 551.912500</td>\n",
        "      <td>  30.556750</td>\n",
        "      <td>   7.897347</td>\n",
        "    </tr>\n",
        "    <tr>\n",
        "      <th>max</th>\n",
        "      <td>  35.785000</td>\n",
        "      <td> 770.170000</td>\n",
        "      <td>  79.954000</td>\n",
        "      <td>  19.179884</td>\n",
        "    </tr>\n",
        "  </tbody>\n",
        "</table>\n",
        "</div>"
       ],
       "metadata": {},
       "output_type": "pyout",
       "prompt_number": 111,
       "text": [
        "        time(sec)   x(pixels)   y(pixels)       theta\n",
        "count  512.000000  512.000000  512.000000  512.000000\n",
        "mean    18.088852  389.999988   24.999988   -0.243205\n",
        "std     10.262232  184.034433   14.569337    9.307719\n",
        "min      0.000000    2.140000    9.884000  -20.105156\n",
        "25%      9.346825  235.100000   13.858000   -8.029286\n",
        "50%     18.119500  394.293500   20.843000   -0.024068\n",
        "75%     26.951250  551.912500   30.556750    7.897347\n",
        "max     35.785000  770.170000   79.954000   19.179884"
       ]
      }
     ],
     "prompt_number": 111
    },
    {
     "cell_type": "markdown",
     "metadata": {},
     "source": [
      "From this table we can see that our dataset took measurement of the pendulums position for a total of 35.785 seconds (since the timespan is equal to the max-min of the time column). What we do not know is whether or not the data points are evenly spaced in time. We can look at the graph above and note there are about 6-7 peaks per 5 second interval. We can also look at the spacing between the quantiles, the first 25% of the data values taking place in a 9.346825 second span, with the following 25% taking place in an 8.772675 second span (Q2-Q1), the following 25% taking place in an 8.83175 second span (Q3-Q2), and the final 25% taking place in an 8.83375 second span. Overall, it looks pretty close."
     ]
    },
    {
     "cell_type": "markdown",
     "metadata": {},
     "source": [
      "We can apply a smoother to obtain equally spaced $t_i's$, but let's write a function to assess the time spacing of the data."
     ]
    },
    {
     "cell_type": "code",
     "collapsed": false,
     "input": [
      "#this function will create an array with the difference between \n",
      "#each point so we can examine if the time intervals are consistent\n",
      "#throughout the data, returns a pandas series of differences\n",
      "def spacing_check(vector):\n",
      "    \n",
      "    #create a series with one less value than the vector (since the first entry\n",
      "    #is 2nd-1st of the vector) to store the difference values\n",
      "    diff = np.zeros(len(vector)-1,dtype=float)\n",
      "    difference = pd.Series(diff)\n",
      "    \n",
      "    for time in range(len(vector)-1):\n",
      "        difference[time]=vector[time+1]-vector[time]\n",
      "    return difference    "
     ],
     "language": "python",
     "metadata": {},
     "outputs": [],
     "prompt_number": 112
    },
    {
     "cell_type": "markdown",
     "metadata": {},
     "source": [
      "Let's create a series of differences using our function."
     ]
    },
    {
     "cell_type": "code",
     "collapsed": false,
     "input": [
      "TimeSpans = spacing_check(PendFrame['time(sec)'])"
     ],
     "language": "python",
     "metadata": {},
     "outputs": [],
     "prompt_number": 113
    },
    {
     "cell_type": "markdown",
     "metadata": {},
     "source": [
      "There are a couple ways to test that our function is working properly."
     ]
    },
    {
     "cell_type": "code",
     "collapsed": false,
     "input": [
      "#this should be equal to 511, since we start by subtracting the second value from the first\n",
      "print(len(TimeSpans))==511\n",
      "\n",
      "#subtracting the first value of our time column from the second value should equal the first value of our difference array\n",
      "(PendFrame['time(sec)'][1]-PendFrame['time(sec)'][0])==TimeSpans[0]"
     ],
     "language": "python",
     "metadata": {},
     "outputs": [
      {
       "output_type": "stream",
       "stream": "stdout",
       "text": [
        "True\n"
       ]
      },
      {
       "metadata": {},
       "output_type": "pyout",
       "prompt_number": 114,
       "text": [
        "True"
       ]
      }
     ],
     "prompt_number": 114
    },
    {
     "cell_type": "markdown",
     "metadata": {},
     "source": [
      "Everything appears to be in order. Let's look at a plot of the difference to see if there is any increasing or decreasing trend in the time spacing of the data points."
     ]
    },
    {
     "cell_type": "code",
     "collapsed": false,
     "input": [
      "#the first argument is a slice that takes the last 511 time \n",
      "#values so we can compare them to our 511 differences\n",
      "#to see if there is a change over time\n",
      "fig = plt.figure(figsize=(18,6))\n",
      "TimeSpacingPlot = fig.add_subplot(1,1,1)\n",
      "plt.scatter(x=PendFrame.ix[1:511,'time(sec)'],y=TimeSpans)\n",
      "\n",
      "#set x and y labels, title, and adjust thier sizes according\n",
      "TimeSpacingPlot.set_ylabel('difference between measurements (seconds)', fontsize=16)\n",
      "TimeSpacingPlot.set_xlabel('time (seconds)',fontsize=16)\n",
      "TimeSpacingPlot.set_title('Difference in time measurements as time progresses',fontsize=20)\n",
      "TimeSpacingPlot.set_ylim(.06,.157)\n",
      "TimeSpacingPlot.set_xlim(0,35.9)\n",
      "plt.tick_params(axis='both', labelsize=15)"
     ],
     "language": "python",
     "metadata": {},
     "outputs": [
      {
       "metadata": {},
       "output_type": "display_data",
       "png": "[encoded data removed]",
       "text": [
        "<matplotlib.figure.Figure at 0x1777cd30>"
       ]
      }
     ],
     "prompt_number": 115
    },
    {
     "cell_type": "heading",
     "level": 1,
     "metadata": {},
     "source": [
      "Chapter 10<br>\n",
      "Formatting and Coverting IPython Notebooks"
     ]
    },
    {
     "cell_type": "code",
     "collapsed": false,
     "input": [],
     "language": "python",
     "metadata": {},
     "outputs": []
    }
   ],
   "metadata": {}
  }
 ]
}