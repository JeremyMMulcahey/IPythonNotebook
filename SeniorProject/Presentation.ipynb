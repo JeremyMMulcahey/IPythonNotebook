{
 "metadata": {
  "name": "",
  "signature": "sha256:b72c4800d8be67eacdb007615e30c176420d86126bf28818946120520e4949e4"
 },
 "nbformat": 3,
 "nbformat_minor": 0,
 "worksheets": [
  {
   "cells": [
    {
     "cell_type": "heading",
     "level": 1,
     "metadata": {},
     "source": [
      "Introduction to Python and the IPython Notebook for Data Analysis"
     ]
    },
    {
     "cell_type": "heading",
     "level": 2,
     "metadata": {},
     "source": [
      "Senior Project by Jeremy Mulcahey<br><br>\n",
      "Cal Poly SLO Statistics Department<br><br>\n",
      "Presented November 2014"
     ]
    },
    {
     "cell_type": "markdown",
     "metadata": {},
     "source": [
      "<img src = \"images/ipy.PNG\", align=\"left\">"
     ]
    },
    {
     "cell_type": "heading",
     "level": 1,
     "metadata": {},
     "source": [
      "Outline"
     ]
    },
    {
     "cell_type": "markdown",
     "metadata": {},
     "source": [
      "<ul><font size = '4.5'>\n",
      "<li>\n",
      "<a href = \"Introduction.ipynb\">Background</a>\n",
      "</li>\n",
      "\n",
      "<li>\n",
      "<a href = \"Project.ipynb\">The Project</a>\n",
      "</li>\n",
      "\n",
      "<ul>\n",
      "<li>\n",
      "<a href = \"Precision.ipynb\">Precision of Calculations Performed in Python</a>\n",
      "</li>\n",
      "\n",
      "<li>\n",
      "<a href = \"Datastream.ipynb\">Streaming & Plotting Data</a>\n",
      "</li>\n",
      "\n",
      "<li>\n",
      "<a href = \"TimeseriesApp.ipynb\">Approximating Model Coefficients Widget</a>\n",
      "</li>\n",
      "</ul>\n",
      "\n",
      "<li>\n",
      "<a href = \"Conclusions.ipynb\">Conclusion</a>\n",
      "</li></font>\n",
      "</ul>"
     ]
    },
    {
     "cell_type": "heading",
     "level": 1,
     "metadata": {},
     "source": [
      "Disclaimer"
     ]
    },
    {
     "cell_type": "heading",
     "level": 3,
     "metadata": {},
     "source": [
      "<font size = '4.5'>There will be a lot of unaddressed code and support code executed during this presentation.</font>"
     ]
    }
   ],
   "metadata": {}
  }
 ]
}