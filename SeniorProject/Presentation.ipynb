{
 "cells": [
  {
   "cell_type": "markdown",
   "metadata": {},
   "source": [
    "# Introduction to Python and the IPython Notebook for Data Analysis"
   ]
  },
  {
   "cell_type": "markdown",
   "metadata": {},
   "source": [
    "## Senior Project by Jeremy Mulcahey<br><br> Cal Poly SLO Statistics Department<br><br> Presented November 2014"
   ]
  },
  {
   "cell_type": "markdown",
   "metadata": {},
   "source": [
    "<img src = \"images/ipy.PNG\", align=\"left\">"
   ]
  },
  {
   "cell_type": "markdown",
   "metadata": {},
   "source": [
    "# Outline"
   ]
  },
  {
   "cell_type": "markdown",
   "metadata": {},
   "source": [
    "<ul><font size = '4.5'>\n",
    "<li>\n",
    "<a href = \"Introduction.ipynb\">Background</a>\n",
    "</li>\n",
    "\n",
    "<li>\n",
    "<a href = \"Project.ipynb\">The Project</a>\n",
    "</li>\n",
    "\n",
    "<ul>\n",
    "<li>\n",
    "<a href = \"Precision.ipynb\">Precision of Calculations Performed in Python</a>\n",
    "</li>\n",
    "\n",
    "<li>\n",
    "<a href = \"Datastream.ipynb\">Streaming & Plotting Data</a>\n",
    "</li>\n",
    "\n",
    "<li>\n",
    "<a href = \"TimeSeriesApp.ipynb\">Approximating Model Coefficients Widget</a>\n",
    "</li>\n",
    "</ul>\n",
    "\n",
    "<li>\n",
    "<a href = \"Conclusions.ipynb\">Conclusion</a>\n",
    "</li></font>\n",
    "</ul>"
   ]
  },
  {
   "cell_type": "markdown",
   "metadata": {},
   "source": [
    "# Disclaimer"
   ]
  },
  {
   "cell_type": "markdown",
   "metadata": {},
   "source": [
    "### <font size = '4.5'>There will be a lot of unaddressed code and support code executed during this presentation.</font>"
   ]
  }
 ],
 "metadata": {
  "kernelspec": {
   "display_name": "Python 2",
   "language": "python",
   "name": "python2"
  },
  "language_info": {
   "codemirror_mode": {
    "name": "ipython",
    "version": 2
   },
   "file_extension": ".py",
   "mimetype": "text/x-python",
   "name": "python",
   "nbconvert_exporter": "python",
   "pygments_lexer": "ipython2",
   "version": "2.7.5"
  }
 },
 "nbformat": 4,
 "nbformat_minor": 0
}
