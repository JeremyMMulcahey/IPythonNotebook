{
 "metadata": {
  "name": "",
  "signature": "sha256:efc0027ae1f9c4b0b3cf396651f4c342fa2cc741a79fba11412fec881d21c02f"
 },
 "nbformat": 3,
 "nbformat_minor": 0,
 "worksheets": [
  {
   "cells": [
    {
     "cell_type": "heading",
     "level": 1,
     "metadata": {},
     "source": [
      "Introduction to Python and IPython Notebook for Data Analysis"
     ]
    },
    {
     "cell_type": "heading",
     "level": 3,
     "metadata": {},
     "source": [
      "Senior Project by Jeremy Mulcahey<br><br>\n",
      "Cal Poly Statistics Department<br><br>\n",
      "November 2014"
     ]
    },
    {
     "cell_type": "markdown",
     "metadata": {},
     "source": [
      "<img src = \"images/ipy.PNG\", align=\"left\">"
     ]
    },
    {
     "cell_type": "heading",
     "level": 1,
     "metadata": {},
     "source": [
      "Outline"
     ]
    },
    {
     "cell_type": "markdown",
     "metadata": {},
     "source": [
      "<ul>\n",
      "<li>\n",
      "<a href = \"Introduction.ipynb\">Introduction</a>\n",
      "</li>\n",
      "\n",
      "<li>\n",
      "<a href = \"Precision.ipynb\">Precision of Calcuations Performed in Python</a>\n",
      "</li>\n",
      "\n",
      "<li>\n",
      "<a href = \"Timeseries.ipynb\">Time Series Functionality</a>\n",
      "</li>\n",
      "\n",
      "<li>\n",
      "<a href = \"TimeseriesApp.ipynb\">Approximating Optimized Model Coefficients</a>\n",
      "</li>\n",
      "\n",
      "<li>\n",
      "<a href = \"Datastream.ipynb\">Streaming & Plotting Data</a>\n",
      "</li>\n",
      "\n",
      "<li>\n",
      "<a href = \"Conclusion.ipynb\">Conclusion</a>\n",
      "</li>\n",
      "</ul>"
     ]
    }
   ],
   "metadata": {}
  }
 ]
}