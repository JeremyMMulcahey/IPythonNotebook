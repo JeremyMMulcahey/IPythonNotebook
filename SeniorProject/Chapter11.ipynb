{
 "metadata": {
  "name": "",
  "signature": "sha256:389d0d0b376e934c042c16d4437e3e0944a8f571e7cfa011db7e011fe39f05da"
 },
 "nbformat": 3,
 "nbformat_minor": 0,
 "worksheets": [
  {
   "cells": [
    {
     "cell_type": "heading",
     "level": 1,
     "metadata": {},
     "source": [
      "Chapter 11<br>\n",
      "Conclusions and References"
     ]
    },
    {
     "cell_type": "markdown",
     "metadata": {},
     "source": [
      "The primary goal of this project was to \"Learn Python & its libraries\"."
     ]
    },
    {
     "cell_type": "markdown",
     "metadata": {},
     "source": [
      "This notebook utilized the Python language, the IPython Notebook, and a lengthy list of IPython libraries to satisfy our original goal, and a list of secondary goals including:\n",
      "<li>Working with a datastream</li>\n",
      "<li>Comparing the relative precision of SAS, R and Python</li>\n",
      "<li>Writing a variety of custom functions</li>\n",
      "<li>Analyzing time series data and smoothing data</li>\n",
      "<li>Producing this user guide</li>"
     ]
    },
    {
     "cell_type": "markdown",
     "metadata": {},
     "source": [
      "I would like to thank:"
     ]
    },
    {
     "cell_type": "markdown",
     "metadata": {},
     "source": [
      "Dr. Brian Granger:<br>\n",
      "Without Dr. Granger, the notebook itself would not exist. More importantly, I appreciate the hours he spent introducing me to the IPython Notebook and GitHub, trouble shooting package installations, simplifying my data streaming code, and tinkering with Ryp2 (Chapter 6)."
     ]
    },
    {
     "cell_type": "markdown",
     "metadata": {},
     "source": [
      "Dr. Jimmy Doi:<br>\n",
      "Having the flexibility to follow this project where ever it led me, and knowing that Dr. Doi supported anything beyond our primary goal was invaluable. I cannot thank Dr. Doi enough for his enthusiasm, patience, interest in student success (both in and beyond the classroom), and support."
     ]
    },
    {
     "cell_type": "markdown",
     "metadata": {},
     "source": [
      "Dr. Gary Hughes:<br>\n",
      "For providing the datasets for Chapter 9, and guidance with time series analysis."
     ]
    },
    {
     "cell_type": "heading",
     "level": 3,
     "metadata": {},
     "source": [
      "Text Reference:"
     ]
    },
    {
     "cell_type": "markdown",
     "metadata": {},
     "source": [
      "The first step of this project was to learn Python. The second was to read Wes McKinney's \"textbook\". In addition to information on Python libraries (Pandas, SciPy, NumPy, etc.), Python for Data Analysis has an abundance of tips, tricks, examples, and data sets that quickly improved my Python abilities."
     ]
    },
    {
     "cell_type": "markdown",
     "metadata": {},
     "source": [
      "McKinney, Wes. Python for Data Analysis. Sebastopol, CA: O'Reilly Media, 1st edition October 29, 2012. Print."
     ]
    }
   ],
   "metadata": {}
  }
 ]
}