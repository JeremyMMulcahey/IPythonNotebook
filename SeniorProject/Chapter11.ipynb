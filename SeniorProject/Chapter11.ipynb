{
 "metadata": {
  "name": "",
  "signature": "sha256:b9abf68c0cabbbeace47af707404f66cb5e88cdc9cca4c3ac8794312f8a4a556"
 },
 "nbformat": 3,
 "nbformat_minor": 0,
 "worksheets": [
  {
   "cells": [
    {
     "cell_type": "heading",
     "level": 1,
     "metadata": {},
     "source": [
      "Chapter 11<br>\n",
      "Conclusions and References"
     ]
    },
    {
     "cell_type": "markdown",
     "metadata": {},
     "source": [
      "The primary goal of this project was to \"Learn Python & its libraries\"."
     ]
    },
    {
     "cell_type": "markdown",
     "metadata": {},
     "source": [
      "This notebook utilized the Python language, the IPython Notebook, and a lengthy list of IPython libraries to satisfy our original goal, and a list of secondary goals including:\n",
      "<ul><li>Working with a datastream</li>\n",
      "<li>Comparing the relative accuracy of SAS, R and Python</li>\n",
      "<li>Writing a variety of custom functions</li>\n",
      "<li>Analyzing time series data and smoothing data</li>\n",
      "<li>Producing this user guide</li></ul>"
     ]
    },
    {
     "cell_type": "markdown",
     "metadata": {},
     "source": [
      "I would like to thank:"
     ]
    },
    {
     "cell_type": "markdown",
     "metadata": {},
     "source": [
      "Dr. Brian Granger:<br>\n",
      "Without Dr. Granger, the notebook itself would not exist. More importantly, I appreciate the hours he spent introducing me to the IPython Notebook and GitHub, trouble shooting package installations, simplifying my data streaming code, and tinkering with Ryp2 (Chapter 6)."
     ]
    },
    {
     "cell_type": "markdown",
     "metadata": {},
     "source": [
      "Dr. Jimmy Doi:<br>\n",
      "Having the flexibility to follow this project where ever it led me, and knowing that Dr. Doi supported anything beyond our primary goal was invaluable. I cannot thank Dr. Doi enough for his enthusiasm, patience, interest in student success (both in and beyond the classroom), and support."
     ]
    },
    {
     "cell_type": "markdown",
     "metadata": {},
     "source": [
      "Dr. Gary Hughes:<br>\n",
      "For providing the datasets for Chapter 9, and guidance with time series analysis."
     ]
    },
    {
     "cell_type": "heading",
     "level": 3,
     "metadata": {},
     "source": [
      "Text Reference:"
     ]
    },
    {
     "cell_type": "markdown",
     "metadata": {},
     "source": [
      "The first step of this project was to learn Python. The second was to read Wes McKinney's \"textbook\". In addition to information on Python libraries (Pandas, SciPy, NumPy, etc.), Python for Data Analysis has an abundance of tips, tricks, examples, and data sets that quickly improved my Python abilities."
     ]
    },
    {
     "cell_type": "markdown",
     "metadata": {},
     "source": [
      "McKinney, Wes. Python for Data Analysis. Sebastopol, CA: O'Reilly Media, 1st edition October 29, 2012. Print."
     ]
    },
    {
     "cell_type": "heading",
     "level": 2,
     "metadata": {},
     "source": [
      "Navigation"
     ]
    },
    {
     "cell_type": "heading",
     "level": 3,
     "metadata": {},
     "source": [
      "<a href=\"TOC.ipynb\">Table of Contents</a><br><br>\n",
      "<a href=\"Chapter1.ipynb\">Chapter 1: Introduction</a><br><br>\n",
      "<a href=\"Chapter2.ipynb\">Chapter 2: Python and Anaconda</a><br><br>\n",
      "<a href=\"Chapter3.ipynb\">Chapter 3: Setting up the IPython Notebook</a><br><br>\n",
      "<a href=\"Chapter4.ipynb\">Chapter 4: Starting with GitHub</a><br><br>\n",
      "<a href=\"Chapter5.ipynb\">Chapter 5: Sharing IPython Notebooks with NBViewer</a><br><br>\n",
      "<a href=\"Chapter6.ipynb\">Chapter 6: R for the IPython Notebook</a><br><br>\n",
      "<a href=\"Chapter7.ipynb\">Chapter 7: Analyzing NIST datasets in the IPython Notebook</a><br><br>\n",
      "<a href=\"Chapter8.ipynb\">Chapter 8: Streaming data in the IPython Notebook</a><br><br>\n",
      "<a href=\"Chapter9.ipynb\">Chapter 9: Plotting and smoothing time series data, and DataFrame Manipulation</a><br><br>\n",
      "<a href=\"Chapter10.ipynb\">Chapter 10: Formatting and Converting IPython Notebooks</a><br><br>\n",
      "<a href=\"Chapter11.ipynb\">Chapter 11: Conclusions and References</a><br><br>"
     ]
    }
   ],
   "metadata": {}
  }
 ]
}