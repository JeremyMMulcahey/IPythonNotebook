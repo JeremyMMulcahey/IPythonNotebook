{
 "metadata": {
  "name": "",
  "signature": "sha256:dbb79b558e414c829faf6d65a416e19d7c551ca54265fd8e416de15ec88ed2ed"
 },
 "nbformat": 3,
 "nbformat_minor": 0,
 "worksheets": []
}