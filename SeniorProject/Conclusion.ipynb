{
 "metadata": {
  "name": "",
  "signature": "sha256:90167463c447b19cad77958a478a145aed664516b9ef35cbe218f26a60ba12c9"
 },
 "nbformat": 3,
 "nbformat_minor": 0,
 "worksheets": [
  {
   "cells": [
    {
     "cell_type": "heading",
     "level": 1,
     "metadata": {},
     "source": [
      "Results: IPython Manual"
     ]
    },
    {
     "cell_type": "heading",
     "level": 4,
     "metadata": {},
     "source": [
      "Contains primary accomplished primary, secondary goals and unanticipated projects"
     ]
    },
    {
     "cell_type": "markdown",
     "metadata": {},
     "source": [
      "Documented the process and produced a manual. Users can start in chapter 1 and reproduce the entire notebook."
     ]
    },
    {
     "cell_type": "heading",
     "level": 1,
     "metadata": {},
     "source": [
      "References"
     ]
    },
    {
     "cell_type": "markdown",
     "metadata": {},
     "source": [
      "Dr. Doi.\n",
      "\n",
      "Dr. Granger.\n",
      "\n",
      "Dr. Hughes."
     ]
    }
   ],
   "metadata": {}
  }
 ]
}