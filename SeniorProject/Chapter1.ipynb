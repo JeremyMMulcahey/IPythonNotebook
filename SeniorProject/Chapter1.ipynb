{
 "metadata": {
  "name": "",
  "signature": "sha256:a5d0e394a9568bf50e56c4be45bfa440e26539d0fd163823c82d9a982482383f"
 },
 "nbformat": 3,
 "nbformat_minor": 0,
 "worksheets": [
  {
   "cells": [
    {
     "cell_type": "heading",
     "level": 1,
     "metadata": {},
     "source": [
      "Chapter 1\n",
      "<br>Introduction"
     ]
    },
    {
     "cell_type": "markdown",
     "metadata": {},
     "source": [
      "This project is an introduction on how to analyze and visualize data in the IPython Notebook. The IPython Notebook was co-founded by Dr. Brian Granger who is an Associate Professor of Physics at California Polytechnic State University San Luis Obispo and a core developer of the IPython project. "
     ]
    },
    {
     "cell_type": "markdown",
     "metadata": {},
     "source": [
      "The IPython Notebook is a convenient and versatile tool for Data Analysis. The IPython notebook can take the place of an IDE (integrated development environment), text editor, and/or console. Working in the IPython Notebook enables users to write code, analyze data in Python and R, format using LaTeX and HTML, and produce plots within a single document. The notebooks can be converted to HTML, LaTeX, PDF, and other formats. The notebooks can also be shared, stored, and backed up using NBViewer and GitHub."
     ]
    },
    {
     "cell_type": "markdown",
     "metadata": {},
     "source": [
      "The link below provides more information on the IPython Notebook directly from Dr. Granger.\n",
      "http://bit.ly/1rVyrpi"
     ]
    },
    {
     "cell_type": "markdown",
     "metadata": {},
     "source": [
      "Certain elements of the Python programming language and IPython libraries (called packages or modules) will be introduced, but only as they pertain to the topics being covered with the IPython Notebook."
     ]
    },
    {
     "cell_type": "markdown",
     "metadata": {},
     "source": [
      "The following 4 chapters cover the installation and set up instructions for Python 2.7 (using a program called Anaconda), GitHub, the IPython Notebook, and NBViewer."
     ]
    },
    {
     "cell_type": "markdown",
     "metadata": {},
     "source": [
      "Chapter 6 is devoted to installing the rpy2 package that enables IPython Notebook users to execute R code in their notebooks."
     ]
    },
    {
     "cell_type": "markdown",
     "metadata": {},
     "source": [
      "In chapter 7, three datasets are selected from the NIST (National Institute of Standards and Technology) data archives and analyzed using Python, R, and SAS. The NIST previously analyzed each dataset and provides the type of analysis, certified graphics, and a corresponding set of certified values. After analyzing each dataset in Python, R, and SAS with the recommended data analysis technique (regression, ANOVA, or Univariate statistical summary), the output values from each of the 3 programs are compared to one another and compared to the NIST certified values to determine the precision of their calculations. Additionally, the NIST certified graphics are replicated to introduce some of Python's basic visualization techniques."
     ]
    },
    {
     "cell_type": "markdown",
     "metadata": {},
     "source": [
      "Chapter 8 focuses on \"getting\" and storing json data from the USA.gov real-time datastream, which collects data on users connecting to .gov websites (such as nasa.gov), into a Pandas DataFrame. The end of chapter 8 provides the code, and an example, to plot the web traffic on a world map using the coordinates from the user data."
     ]
    },
    {
     "cell_type": "markdown",
     "metadata": {},
     "source": [
      "In chapter 9, two time series datasets are analyzed to illustrate DataFrame manipulation, Pandas built-in time series functionality, and advanced visualization techniques in Python."
     ]
    },
    {
     "cell_type": "markdown",
     "metadata": {},
     "source": [
      "Chapter 10 provides options for formatting the IPython Notebook (primarily LaTeX and HTML) for sharing and export. The sections in this chapter heavily emphasize techniques for converting IPython Notebooks to PDF."
     ]
    },
    {
     "cell_type": "heading",
     "level": 2,
     "metadata": {},
     "source": [
      "1.1 Background & Requirements"
     ]
    },
    {
     "cell_type": "markdown",
     "metadata": {},
     "source": [
      "This guide is intended for beginning to experienced programmers. The first seven chapters explicitly described the steps taken during installation, set-up, and the data analyses performed. The remaining three chapters assume readers have some familiarity with programming and the IPython Notebook or have gained the intended familiarity by reading the previous chapters."
     ]
    },
    {
     "cell_type": "markdown",
     "metadata": {},
     "source": [
      "All installations and set-ups are intended for Windows 8.1 users, though some of the instructions may be similar for other operating systems and versions."
     ]
    },
    {
     "cell_type": "markdown",
     "metadata": {},
     "source": [
      "Users need about 5.2 GB of free space to install and update Anaconda 2, the required packages, and GitHub desktop."
     ]
    },
    {
     "cell_type": "heading",
     "level": 2,
     "metadata": {},
     "source": [
      "1.2 Packages and Programs"
     ]
    },
    {
     "cell_type": "markdown",
     "metadata": {},
     "source": [
      "This guide will demonstrate functionality of the packages and programs listed below:<br><br>\n",
      "<li>Anaconda</li>\n",
      "<li>Python</li>\n",
      "<li>IPython Notebook</li>\n",
      "<li>GitHub</li>\n",
      "<li>Pandas</li>\n",
      "<li>Numpy</li>\n",
      "<li>Seaborn</li>\n",
      "<li>NBViewer</li>\n",
      "<li>Statsmodels</li>\n",
      "<li>Requests</li>\n",
      "<li>JSON</li>\n",
      "<li>SciPy</li>\n",
      "<li>Rpy2</li>\n",
      "<li>R in IPython Notebook</li>\n",
      "<li>urllib2</li>\n",
      "\n",
      "<br>The depth at which we look at each program and package will vary greatly. Only a single function is used from a couple packages (i.e. urllib2), while other packages (such as Pandas) are central to types of analyses that will be performed. Through-out the guide, additional packages will be introduced as needed."
     ]
    },
    {
     "cell_type": "heading",
     "level": 2,
     "metadata": {},
     "source": [
      "1.3 Disclaimer"
     ]
    },
    {
     "cell_type": "markdown",
     "metadata": {},
     "source": [
      "I have no prior experience with Python, any of its packakges, LaTeX, the IPython Notebook, etc. Many of the approaches I take, and solutions I implement are that of a novice. The code I provide is not the only way to accomplish the task at hand. If you feel a section of code can be improved, or you find packages that do the same work as some of my functions, I encourage you to use the package or write your own functions.\n",
      "\n",
      "I hope you gain as much using this notebook as I gained writing it."
     ]
    }
   ],
   "metadata": {}
  }
 ]
}