{
 "metadata": {
  "name": "",
  "signature": "sha256:d676b1c4f64d61a871542f9c482d5466058d7697151741086708f784b38e89a3"
 },
 "nbformat": 3,
 "nbformat_minor": 0,
 "worksheets": [
  {
   "cells": [
    {
     "cell_type": "heading",
     "level": 1,
     "metadata": {},
     "source": [
      "Introduction to Python and the IPython Notebook for Data Analysis"
     ]
    },
    {
     "cell_type": "heading",
     "level": 3,
     "metadata": {},
     "source": [
      "Senior Project by Jeremy Mulcahey<br><br>\n",
      "Cal Poly Statistics Department<br><br>\n",
      "Presented November 2014"
     ]
    },
    {
     "cell_type": "markdown",
     "metadata": {},
     "source": [
      "<img src = \"images/ipy.PNG\", align=\"left\">"
     ]
    },
    {
     "cell_type": "heading",
     "level": 1,
     "metadata": {},
     "source": [
      "Outline"
     ]
    },
    {
     "cell_type": "markdown",
     "metadata": {},
     "source": [
      "<ul>\n",
      "<li>\n",
      "<a href = \"Introduction.ipynb\">Introduction</a>\n",
      "</li>\n",
      "\n",
      "<li>\n",
      "<a href = \"Project.ipynb\">The Project</a>\n",
      "</li>\n",
      "\n",
      "<ul>\n",
      "<li>\n",
      "<a href = \"PrecisionX.ipynb\">Precision of Calculations Performed in Python</a>\n",
      "</li>\n",
      "\n",
      "<li>\n",
      "<a href = \"DatastreamX.ipynb\">Streaming & Plotting Data</a>\n",
      "</li>\n",
      "\n",
      "<li>\n",
      "<a href = \"TimeseriesX.ipynb\">Time Series Functionality</a>\n",
      "</li>\n",
      "\n",
      "<li>\n",
      "<a href = \"TimeseriesAppX.ipynb\">Approximating Model Coefficients Widget</a>\n",
      "</li>\n",
      "</ul>\n",
      "\n",
      "<li>\n",
      "<a href = \"Conclusions.ipynb\">Conclusion</a>\n",
      "</li>\n",
      "</ul>"
     ]
    }
   ],
   "metadata": {}
  }
 ]
}