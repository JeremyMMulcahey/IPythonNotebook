{
 "metadata": {
  "name": "",
  "signature": "sha256:b1ac94a1ec696087a242f85815f0fc6933a11b634b207b25911f94a592209e84"
 },
 "nbformat": 3,
 "nbformat_minor": 0,
 "worksheets": [
  {
   "cells": [
    {
     "cell_type": "heading",
     "level": 1,
     "metadata": {},
     "source": [
      "Introduction to Python and the IPython Notebook for Data Analysis"
     ]
    },
    {
     "cell_type": "heading",
     "level": 3,
     "metadata": {},
     "source": [
      "Senior Project by Jeremy Mulcahey<br><br>\n",
      "Cal Poly Statistics Department<br><br>\n",
      "Presented November 2014"
     ]
    },
    {
     "cell_type": "markdown",
     "metadata": {},
     "source": [
      "<img src = \"images/ipy.PNG\", align=\"left\">"
     ]
    },
    {
     "cell_type": "heading",
     "level": 1,
     "metadata": {},
     "source": [
      "Outline"
     ]
    },
    {
     "cell_type": "markdown",
     "metadata": {},
     "source": [
      "<ul>\n",
      "<li>\n",
      "<a href = \"Introduction.ipynb\">Introduction</a>\n",
      "</li>\n",
      "\n",
      "<li>\n",
      "<a href = \"Project.ipynb\">The Project</a>\n",
      "</li>\n",
      "\n",
      "<ul>\n",
      "<li>\n",
      "<a href = \"PrecisionX.ipynb\">Precision of Calculations Performed in Python</a>\n",
      "</li>\n",
      "\n",
      "<li>\n",
      "<a href = \"DatastreamX.ipynb\">Streaming & Plotting Data</a>\n",
      "</li>\n",
      "\n",
      "<li>\n",
      "<a href = \"TimeseriesX.ipynb\">Time Series Functionality</a>\n",
      "</li>\n",
      "\n",
      "<li>\n",
      "<a href = \"TimeseriesAppX.ipynb\">Approximating Model Coefficients Widget</a>\n",
      "</li>\n",
      "</ul>\n",
      "\n",
      "<li>\n",
      "<a href = \"Conclusions.ipynb\">Conclusion</a>\n",
      "</li>\n",
      "</ul>"
     ]
    },
    {
     "cell_type": "code",
     "collapsed": false,
     "input": [],
     "language": "python",
     "metadata": {},
     "outputs": []
    }
   ],
   "metadata": {}
  }
 ]
}