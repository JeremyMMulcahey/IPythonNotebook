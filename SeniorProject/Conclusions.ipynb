{
 "metadata": {
  "name": "",
  "signature": "sha256:1ff8f2e697ad8564d332513a3e917dbb9e52eeb69eaa29a4c112741e10893f15"
 },
 "nbformat": 3,
 "nbformat_minor": 0,
 "worksheets": [
  {
   "cells": [
    {
     "cell_type": "heading",
     "level": 1,
     "metadata": {},
     "source": [
      "Completed Primary Goal"
     ]
    },
    {
     "cell_type": "markdown",
     "metadata": {},
     "source": [
      "\"Learn Python and its Libraries\""
     ]
    },
    {
     "cell_type": "heading",
     "level": 1,
     "metadata": {},
     "source": [
      "Completed Secondary Goal"
     ]
    },
    {
     "cell_type": "markdown",
     "metadata": {},
     "source": [
      "Data streaming and widget/app development"
     ]
    },
    {
     "cell_type": "heading",
     "level": 1,
     "metadata": {},
     "source": [
      "Completed Unanticipated Goal "
     ]
    },
    {
     "cell_type": "markdown",
     "metadata": {},
     "source": [
      "Produced a guide for installing, using the IPython Notebook for Data Analysis, and sharing the IPython Notebook with GitHub and NBViewer"
     ]
    },
    {
     "cell_type": "heading",
     "level": 1,
     "metadata": {},
     "source": [
      "Acknowledgments"
     ]
    },
    {
     "cell_type": "markdown",
     "metadata": {},
     "source": [
      "Project Adviser: Dr. Jimmy Doi"
     ]
    },
    {
     "cell_type": "markdown",
     "metadata": {},
     "source": [
      "Dr. Brian Granger, Co-founder of the IPython Notebook"
     ]
    },
    {
     "cell_type": "markdown",
     "metadata": {},
     "source": [
      "Dr. Gary Hughes"
     ]
    }
   ],
   "metadata": {}
  }
 ]
}