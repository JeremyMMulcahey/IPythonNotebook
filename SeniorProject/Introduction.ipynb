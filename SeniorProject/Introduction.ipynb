{
 "metadata": {
  "name": "",
  "signature": "sha256:146e59f5562b0f3dfea59798ced72b2e3e8a9be2afce2bc406be48c63ab5d48f"
 },
 "nbformat": 3,
 "nbformat_minor": 0,
 "worksheets": [
  {
   "cells": [
    {
     "cell_type": "heading",
     "level": 1,
     "metadata": {},
     "source": [
      "Primary Goals"
     ]
    },
    {
     "cell_type": "markdown",
     "metadata": {},
     "source": [
      "<font size = '4'>Learn Python and its Libraries for Data Analysis\n",
      "</font>"
     ]
    },
    {
     "cell_type": "heading",
     "level": 1,
     "metadata": {},
     "source": [
      "Secondary Goals"
     ]
    },
    {
     "cell_type": "markdown",
     "metadata": {},
     "source": [
      "<font size='4'>Document the process and learn about datastreaming with Python</font>"
     ]
    },
    {
     "cell_type": "heading",
     "level": 1,
     "metadata": {},
     "source": [
      "Approach"
     ]
    },
    {
     "cell_type": "markdown",
     "metadata": {},
     "source": [
      "<font size = '4'>Learn Python through available resources:\n",
      "<ul><li>Code Academy</li>\n",
      "<li>Dive into Python</li>\n",
      "<li>Python for Data Analysis by Wes McKinney</li></ul></font>"
     ]
    },
    {
     "cell_type": "markdown",
     "metadata": {},
     "source": [
      "<font size = '4'>Apply Python understanding by completing <i>Python for Data Analysis</i> Text</font>"
     ]
    }
   ],
   "metadata": {}
  }
 ]
}