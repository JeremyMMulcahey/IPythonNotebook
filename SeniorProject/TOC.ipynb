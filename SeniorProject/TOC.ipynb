{
 "metadata": {
  "name": "",
  "signature": "sha256:a397b32b10d44ac53177571446722e12e0e8f194cec9b1a0b1032ef1b7fb8498"
 },
 "nbformat": 3,
 "nbformat_minor": 0,
 "worksheets": [
  {
   "cells": [
    {
     "cell_type": "heading",
     "level": 1,
     "metadata": {},
     "source": [
      "Introduction to Python and the IPython Notebook for Data Analysis"
     ]
    },
    {
     "cell_type": "heading",
     "level": 3,
     "metadata": {},
     "source": [
      "Senior Project by Jeremy Mulcahey"
     ]
    },
    {
     "cell_type": "heading",
     "level": 3,
     "metadata": {},
     "source": [
      "Statistics Department"
     ]
    },
    {
     "cell_type": "heading",
     "level": 3,
     "metadata": {},
     "source": [
      "California Polytechnic State University - San Luis Obispo "
     ]
    },
    {
     "cell_type": "heading",
     "level": 2,
     "metadata": {},
     "source": [
      "Contents"
     ]
    },
    {
     "cell_type": "heading",
     "level": 4,
     "metadata": {},
     "source": [
      "1 Introduction"
     ]
    },
    {
     "cell_type": "markdown",
     "metadata": {},
     "source": [
      "<PRE>1.1 Background & Requirements\n",
      "1.2 Packages and Programs\n",
      "1.3 Disclaimer</PRE>"
     ]
    },
    {
     "cell_type": "heading",
     "level": 4,
     "metadata": {},
     "source": [
      "2 Python and Anaconda"
     ]
    },
    {
     "cell_type": "markdown",
     "metadata": {},
     "source": [
      "<PRE>\n",
      "2.1 Installing Anaconda\n",
      "2.2 Updating Conda, Anaconda, and Anaconda Packages\n",
      "2.3 Installing and Updating Additional Packages\n",
      "2.4 Anaconda Add-Ons (Optional)</PRE>"
     ]
    },
    {
     "cell_type": "heading",
     "level": 4,
     "metadata": {},
     "source": [
      "3 Setting up the IPython Notebook"
     ]
    },
    {
     "cell_type": "markdown",
     "metadata": {},
     "source": [
      "<PRE>3.1 Install MathJax\n",
      "3.2 Accessing the IPython Notebook\n",
      "3.3 Your first IPython Notebook</PRE>"
     ]
    },
    {
     "cell_type": "heading",
     "level": 4,
     "metadata": {},
     "source": [
      "4 Starting with GitHub"
     ]
    },
    {
     "cell_type": "markdown",
     "metadata": {},
     "source": [
      "<PRE>4.1 Create an account\n",
      "4.2 Learn what GitHub is and how to use it\n",
      "4.3 Installing and understanding GitHub Desktop\n",
      "4.4 Using GitHub Desktop</PRE>"
     ]
    },
    {
     "cell_type": "heading",
     "level": 4,
     "metadata": {},
     "source": [
      "5 Sharing IPython Notebooks with NBViewer"
     ]
    },
    {
     "cell_type": "heading",
     "level": 4,
     "metadata": {},
     "source": [
      "6 R for the IPython Notebook"
     ]
    },
    {
     "cell_type": "markdown",
     "metadata": {},
     "source": [
      "<PRE>6.1 Installing Rpy2\n",
      "6.2 Testing the Rpy2 installation\n",
      "6.3 If the Kernel Crashes\n",
      "6.4 R installation Final Notes</PRE>"
     ]
    },
    {
     "cell_type": "heading",
     "level": 4,
     "metadata": {},
     "source": [
      "7 Analyzing NIST datasets in the IPython Notebook"
     ]
    },
    {
     "cell_type": "markdown",
     "metadata": {},
     "source": [
      "<PRE>7.1 Python Packages for data analysis and the Import Cell\n",
      "7.2 Linear Regression Analysis: Norris Dataset\n",
      "<PRE>7.2.1 Object Oriented Language Introduction: Reading in and preparing data from an ASCII webpage\n",
      "7.2.2 NIST Certified Values\n",
      "7.2.3 Linear Regression and ANOVA values in Python\n",
      "7.2.4 Linear Regression and ANOVA values in R (using Rpy2)\n",
      "7.2.5 Linear Regression and ANOVA values in SAS\n",
      "7.2.6 Testing Python's Precision against NIST, R, and SAS\n",
      "7.2.7 Plotting Norris data with Mathplotlib</PRE>\n",
      "7.3 ANOVA: SiR Dataset\n",
      "<PRE>7.3.1 Reading in and preparing data from an ASCII webpage\n",
      "7.3.2 NIST Certified Values\n",
      "7.3.3 ANOVA values in Python\n",
      "7.3.4 ANOVA values in R\n",
      "7.3.5 ANOVA values in SAS\n",
      "7.3.6 Testing Python's Precision against NIST, R, and SAS\n",
      "7.3.7 Plotting SiR data with Seaborn</PRE>\n",
      "7.4 Univariate Summary Statistics: PiDigits Dataset\n",
      "<PRE>7.4.1 Reading in and preparing data from an ASCII webpage\n",
      "7.4.2 NIST Certified Values\n",
      "7.4.3 Univariate Summary Statistics in Python\n",
      "7.4.4 Testing Python's Precision against NIST values</PRE></PRE>"
     ]
    },
    {
     "cell_type": "heading",
     "level": 4,
     "metadata": {},
     "source": [
      "8 Streaming Data in the IPython Notebook"
     ]
    },
    {
     "cell_type": "markdown",
     "metadata": {},
     "source": [
      "<PRE>8.1 Python Packages for Streaming Data and the Import Cell\n",
      "8.2 Streaming Data from USA.gov\n",
      "8.3 Plotting on a world map</PRE>"
     ]
    },
    {
     "cell_type": "heading",
     "level": 4,
     "metadata": {},
     "source": [
      "9 Time Series, More with DataFrames, and Advanced Plotting in the IPython Notebook"
     ]
    },
    {
     "cell_type": "markdown",
     "metadata": {},
     "source": [
      "<PRE>9.1 Pendulum Data\n",
      "<PRE>9.1.1 Converting x and y values to angular position (&Theta;)\n",
      "9.1.2 Graphing the Time series: Angular position vs. Time\n",
      "9.1.3 Summary Statistics\n",
      "9.1.4 Modeling a Sine Wave</PRE>\n",
      "9.2 Geiger Counter Data\n",
      "<PRE>9.2.1 Converting time and date stamps for plotting\n",
      "9.2.2 Plotting the Geiger counter time series with points\n",
      "9.2.3 Moving averages with Geiger Counter Data</PRE></PRE>"
     ]
    },
    {
     "cell_type": "heading",
     "level": 4,
     "metadata": {},
     "source": [
      "10 Formatting and Coverting IPython Notebooks"
     ]
    },
    {
     "cell_type": "markdown",
     "metadata": {},
     "source": [
      "<PRE>10.1 NBConvert to LaTeX to PDF\n",
      "<PRE>10.1.1 IPython Notebook, to LaTeX, to PDF\n",
      "10.1.2 LaTeX in the IPython Notebook</PRE>\n",
      "10.2 NBConvert to HTML\n",
      "10.3 HTML to PDF Options\n",
      "<PRE>10.3.1 HTML to PDF converters and BR\n",
      "10.3.2 Microsoft Word\n",
      "10.3.3 Dexy</PRE></PRE>"
     ]
    },
    {
     "cell_type": "heading",
     "level": 4,
     "metadata": {},
     "source": [
      "11 Conclusions and References"
     ]
    }
   ],
   "metadata": {}
  }
 ]
}