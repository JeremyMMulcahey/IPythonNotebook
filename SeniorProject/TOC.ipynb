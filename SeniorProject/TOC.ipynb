{
 "metadata": {
  "name": "",
  "signature": "sha256:3af34f4efc04c6f1a1fb703150059300ebcc78b54a3b6f9a0e5fd2da852393b1"
 },
 "nbformat": 3,
 "nbformat_minor": 0,
 "worksheets": [
  {
   "cells": [
    {
     "cell_type": "heading",
     "level": 1,
     "metadata": {},
     "source": [
      "Introduction to Python and the IPython Notebook for Data Analysis"
     ]
    },
    {
     "cell_type": "heading",
     "level": 3,
     "metadata": {},
     "source": [
      "Senior Project by Jeremy Mulcahey"
     ]
    },
    {
     "cell_type": "heading",
     "level": 3,
     "metadata": {},
     "source": [
      "Statistics Department"
     ]
    },
    {
     "cell_type": "heading",
     "level": 3,
     "metadata": {},
     "source": [
      "California Polytechnic State University - San Luis Obispo "
     ]
    },
    {
     "cell_type": "heading",
     "level": 2,
     "metadata": {},
     "source": [
      "Contents"
     ]
    },
    {
     "cell_type": "heading",
     "level": 4,
     "metadata": {},
     "source": [
      "<a href = \"Chapter1.ipynb\">1 Introduction</a>"
     ]
    },
    {
     "cell_type": "markdown",
     "metadata": {},
     "source": [
      "<PRE>1.1 Background & Requirements\n",
      "1.2 Packages and Programs\n",
      "1.3 Disclaimer</PRE>"
     ]
    },
    {
     "cell_type": "heading",
     "level": 4,
     "metadata": {},
     "source": [
      "<a href = \"Chapter2.ipynb\">2 Python and Anaconda</a>"
     ]
    },
    {
     "cell_type": "markdown",
     "metadata": {},
     "source": [
      "<PRE>\n",
      "2.1 Installing Anaconda\n",
      "2.2 Updating Conda, Anaconda, and Anaconda Packages\n",
      "2.3 Installing and Updating Additional Packages\n",
      "2.4 Anaconda Add-Ons (Optional)</PRE>"
     ]
    },
    {
     "cell_type": "heading",
     "level": 4,
     "metadata": {},
     "source": [
      "<a href = \"Chapter3.ipynb\">3 Setting up the IPython Notebook</a>"
     ]
    },
    {
     "cell_type": "markdown",
     "metadata": {},
     "source": [
      "<PRE>3.1 Install MathJax\n",
      "3.2 Accessing the IPython Notebook\n",
      "3.3 Your first IPython Notebook</PRE>"
     ]
    },
    {
     "cell_type": "heading",
     "level": 4,
     "metadata": {},
     "source": [
      "<a href = \"Chapter4.ipynb\">4 Starting with GitHub</a>"
     ]
    },
    {
     "cell_type": "markdown",
     "metadata": {},
     "source": [
      "<PRE>4.1 Create an account\n",
      "4.2 Learn what GitHub is and how to use it\n",
      "4.3 Installing and understanding GitHub Desktop\n",
      "4.4 Using GitHub Desktop</PRE>"
     ]
    },
    {
     "cell_type": "heading",
     "level": 4,
     "metadata": {},
     "source": [
      "<a href = \"Chapter5.ipynb\">5 Sharing IPython Notebooks with NBViewer</a>"
     ]
    },
    {
     "cell_type": "heading",
     "level": 4,
     "metadata": {},
     "source": [
      "<a href = \"Chapter6.ipynb\">6 R for the IPython Notebook</a>"
     ]
    },
    {
     "cell_type": "markdown",
     "metadata": {},
     "source": [
      "<PRE>6.1 Installing Rpy2\n",
      "6.2 Testing the Rpy2 installation\n",
      "6.3 If the Kernel Crashes\n",
      "6.4 R installation Final Notes</PRE>"
     ]
    },
    {
     "cell_type": "heading",
     "level": 4,
     "metadata": {},
     "source": [
      "<a href = \"Chapter7.ipynb\">7 Analyzing NIST datasets in the IPython Notebook</a>"
     ]
    },
    {
     "cell_type": "markdown",
     "metadata": {},
     "source": [
      "<PRE>7.1 Python Packages for data analysis and the Import Cell\n",
      "7.2 Linear Regression Analysis: Norris Dataset\n",
      "<PRE>7.2.1 Object Oriented Language Introduction: Reading in and \n",
      "preparing data from an ASCII webpage\n",
      "7.2.2 NIST Certified Values\n",
      "7.2.3 Linear Regression and ANOVA values in Python\n",
      "7.2.4 Linear Regression and ANOVA values in R (using Rpy2)\n",
      "7.2.5 Linear Regression and ANOVA values in SAS\n",
      "7.2.6 Testing NIST Accuracy against Python, R, and SAS\n",
      "7.2.7 Plotting Norris data with Mathplotlib</PRE>\n",
      "7.3 ANOVA: SiR Dataset\n",
      "<PRE>7.3.1 Reading in and preparing data from an ASCII webpage\n",
      "7.3.2 NIST Certified Values\n",
      "7.3.3 ANOVA values in Python\n",
      "7.3.4 ANOVA values in R\n",
      "7.3.5 ANOVA values in SAS\n",
      "7.3.6 Testing NIST Accuracy against Python, R, and SAS\n",
      "7.3.7 Plotting SiR data with Seaborn</PRE>\n",
      "7.4 Univariate Summary Statistics: PiDigits Dataset\n",
      "<PRE>7.4.1 Reading in and preparing data from an ASCII webpage\n",
      "7.4.2 NIST Certified Values\n",
      "7.4.3 Univariate Summary Statistics in Python\n",
      "7.4.4 Testing NIST Accuracy against Python</PRE></PRE>"
     ]
    },
    {
     "cell_type": "heading",
     "level": 4,
     "metadata": {},
     "source": [
      "<a href = \"Chapter8.ipynb\">8 Streaming Data in the IPython Notebook</a>"
     ]
    },
    {
     "cell_type": "markdown",
     "metadata": {},
     "source": [
      "<PRE>8.1 Python Packages for Streaming Data and the Import Cell\n",
      "8.2 Streaming Data from 1.USA.gov\n",
      "8.3 Plotting on a world map</PRE>"
     ]
    },
    {
     "cell_type": "heading",
     "level": 4,
     "metadata": {},
     "source": [
      "<a href = \"Chapter9.ipynb\">9 Plotting and smoothing time series data, and DataFrame manipulation</a>"
     ]
    },
    {
     "cell_type": "markdown",
     "metadata": {},
     "source": [
      "<PRE>9.1 Pendulum Data\n",
      "<PRE>9.1.1 Converting x and y values to angular position\n",
      "9.1.2 Graphing the Time series: Angular position vs. Time\n",
      "9.1.3 Summary Statistics\n",
      "9.1.4 Modeling a Damped Sine Wave</PRE>\n",
      "9.2 Geiger Counter Data\n",
      "<PRE>9.2.1 Converting time and date stamps for plotting\n",
      "9.2.2 Plotting the Geiger counter time series with points\n",
      "9.2.3 Moving Averages, DataFrame slicing, and DataFrame \n",
      "re-indexing with Geiger Counter Data</PRE>\n",
      "9.3 Netflix (NFLX) Stock Ticker Data from NetFonds\n",
      "<PRE>9.3.1 Obtain data from NetFonds\n",
      "9.3.2 Creating time series objects from a DataFrame\n",
      "9.3.3 Custom time series slices and weighted intervals</PRE></PRE>"
     ]
    },
    {
     "cell_type": "heading",
     "level": 4,
     "metadata": {},
     "source": [
      "<a href = \"Chapter10.ipynb\">10 Formatting and Coverting IPython Notebooks</a>"
     ]
    },
    {
     "cell_type": "markdown",
     "metadata": {},
     "source": [
      "<PRE>10.1 NBConvert to LaTeX to PDF\n",
      "<PRE>10.1.1 IPython Notebook, to LaTeX, to PDF\n",
      "10.1.2 LaTeX in the IPython Notebook</PRE>\n",
      "10.2 NBConvert to HTML\n",
      "10.3 HTML to PDF Options\n",
      "<PRE>10.3.1 HTML to PDF converters and BR\n",
      "10.3.2 Microsoft Word\n",
      "10.3.3 Dexy</PRE></PRE>"
     ]
    },
    {
     "cell_type": "heading",
     "level": 4,
     "metadata": {},
     "source": [
      "<a href = \"Chapter11.ipynb\">11 Conclusions and References</a>"
     ]
    }
   ],
   "metadata": {}
  }
 ]
}