{
 "metadata": {
  "name": "",
  "signature": "sha256:71f5b6829dfebfe1bbd48602bbeba9602dc399e486c84016529e54a4eff6f3c6"
 },
 "nbformat": 3,
 "nbformat_minor": 0,
 "worksheets": [
  {
   "cells": [
    {
     "cell_type": "heading",
     "level": 1,
     "metadata": {},
     "source": [
      "Chapter 6<br>R for the IPython Notebook"
     ]
    },
    {
     "cell_type": "markdown",
     "metadata": {},
     "source": [
      "In Dr. Grangers' presentation to the Statistics Department at Cal Poly SLO (on October 30, 2014) titled \"Open, Reproducible, and Exploratory Data Science\", he stated that there is a positive correlation between R and Python users. Data scientists who use R tend to use Python and data scientists who use Python tend to use R. Dr. Granger also stated that Silicon Valley companies are putting a heavy emphasis on hiring applicants who know both languages."
     ]
    },
    {
     "cell_type": "markdown",
     "metadata": {},
     "source": [
      "Note: By the end of November 2014, the IPython Notebook will offer built-in R functionality. Switching to an R kernel will be as simple as a dropdown menu in the upper-right corner of the notebook.\n",
      "<img src='images/rpython.PNG' , height=20%, width=20%>"
     ]
    },
    {
     "cell_type": "markdown",
     "metadata": {},
     "source": [
      "This new R support does not invalidate the package and methods explored in this chapter. Users that wish to alternate between executing R code and Python code in the same notebook (without switching the kernels) can use Rpy2. The execution of alternating R cells and Python cells is demonstrated in Chapter 7. Replicating the work from Chapter 7 with the new R support will be cumbersome. "
     ]
    },
    {
     "cell_type": "heading",
     "level": 2,
     "metadata": {},
     "source": [
      "6.1 Installing Rpy2"
     ]
    },
    {
     "cell_type": "markdown",
     "metadata": {},
     "source": [
      "Rpy2 is the current package (formerly rmagic) required to run R in IPython Notebook cells. For Windows, the installation of Rpy2 not as simple as <b>pip install rpy2</b>."
     ]
    },
    {
     "cell_type": "markdown",
     "metadata": {},
     "source": [
      "Note: This installation section is for Windows users only. Rpy2 is much easier to install on a Mac."
     ]
    },
    {
     "cell_type": "markdown",
     "metadata": {},
     "source": [
      "To obtain Rpy2, click on the link below and perform a <b>control+f</b> search for <b>rpy2</b>.<br>\n",
      "http://www.lfd.uci.edu/~gohlke/pythonlibs/"
     ]
    },
    {
     "cell_type": "markdown",
     "metadata": {},
     "source": [
      "Download version 2-2.4.3 for the correct operating system.\n",
      "<img src='images/rpy2.PNG', height = 80%, width = 80%>"
     ]
    },
    {
     "cell_type": "markdown",
     "metadata": {},
     "source": [
      "From here, the process is trial and error. The wrong combination of Rpy2 and R version crashes the notebook kernel."
     ]
    },
    {
     "cell_type": "markdown",
     "metadata": {},
     "source": [
      "<ul><li>If you have R installed, I recommend backing up your scripts before proceeding (and anything else you want to save).</li>\n",
      "<li>If you do not have R installed, and you are using Windows 8.1, install R version 3.0.2 (an older version of R that works with rpy2 version 2-2.4.3).</li></ul><br>\n",
      "http://cran.r-project.org/bin/windows/base/old/3.0.2/"
     ]
    },
    {
     "cell_type": "markdown",
     "metadata": {},
     "source": [
      "<b>For those without R installed:</b>\n",
      "<ul><li>Follow the link above. Download and install R version 3.0.2.</li>\n",
      "<li>Run the Rpy2 installation file.</li></ul>"
     ]
    },
    {
     "cell_type": "markdown",
     "metadata": {},
     "source": [
      "<b>For those with R installed:</b>\n",
      "<ul><li>Run the Rpy2 installation file.</li></ul>"
     ]
    },
    {
     "cell_type": "heading",
     "level": 2,
     "metadata": {},
     "source": [
      "6.2 Testing the Rpy2 installation"
     ]
    },
    {
     "cell_type": "markdown",
     "metadata": {},
     "source": [
      "Open an existing IPython Notebook or create a new one. In the first empty cell, type <b>import rpy2</b> and hit <b>shift+enter</b> to execute the code. Then execute the code from each of the cells below \"import rpy2\"."
     ]
    },
    {
     "cell_type": "code",
     "collapsed": false,
     "input": [
      "import rpy2"
     ],
     "language": "python",
     "metadata": {},
     "outputs": [],
     "prompt_number": 1
    },
    {
     "cell_type": "code",
     "collapsed": false,
     "input": [
      "%load_ext rpy2.ipython"
     ],
     "language": "python",
     "metadata": {},
     "outputs": [],
     "prompt_number": 2
    },
    {
     "cell_type": "code",
     "collapsed": false,
     "input": [
      "%R install.packages(\"lattice\")"
     ],
     "language": "python",
     "metadata": {},
     "outputs": [],
     "prompt_number": 3
    },
    {
     "cell_type": "markdown",
     "metadata": {},
     "source": [
      "Scroll down to USA and select one of the USA portals."
     ]
    },
    {
     "cell_type": "code",
     "collapsed": false,
     "input": [
      "%R library(lattice)"
     ],
     "language": "python",
     "metadata": {},
     "outputs": [
      {
       "metadata": {},
       "output_type": "pyout",
       "prompt_number": 4,
       "text": [
        "<StrVector - Python:0x000000000CDD5E48 / R:0x0000000022F81408>\n",
        "[str, str, str, ..., str, str, str]"
       ]
      }
     ],
     "prompt_number": 4
    },
    {
     "cell_type": "markdown",
     "metadata": {},
     "source": [
      "If your output matches the output above, then R is working. Skip ahead to Chapter 7."
     ]
    },
    {
     "cell_type": "heading",
     "level": 2,
     "metadata": {},
     "source": [
      "6.3 If the Kernel Crashes"
     ]
    },
    {
     "cell_type": "markdown",
     "metadata": {},
     "source": [
      "If the kernel crashes, go to your windows control panel.\n",
      "<img src='images/controlpanel.PNG', width = 37%, height=37%>"
     ]
    },
    {
     "cell_type": "markdown",
     "metadata": {},
     "source": [
      "Scroll down to <b>Programs and Features</b>.\n",
      "<img src='images/uninstall.PNG', height = 50%, width = 50%>"
     ]
    },
    {
     "cell_type": "markdown",
     "metadata": {},
     "source": [
      "Uninstall <b>R for Windows</b> and <b>Python 2.7 rpy2-2.4.3</b>."
     ]
    },
    {
     "cell_type": "markdown",
     "metadata": {},
     "source": [
      "Download a different version of R (ie 3.0.1, 3.0.3, 3.1.0, etc). Install the new version of R and install Rpy2 again. \n",
      "\n",
      "Return to the \"Testing Rpy2 Installation\" section above and repeat the process.\n",
      "\n",
      "There should be a combination that enables R to work in the IPython Notebook. \n",
      "\n",
      "After Rpy2 is working as intended, install any version of R you prefer and add your backed up files. Rpy2 will work with the version it needs to and when you work exclusively in R, you can use your preferred version."
     ]
    },
    {
     "cell_type": "heading",
     "level": 2,
     "metadata": {},
     "source": [
      "6.4 R installation Final Notes"
     ]
    },
    {
     "cell_type": "markdown",
     "metadata": {},
     "source": [
      "Dr. Granger and his team are constantly working to improve functionality in all areas of the IPython Notebook. R is one of those areas. Originally, getting Rpy2 to work on a PC was almost impossible. Then, it was very hard. Now, it's a bit touchy. The new R support (the built-in dropdown menu mentioned at the beginning of the chapter) might slow the evolution of Rpy2, but Rpy2 should reach a point where it installs like any other package."
     ]
    },
    {
     "cell_type": "heading",
     "level": 2,
     "metadata": {},
     "source": [
      "Navigation"
     ]
    },
    {
     "cell_type": "heading",
     "level": 3,
     "metadata": {},
     "source": [
      "<a href=\"TOC.ipynb\">Table of Contents</a><br><br>\n",
      "<a href=\"Chapter1.ipynb\">Chapter 1: Introduction</a><br><br>\n",
      "<a href=\"Chapter2.ipynb\">Chapter 2: Python and Anaconda</a><br><br>\n",
      "<a href=\"Chapter3.ipynb\">Chapter 3: Setting up the IPython Notebook</a><br><br>\n",
      "<a href=\"Chapter4.ipynb\">Chapter 4: Starting with GitHub</a><br><br>\n",
      "<a href=\"Chapter5.ipynb\">Chapter 5: Sharing IPython Notebooks with NBViewer</a><br><br>\n",
      "<a href=\"Chapter6.ipynb\">Chapter 6: R for the IPython Notebook</a><br><br>\n",
      "<a href=\"Chapter7.ipynb\">Chapter 7: Analyzing NIST datasets in the IPython Notebook</a><br><br>\n",
      "<a href=\"Chapter8.ipynb\">Chapter 8: Streaming data in the IPython Notebook</a><br><br>\n",
      "<a href=\"Chapter9.ipynb\">Chapter 9: Plotting and smoothing time series data, and DataFrame Manipulation</a><br><br>\n",
      "<a href=\"Chapter10.ipynb\">Chapter 10: Formatting and Converting IPython Notebooks</a><br><br>\n",
      "<a href=\"Chapter11.ipynb\">Chapter 11: Conclusions and References</a><br><br>"
     ]
    }
   ],
   "metadata": {}
  }
 ]
}