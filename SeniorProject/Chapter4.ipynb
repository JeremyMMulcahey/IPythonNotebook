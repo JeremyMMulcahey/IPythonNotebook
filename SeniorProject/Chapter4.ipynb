{
 "metadata": {
  "name": "",
  "signature": "sha256:2d7d2b629ab2f57f36f4069ce6d90b5b1026275cfb9d2b33b3d8d21eb1c84c1a"
 },
 "nbformat": 3,
 "nbformat_minor": 0,
 "worksheets": [
  {
   "cells": [
    {
     "cell_type": "heading",
     "level": 1,
     "metadata": {},
     "source": [
      "Chapter 4\n",
      "<br>Starting with GitHub"
     ]
    },
    {
     "cell_type": "markdown",
     "metadata": {},
     "source": [
      "GitHub is an easy way to share work with potential employers, back-up projects/assignments, and work simultaneously with other students/colleagues on various sections of the same project. Aside from how essential GitHub is for aspiring data scientists and programmers, it's required to use NBViewer (how the IPython Notebooks are shared in as a static HTML page)."
     ]
    },
    {
     "cell_type": "heading",
     "level": 2,
     "metadata": {},
     "source": [
      "4.1 Create an account"
     ]
    },
    {
     "cell_type": "markdown",
     "metadata": {},
     "source": [
      "Creating an account with GitHub is straightforward. Go to https://github.com/ and create one now."
     ]
    },
    {
     "cell_type": "heading",
     "level": 2,
     "metadata": {},
     "source": [
      "4.2 Learn what GitHub is and how to use it"
     ]
    },
    {
     "cell_type": "markdown",
     "metadata": {},
     "source": [
      "GitHub has a wealth of functionality that will not be covered in this guide.\n",
      "\n",
      "Go to the link below and read the brief GitHub introduction to gain familiarity with GitHub before moving on to GitHub Desktop.<br>\n",
      "https://guides.github.com/activities/hello-world/"
     ]
    },
    {
     "cell_type": "heading",
     "level": 2,
     "metadata": {},
     "source": [
      "4.3 Installing and understanding GitHub Desktop"
     ]
    },
    {
     "cell_type": "markdown",
     "metadata": {},
     "source": [
      "GitHub Desktop utilizes the ideas from the GitHub introduction in the previous section (4.2), but simplifies every step of the process. GitHub Desktop is ideal for the purpose of this guide and for users with no prior experience using the command prompt.\n",
      "\n",
      "Install GitHub Desktop:\n",
      "https://windows.github.com/\n",
      "\n",
      "Read this brief tutorial on GitHub desktop: \n",
      "http://bit.ly/1p7xa0s"
     ]
    },
    {
     "cell_type": "heading",
     "level": 2,
     "metadata": {},
     "source": [
      "4.4 Using GitHub Desktop"
     ]
    },
    {
     "cell_type": "markdown",
     "metadata": {},
     "source": [
      "Open GitHub desktop."
     ]
    },
    {
     "cell_type": "markdown",
     "metadata": {},
     "source": [
      "Locate the folder where your IPython Notebook is saved (from Chapter 3). If you cannot locate where it is stored, perform a windows search to find it.\n",
      "\n",
      "<img src='images/search.PNG', height= 50%, width= 50%>\n",
      "Type the name of the notebook you created in Section 3.3 into the search bar, or search for \"IPython Notebooks\"."
     ]
    },
    {
     "cell_type": "markdown",
     "metadata": {},
     "source": [
      "Drag the folder containing your IPython Notebook into GitHub Desktop and complete the repository (as demonstrated in the tutorial from Section 4.3)."
     ]
    },
    {
     "cell_type": "markdown",
     "metadata": {},
     "source": [
      "With the repository completed, return to the IPython Notebook in your web browser. Type <b>print('Hello World')</b> into the box and hit <b>shift+enter</b> (or click the \"play\" button on the toolbar). The notebook will run this line of code. Hit the <b>control+s</b> (or click the save icon on the left side of the icon bar). The notebook will now have a saved change that can be synced with your GitHub repository.\n",
      "<img src='images/hello.PNG'>"
     ]
    },
    {
     "cell_type": "markdown",
     "metadata": {},
     "source": [
      "Return to GitHub desktop. GitHub desktop will show the <b>Uncommitted changes</b>. In the summary box, write the changes that were made to the notebook. For example, type <b>Hello</b> into the Summary box. An optional Description box is provided for a more detailed description.\n",
      "<img src='images/update.PNG'>"
     ]
    },
    {
     "cell_type": "markdown",
     "metadata": {},
     "source": [
      "<br><br>"
     ]
    },
    {
     "cell_type": "markdown",
     "metadata": {},
     "source": [
      "The right side of GitHub Desktop will display the change that has been made. The red section indicates what was changed, and the green section indicates what it was changed to. Below is an example of a change I made to this section.\n",
      "<img src='images/changes.PNG'>"
     ]
    },
    {
     "cell_type": "markdown",
     "metadata": {},
     "source": [
      "After reviewing the changes, click Commit to master.\n",
      "<img src='images/commit.PNG'>"
     ]
    },
    {
     "cell_type": "markdown",
     "metadata": {},
     "source": [
      "Finally, in the upper right corner of the program, click the Sync button.\n",
      "<img src='images/sync.PNG'>"
     ]
    },
    {
     "cell_type": "markdown",
     "metadata": {},
     "source": [
      "From now on, any changes made to notebooks in this directory will be automatically updated in GitHub Desktop. Repeat this commit process anytime you wish to back-up and share your work through your GitHub Repository."
     ]
    }
   ],
   "metadata": {}
  }
 ]
}