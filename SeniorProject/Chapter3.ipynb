{
 "metadata": {
  "name": "",
  "signature": "sha256:cf0d08a79e5f7542bb18d0a0636c0556503abb27a80893d92db624fbb9e000c9"
 },
 "nbformat": 3,
 "nbformat_minor": 0,
 "worksheets": [
  {
   "cells": [
    {
     "cell_type": "heading",
     "level": 1,
     "metadata": {},
     "source": [
      "Chapter 3<br>Setting up the IPython Notebook"
     ]
    },
    {
     "cell_type": "heading",
     "level": 2,
     "metadata": {},
     "source": [
      "3.1 Install MathJax"
     ]
    },
    {
     "cell_type": "markdown",
     "metadata": {},
     "source": [
      "MathJax is the package that enables the use of LaTeX code in the IPython Notebook. It is recommended that MathJax is installed before using the IPython Notebook. Since MathJax is included in the Anaconda package list (http://docs.continuum.io/anaconda/pkg-docs.html), it can be managed with <b>conda install</b> and <b>conda update</b> (not pip). Running the <b>conda install</b> bellow will add MathJax 2.2-0 (or later) as a \"NEW\" package.\n",
      "\n",
      "    conda install mathjax\n",
      "    Press y, then enter.\n",
      "    \n",
      "   <img src='images/MathJax.PNG', height=70%, width=70%>"
     ]
    },
    {
     "cell_type": "heading",
     "level": 2,
     "metadata": {},
     "source": [
      "3.2 Accessing the IPython Notebook"
     ]
    },
    {
     "cell_type": "markdown",
     "metadata": {},
     "source": [
      "From a Python standpoint, everything is ready for use. Access the IPython Notebook using one of the three following options:"
     ]
    },
    {
     "cell_type": "markdown",
     "metadata": {},
     "source": [
      "<ul><li>Command Prompt,</li>\n",
      "<li>Windows start up,</li>\n",
      "<li>or creating a shortcut.</li></ul>"
     ]
    },
    {
     "cell_type": "markdown",
     "metadata": {},
     "source": [
      "<b>Command Prompt:</b>\n",
      "The Anaconda installation has the IPython Notebook open in a restrictive directory. Using the second method of this section will not allow users to freely browse directories from the notebook kernel. The command prompt approach enables users to start the notebook kernel in any directory. For beginning programmers, use <b>C:</b> as the home directory since all notebooks and files are readily accessible from this location. To run the kernel from <b>C:</b> back out the current directories by typing <b>cd ../../</b>. Then type <b>ipython notebook</b>."
     ]
    },
    {
     "cell_type": "markdown",
     "metadata": {},
     "source": [
      "<img src='images/accessIPython.PNG', height = 50%, width = 50%><br>"
     ]
    },
    {
     "cell_type": "markdown",
     "metadata": {},
     "source": [
      "Note: The following two methods open IPython Notebook in the IPython Notebook directory and only allows access to the IPython Notebook directory and its subdirectories."
     ]
    },
    {
     "cell_type": "markdown",
     "metadata": {},
     "source": [
      "<b>Windows start up:</b>\n",
      "Click the Windows start up menu and type <b>IPython</b> into the search box.\n",
      "<img src='images/IPython.PNG', height = \"70%\", width=\"70%\">"
     ]
    },
    {
     "cell_type": "markdown",
     "metadata": {},
     "source": [
      "Select IPython (Py 2.7) Notebook from the list and the IPython Notebook will automatically open in a web browser."
     ]
    },
    {
     "cell_type": "markdown",
     "metadata": {},
     "source": [
      "<b>Creating a shortcut:</b>\n",
      "Click the Windows start up menu and type <b>IPython</b> into the search box. Right-click and hold on IPython (Py 2.7) Notebook and drag it to your desktop. Release the right-click and select <b>Create shortcuts here</b>. The shortcut can be moved to any desired location on the desktop or taskbar."
     ]
    },
    {
     "cell_type": "heading",
     "level": 2,
     "metadata": {},
     "source": [
      "3.3 Your first IPython Notebook"
     ]
    },
    {
     "cell_type": "markdown",
     "metadata": {},
     "source": [
      "Once the IPython Notebook opens in the browser, there will be a relatively blank page with the IP[y]: Notebook heading.\n",
      "\n",
      "Click on <b>New Notebook</b>.\n",
      "\n",
      "Change the title by clicking on the word <b>Untitled0</b> by the IP[y]: Notebook header.\n",
      "\n",
      "<img src='images/notebook.PNG'>\n",
      "\n",
      "\"Enter a new notebook name:\", hit ok.\n",
      "\n",
      "The notebook saves periodically to a subdirectory it creates titled \".ipynb_checkpoints\". Users should manually save frequently by click the save icon or pressing control+s.\n",
      "\n",
      "The Python installation is complete and the IPython Notebook is accessible. Users can skip to Chapter 7 to start analyzing data. The following two chapters (4 and 5) are for sharing and backing-up the notebooks with GitHub and NBViewer. Chapter 6 is  for users that wish to run R code directly in the IPython Notebook cells."
     ]
    }
   ],
   "metadata": {}
  }
 ]
}