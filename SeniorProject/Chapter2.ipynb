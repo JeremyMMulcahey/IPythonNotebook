{
 "metadata": {
  "name": "",
  "signature": "sha256:e6a5865010f16cdc05868ef09ad73de81a725b166b6eb57e5eff3d5bde7516ee"
 },
 "nbformat": 3,
 "nbformat_minor": 0,
 "worksheets": [
  {
   "cells": [
    {
     "cell_type": "heading",
     "level": 1,
     "metadata": {},
     "source": [
      "Chapter 2<br>\n",
      "Python and Anaconda"
     ]
    },
    {
     "cell_type": "heading",
     "level": 2,
     "metadata": {},
     "source": [
      "2.1 Installing Anaconda"
     ]
    },
    {
     "cell_type": "markdown",
     "metadata": {},
     "source": [
      "Dr. Jimmy Doi, a Professor of Statistics at California Polytechnic State University San Luis Obispo (and the primary adviser of this project), put together a document for \"Installation and Configuration of Python on PC<b>&#42;</b> (mainly based on Sheppard's Intro to Python for Econometrics, Statistics, and Data Analysis - IPESDA)\". Most of this section will be directly from his document.<br>\n",
      "<b>&#42;</b>[see IPESDA for install instructions for Mac/Linux]"
     ]
    },
    {
     "cell_type": "markdown",
     "metadata": {},
     "source": [
      "As stated on Continuum's website, Anaconda is a \"Completely free enterprise-ready Python distribution for large-scale data processing, predictive analytics, and scientific computing\" with \"195+ of the most popular Python packages for science, math, engineering, and data analysis\". "
     ]
    },
    {
     "cell_type": "markdown",
     "metadata": {},
     "source": [
      "To download Anaconda (https://store.continuum.io/cshop/anaconda/)"
     ]
    },
    {
     "cell_type": "markdown",
     "metadata": {},
     "source": [
      "Follow the link above then click on \"Download Anaconda\" in the upper right corner of the web browser.\n",
      "<img src='images/downloadAnaconda.PNG'><br>"
     ]
    },
    {
     "cell_type": "markdown",
     "metadata": {},
     "source": [
      "Click on the picture that matches your operating system.\n",
      "<img src='images/chooseInstall.PNG'><br>"
     ]
    },
    {
     "cell_type": "markdown",
     "metadata": {},
     "source": [
      "For this project, everything is coded in Python 2.7, not 3.4. Additionally, the books and resources we used to learn python and build this project suggest the use of Python 2.7.\n",
      "<img src='images/installer.PNG'><br>"
     ]
    },
    {
     "cell_type": "markdown",
     "metadata": {},
     "source": [
      "Open the installer and follow the steps for the steps for the default/recommended installation. During installation, be sure to install in the default directory (C:/Anaconda). If Anaconda is not installed there, be sure that target directory contains no unicode characters or spaces. Otherwise subsequent steps may not work well.\n",
      "<img src='images/anaconda.PNG', height = \"50%\", width = \"50%\">"
     ]
    },
    {
     "cell_type": "heading",
     "level": 2,
     "metadata": {},
     "source": [
      "2.2 Updating Conda, Anaconda, and Anaconda Packages"
     ]
    },
    {
     "cell_type": "markdown",
     "metadata": {},
     "source": [
      "After installation is complete, open the command prompt. This can be done by opening the windows start menu by clicking in the lower left corner of the desktop. Just above the icon there will be a search box. Type <b>cmd</b> into the search box and hit enter.\n",
      "<img src='images/cmd.PNG'>"
     ]
    },
    {
     "cell_type": "markdown",
     "metadata": {},
     "source": [
      "A window with a black background will open on the screen. Type the following lines one at time, hitting enter after each one and allowing the program to finish before submitting the next line:\n",
      "\n",
      "\tconda update conda\n",
      "\tconda update anaconda"
     ]
    },
    {
     "cell_type": "markdown",
     "metadata": {},
     "source": [
      "The statements above can be used at any point to ensure that Anaconda is up to date with the latest packages.\n",
      "<img src='images/Conda.PNG'>"
     ]
    },
    {
     "cell_type": "markdown",
     "metadata": {},
     "source": [
      "I recommend repeating this update process periodically with any packages you use. Simply open <b>cmd</b>, type <b>conda update</b> and the name of the package you want to check for update and hit enter.\n",
      "\n",
      "    conda update pandas"
     ]
    },
    {
     "cell_type": "markdown",
     "metadata": {},
     "source": [
      "The statement above will update the pandas package and the packages it is built on (i.e. NumPy). This is helpful since the individual packages update more frequently than Anaconda. A few times during this project I was attempting to access functions in a package that I found in online documentation, but they did not exist. Executing these update commands solved the problem every time. "
     ]
    },
    {
     "cell_type": "heading",
     "level": 2,
     "metadata": {},
     "source": [
      "2.3 Installing and Updating Additional Packages"
     ]
    },
    {
     "cell_type": "markdown",
     "metadata": {},
     "source": [
      "Installing a package is similar to the update performed in the previous section. To install a new package, type the following line in the command prompt (cmd from the previous section) and hit enter:\n",
      "\n",
      "    pip install seaborn\n",
      "    \n",
      "This statement installs the \"Seaborn: statistical data visualization\" package. This package will be used in Section 7.3.7."
     ]
    },
    {
     "cell_type": "markdown",
     "metadata": {},
     "source": [
      "This process can be repeated for any package.\n",
      "\n",
      "    pip install [name of package]\n",
      "    \n",
      "Note: Packages installed using pip have a different update command:\n",
      "\n",
      "    pip install --upgrade [name of package]\n",
      "\n",
      "For pip packages that fail to update, try to uninstall and reinstall the package. Here an example of the command line entries to uninstall and reinstall the seaborn package.\n",
      "\n",
      "    pip uninstall seaborn\n",
      "    pip install seaborn"
     ]
    },
    {
     "cell_type": "heading",
     "level": 2,
     "metadata": {},
     "source": [
      "2.4 Anaconda Add-Ons (Optional)"
     ]
    },
    {
     "cell_type": "markdown",
     "metadata": {},
     "source": [
      "The Add-Ons in this section were not used for this project. Below are the descriptions and instructions from Dr. Doi's installation guide."
     ]
    },
    {
     "cell_type": "markdown",
     "metadata": {},
     "source": [
      "Get Anaconda Add-Ons (https://store.continuum.io/cshop/anaconda/)."
     ]
    },
    {
     "cell_type": "markdown",
     "metadata": {},
     "source": [
      "The Accelerate and IOPro Add-Ons speed up Python (Accelerate contains MKL optimizations)<br>\n",
      "<ul><li>Select \"All Product are Free for Academic Use\"</li>\n",
      "<li>Get license by email by filling out form (select \"Anaconda Academic License\")</li>\n",
      "This license is good for one year.<br>\n",
      "<li>Copy the license file in the .continuum folder found in the root USER directory of Windows.</li></ul>"
     ]
    },
    {
     "cell_type": "markdown",
     "metadata": {},
     "source": [
      "At the command prompt submit:\n",
      "\n",
      "\tconda update conda\n",
      "\tconda install accelerate\n",
      "\tconda install iopro\n",
      "\n",
      "If you look in the license file, it seems to grant access to numbapro, mkl, and iopro. So, the 30-day trial for mkl should now automatically be upgraded to a 1-year trial. If you remove the license file from the .continuum directory, you should see a message in the console when launching IPython Notebook that mkl is only good for xxx days if you're still within the 30-day trial window. When the license file is in the directory the warning message disappears."
     ]
    },
    {
     "cell_type": "heading",
     "level": 2,
     "metadata": {},
     "source": [
      "Navigation"
     ]
    },
    {
     "cell_type": "heading",
     "level": 3,
     "metadata": {},
     "source": [
      "<a href=\"TOC.ipynb\">Table of Contents</a><br><br>\n",
      "<a href=\"Chapter1.ipynb\">Chapter 1: Introduction</a><br><br>\n",
      "<a href=\"Chapter2.ipynb\">Chapter 2: Python and Anaconda</a><br><br>\n",
      "<a href=\"Chapter3.ipynb\">Chapter 3: Setting up the IPython Notebook</a><br><br>\n",
      "<a href=\"Chapter4.ipynb\">Chapter 4: Starting with GitHub</a><br><br>\n",
      "<a href=\"Chapter5.ipynb\">Chapter 5: Sharing IPython Notebooks with NBViewer</a><br><br>\n",
      "<a href=\"Chapter6.ipynb\">Chapter 6: R for the IPython Notebook</a><br><br>\n",
      "<a href=\"Chapter7.ipynb\">Chapter 7: Analyzing NIST datasets in the IPython Notebook</a><br><br>\n",
      "<a href=\"Chapter8.ipynb\">Chapter 8: Streaming data in the IPython Notebook</a><br><br>\n",
      "<a href=\"Chapter9.ipynb\">Chapter 9: Plotting and smoothing time series data, and DataFrame Manipulation</a><br><br>\n",
      "<a href=\"Chapter10.ipynb\">Chapter 10: Formatting and Converting IPython Notebooks</a><br><br>\n",
      "<a href=\"Chapter11.ipynb\">Chapter 11: Conclusions and References</a><br><br>"
     ]
    }
   ],
   "metadata": {}
  }
 ]
}