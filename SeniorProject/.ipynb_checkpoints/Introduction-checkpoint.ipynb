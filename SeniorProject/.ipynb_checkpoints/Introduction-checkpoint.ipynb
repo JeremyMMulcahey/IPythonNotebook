{
 "metadata": {
  "name": "",
  "signature": "sha256:f787113583b0566ac27e44260823d6e6871a84ed03b7bf431fbbfb4583954b74"
 },
 "nbformat": 3,
 "nbformat_minor": 0,
 "worksheets": [
  {
   "cells": [
    {
     "cell_type": "heading",
     "level": 1,
     "metadata": {},
     "source": [
      "Primary Goals"
     ]
    },
    {
     "cell_type": "markdown",
     "metadata": {},
     "source": [
      "<font size = '4'>Learn Python and its Libraries for Data Analysis\n",
      "</font>"
     ]
    },
    {
     "cell_type": "heading",
     "level": 1,
     "metadata": {},
     "source": [
      "Secondary Goals"
     ]
    },
    {
     "cell_type": "markdown",
     "metadata": {},
     "source": [
      "<font size='4'>Document the process and learn about datastreaming with Python</font>"
     ]
    },
    {
     "cell_type": "heading",
     "level": 1,
     "metadata": {},
     "source": [
      "Approach"
     ]
    },
    {
     "cell_type": "markdown",
     "metadata": {},
     "source": [
      "<font size = '4'>Learn Python through available resources:\n",
      "<ul><li>Code Academy</li>\n",
      "<li>Dive into Python</li>\n",
      "<li>Python for Data Analysis by Wes McKinney</li></ul></font>"
     ]
    },
    {
     "cell_type": "markdown",
     "metadata": {},
     "source": [
      "<font size = '4'>Apply Python understanding by completing <i>Python for Data Analysis</i> Text</font>"
     ]
    },
    {
     "cell_type": "markdown",
     "metadata": {},
     "source": [
      "<ul><font size = '4.5'>\n",
      "<li>\n",
      "<a href = \"Presentation.ipynb\">Presentation</a>\n",
      "</li>\n",
      "\n",
      "<li>\n",
      "<a href = \"Introduction.ipynb\">Background</a>\n",
      "</li>\n",
      "\n",
      "<li>\n",
      "<a href = \"Project.ipynb\">The Project</a>\n",
      "</li>\n",
      "\n",
      "<ul>\n",
      "<li>\n",
      "<a href = \"Precision.ipynb\">Precision of Calculations Performed in Python</a>\n",
      "</li>\n",
      "\n",
      "<li>\n",
      "<a href = \"Datastream.ipynb\">Streaming & Plotting Data</a>\n",
      "</li>\n",
      "\n",
      "<li>\n",
      "<a href = \"TimeseriesApp.ipynb\">Approximating Model Coefficients Widget</a>\n",
      "</li>\n",
      "</ul>\n",
      "\n",
      "<li>\n",
      "<a href = \"Conclusions.ipynb\">Conclusion</a>\n",
      "</li></font>\n",
      "</ul>"
     ]
    }
   ],
   "metadata": {}
  }
 ]
}