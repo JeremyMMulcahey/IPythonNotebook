{
 "metadata": {
  "name": "",
  "signature": "sha256:ace074e6117ecb28e02fe2744e457a8216ea0c5658d472b875468a4e11ef1273"
 },
 "nbformat": 3,
 "nbformat_minor": 0,
 "worksheets": [
  {
   "cells": [
    {
     "cell_type": "heading",
     "level": 1,
     "metadata": {},
     "source": [
      "Primary Goals"
     ]
    },
    {
     "cell_type": "markdown",
     "metadata": {},
     "source": [
      "<font size = '4'>Learn Python and its Libraries for Data Analysis\n",
      "</font>"
     ]
    },
    {
     "cell_type": "heading",
     "level": 1,
     "metadata": {},
     "source": [
      "Secondary Goals"
     ]
    },
    {
     "cell_type": "markdown",
     "metadata": {},
     "source": [
      "<font size='4'>Document the process and learn about datastreaming with Python</font>"
     ]
    },
    {
     "cell_type": "heading",
     "level": 1,
     "metadata": {},
     "source": [
      "Approach"
     ]
    },
    {
     "cell_type": "markdown",
     "metadata": {},
     "source": [
      "<font size = '4'>Learn Python through available resources:\n",
      "<ul><li>Code Academy</li>\n",
      "<li>Dive into Python</li>\n",
      "<li>Python for Data Analysis by Wes McKinney</li></ul></font>"
     ]
    },
    {
     "cell_type": "markdown",
     "metadata": {},
     "source": [
      "<font size = '4'>Apply Python understanding by completing <i>Python for Data Analysis by Wes McKinney</i> Text</font>"
     ]
    }
   ],
   "metadata": {}
  }
 ]
}