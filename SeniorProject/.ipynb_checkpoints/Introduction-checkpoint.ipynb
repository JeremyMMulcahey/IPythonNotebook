{
 "metadata": {
  "name": "",
  "signature": "sha256:e855cdebf5f61c30bcba8bce349bfde04855f58940649f92867915badf20e749"
 },
 "nbformat": 3,
 "nbformat_minor": 0,
 "worksheets": [
  {
   "cells": [
    {
     "cell_type": "heading",
     "level": 1,
     "metadata": {},
     "source": [
      "Primary Goals"
     ]
    },
    {
     "cell_type": "markdown",
     "metadata": {},
     "source": [
      "\"Learn Python and its Libraries\""
     ]
    },
    {
     "cell_type": "heading",
     "level": 1,
     "metadata": {},
     "source": [
      "Secondary Goals"
     ]
    },
    {
     "cell_type": "markdown",
     "metadata": {},
     "source": [
      "Data streaming and widget/app development"
     ]
    },
    {
     "cell_type": "heading",
     "level": 1,
     "metadata": {},
     "source": [
      "Approach"
     ]
    },
    {
     "cell_type": "markdown",
     "metadata": {},
     "source": [
      "Learn Python, code academy, cal poly, wes mckinney"
     ]
    },
    {
     "cell_type": "markdown",
     "metadata": {},
     "source": [
      "You will see lots of code executed and very little code explained."
     ]
    }
   ],
   "metadata": {}
  }
 ]
}