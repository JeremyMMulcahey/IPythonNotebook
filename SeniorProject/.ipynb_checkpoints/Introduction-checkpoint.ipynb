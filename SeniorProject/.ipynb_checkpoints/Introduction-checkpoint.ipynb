{
 "metadata": {
  "name": "",
  "signature": "sha256:af9e8e9f19ca10574182d5ad033f577752bd129aaf2d9a6d9b63bf0d56a5fb50"
 },
 "nbformat": 3,
 "nbformat_minor": 0,
 "worksheets": [
  {
   "cells": [
    {
     "cell_type": "heading",
     "level": 1,
     "metadata": {},
     "source": [
      "Primary Goals"
     ]
    },
    {
     "cell_type": "markdown",
     "metadata": {},
     "source": [
      "\"Learn Python and its Libraries\""
     ]
    },
    {
     "cell_type": "heading",
     "level": 1,
     "metadata": {},
     "source": [
      "Secondary Goals"
     ]
    },
    {
     "cell_type": "markdown",
     "metadata": {},
     "source": [
      "Data streaming and widget/app development"
     ]
    },
    {
     "cell_type": "heading",
     "level": 1,
     "metadata": {},
     "source": [
      "Approach"
     ]
    },
    {
     "cell_type": "markdown",
     "metadata": {},
     "source": [
      "Learn Python through available resources:\n",
      "<li>Code Academy</li>\n",
      "<li>Dive into Python</li>\n",
      "<li>Python for Data Analysis by Wes McKinney</li>"
     ]
    },
    {
     "cell_type": "markdown",
     "metadata": {},
     "source": [
      "Complete <i>Python for Data Analysis</i> Text"
     ]
    }
   ],
   "metadata": {}
  }
 ]
}