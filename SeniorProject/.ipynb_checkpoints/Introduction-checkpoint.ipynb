{
 "metadata": {
  "name": "",
  "signature": "sha256:670e453ca29c801c6948b5d484cc99a4fbac1afff5a31544beb80c498d8fe3b8"
 },
 "nbformat": 3,
 "nbformat_minor": 0,
 "worksheets": [
  {
   "cells": [
    {
     "cell_type": "heading",
     "level": 1,
     "metadata": {},
     "source": [
      "Primary Goals"
     ]
    },
    {
     "cell_type": "markdown",
     "metadata": {},
     "source": [
      "\"Learn Python and its Libraries\""
     ]
    },
    {
     "cell_type": "heading",
     "level": 1,
     "metadata": {},
     "source": [
      "Secondary Goals"
     ]
    },
    {
     "cell_type": "markdown",
     "metadata": {},
     "source": [
      "Data streaming and widget/app"
     ]
    },
    {
     "cell_type": "heading",
     "level": 1,
     "metadata": {},
     "source": [
      "Approach"
     ]
    },
    {
     "cell_type": "markdown",
     "metadata": {},
     "source": [
      "Learn Python through available resources:\n",
      "<li>Code Academy</li>\n",
      "<li>Dive into Python</li>\n",
      "<li>Python for Data Analysis by Wes McKinney</li>"
     ]
    },
    {
     "cell_type": "markdown",
     "metadata": {},
     "source": [
      "Complete <i>Python for Data Analysis</i> Text"
     ]
    }
   ],
   "metadata": {}
  }
 ]
}