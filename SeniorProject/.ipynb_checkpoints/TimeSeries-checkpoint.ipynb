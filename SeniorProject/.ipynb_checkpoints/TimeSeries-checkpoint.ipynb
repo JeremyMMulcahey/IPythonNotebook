{
 "metadata": {
  "name": "",
  "signature": "sha256:1bf4a6dad2ed19f78c77c1d2623c454758c721a626e16d0ec29fa094ffcf8ad4"
 },
 "nbformat": 3,
 "nbformat_minor": 0,
 "worksheets": [
  {
   "cells": [
    {
     "cell_type": "heading",
     "level": 1,
     "metadata": {},
     "source": [
      "Time Series Functionality and Plotting"
     ]
    },
    {
     "cell_type": "code",
     "collapsed": true,
     "input": [
      "from IPython.display import Image\n",
      "import numpy as np\n",
      "import pandas as pd\n",
      "import math\n",
      "import matplotlib\n",
      "import matplotlib.pyplot as plt\n",
      "import pylab as pl\n",
      "import matplotlib.dates as mdates\n",
      "import urllib2 as ul\n",
      "from datetime import datetime\n",
      "from pandas.stats.moments import ewma as ewma\n",
      "%matplotlib inline"
     ],
     "language": "python",
     "metadata": {},
     "outputs": []
    },
    {
     "cell_type": "code",
     "collapsed": true,
     "input": [
      "NFLXFrame = pd.read_csv('data/NFLX.csv', delimiter=\",\")"
     ],
     "language": "python",
     "metadata": {},
     "outputs": []
    },
    {
     "cell_type": "code",
     "collapsed": false,
     "input": [
      "NFLXFrame.head()"
     ],
     "language": "python",
     "metadata": {},
     "outputs": []
    },
    {
     "cell_type": "code",
     "collapsed": true,
     "input": [
      "NFLXFrame.drop(['board','source','buyer','seller','initiator'],\n",
      "               inplace = True, axis=1)"
     ],
     "language": "python",
     "metadata": {},
     "outputs": []
    },
    {
     "cell_type": "code",
     "collapsed": true,
     "input": [
      "NFLXFrame['timeConvert'] = [datetime.strptime(t, \"%Y%m%dT%H%M%S\")\n",
      "                            for t in NFLXFrame['time']]"
     ],
     "language": "python",
     "metadata": {},
     "outputs": []
    },
    {
     "cell_type": "code",
     "collapsed": true,
     "input": [
      "NFLXFrame.head()"
     ],
     "language": "python",
     "metadata": {},
     "outputs": []
    },
    {
     "cell_type": "code",
     "collapsed": true,
     "input": [
      "ind = NFLXFrame['timeConvert']\n",
      "price = NFLXFrame['price']\n",
      "quantity = NFLXFrame['quantity']"
     ],
     "language": "python",
     "metadata": {},
     "outputs": []
    },
    {
     "cell_type": "code",
     "collapsed": true,
     "input": [
      "NFLXTSprice = pd.Series(index = ind)\n",
      "NFLXTSprice[0:] = price\n",
      "\n",
      "NFLXTSquant = pd.Series(index = ind)\n",
      "NFLXTSquant[0:] = quantity"
     ],
     "language": "python",
     "metadata": {},
     "outputs": []
    },
    {
     "cell_type": "code",
     "collapsed": true,
     "input": [
      "intervals = pd.date_range('10/13/2014', periods=270, freq='5min')\n",
      "intervals2 = pd.Series(intervals,index =intervals)\n",
      "indexForWeights = intervals2['2014-10-13 15:30:00':'2014-10-13 22:00:00']\n",
      "index = np.arange(79)\n",
      "reindex = indexForWeights.reindex(index)\n",
      "reindex[0:] = indexForWeights\n",
      "reindex.head()"
     ],
     "language": "python",
     "metadata": {},
     "outputs": []
    },
    {
     "cell_type": "code",
     "collapsed": true,
     "input": [
      "def weighted_fiveMinInt(quantityTS,priceTS,tsOfIntervals):\n",
      "\n",
      "    weights = quantityTS*priceTS\n",
      "    fiveMinIntervals = np.zeros(len(tsOfIntervals)-1)\n",
      "    \n",
      "    for i in range(len(tsOfIntervals)-1):\n",
      "        weightSlice = sum(weights[tsOfIntervals[i]:tsOfIntervals[i+1]])\n",
      "        quantSlice = sum(quantityTS[tsOfIntervals[i]:tsOfIntervals[i+1]])\n",
      "        newPrice = weightSlice/quantSlice\n",
      "        fiveMinIntervals[i] = newPrice\n",
      "    return fiveMinIntervals"
     ],
     "language": "python",
     "metadata": {},
     "outputs": []
    },
    {
     "cell_type": "code",
     "collapsed": true,
     "input": [
      "weightedWindows = weighted_fiveMinInt(NFLXTSquant,NFLXTSprice,reindex)\n",
      "weightedWindowsTS = pd.Series(weightedWindows, \n",
      "                              index=indexForWeights[1:])"
     ],
     "language": "python",
     "metadata": {},
     "outputs": []
    },
    {
     "cell_type": "code",
     "collapsed": true,
     "input": [
      "figure = plt.figure(figsize=(20,8))\n",
      "TSPlot = NFLXTSprice.plot(linewidth=5, c='black')\n",
      "Line2 = weightedWindowsTS.plot(linewidth=5, c='red')\n",
      "\n",
      "TSPlot.set_ylabel('Stock Price ($)', fontsize=16)\n",
      "TSPlot.set_xlabel('Time (hour:min:sec)',fontsize=16)\n",
      "TSPlot.set_title('Netflix Stock (NFLX) Ticker data from 10/13/2014',\n",
      "                 fontsize=20)\n",
      "plt.tick_params(axis='both', labelsize=15)   \n",
      "TSPlot.legend(('Ticker Data (Price vs. Time)',\n",
      "               '5 Min Price Intervals (weighted by quantity)'), loc=1);"
     ],
     "language": "python",
     "metadata": {},
     "outputs": []
    }
   ],
   "metadata": {}
  }
 ]
}