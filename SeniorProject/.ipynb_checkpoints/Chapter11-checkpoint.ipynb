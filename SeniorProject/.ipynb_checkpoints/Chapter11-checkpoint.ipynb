{
 "metadata": {
  "name": "",
  "signature": "sha256:389d0d0b376e934c042c16d4437e3e0944a8f571e7cfa011db7e011fe39f05da"
 },
 "nbformat": 3,
 "nbformat_minor": 0,
 "worksheets": [
  {
   "cells": [
    {
     "cell_type": "heading",
     "level": 1,
     "metadata": {},
     "source": [
      "Chapter 11<br>\n",
      "Conclusions and References"
     ]
    },
    {
     "cell_type": "markdown",
     "metadata": {},
     "source": [
      "My notes about this project from my first meeting with Dr. Doi have various scribbles relating to web apps, dynamic data, comparing R & SAS with Python, and, of course, using python for data analysis. While working on the project, I felt I would never reach this point. Every time I sat down to work on a section, I came up with another idea we could explore. Letting some ideas go and accepting that we might only scratch the surface on other ideas was a challenge in its own right. My hope is that we went deep enough to show readers what Python can do and motivate them to attempt similar work - one step ahead of where I left off. There should be enough tips, tricks, and failures in this notebook to save students from repeating my mistakes."
     ]
    },
    {
     "cell_type": "markdown",
     "metadata": {},
     "source": [
      "So... What exactly did we do here?"
     ]
    },
    {
     "cell_type": "markdown",
     "metadata": {},
     "source": [
      "The short and sweet answer is a reiteration of the original project goal \"Learn Python & its libraries\"."
     ]
    },
    {
     "cell_type": "markdown",
     "metadata": {},
     "source": [
      "From beginning to end, I would say we definitely excelled at achieving that goal. This notebook utilized the python language, the IPython Notebook, and a lengthy list of libraries (our primary goal) to accomplish some of our original \"secondary\" goals (as well as a couple we did not anticipate)."
     ]
    },
    {
     "cell_type": "markdown",
     "metadata": {},
     "source": [
      "We were able to provide a comparison of SAS, R, and Python's precision with the NiST values, analyze data with linear regression and ANOVA, analyze and plot time series data with a couple smoothers, and plot a data stream onto a world map."
     ]
    },
    {
     "cell_type": "markdown",
     "metadata": {},
     "source": [
      "What happened from there might have been on our secondary goal list, but maybe not to this extent. We wanted to share the process. In this notebook, I included everything I used to make it from installing Anaconda to coverting .ipynb files to a PDF. "
     ]
    },
    {
     "cell_type": "markdown",
     "metadata": {},
     "source": [
      "Last, but certainly not least, I have a list of people and sites I would like to acknowledge.\n",
      "\n",
      "Dr. Brian Granger, Co-Founder of the IPython Notebook:<br>\n",
      "Without Dr. Granger, the notebook itself would not exist. More importantly, I appreciate the hours he spent introducing me to the IPython Notebook and GitHub, trouble shooting package installations, simplfying my data streaming code, and tinkering with ryp2 (Chapter 6).\n",
      "\n",
      "Dr. Doi:<br>\n",
      "At one point in the project, Dr. Doi stated that if the only thing I accomplished here was giving myself a new skill for my resume, then that would be good enough. Having the flexibility to make the project my own and knowing that Dr. Doi supported anything beyond our primary goal was invaluable during this project. I cannot thank Dr Doi enough for his ethusiam, patience, interest in student success (both in and beyond the classroom), and support.\n",
      "\n",
      "Dr. Hughes:<br>\n",
      "I would like to thank Dr. Hughes for the Pendulum data and Geiger counter data.\n",
      "\n",
      "Stackoverflow's existing forum posts:<br>\n",
      "It's rare that I find a pre-existing post with my exact issue, but it's even rarer that community member comments and advice fail to solve, or inspire me to solve, the problem i'm working on.\n",
      "\n",
      "Wes McKinney's Python for Data Analysis:<br>\n",
      "The first step of this project was to learn Python. The second was to read Wes McKinney's \"textbook\". In addition to information on python libraries (Pandas, SciPy, NumPy, etc.), Python for Data Analysis has an abundance of tips, tricks, examples, and data sets that quickly improved my Python abilities."
     ]
    },
    {
     "cell_type": "heading",
     "level": 3,
     "metadata": {},
     "source": [
      "Text Reference:"
     ]
    },
    {
     "cell_type": "markdown",
     "metadata": {},
     "source": [
      "McKinney, Wes. Python for Data Analysis. Sebastopol, CA: O'Reilly Media, 1st edition October 29, 2012. Print."
     ]
    }
   ],
   "metadata": {}
  }
 ]
}