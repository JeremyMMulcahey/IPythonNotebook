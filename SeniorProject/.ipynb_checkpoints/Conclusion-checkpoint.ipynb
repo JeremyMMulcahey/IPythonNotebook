{
 "metadata": {
  "name": "",
  "signature": "sha256:80b406c296ffee255ec6665538492becf80945c6258bcbc2019f469ddceea5ec"
 },
 "nbformat": 3,
 "nbformat_minor": 0,
 "worksheets": [
  {
   "cells": [
    {
     "cell_type": "heading",
     "level": 1,
     "metadata": {},
     "source": [
      "IPython Manual"
     ]
    },
    {
     "cell_type": "markdown",
     "metadata": {},
     "source": [
      "Contains primary accomplished primary, secondary goals and unanticipated projects"
     ]
    },
    {
     "cell_type": "markdown",
     "metadata": {},
     "source": [
      "Documented the process and produced a manual. Users can start in chapter 1 and reproduce the entire notebook."
     ]
    },
    {
     "cell_type": "heading",
     "level": 1,
     "metadata": {},
     "source": [
      "References"
     ]
    },
    {
     "cell_type": "markdown",
     "metadata": {},
     "source": [
      "Dr. Doi.\n",
      "\n",
      "Dr. Granger.\n",
      "\n",
      "Dr. Hughes."
     ]
    }
   ],
   "metadata": {}
  }
 ]
}