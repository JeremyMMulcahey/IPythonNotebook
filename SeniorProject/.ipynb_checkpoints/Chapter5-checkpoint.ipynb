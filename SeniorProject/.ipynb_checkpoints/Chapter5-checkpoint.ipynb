{
 "metadata": {
  "name": "",
  "signature": "sha256:934d3f69a9848cbca9c5326373a8f2e7930e44e9f245c19afb35a0f2d3bad39c"
 },
 "nbformat": 3,
 "nbformat_minor": 0,
 "worksheets": [
  {
   "cells": [
    {
     "cell_type": "heading",
     "level": 1,
     "metadata": {},
     "source": [
      "Chapter 5<br>\n",
      "Sharing IPython Notebooks with NBViewer"
     ]
    },
    {
     "cell_type": "markdown",
     "metadata": {},
     "source": [
      "As stated on the IPython website, \"IPython Notebook Viewer is a free webservice that allows you to share static html versions of hosted notebook files. If a notebook is publicly available, by giving its url to the Viewer, you should be able to view it.\""
     ]
    },
    {
     "cell_type": "markdown",
     "metadata": {},
     "source": [
      "To obtain a url (uniform resource locator) for sharing your notebook, go to http://nbviewer.ipython.org/"
     ]
    },
    {
     "cell_type": "markdown",
     "metadata": {},
     "source": [
      "Simply type your GitHub username (see Section 4.1) into the box provided and hit \"Go!\"."
     ]
    },
    {
     "cell_type": "markdown",
     "metadata": {},
     "source": [
      "Save the url from this page. This is the page that allows others to view your committed IPython Notebooks on GitHub using NBViewer.\n",
      "\n",
      "<img src='images/nbview.PNG'>"
     ]
    },
    {
     "cell_type": "heading",
     "level": 2,
     "metadata": {},
     "source": [
      "Navigation"
     ]
    },
    {
     "cell_type": "heading",
     "level": 3,
     "metadata": {},
     "source": [
      "<a href=\"TOC.ipynb\">Table of Contents</a><br><br>\n",
      "<a href=\"Chapter1.ipynb\">Chapter 1: Introduction</a><br><br>\n",
      "<a href=\"Chapter2.ipynb\">Chapter 2: Python and Anaconda</a><br><br>\n",
      "<a href=\"Chapter3.ipynb\">Chapter 3: Setting up the IPython Notebook</a><br><br>\n",
      "<a href=\"Chapter4.ipynb\">Chapter 4: Starting with GitHub</a><br><br>\n",
      "<a href=\"Chapter5.ipynb\">Chapter 5: Sharing IPython Notebooks with NBViewer</a><br><br>\n",
      "<a href=\"Chapter6.ipynb\">Chapter 6: R for the IPython Notebook</a><br><br>\n",
      "<a href=\"Chapter7.ipynb\">Chapter 7: Analyzing NIST datasets in the IPython Notebook</a><br><br>\n",
      "<a href=\"Chapter8.ipynb\">Chapter 8: Streaming data in the IPython Notebook</a><br><br>\n",
      "<a href=\"Chapter9.ipynb\">Chapter 9: Plotting and smoothing time series data, and DataFrame Manipulation</a><br><br>\n",
      "<a href=\"Chapter10.ipynb\">Chapter 10: Formatting and Converting IPython Notebooks</a><br><br>\n",
      "<a href=\"Chapter11.ipynb\">Chapter 11: Conclusions and References</a><br><br>"
     ]
    }
   ],
   "metadata": {}
  }
 ]
}