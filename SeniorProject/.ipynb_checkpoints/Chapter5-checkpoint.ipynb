{
 "metadata": {
  "name": "",
  "signature": "sha256:d46c589b993f5885933768a92f589e6f76ca10b3271b88698737d9b0f17966d8"
 },
 "nbformat": 3,
 "nbformat_minor": 0,
 "worksheets": [
  {
   "cells": [
    {
     "cell_type": "heading",
     "level": 1,
     "metadata": {},
     "source": [
      "Chapter 5<br>\n",
      "Sharing IPython Notebooks with NBViewer"
     ]
    },
    {
     "cell_type": "markdown",
     "metadata": {},
     "source": [
      "As stated on the IPython website, \"IPython Notebook Viewer is a free webservice that allows you to share static html versions of hosted notebook files. If a notebook is publicly available, by giving its url to the Viewer, you should be able to view it.\""
     ]
    },
    {
     "cell_type": "markdown",
     "metadata": {},
     "source": [
      "To obtain a url (uniform resource locator) for sharing your notebook, go to http://nbviewer.ipython.org/"
     ]
    },
    {
     "cell_type": "markdown",
     "metadata": {},
     "source": [
      "Simply type your GitHub username (see Section 4.1) into the box provided and hit \"Go!\"."
     ]
    },
    {
     "cell_type": "markdown",
     "metadata": {},
     "source": [
      "Save the url from this page. This is the page that allows others to view your committed IPython Notebooks on GitHub using NBViewer.\n",
      "\n",
      "<img src='images/nbview.PNG'>"
     ]
    }
   ],
   "metadata": {}
  }
 ]
}