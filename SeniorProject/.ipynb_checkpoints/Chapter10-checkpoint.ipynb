{
 "metadata": {
  "name": "",
  "signature": "sha256:5ab9fc5380905591b66047bc6a99976ec890c18c5a5904f29244ed23fc69fc89"
 },
 "nbformat": 3,
 "nbformat_minor": 0,
 "worksheets": [
  {
   "cells": [
    {
     "cell_type": "heading",
     "level": 1,
     "metadata": {},
     "source": [
      "Chapter 10<br>\n",
      "Formatting and Converting IPython Notebooks"
     ]
    },
    {
     "cell_type": "markdown",
     "metadata": {},
     "source": [
      "Formatting and sharing the IPython Notebook is not a complicated process. Much of the formatting is automated and the sharing is explained in Chapters 4 and 5. If notebooks need to be exported as a PDF, the options range from simple to complicated. Since this guide was also produced as a PDF, this chapter will focus on techniques used to convert this IPython Notebook to PDF."
     ]
    },
    {
     "cell_type": "heading",
     "level": 2,
     "metadata": {},
     "source": [
      "10.1 NBConvert to LaTeX to PDF"
     ]
    },
    {
     "cell_type": "markdown",
     "metadata": {},
     "source": [
      "This is what IPython says about NBConvert: \n",
      "\"Currently, nbconvert is provided as a command line tool, run as a script using IPython. A direct export capability from within the IPython Notebook web app is planned.\""
     ]
    },
    {
     "cell_type": "markdown",
     "metadata": {},
     "source": [
      "Note: NBconvert might be obsolete in the future. Additional information about converting formats and options of nbconvert can be found at:<BR>\n",
      "http://ipython.org/ipython-doc/1/interactive/nbconvert.html."
     ]
    },
    {
     "cell_type": "heading",
     "level": 3,
     "metadata": {},
     "source": [
      "10.1.1 IPython Notebook, to LaTeX, to PDF"
     ]
    },
    {
     "cell_type": "markdown",
     "metadata": {},
     "source": [
      "To use this method, format the notebook with LaTeX only (image embedding, symbols, equations, lists, etc). Do not use any additional formatting techniques (such as HTML). NBConvert has a built-in option that converts the notebook to LaTeX, then to PDF in one command line execution. The PDF will be a LaTeX version of the notebook if no HTML was used to format cells or embed image."
     ]
    },
    {
     "cell_type": "markdown",
     "metadata": {},
     "source": [
      "Below is a snippet of Chapter 9 that has been converted to LaTeX then PDF. This provides an idea of the PDF's default formatting/appearance.\n",
      "<img src=\"images/latex.PNG\">"
     ]
    },
    {
     "cell_type": "markdown",
     "metadata": {},
     "source": [
      "To perform this conversion, start at the command prompt. Use <b>cd</b> (refer to Section 3.2) to change to the directory your notebook is in. Then execute the code from below with the name of your notebook in place of \"YourNotebook\".\n",
      "<img src=\"images/nb.PNG\">"
     ]
    },
    {
     "cell_type": "markdown",
     "metadata": {},
     "source": [
      "There is now a PDF of your notebook in the same directory as the .ipynb file."
     ]
    },
    {
     "cell_type": "heading",
     "level": 3,
     "metadata": {},
     "source": [
      "10.1.2 LaTeX in the IPython Notebook"
     ]
    },
    {
     "cell_type": "markdown",
     "metadata": {},
     "source": [
      "For new LaTeX users, there are tools that will help generate the equations and symbols needed.\n",
      "\n",
      "The main one I recommend is the Equation Editor from NumberEmpire:<BR> http://bit.ly/1v9MPgd"
     ]
    },
    {
     "cell_type": "markdown",
     "metadata": {},
     "source": [
      "Two ways to use LaTeX code in the notebook are either inline (i.e. when talking about theta include the LaTeX code for theta) or as a separate block."
     ]
    },
    {
     "cell_type": "markdown",
     "metadata": {},
     "source": [
      "To include LaTeX symbols inline use a single dollar sign to open and close the code (think of these are parentheses)."
     ]
    },
    {
     "cell_type": "markdown",
     "metadata": {},
     "source": [
      "To include LaTeX as a separate equation (on its own line), use two dollar signs to open and two dollar signs to close the block of LaTeX code."
     ]
    },
    {
     "cell_type": "heading",
     "level": 2,
     "metadata": {},
     "source": [
      "10.2 NBConvert to HTML"
     ]
    },
    {
     "cell_type": "markdown",
     "metadata": {},
     "source": [
      "HTML is a simple formatting option that is supported by the \"Markdown\" option for the notebook cells. It makes sense that notebooks created and shared in a web browser would utilize this code. If you have a notebook that contains any LaTeX code whatsoever, it will need to be converted to HTML."
     ]
    },
    {
     "cell_type": "markdown",
     "metadata": {},
     "source": [
      "To learn more about HTML, CodeAcademy.com is a great resource for learning new languages."
     ]
    },
    {
     "cell_type": "markdown",
     "metadata": {},
     "source": [
      "A quick reference for HTML symbols can be found at:<br>\n",
      "http://bit.ly/1nl7tsl"
     ]
    },
    {
     "cell_type": "markdown",
     "metadata": {},
     "source": [
      "To perform this conversion from .ipynb to .html, start with the command prompt. Next use cd (refer to Section 3.2) to change to the directory your notebook is in. Then execute the code from below with the name of your notebook in place of \"YourNotebook\".\n",
      "<img src=\"images/html.PNG\">"
     ]
    },
    {
     "cell_type": "markdown",
     "metadata": {},
     "source": [
      "YourNotebook.html will now be in the same directory as YourNotebook.ipynb."
     ]
    },
    {
     "cell_type": "markdown",
     "metadata": {},
     "source": [
      "<br>"
     ]
    },
    {
     "cell_type": "heading",
     "level": 2,
     "metadata": {},
     "source": [
      "10.3 HTML to PDF Options"
     ]
    },
    {
     "cell_type": "markdown",
     "metadata": {},
     "source": [
      "This section will cover how this notebook was converted to a PDF and relay alternatives that were suggested for converting notebooks to PDF. Since the alternative methods were not tested in the making of this guide, users will need to investigate them on their own."
     ]
    },
    {
     "cell_type": "heading",
     "level": 3,
     "metadata": {},
     "source": [
      "10.3.1 HTML to PDF converters and BR"
     ]
    },
    {
     "cell_type": "markdown",
     "metadata": {},
     "source": [
      "There are many free HTML to PDF converters online, and many of them split the images at the page break. If users manage to find a converter that formats page breaks well, then the conversion is done. If not, the HTML tag BR can be added as many times as needed to in order to force cells further apart from each other.\n",
      "<img src = \"images/br.PNG\">"
     ]
    },
    {
     "cell_type": "markdown",
     "metadata": {},
     "source": [
      "This method is unavoidably trial and error. Add and remove BRs, convert to HTML, and then convert to PDF and see how the spacing looks. Repeat, repeat, repeat until the desired formatting is achieved. It is tedious, but does not require much time."
     ]
    },
    {
     "cell_type": "heading",
     "level": 3,
     "metadata": {},
     "source": [
      "10.3.2 Microsoft Word"
     ]
    },
    {
     "cell_type": "markdown",
     "metadata": {},
     "source": [
      "Dr. Doi suggested opening the HTML file in Microsoft Word. This did not work in Microsoft Word 2007. Users can try using a newer version of Microsoft Word. In theory, Microsoft word should be able to open the HTML file, edit it, and export it as a PDF."
     ]
    },
    {
     "cell_type": "heading",
     "level": 3,
     "metadata": {},
     "source": [
      "10.3.3 Dexy"
     ]
    },
    {
     "cell_type": "markdown",
     "metadata": {},
     "source": [
      "Dexy is the Python library Dr. Granger uses to make PDF documents of his IPython Notebooks. Information on Dexy can be found at:<BR>http://dexy.it/"
     ]
    },
    {
     "cell_type": "heading",
     "level": 2,
     "metadata": {},
     "source": [
      "Navigation"
     ]
    },
    {
     "cell_type": "heading",
     "level": 3,
     "metadata": {},
     "source": [
      "<a href=\"TOC.ipynb\">Table of Contents</a><br><br>\n",
      "<a href=\"Chapter1.ipynb\">Chapter 1: Introduction</a><br><br>\n",
      "<a href=\"Chapter2.ipynb\">Chapter 2: Python and Anaconda</a><br><br>\n",
      "<a href=\"Chapter3.ipynb\">Chapter 3: Setting up the IPython Notebook</a><br><br>\n",
      "<a href=\"Chapter4.ipynb\">Chapter 4: Starting with GitHub</a><br><br>\n",
      "<a href=\"Chapter5.ipynb\">Chapter 5: Sharing IPython Notebooks with NBViewer</a><br><br>\n",
      "<a href=\"Chapter6.ipynb\">Chapter 6: R for the IPython Notebook</a><br><br>\n",
      "<a href=\"Chapter7.ipynb\">Chapter 7: Analyzing NIST datasets in the IPython Notebook</a><br><br>\n",
      "<a href=\"Chapter8.ipynb\">Chapter 8: Streaming data in the IPython Notebook</a><br><br>\n",
      "<a href=\"Chapter9.ipynb\">Chapter 9: Plotting and smoothing time series data, and DataFrame Manipulation</a><br><br>\n",
      "<a href=\"Chapter10.ipynb\">Chapter 10: Formatting and Converting IPython Notebooks</a><br><br>\n",
      "<a href=\"Chapter11.ipynb\">Chapter 11: Conclusions and References</a><br><br>"
     ]
    }
   ],
   "metadata": {}
  }
 ]
}