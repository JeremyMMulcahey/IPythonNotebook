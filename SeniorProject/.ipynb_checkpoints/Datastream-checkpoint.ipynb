{
 "metadata": {
  "name": "",
  "signature": "sha256:be82a8d8b46148a0371be7c60048c1dd169f891582d502925be39a3119b967b7"
 },
 "nbformat": 3,
 "nbformat_minor": 0,
 "worksheets": [
  {
   "cells": [
    {
     "cell_type": "heading",
     "level": 1,
     "metadata": {},
     "source": [
      "Streaming Data in the IPython Notebook: Chapter 8"
     ]
    },
    {
     "cell_type": "markdown",
     "metadata": {},
     "source": [
      "<font size ='4'>USA.gov describes themselves as the \"government's official web portal\". They provide information on government services and government agencies such as NASA, EPA, and the IRS.</font>"
     ]
    },
    {
     "cell_type": "heading",
     "level": 2,
     "metadata": {},
     "source": [
      "Datastream from 1.USA.gov"
     ]
    },
    {
     "cell_type": "markdown",
     "metadata": {},
     "source": [
      "<font size = '4'>USA.gov describes the data as, \"...data <b>created any time anyone clicks</b> on a 1.USA.gov URL...responds to http requests...and returns a stream of <b>JSON entries, one per line, that represent real-time clicks</b>.\"</font>"
     ]
    },
    {
     "cell_type": "markdown",
     "metadata": {},
     "source": [
      "http://developer.usa.gov/1usagov"
     ]
    },
    {
     "cell_type": "markdown",
     "metadata": {},
     "source": [
      "<ul> <li>\"a\": USER_AGENT,</li>\n",
      "        <li>\"c\": COUNTRY_CODE,</li>\n",
      "        <li>\"nk\": KNOWN_USER,</li>\n",
      "        <li>\"g\": GLOBAL_BITLY_HASH, </li>\n",
      "        <li>\"h\": ENCODING_USER_BITLY_HASH,</li>\n",
      "        <li>\"l\": ENCODING_USER_LOGIN,</li>\n",
      "        <li>\"hh\": SHORT_URL_CNAME,</li>\n",
      "        <li>\"r\": REFERRING_URL,</li>\n",
      "        <li>\"u\": LONG_URL,</li>\n",
      "        <li>\"t\": TIMESTAMP,</li>\n",
      "        <li>\"gr\": GEO_REGION,</li>\n",
      "        <li>\"ll\": [LATITUDE, LONGITUDE],</li>\n",
      "        <li>\"cy\": GEO_CITY_NAME,</li>\n",
      "        <li>\"tz\": TIMEZONE </li>\n",
      "        <li>\"hc\": TIMESTAMP OF TIME HASH WAS CREATED,</li> \n",
      "        <li>\"al\": ACCEPT_LANGUAGE</li></ul>"
     ]
    },
    {
     "cell_type": "code",
     "collapsed": false,
     "input": [
      "import requests\n",
      "import json\n",
      "import pandas as pd\n",
      "from mpl_toolkits.basemap import Basemap\n",
      "import numpy as np\n",
      "import matplotlib.pyplot as plt\n",
      "%matplotlib inline"
     ],
     "language": "python",
     "metadata": {},
     "outputs": []
    },
    {
     "cell_type": "code",
     "collapsed": false,
     "input": [
      "url = \"http://developer.usa.gov/1usagov\""
     ],
     "language": "python",
     "metadata": {},
     "outputs": []
    },
    {
     "cell_type": "heading",
     "level": 2,
     "metadata": {},
     "source": [
      "Read in the datastream"
     ]
    },
    {
     "cell_type": "code",
     "collapsed": false,
     "input": [
      "r = requests.get(url, stream=True)\n",
      "\n",
      "n = 100\n",
      "data = []\n",
      "\n",
      "for i, line in enumerate(r.iter_lines()):\n",
      "    data.append(line)\n",
      "    \n",
      "    if i > n:\n",
      "        break"
     ],
     "language": "python",
     "metadata": {},
     "outputs": []
    },
    {
     "cell_type": "code",
     "collapsed": false,
     "input": [
      "jdata = [json.loads(item) for item in data[1:]]"
     ],
     "language": "python",
     "metadata": {},
     "outputs": []
    },
    {
     "cell_type": "heading",
     "level": 2,
     "metadata": {},
     "source": [
      "Convert to DataFrame"
     ]
    },
    {
     "cell_type": "code",
     "collapsed": false,
     "input": [
      "USAGovFrame = pd.DataFrame(jdata)"
     ],
     "language": "python",
     "metadata": {},
     "outputs": []
    },
    {
     "cell_type": "code",
     "collapsed": false,
     "input": [
      "USAGovFrame = USAGovFrame[['a','c','cy','gr','hh','ll','r','t','tz']]"
     ],
     "language": "python",
     "metadata": {},
     "outputs": []
    },
    {
     "cell_type": "code",
     "collapsed": false,
     "input": [
      "USAGovFrame.columns=['User_Agent','Country_Code',\n",
      "                     'Geo_city_name','Geo_Region',\n",
      "                     'Short_url_Cname',\n",
      "                     '[Latitude,Longitude]','Referring_URL',\n",
      "                     'Timestamp','Timezone']"
     ],
     "language": "python",
     "metadata": {},
     "outputs": []
    },
    {
     "cell_type": "code",
     "collapsed": false,
     "input": [
      "USAGovFrame.head()"
     ],
     "language": "python",
     "metadata": {},
     "outputs": []
    },
    {
     "cell_type": "code",
     "collapsed": false,
     "input": [
      "def lat_lon(column):\n",
      "    \n",
      "    lat=[]\n",
      "    lon=[]\n",
      "\n",
      "    for i in column:\n",
      "        lat.append(i[0])\n",
      "        lon.append(i[1])\n",
      "        \n",
      "    return lat,lon"
     ],
     "language": "python",
     "metadata": {},
     "outputs": []
    },
    {
     "cell_type": "heading",
     "level": 2,
     "metadata": {},
     "source": [
      "Plot"
     ]
    },
    {
     "cell_type": "markdown",
     "metadata": {},
     "source": [
      "<img src = \"images/stream.PNG\">"
     ]
    },
    {
     "cell_type": "code",
     "collapsed": false,
     "input": [
      "plt.figure(figsize=(20,10))\n",
      "\n",
      "map = Basemap(projection='kav7',lon_0=0,resolution='c')\n",
      "\n",
      "map.bluemarble()\n",
      "\n",
      "coords = USAGovFrame['[Latitude,Longitude]'].dropna()\n",
      "\n",
      "lat, lon = lat_lon(coords)\n",
      "\n",
      "x,y = map(lon, lat)\n",
      "map.plot(x,y,'.', c='red',markersize=12)\n",
      "plt.title(\"USA.Gov Site Traffic\", fontsize = 20);"
     ],
     "language": "python",
     "metadata": {},
     "outputs": []
    }
   ],
   "metadata": {}
  }
 ]
}