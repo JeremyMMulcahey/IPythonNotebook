{
 "metadata": {
  "name": "",
  "signature": "sha256:d621f3107718c8c41fb6e69b9f4d902aa08a880b91dcc524fac5520f6bc6846f"
 },
 "nbformat": 3,
 "nbformat_minor": 0,
 "worksheets": [
  {
   "cells": [
    {
     "cell_type": "heading",
     "level": 1,
     "metadata": {},
     "source": [
      "Streaming Data in the IPython Notebook"
     ]
    },
    {
     "cell_type": "markdown",
     "metadata": {},
     "source": [
      "USA.gov describes the data as, \"We provide a raw pub/sub feed of data created any time anyone clicks on a 1.USA.gov URL. The pub/sub endpoint responds to http requests for any 1.USA.gov URL and returns a stream of JSON entries, one per line, that represent real-time clicks.\""
     ]
    },
    {
     "cell_type": "markdown",
     "metadata": {},
     "source": [
      "http://developer.usa.gov/1usagov"
     ]
    },
    {
     "cell_type": "markdown",
     "metadata": {},
     "source": [
      "<img src = \"images/stream.PNG\">"
     ]
    },
    {
     "cell_type": "code",
     "collapsed": false,
     "input": [
      "import requests\n",
      "import json\n",
      "import pandas as pd\n",
      "from mpl_toolkits.basemap import Basemap\n",
      "import numpy as np\n",
      "import matplotlib.pyplot as plt\n",
      "%matplotlib inline"
     ],
     "language": "python",
     "metadata": {},
     "outputs": []
    },
    {
     "cell_type": "code",
     "collapsed": false,
     "input": [
      "url = \"http://developer.usa.gov/1usagov\""
     ],
     "language": "python",
     "metadata": {},
     "outputs": []
    },
    {
     "cell_type": "code",
     "collapsed": false,
     "input": [
      "r = requests.get(url, stream=True)\n",
      "\n",
      "n = 100\n",
      "data = []\n",
      "\n",
      "for i, line in enumerate(r.iter_lines()):\n",
      "    data.append(line)\n",
      "    \n",
      "    if i > n:\n",
      "        break"
     ],
     "language": "python",
     "metadata": {},
     "outputs": []
    },
    {
     "cell_type": "code",
     "collapsed": false,
     "input": [
      "jdata = [json.loads(item) for item in data[1:]]"
     ],
     "language": "python",
     "metadata": {},
     "outputs": []
    },
    {
     "cell_type": "code",
     "collapsed": false,
     "input": [
      "USAGovFrame = pd.DataFrame(jdata)"
     ],
     "language": "python",
     "metadata": {},
     "outputs": []
    },
    {
     "cell_type": "code",
     "collapsed": false,
     "input": [
      "USAGovFrame = USAGovFrame[['a','c','cy','gr','hh','ll','r','t','tz']]"
     ],
     "language": "python",
     "metadata": {},
     "outputs": []
    },
    {
     "cell_type": "code",
     "collapsed": false,
     "input": [
      "USAGovFrame.columns=['User_Agent','Country_Code',\n",
      "                     'Geo_city_name','Geo_Region',\n",
      "                     'Short_url_Cname',\n",
      "                     '[Latitude,Longitude]','Referring_URL',\n",
      "                     'Timestamp','Timezone']"
     ],
     "language": "python",
     "metadata": {},
     "outputs": []
    },
    {
     "cell_type": "code",
     "collapsed": false,
     "input": [
      "USAGovFrame.head()"
     ],
     "language": "python",
     "metadata": {},
     "outputs": []
    },
    {
     "cell_type": "code",
     "collapsed": false,
     "input": [
      "def lat_lon(column):\n",
      "    \n",
      "    lat=[]\n",
      "    lon=[]\n",
      "\n",
      "    for i in column:\n",
      "        lat.append(i[0])\n",
      "        lon.append(i[1])\n",
      "        \n",
      "    return lat,lon"
     ],
     "language": "python",
     "metadata": {},
     "outputs": []
    },
    {
     "cell_type": "code",
     "collapsed": false,
     "input": [
      "plt.figure(figsize=(20,10))\n",
      "\n",
      "map = Basemap(projection='kav7',lon_0=0,resolution='c')\n",
      "\n",
      "map.bluemarble()\n",
      "\n",
      "coords = USAGovFrame['[Latitude,Longitude]'].dropna()\n",
      "\n",
      "lat, lon = lat_lon(coords)\n",
      "\n",
      "x,y = map(lon, lat)\n",
      "map.plot(x,y,'.', c='red',markersize=12)\n",
      "plt.title(\"USA.Gov Site Traffic\", fontsize = 20);"
     ],
     "language": "python",
     "metadata": {},
     "outputs": []
    }
   ],
   "metadata": {}
  }
 ]
}