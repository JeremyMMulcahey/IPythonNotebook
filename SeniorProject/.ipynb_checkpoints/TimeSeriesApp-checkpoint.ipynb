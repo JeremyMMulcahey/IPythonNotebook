{
 "metadata": {
  "name": "",
  "signature": "sha256:f8a265b778724d457ba4031d9f59a674936aa4b10462e720abe7e6f6e543f995"
 },
 "nbformat": 3,
 "nbformat_minor": 0,
 "worksheets": [
  {
   "cells": [
    {
     "cell_type": "heading",
     "level": 1,
     "metadata": {},
     "source": [
      "Approximating Model Coefficients"
     ]
    },
    {
     "cell_type": "code",
     "collapsed": false,
     "input": [
      "import numpy as np\n",
      "import pandas as pd\n",
      "import math\n",
      "%matplotlib inline\n",
      "import matplotlib\n",
      "import matplotlib.pyplot as plt\n",
      "import pylab as pl\n",
      "from IPython.html.widgets import *"
     ],
     "language": "python",
     "metadata": {},
     "outputs": []
    },
    {
     "cell_type": "code",
     "collapsed": false,
     "input": [
      "PendData = np.loadtxt('data/pendData.csv', skiprows=1, delimiter=',')\n",
      "PendFrame = pd.DataFrame(PendData,columns=['time(sec)','angular position(theta)'])"
     ],
     "language": "python",
     "metadata": {},
     "outputs": []
    },
    {
     "cell_type": "code",
     "collapsed": false,
     "input": [
      "plt.figure(figsize=(18,6))\n",
      "\n",
      "plt.scatter(PendFrame['time(sec)'],PendFrame['angular position(theta)'], s=8, c='black')\n",
      "pendTS = pd.Series(PendFrame['angular position(theta)'], index =PendFrame['time(sec)'])\n",
      "pendTS[0:] = PendFrame['angular position(theta)']\n",
      "TSPlot = pendTS.plot(ylim=(-22,20),linewidth=.7, c='green')\n",
      "TSPlot.set_axis_bgcolor('white')\n",
      "TSPlot.set_ylabel('pendulum angular position (degrees)', fontsize=16)\n",
      "TSPlot.set_xlabel('time (seconds)',fontsize=16)\n",
      "TSPlot.set_title('Pendulum Position Time Series',fontsize=20)\n",
      "plt.tick_params(axis='both', labelsize=15)"
     ],
     "language": "python",
     "metadata": {},
     "outputs": []
    },
    {
     "cell_type": "markdown",
     "metadata": {},
     "source": [
      "<img src=\"images/dampedSin.PNG\">"
     ]
    },
    {
     "cell_type": "code",
     "collapsed": false,
     "input": [
      "def sine_wave(time,amp,freq,phi,damp):\n",
      "    return ((math.exp(-1*damp*time))*(amp*math.sin(2*math.pi*freq*time-phi)-.4705))"
     ],
     "language": "python",
     "metadata": {},
     "outputs": []
    },
    {
     "cell_type": "markdown",
     "metadata": {},
     "source": [
      "Where: <br>\n",
      "   t = Time, in seconds<br>\n",
      "   A = Peak Amplitude<br>\n",
      "   f = Frequency, in Hz<br>\n",
      "   &Phi; = Phase Shift<br>\n",
      "   B = Vertical shift"
     ]
    },
    {
     "cell_type": "code",
     "collapsed": false,
     "input": [
      "def sine_values(amp,freq,phi,damp):\n",
      "    PendFrame['SineValues']= PendFrame.apply(lambda row: sine_wave(row['time(sec)'],amp,freq,phi,damp),axis=1)"
     ],
     "language": "python",
     "metadata": {},
     "outputs": []
    },
    {
     "cell_type": "code",
     "collapsed": false,
     "input": [
      "def model(amp,freq,phi,damp):\n",
      "    ts =sine_values(amp,freq,phi,damp)\n",
      "    \n",
      "    plt.figure(figsize=(18,6))\n",
      "    TSPlot = pendTS.plot(ylim=(-22,22),linewidth=.7, c='red')\n",
      "    PendFrame.plot(x='time(sec)',y='SineValues',linewidth=.7, c='blue')\n",
      "    \n",
      "    TSPlot.set_axis_bgcolor('white')\n",
      "    TSPlot.set_ylabel('pendulum angular position (degrees)', fontsize=16)\n",
      "    TSPlot.set_xlabel('time (seconds)',fontsize=16)\n",
      "    TSPlot.set_title('Approximating Model Coefficients',fontsize=20)\n",
      "    TSPlot.legend(['Fit Data','Model','Observed Data Points (time,theta)'],1)\n",
      "    plt.tick_params(axis='both', labelsize=15)\n",
      "    \n",
      "    SSE = np.sum((PendFrame['angular position(theta)']-PendFrame['SineValues'])**2)\n",
      "    plt.text(15, 16, 'SSE=%f'% SSE, fontsize=15);"
     ],
     "language": "python",
     "metadata": {},
     "outputs": []
    },
    {
     "cell_type": "code",
     "collapsed": false,
     "input": [
      "interact(model,amp=(15.0,25.0,.001),freq=(1.0,2.0,.001),phi=(-1.0,1,.001),damp=(.001,.1,.001));"
     ],
     "language": "python",
     "metadata": {},
     "outputs": []
    },
    {
     "cell_type": "code",
     "collapsed": false,
     "input": [
      "amp = 19.649\n",
      "freq = 1.26082\n",
      "phi = .18205\n",
      "vertShift = -.4705\n",
      "damp = .02695\n",
      "PendFrame['SineValues']= PendFrame.apply(lambda row: sine_wave(row['time(sec)'],amp,freq,phi,damp),axis=1)\n",
      "SSE = np.sum((PendFrame['angular position(theta)']-PendFrame['SineValues'])**2)\n",
      "print(\"SSE:\",SSE)"
     ],
     "language": "python",
     "metadata": {},
     "outputs": []
    },
    {
     "cell_type": "code",
     "collapsed": false,
     "input": [
      "plt.figure(figsize=(18,6))\n",
      "plt.scatter(PendFrame['time(sec)'],PendFrame['angular position(theta)'], s=8, c='black')\n",
      "TSPlot = PendFrame.plot(x='time(sec)',y='angular position(theta)',ylim=(-22,20),linewidth=.7, c='red')\n",
      "PendFrame.plot(x='time(sec)',y='SineValues',ylim=(-22,22),linewidth=.7, c='blue')\n",
      "TSPlot.set_axis_bgcolor('white')\n",
      "TSPlot.set_ylabel('pendulum angular position (degrees)', fontsize=16)\n",
      "TSPlot.set_xlabel('time (seconds)',fontsize=16)\n",
      "TSPlot.set_title('Pendulum Position Time Series: Model and Observed Fit',fontsize=20)\n",
      "TSPlot.legend(['Fit Data','Model','Observed Data Points (time,theta)'],1)\n",
      "plt.tick_params(axis='both', labelsize=15)"
     ],
     "language": "python",
     "metadata": {},
     "outputs": []
    }
   ],
   "metadata": {}
  }
 ]
}