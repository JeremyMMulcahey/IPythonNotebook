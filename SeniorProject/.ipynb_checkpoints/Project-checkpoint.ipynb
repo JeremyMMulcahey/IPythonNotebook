{
 "metadata": {
  "name": "",
  "signature": "sha256:0e49d494f4fe540712fb7a313be0dc134302c0d0c4d782dbdaf17983dbfead44"
 },
 "nbformat": 3,
 "nbformat_minor": 0,
 "worksheets": [
  {
   "cells": [
    {
     "cell_type": "heading",
     "level": 1,
     "metadata": {},
     "source": [
      "Introduction to Python and the IPython Notebook guide: Chapters 1-6"
     ]
    },
    {
     "cell_type": "markdown",
     "metadata": {},
     "source": [
      "<img src='images/ana.PNG', align='left'><img src = \"images/ipy.PNG\", align=\"left\"><img src = \"images/Rlogo.PNG\", align=\"right\", height=200, width=200>"
     ]
    },
    {
     "cell_type": "markdown",
     "metadata": {},
     "source": [
      "<img src = \"images/gitlogo.PNG\", align=\"left\", height=400, width = 400><img src = \"images/pythocat.PNG\", height=300, width=300>"
     ]
    }
   ],
   "metadata": {}
  }
 ]
}