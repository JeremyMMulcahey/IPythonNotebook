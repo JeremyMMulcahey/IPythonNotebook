{
 "metadata": {
  "name": "",
  "signature": "sha256:6ce9b6e9f090f8b260a8cf42b33b38b7fa1fda1f18846ae4716fb82a4cff7f0d"
 },
 "nbformat": 3,
 "nbformat_minor": 0,
 "worksheets": [
  {
   "cells": [
    {
     "cell_type": "heading",
     "level": 1,
     "metadata": {},
     "source": [
      "Introduction to Python and the IPython Notebook for Data Analysis"
     ]
    },
    {
     "cell_type": "heading",
     "level": 3,
     "metadata": {},
     "source": [
      "Senior Project by Jeremy Mulcahey<br><br>\n",
      "Cal Poly Statistics Department<br><br>\n",
      "Presented November 2014"
     ]
    },
    {
     "cell_type": "markdown",
     "metadata": {},
     "source": [
      "<img src = \"images/ipy.PNG\", align=\"left\">"
     ]
    },
    {
     "cell_type": "heading",
     "level": 1,
     "metadata": {},
     "source": [
      "Outline"
     ]
    },
    {
     "cell_type": "markdown",
     "metadata": {},
     "source": [
      "<ul>\n",
      "<li>\n",
      "<a href = \"Introduction.ipynb\">Introduction</a>\n",
      "</li>\n",
      "\n",
      "<li>\n",
      "<a href = \"Project.ipynb\">The Project</a>\n",
      "</li>\n",
      "\n",
      "<ul>\n",
      "<li>\n",
      "<a href = \"Precision.ipynb\">Precision of Calculations Performed in Python</a>\n",
      "</li>\n",
      "\n",
      "<li>\n",
      "<a href = \"Datastream.ipynb\">Streaming & Plotting Data</a>\n",
      "</li>\n",
      "\n",
      "<li>\n",
      "<a href = \"TimeseriesApp.ipynb\">Approximating Model Coefficients Widget</a>\n",
      "</li>\n",
      "</ul>\n",
      "\n",
      "<li>\n",
      "<a href = \"Conclusions.ipynb\">Conclusion</a>\n",
      "</li>\n",
      "</ul>"
     ]
    },
    {
     "cell_type": "heading",
     "level": 1,
     "metadata": {},
     "source": [
      "Disclaimer"
     ]
    },
    {
     "cell_type": "markdown",
     "metadata": {},
     "source": [
      "There will be a lot of unaddressed support code executed during this presentation."
     ]
    }
   ],
   "metadata": {}
  }
 ]
}