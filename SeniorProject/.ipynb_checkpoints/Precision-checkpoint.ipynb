{
 "metadata": {
  "name": "",
  "signature": "sha256:1175973f1a69ad4aa3ca19b7523882ea453bcdb0cd507276a754a1e20bdf1295"
 },
 "nbformat": 3,
 "nbformat_minor": 0,
 "worksheets": [
  {
   "cells": [
    {
     "cell_type": "heading",
     "level": 1,
     "metadata": {},
     "source": [
      "Statistical Data Analysis in Python and IPython Notebook: Chapter 7"
     ]
    },
    {
     "cell_type": "markdown",
     "metadata": {},
     "source": [
      "The NIST \"is the federal technology agency that works with industry to develop and apply technology, measurements, and standards.\" The NIST has an online dataset archive that provides certified values for calculations performed during different types of data analysis. For this exercise, we will attempt to match the precision of the following regression statistics."
     ]
    },
    {
     "cell_type": "markdown",
     "metadata": {},
     "source": [
      "<img src='images/Capture.PNG'>"
     ]
    },
    {
     "cell_type": "code",
     "collapsed": false,
     "input": [
      "import urllib2 as ul\n",
      "import pandas as pd\n",
      "import numpy as np\n",
      "import matplotlib\n",
      "import scipy as sp\n",
      "from statsmodels.formula.api import ols\n",
      "from statsmodels.stats.anova import anova_lm\n",
      "import matplotlib.pyplot as plt\n",
      "from IPython.core.display import Image\n",
      "from matplotlib.gridspec import GridSpec\n",
      "import seaborn as sns\n",
      "%matplotlib inline"
     ],
     "language": "python",
     "metadata": {},
     "outputs": []
    },
    {
     "cell_type": "code",
     "collapsed": false,
     "input": [
      "url = 'http://www.itl.nist.gov/div898/strd/lls/data/LINKS/DATA/Norris.dat'\n",
      "open('data/Norris.dat','wb').write(ul.urlopen(url).read())"
     ],
     "language": "python",
     "metadata": {},
     "outputs": []
    },
    {
     "cell_type": "code",
     "collapsed": false,
     "input": [
      "NorrisData = np.loadtxt('data/Norris.dat',skiprows=60)\n",
      "NorrisFrame = pd.DataFrame(NorrisData,columns=['y','x'])"
     ],
     "language": "python",
     "metadata": {},
     "outputs": []
    },
    {
     "cell_type": "code",
     "collapsed": false,
     "input": [
      "NorrisLM = ols('y ~ x', NorrisFrame).fit()\n",
      "NorrisLM.summary()"
     ],
     "language": "python",
     "metadata": {},
     "outputs": []
    },
    {
     "cell_type": "code",
     "collapsed": false,
     "input": [
      "anova_lm(NorrisLM)"
     ],
     "language": "python",
     "metadata": {},
     "outputs": []
    },
    {
     "cell_type": "code",
     "collapsed": false,
     "input": [
      "print(NorrisLM.get_influence().summary_table())"
     ],
     "language": "python",
     "metadata": {},
     "outputs": []
    },
    {
     "cell_type": "code",
     "collapsed": false,
     "input": [
      "NorrisParams = NorrisLM.params"
     ],
     "language": "python",
     "metadata": {},
     "outputs": []
    },
    {
     "cell_type": "code",
     "collapsed": false,
     "input": [
      "PB0 = repr(NorrisParams[0])\n",
      "PB1 = repr(NorrisParams[1])\n",
      "PSTDofEstB0 = repr(NorrisLM.bse[0])\n",
      "PSTDofEstB1 = repr(NorrisLM.bse[1])\n",
      "Presstd = repr(np.sqrt(NorrisLM.mse_resid))\n",
      "PRsq = repr(NorrisLM.rsquared)\n",
      "PModSS = repr(NorrisLM.ess)\n",
      "PModMSE = repr(NorrisLM.mse_model)\n",
      "PModSSResid = repr(NorrisLM.ssr)\n",
      "PModMSEResid = repr(NorrisLM.mse_resid)\n",
      "PFstat = repr(NorrisLM.fvalue)\n",
      "\n",
      "PyVals = np.array([PB0, PB1, PSTDofEstB0, PSTDofEstB1,Presstd,PRsq,\n",
      "                     PModSS,PModMSE, PModSSResid,PModMSEResid,PFstat])"
     ],
     "language": "python",
     "metadata": {},
     "outputs": []
    },
    {
     "cell_type": "code",
     "collapsed": false,
     "input": [
      "B0 = '-0.262323073774029'\n",
      "B1 = '1.00211681802045'\n",
      "STDofEstB0 = '0.232818234301152'\n",
      "STDofEstB1 = '0.000429796848199937'\n",
      "resstd = '0.884796396144373'\n",
      "Rsq = '0.999993745883712'\n",
      "ModSS = '4255954.13232369'\n",
      "ModMSE = '4255954.13232369'\n",
      "ModSSResid = '26.6173985294224'\n",
      "ModMSEResid = '0.782864662630069'\n",
      "Fstat = '5436385.54079785'\n",
      "\n",
      "CertVals = np.array([B0, B1, STDofEstB0, STDofEstB1,resstd,Rsq,ModSS,\n",
      "                     ModMSE, ModSSResid,ModMSEResid,Fstat])"
     ],
     "language": "python",
     "metadata": {},
     "outputs": []
    },
    {
     "cell_type": "code",
     "collapsed": false,
     "input": [
      "RB0 = '-0.26232307377411718'\n",
      "RB1 = '1.00211681802045427'\n",
      "RSTDofEstB0 = '0.23281823430115431'\n",
      "RSTDofEstB1 = '0.00042979684819994'\n",
      "Rresstd = '0.88479639614437943784'\n",
      "RRsq = '0.999993745883712'\n",
      "RModSS = '4255954.13232369348406792'\n",
      "RModMSE = '4255954.13232369348406792'\n",
      "RModSSResid = '26.61739852942280038'\n",
      "RModMSEResid = '0.78286466263010001665'\n",
      "RFstat = '5436385.5407999996096'\n",
      "\n",
      "RVals = np.array([RB0, RB1, RSTDofEstB0, RSTDofEstB1,Rresstd,RRsq,\n",
      "                    RModSS,RModMSE, RModSSResid,RModMSEResid,RFstat])"
     ],
     "language": "python",
     "metadata": {},
     "outputs": []
    },
    {
     "cell_type": "code",
     "collapsed": false,
     "input": [
      "SB0 = '-0.26232307377383600'\n",
      "SB1 = '1.00211681802045000'\n",
      "SSTDofEstB0 = '0.23281823431377200'\n",
      "SSTDofEstB1 = '0.0004297968482232346'\n",
      "Sresstd = '0.884796396192334000'\n",
      "SRsq = '0.9999937458837110000'\n",
      "SModSS = '4255954.132323680000'\n",
      "SModMSE = '4255954.132323680000'\n",
      "SModSSResid = '26.61739853230800000'\n",
      "SModMSEResid = '0.782864662714941000'\n",
      "SFstat = '5436385.54020847000'\n",
      "    \n",
      "SASVals = np.array([SB0, SB1, SSTDofEstB0, SSTDofEstB1,Sresstd,SRsq,\n",
      "                    SModSS,SModMSE, SModSSResid,SModMSEResid,SFstat])"
     ],
     "language": "python",
     "metadata": {},
     "outputs": []
    },
    {
     "cell_type": "code",
     "collapsed": false,
     "input": [
      "def cert_val_lengths(CertifiedValuesArray):\n",
      "\n",
      "    CertValLengths = np.zeros(len(CertifiedValuesArray),dtype=int)\n",
      "    \n",
      "    for val in range(len(CertifiedValuesArray)):\n",
      "        CertValLengths[val]= len(CertifiedValuesArray[val])\n",
      "        \n",
      "    return CertValLengths"
     ],
     "language": "python",
     "metadata": {},
     "outputs": []
    },
    {
     "cell_type": "code",
     "collapsed": false,
     "input": [
      "def nist_compare(CalculatedValue, NISTValue, CertValLength):\n",
      "    \n",
      "    CalculatedList = list(CalculatedValue)\n",
      "    NISTList = list(NISTValue)\n",
      "    \n",
      "    counter = 0\n",
      "    \n",
      "    for val in range(CertValLength):\n",
      "        if CalculatedList[val] == NISTList[val]:\n",
      "            counter+=1\n",
      "        \n",
      "        else:\n",
      "            return counter\n",
      "\n",
      "    return counter"
     ],
     "language": "python",
     "metadata": {},
     "outputs": []
    },
    {
     "cell_type": "code",
     "collapsed": false,
     "input": [
      "def array_compare(CalculatedArray,NISTArray,LabelArray):\n",
      "        \n",
      "    ValMatches = np.zeros(len(NISTArray),dtype=int)\n",
      "    \n",
      "    CertValLengths = cert_val_lengths(NISTArray)\n",
      "    \n",
      "    for val in range(len(LabelArray)):\n",
      "        \n",
      "        ValMatch = nist_compare(CalculatedArray[val],\n",
      "                                NISTArray[val],CertValLengths[val])\n",
      "        \n",
      "        print(LabelArray[val], ValMatch,'of',CertValLengths[val])\n",
      "        \n",
      "        ValMatches[val] = ValMatch\n",
      "    \n",
      "    return ValMatches    "
     ],
     "language": "python",
     "metadata": {},
     "outputs": []
    },
    {
     "cell_type": "code",
     "collapsed": false,
     "input": [
      "NorrisLabels = np.array(['Beta0:','Beta1:','STDofEstimateB0:',\n",
      "                           'STDofEstimateB1','resstd:','R-sq:',\n",
      "                           'Model SS:','Model MS:','Model SSResid:',\n",
      "                           'Model MSResid:','F-stat:'])"
     ],
     "language": "python",
     "metadata": {},
     "outputs": []
    },
    {
     "cell_type": "code",
     "collapsed": false,
     "input": [
      "R = array_compare(RVals,CertVals,NorrisLabels)"
     ],
     "language": "python",
     "metadata": {},
     "outputs": []
    },
    {
     "cell_type": "code",
     "collapsed": false,
     "input": [
      "SAS = array_compare(SASVals,CertVals,NorrisLabels)"
     ],
     "language": "python",
     "metadata": {},
     "outputs": []
    },
    {
     "cell_type": "code",
     "collapsed": false,
     "input": [
      "Py = array_compare(PyVals,CertVals,NorrisLabels)"
     ],
     "language": "python",
     "metadata": {},
     "outputs": []
    },
    {
     "cell_type": "code",
     "collapsed": false,
     "input": [
      "R,SAS,Py,cert_val_lengths(CertVals)"
     ],
     "language": "python",
     "metadata": {},
     "outputs": []
    },
    {
     "cell_type": "code",
     "collapsed": false,
     "input": [
      "hist = plt.figure(figsize=(16,4))\n",
      "\n",
      "gs = GridSpec(1,2)\n",
      "\n",
      "axis = hist.add_subplot(gs[0,0])\n",
      "\n",
      "programs=4\n",
      "\n",
      "Matches = [np.sum(R),np.sum(SAS),np.sum(Py),np.sum(cert_val_lengths(CertVals))]\n",
      "\n",
      "loc = np.arange(programs)\n",
      "\n",
      "bars = axis.bar(loc, Matches)\n",
      "\n",
      "axis.set_ylim(0,200)\n",
      "axis.set_ylabel('# of matching values')\n",
      "axis.set_title('Precision of R,SAS,Py')\n",
      "\n",
      "axis.set_xticks(loc+.35)\n",
      "axis.set_xticklabels(['R', 'SAS', 'Python','NIST'])\n",
      "\n",
      "axis2 = hist.add_subplot(gs[0,1])\n",
      "bars2 = axis2.bar(loc, Matches)\n",
      "axis2.set_ylim(145,200)\n",
      "axis2.set_ylabel('# of matching values')\n",
      "axis2.set_title('Precision of R,SAS,Py')\n",
      "axis2.set_xticks(loc+.35)\n",
      "axis2.set_xticklabels(['R', 'SAS', 'Python','NIST'])\n",
      "\n",
      "Matches"
     ],
     "language": "python",
     "metadata": {},
     "outputs": []
    }
   ],
   "metadata": {}
  }
 ]
}