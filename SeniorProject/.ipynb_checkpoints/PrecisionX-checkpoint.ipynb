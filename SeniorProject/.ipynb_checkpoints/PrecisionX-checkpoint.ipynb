{
 "metadata": {
  "name": "",
  "signature": "sha256:cc3d8c74a06d264fe7b6913b273cd060f926b197cbd5c7d123cca7cfd924536a"
 },
 "nbformat": 3,
 "nbformat_minor": 0,
 "worksheets": [
  {
   "cells": [
    {
     "cell_type": "heading",
     "level": 1,
     "metadata": {},
     "source": [
      "Statistical Data Analysis in Python and IPython Notebook: Chapter 7"
     ]
    },
    {
     "cell_type": "markdown",
     "metadata": {},
     "source": [
      "The NIST \"is the federal technology agency that works with industry to develop and apply technology, measurements, and standards.\" The NIST has an online dataset archive that provides certified values for calculations performed during different types of data analysis. For this exercise, we will attempt to match the precision of the following regression statistics."
     ]
    },
    {
     "cell_type": "markdown",
     "metadata": {},
     "source": [
      "<img src='images/Capture.PNG'>"
     ]
    },
    {
     "cell_type": "code",
     "collapsed": false,
     "input": [
      "import urllib2 as ul\n",
      "import pandas as pd\n",
      "import numpy as np\n",
      "import matplotlib\n",
      "import scipy as sp\n",
      "from statsmodels.formula.api import ols\n",
      "from statsmodels.stats.anova import anova_lm\n",
      "import matplotlib.pyplot as plt\n",
      "from IPython.core.display import Image\n",
      "from matplotlib.gridspec import GridSpec\n",
      "import seaborn as sns\n",
      "%matplotlib inline"
     ],
     "language": "python",
     "metadata": {},
     "outputs": [],
     "prompt_number": 1
    },
    {
     "cell_type": "code",
     "collapsed": false,
     "input": [
      "url = 'http://www.itl.nist.gov/div898/strd/lls/data/LINKS/DATA/Norris.dat'\n",
      "open('data/Norris.dat','wb').write(ul.urlopen(url).read())"
     ],
     "language": "python",
     "metadata": {},
     "outputs": [],
     "prompt_number": 2
    },
    {
     "cell_type": "code",
     "collapsed": false,
     "input": [
      "NorrisData = np.loadtxt('data/Norris.dat',skiprows=60)\n",
      "NorrisFrame = pd.DataFrame(NorrisData,columns=['y','x'])"
     ],
     "language": "python",
     "metadata": {},
     "outputs": [],
     "prompt_number": 3
    },
    {
     "cell_type": "code",
     "collapsed": false,
     "input": [
      "NorrisLM = ols('y ~ x', NorrisFrame).fit()\n",
      "NorrisLM.summary()"
     ],
     "language": "python",
     "metadata": {},
     "outputs": [
      {
       "html": [
        "<table class=\"simpletable\">\n",
        "<caption>OLS Regression Results</caption>\n",
        "<tr>\n",
        "  <th>Dep. Variable:</th>            <td>y</td>        <th>  R-squared:         </th> <td>   1.000</td> \n",
        "</tr>\n",
        "<tr>\n",
        "  <th>Model:</th>                   <td>OLS</td>       <th>  Adj. R-squared:    </th> <td>   1.000</td> \n",
        "</tr>\n",
        "<tr>\n",
        "  <th>Method:</th>             <td>Least Squares</td>  <th>  F-statistic:       </th> <td>5.436e+06</td>\n",
        "</tr>\n",
        "<tr>\n",
        "  <th>Date:</th>             <td>Mon, 10 Nov 2014</td> <th>  Prob (F-statistic):</th> <td>4.65e-90</td> \n",
        "</tr>\n",
        "<tr>\n",
        "  <th>Time:</th>                 <td>15:04:08</td>     <th>  Log-Likelihood:    </th> <td> -45.647</td> \n",
        "</tr>\n",
        "<tr>\n",
        "  <th>No. Observations:</th>      <td>    36</td>      <th>  AIC:               </th> <td>   95.29</td> \n",
        "</tr>\n",
        "<tr>\n",
        "  <th>Df Residuals:</th>          <td>    34</td>      <th>  BIC:               </th> <td>   98.46</td> \n",
        "</tr>\n",
        "<tr>\n",
        "  <th>Df Model:</th>              <td>     1</td>      <th>                     </th>     <td> </td>    \n",
        "</tr>\n",
        "</table>\n",
        "<table class=\"simpletable\">\n",
        "<tr>\n",
        "      <td></td>         <th>coef</th>     <th>std err</th>      <th>t</th>      <th>P>|t|</th> <th>[95.0% Conf. Int.]</th> \n",
        "</tr>\n",
        "<tr>\n",
        "  <th>Intercept</th> <td>   -0.2623</td> <td>    0.233</td> <td>   -1.127</td> <td> 0.268</td> <td>   -0.735     0.211</td>\n",
        "</tr>\n",
        "<tr>\n",
        "  <th>x</th>         <td>    1.0021</td> <td>    0.000</td> <td> 2331.606</td> <td> 0.000</td> <td>    1.001     1.003</td>\n",
        "</tr>\n",
        "</table>\n",
        "<table class=\"simpletable\">\n",
        "<tr>\n",
        "  <th>Omnibus:</th>       <td> 2.696</td> <th>  Durbin-Watson:     </th> <td>   1.272</td>\n",
        "</tr>\n",
        "<tr>\n",
        "  <th>Prob(Omnibus):</th> <td> 0.260</td> <th>  Jarque-Bera (JB):  </th> <td>   1.566</td>\n",
        "</tr>\n",
        "<tr>\n",
        "  <th>Skew:</th>          <td>-0.450</td> <th>  Prob(JB):          </th> <td>   0.457</td>\n",
        "</tr>\n",
        "<tr>\n",
        "  <th>Kurtosis:</th>      <td> 3.485</td> <th>  Cond. No.          </th> <td>    855.</td>\n",
        "</tr>\n",
        "</table>"
       ],
       "metadata": {},
       "output_type": "pyout",
       "prompt_number": 4,
       "text": [
        "<class 'statsmodels.iolib.summary.Summary'>\n",
        "\"\"\"\n",
        "                            OLS Regression Results                            \n",
        "==============================================================================\n",
        "Dep. Variable:                      y   R-squared:                       1.000\n",
        "Model:                            OLS   Adj. R-squared:                  1.000\n",
        "Method:                 Least Squares   F-statistic:                 5.436e+06\n",
        "Date:                Mon, 10 Nov 2014   Prob (F-statistic):           4.65e-90\n",
        "Time:                        15:04:08   Log-Likelihood:                -45.647\n",
        "No. Observations:                  36   AIC:                             95.29\n",
        "Df Residuals:                      34   BIC:                             98.46\n",
        "Df Model:                           1                                         \n",
        "==============================================================================\n",
        "                 coef    std err          t      P>|t|      [95.0% Conf. Int.]\n",
        "------------------------------------------------------------------------------\n",
        "Intercept     -0.2623      0.233     -1.127      0.268        -0.735     0.211\n",
        "x              1.0021      0.000   2331.606      0.000         1.001     1.003\n",
        "==============================================================================\n",
        "Omnibus:                        2.696   Durbin-Watson:                   1.272\n",
        "Prob(Omnibus):                  0.260   Jarque-Bera (JB):                1.566\n",
        "Skew:                          -0.450   Prob(JB):                        0.457\n",
        "Kurtosis:                       3.485   Cond. No.                         855.\n",
        "==============================================================================\n",
        "\"\"\""
       ]
      }
     ],
     "prompt_number": 4
    },
    {
     "cell_type": "code",
     "collapsed": false,
     "input": [
      "anova_lm(NorrisLM)"
     ],
     "language": "python",
     "metadata": {},
     "outputs": [
      {
       "html": [
        "<div style=\"max-height:1000px;max-width:1500px;overflow:auto;\">\n",
        "<table border=\"1\" class=\"dataframe\">\n",
        "  <thead>\n",
        "    <tr style=\"text-align: right;\">\n",
        "      <th></th>\n",
        "      <th>df</th>\n",
        "      <th>sum_sq</th>\n",
        "      <th>mean_sq</th>\n",
        "      <th>F</th>\n",
        "      <th>PR(&gt;F)</th>\n",
        "    </tr>\n",
        "  </thead>\n",
        "  <tbody>\n",
        "    <tr>\n",
        "      <th>x</th>\n",
        "      <td>  1</td>\n",
        "      <td> 4255954.132324</td>\n",
        "      <td> 4255954.132324</td>\n",
        "      <td> 5436385.540798</td>\n",
        "      <td> 4.654041e-90</td>\n",
        "    </tr>\n",
        "    <tr>\n",
        "      <th>Residual</th>\n",
        "      <td> 34</td>\n",
        "      <td>      26.617399</td>\n",
        "      <td>       0.782865</td>\n",
        "      <td>            NaN</td>\n",
        "      <td>          NaN</td>\n",
        "    </tr>\n",
        "  </tbody>\n",
        "</table>\n",
        "</div>"
       ],
       "metadata": {},
       "output_type": "pyout",
       "prompt_number": 5,
       "text": [
        "          df          sum_sq         mean_sq               F        PR(>F)\n",
        "x          1  4255954.132324  4255954.132324  5436385.540798  4.654041e-90\n",
        "Residual  34       26.617399        0.782865             NaN           NaN"
       ]
      }
     ],
     "prompt_number": 5
    },
    {
     "cell_type": "code",
     "collapsed": false,
     "input": [
      "print(NorrisLM.get_influence().summary_table())"
     ],
     "language": "python",
     "metadata": {},
     "outputs": [
      {
       "output_type": "stream",
       "stream": "stdout",
       "text": [
        "==================================================================================================\n",
        "       obs      endog     fitted     Cook's   student.   hat diag    dffits   ext.stud.     dffits\n",
        "                           value          d   residual              internal   residual           \n",
        "--------------------------------------------------------------------------------------------------\n",
        "         0      0.100     -0.062      0.001      0.190      0.069      0.052      0.187      0.051\n",
        "         1    338.800    337.852      0.018      1.088      0.029      0.189      1.091      0.190\n",
        "         2    118.100    118.188      0.000     -0.102      0.049     -0.023     -0.100     -0.023\n",
        "         3    888.000    886.210      0.190      2.108      0.079      0.617      2.227      0.652\n",
        "         4      9.200      9.859      0.021     -0.771      0.067     -0.207     -0.767     -0.206\n",
        "         5    228.100    226.717      0.048      1.592      0.037      0.310      1.631      0.318\n",
        "         6    668.500    667.448      0.032      1.215      0.042      0.255      1.224      0.257\n",
        "         7    998.500    998.147      0.011      0.422      0.106      0.146      0.417      0.144\n",
        "         8    449.100    449.287      0.001     -0.215      0.028     -0.036     -0.212     -0.036\n",
        "         9    778.900    778.382      0.011      0.603      0.058      0.150      0.597      0.148\n",
        "        10    559.200    559.119      0.000      0.093      0.032      0.017      0.091      0.017\n",
        "        11      0.300      0.139      0.001      0.189      0.069      0.052      0.186      0.051\n",
        "        12      0.100      0.339      0.003     -0.280      0.069     -0.076     -0.276     -0.075\n",
        "        13    778.100    776.879      0.062      1.421      0.058      0.352      1.444      0.357\n",
        "        14    668.800    668.049      0.017      0.867      0.042      0.182      0.864      0.181\n",
        "        15    339.300    338.453      0.014      0.971      0.029      0.169      0.971      0.169\n",
        "        16    448.900    448.185      0.010      0.820      0.028      0.139      0.816      0.138\n",
        "        17     10.800     11.362      0.016     -0.658      0.067     -0.176     -0.652     -0.175\n",
        "        18    557.700    556.915      0.014      0.902      0.032      0.165      0.900      0.164\n",
        "        19    228.300    228.321      0.000     -0.024      0.036     -0.005     -0.023     -0.005\n",
        "        20    998.000    997.646      0.011      0.424      0.106      0.146      0.419      0.144\n",
        "        21    888.800    889.217      0.010     -0.491      0.080     -0.144     -0.485     -0.143\n",
        "        22    119.600    120.192      0.012     -0.686      0.049     -0.156     -0.681     -0.154\n",
        "        23      0.300      0.038      0.003      0.307      0.069      0.084      0.302      0.082\n",
        "        24      0.600      0.038      0.016      0.658      0.069      0.179      0.652      0.178\n",
        "        25    557.600    557.716      0.000     -0.134      0.032     -0.024     -0.132     -0.024\n",
        "        26    339.300    339.555      0.001     -0.293      0.029     -0.051     -0.289     -0.050\n",
        "        27    888.000    888.816      0.040     -0.961      0.079     -0.282     -0.960     -0.282\n",
        "        28    998.500   1000.852      0.475     -2.814      0.107     -0.974     -3.165     -1.096\n",
        "        29    778.900    780.387      0.093     -1.732      0.058     -0.431     -1.786     -0.445\n",
        "        30     10.200     10.861      0.022     -0.774      0.067     -0.207     -0.769     -0.206\n",
        "        31    117.600    118.288      0.016     -0.798      0.049     -0.181     -0.793     -0.180\n",
        "        32    228.900    229.423      0.007     -0.602      0.036     -0.117     -0.596     -0.116\n",
        "        33    668.400    670.254      0.102     -2.141      0.043     -0.451     -2.268     -0.478\n",
        "        34    449.200    449.588      0.003     -0.445      0.028     -0.075     -0.439     -0.075\n",
        "        35      0.200      0.239      0.000     -0.045      0.069     -0.012     -0.045     -0.012\n",
        "==================================================================================================\n"
       ]
      }
     ],
     "prompt_number": 6
    },
    {
     "cell_type": "code",
     "collapsed": false,
     "input": [
      "NorrisParams = NorrisLM.params"
     ],
     "language": "python",
     "metadata": {},
     "outputs": [],
     "prompt_number": 7
    },
    {
     "cell_type": "code",
     "collapsed": false,
     "input": [
      "PB0 = repr(NorrisParams[0])\n",
      "PB1 = repr(NorrisParams[1])\n",
      "PSTDofEstB0 = repr(NorrisLM.bse[0])\n",
      "PSTDofEstB1 = repr(NorrisLM.bse[1])\n",
      "Presstd = repr(np.sqrt(NorrisLM.mse_resid))\n",
      "PRsq = repr(NorrisLM.rsquared)\n",
      "PModSS = repr(NorrisLM.ess)\n",
      "PModMSE = repr(NorrisLM.mse_model)\n",
      "PModSSResid = repr(NorrisLM.ssr)\n",
      "PModMSEResid = repr(NorrisLM.mse_resid)\n",
      "PFstat = repr(NorrisLM.fvalue)\n",
      "\n",
      "PyVals = np.array([PB0, PB1, PSTDofEstB0, PSTDofEstB1,Presstd,PRsq,\n",
      "                     PModSS,PModMSE, PModSSResid,PModMSEResid,PFstat])"
     ],
     "language": "python",
     "metadata": {},
     "outputs": [],
     "prompt_number": 8
    },
    {
     "cell_type": "code",
     "collapsed": false,
     "input": [
      "B0 = '-0.262323073774029'\n",
      "B1 = '1.00211681802045'\n",
      "STDofEstB0 = '0.232818234301152'\n",
      "STDofEstB1 = '0.000429796848199937'\n",
      "resstd = '0.884796396144373'\n",
      "Rsq = '0.999993745883712'\n",
      "ModSS = '4255954.13232369'\n",
      "ModMSE = '4255954.13232369'\n",
      "ModSSResid = '26.6173985294224'\n",
      "ModMSEResid = '0.782864662630069'\n",
      "Fstat = '5436385.54079785'\n",
      "\n",
      "CertVals = np.array([B0, B1, STDofEstB0, STDofEstB1,resstd,Rsq,ModSS,\n",
      "                     ModMSE, ModSSResid,ModMSEResid,Fstat])"
     ],
     "language": "python",
     "metadata": {},
     "outputs": [],
     "prompt_number": 9
    },
    {
     "cell_type": "code",
     "collapsed": false,
     "input": [
      "RB0 = '-0.26232307377411718'\n",
      "RB1 = '1.00211681802045427'\n",
      "RSTDofEstB0 = '0.23281823430115431'\n",
      "RSTDofEstB1 = '0.00042979684819994'\n",
      "Rresstd = '0.88479639614437943784'\n",
      "RRsq = '0.999993745883712'\n",
      "RModSS = '4255954.13232369348406792'\n",
      "RModMSE = '4255954.13232369348406792'\n",
      "RModSSResid = '26.61739852942280038'\n",
      "RModMSEResid = '0.78286466263010001665'\n",
      "RFstat = '5436385.5407999996096'\n",
      "\n",
      "RVals = np.array([RB0, RB1, RSTDofEstB0, RSTDofEstB1,Rresstd,RRsq,\n",
      "                    RModSS,RModMSE, RModSSResid,RModMSEResid,RFstat])"
     ],
     "language": "python",
     "metadata": {},
     "outputs": [],
     "prompt_number": 10
    },
    {
     "cell_type": "code",
     "collapsed": false,
     "input": [
      "SB0 = '-0.26232307377383600'\n",
      "SB1 = '1.00211681802045000'\n",
      "SSTDofEstB0 = '0.23281823431377200'\n",
      "SSTDofEstB1 = '0.0004297968482232346'\n",
      "Sresstd = '0.884796396192334000'\n",
      "SRsq = '0.9999937458837110000'\n",
      "SModSS = '4255954.132323680000'\n",
      "SModMSE = '4255954.132323680000'\n",
      "SModSSResid = '26.61739853230800000'\n",
      "SModMSEResid = '0.782864662714941000'\n",
      "SFstat = '5436385.54020847000'\n",
      "    \n",
      "SASVals = np.array([SB0, SB1, SSTDofEstB0, SSTDofEstB1,Sresstd,SRsq,\n",
      "                    SModSS,SModMSE, SModSSResid,SModMSEResid,SFstat])"
     ],
     "language": "python",
     "metadata": {},
     "outputs": [],
     "prompt_number": 11
    },
    {
     "cell_type": "code",
     "collapsed": false,
     "input": [
      "def cert_val_lengths(CertifiedValuesArray):\n",
      "\n",
      "    CertValLengths = np.zeros(len(CertifiedValuesArray),dtype=int)\n",
      "    \n",
      "    for val in range(len(CertifiedValuesArray)):\n",
      "        CertValLengths[val]= len(CertifiedValuesArray[val])\n",
      "        \n",
      "    return CertValLengths"
     ],
     "language": "python",
     "metadata": {},
     "outputs": [],
     "prompt_number": 12
    },
    {
     "cell_type": "code",
     "collapsed": false,
     "input": [
      "def nist_compare(CalculatedValue, NISTValue, CertValLength):\n",
      "    \n",
      "    CalculatedList = list(CalculatedValue)\n",
      "    NISTList = list(NISTValue)\n",
      "    \n",
      "    counter = 0\n",
      "    \n",
      "    for val in range(CertValLength):\n",
      "        if CalculatedList[val] == NISTList[val]:\n",
      "            counter+=1\n",
      "        \n",
      "        else:\n",
      "            return counter\n",
      "\n",
      "    return counter"
     ],
     "language": "python",
     "metadata": {},
     "outputs": [],
     "prompt_number": 13
    },
    {
     "cell_type": "code",
     "collapsed": false,
     "input": [
      "def array_compare(CalculatedArray,NISTArray,LabelArray):\n",
      "        \n",
      "    ValMatches = np.zeros(len(NISTArray),dtype=int)\n",
      "    \n",
      "    CertValLengths = cert_val_lengths(NISTArray)\n",
      "    \n",
      "    for val in range(len(LabelArray)):\n",
      "        \n",
      "        ValMatch = nist_compare(CalculatedArray[val],\n",
      "                                NISTArray[val],CertValLengths[val])\n",
      "        \n",
      "        print(LabelArray[val], ValMatch,'of',CertValLengths[val])\n",
      "        \n",
      "        ValMatches[val] = ValMatch\n",
      "    \n",
      "    return ValMatches    "
     ],
     "language": "python",
     "metadata": {},
     "outputs": [],
     "prompt_number": 14
    },
    {
     "cell_type": "code",
     "collapsed": false,
     "input": [
      "NorrisLabels = np.array(['Beta0:','Beta1:','STDofEstimateB0:',\n",
      "                           'STDofEstimateB1','resstd:','R-sq:',\n",
      "                           'Model SS:','Model MS:','Model SSResid:',\n",
      "                           'Model MSResid:','F-stat:'])"
     ],
     "language": "python",
     "metadata": {},
     "outputs": [],
     "prompt_number": 15
    },
    {
     "cell_type": "code",
     "collapsed": false,
     "input": [
      "R = array_compare(RVals,CertVals,NorrisLabels)"
     ],
     "language": "python",
     "metadata": {},
     "outputs": [
      {
       "output_type": "stream",
       "stream": "stdout",
       "text": [
        "('Beta0:', 15, 'of', 18)\n",
        "('Beta1:', 16, 'of', 16)\n",
        "('STDofEstimateB0:', 16, 'of', 17)\n",
        "('STDofEstimateB1', 18, 'of', 20)\n",
        "('resstd:', 16, 'of', 17)\n",
        "('R-sq:', 17, 'of', 17)\n",
        "('Model SS:', 16, 'of', 16)\n",
        "('Model MS:', 16, 'of', 16)\n",
        "('Model SSResid:', 15, 'of', 16)\n",
        "('Model MSResid:', 14, 'of', 17)\n",
        "('F-stat:', 13, 'of', 16)\n"
       ]
      }
     ],
     "prompt_number": 16
    },
    {
     "cell_type": "code",
     "collapsed": false,
     "input": [
      "SAS = array_compare(SASVals,CertVals,NorrisLabels)"
     ],
     "language": "python",
     "metadata": {},
     "outputs": [
      {
       "output_type": "stream",
       "stream": "stdout",
       "text": [
        "('Beta0:', 14, 'of', 18)\n",
        "('Beta1:', 16, 'of', 16)\n",
        "('STDofEstimateB0:', 12, 'of', 17)\n",
        "('STDofEstimateB1', 14, 'of', 20)\n",
        "('resstd:', 12, 'of', 17)\n",
        "('R-sq:', 16, 'of', 17)\n",
        "('Model SS:', 15, 'of', 16)\n",
        "('Model MS:', 15, 'of', 16)\n",
        "('Model SSResid:', 10, 'of', 16)\n",
        "('Model MSResid:', 11, 'of', 17)\n",
        "('F-stat:', 11, 'of', 16)\n"
       ]
      }
     ],
     "prompt_number": 17
    },
    {
     "cell_type": "code",
     "collapsed": false,
     "input": [
      "Py = array_compare(PyVals,CertVals,NorrisLabels)"
     ],
     "language": "python",
     "metadata": {},
     "outputs": [
      {
       "output_type": "stream",
       "stream": "stdout",
       "text": [
        "('Beta0:', 16, 'of', 18)\n",
        "('Beta1:', 16, 'of', 16)\n",
        "('STDofEstimateB0:', 16, 'of', 17)\n",
        "('STDofEstimateB1', 18, 'of', 20)\n",
        "('resstd:', 16, 'of', 17)\n",
        "('R-sq:', 16, 'of', 17)\n",
        "('Model SS:', 16, 'of', 16)\n",
        "('Model MS:', 16, 'of', 16)\n",
        "('Model SSResid:', 15, 'of', 16)\n",
        "('Model MSResid:', 15, 'of', 17)\n",
        "('F-stat:', 14, 'of', 16)\n"
       ]
      }
     ],
     "prompt_number": 18
    },
    {
     "cell_type": "code",
     "collapsed": false,
     "input": [
      "R,SAS,Py,cert_val_lengths(CertVals)"
     ],
     "language": "python",
     "metadata": {},
     "outputs": [
      {
       "metadata": {},
       "output_type": "pyout",
       "prompt_number": 19,
       "text": [
        "(array([15, 16, 16, 18, 16, 17, 16, 16, 15, 14, 13]),\n",
        " array([14, 16, 12, 14, 12, 16, 15, 15, 10, 11, 11]),\n",
        " array([16, 16, 16, 18, 16, 16, 16, 16, 15, 15, 14]),\n",
        " array([18, 16, 17, 20, 17, 17, 16, 16, 16, 17, 16]))"
       ]
      }
     ],
     "prompt_number": 19
    },
    {
     "cell_type": "code",
     "collapsed": false,
     "input": [
      "hist = plt.figure(figsize=(16,4))\n",
      "\n",
      "gs = GridSpec(1,2)\n",
      "\n",
      "axis = hist.add_subplot(gs[0,0])\n",
      "\n",
      "programs=4\n",
      "\n",
      "Matches = [np.sum(R),np.sum(SAS),np.sum(Py),np.sum(cert_val_lengths(CertVals))]\n",
      "\n",
      "loc = np.arange(programs)\n",
      "\n",
      "bars = axis.bar(loc, Matches)\n",
      "\n",
      "axis.set_ylim(0,200)\n",
      "axis.set_ylabel('# of matching values')\n",
      "axis.set_title('Precision of R,SAS,Py')\n",
      "\n",
      "axis.set_xticks(loc+.35)\n",
      "axis.set_xticklabels(['R', 'SAS', 'Python','NIST'])\n",
      "\n",
      "axis2 = hist.add_subplot(gs[0,1])\n",
      "bars2 = axis2.bar(loc, Matches)\n",
      "axis2.set_ylim(145,200)\n",
      "axis2.set_ylabel('# of matching values')\n",
      "axis2.set_title('Precision of R,SAS,Py')\n",
      "axis2.set_xticks(loc+.35)\n",
      "axis2.set_xticklabels(['R', 'SAS', 'Python','NIST'])\n",
      "\n",
      "Matches"
     ],
     "language": "python",
     "metadata": {},
     "outputs": [
      {
       "metadata": {},
       "output_type": "pyout",
       "prompt_number": 20,
       "text": [
        "[172, 146, 174, 186]"
       ]
      },
      {
       "metadata": {},
       "output_type": "display_data",
       "png": "[encoded data removed]",
       "text": [
        "<matplotlib.figure.Figure at 0x166aec50>"
       ]
      }
     ],
     "prompt_number": 20
    }
   ],
   "metadata": {}
  }
 ]
}