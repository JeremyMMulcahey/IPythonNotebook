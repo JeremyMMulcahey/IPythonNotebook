{
 "metadata": {
  "name": "",
  "signature": "sha256:b487d92fa3effd2953d88b73d8a30baecccb1c882e2ea98d7947f95c52eed351"
 },
 "nbformat": 3,
 "nbformat_minor": 0,
 "worksheets": [
  {
   "cells": [
    {
     "cell_type": "heading",
     "level": 1,
     "metadata": {},
     "source": [
      "Chapter 7<br>Statistical Data Analysis in Python and the IPython Notebook"
     ]
    },
    {
     "cell_type": "markdown",
     "metadata": {},
     "source": [
      "This chapter will provide an introduction to coding in Python, using statistical packages for analyzing and visualizing data, and establish ways to extract precise values in R, SAS, and Python."
     ]
    },
    {
     "cell_type": "markdown",
     "metadata": {},
     "source": [
      "Before introducing IPython as an alternative to R and SAS for data analysis, we chose to investigate the precision of IPython's statistical packages compared to R and SAS. Three datasets were selected from NIST (National Institute of Standards and Technology) data archives and analyzed using Python, R, and SAS. The NIST \"is the federal technology agency that works with industry to develop and apply technology, measurements, and standards.\" NIST analyzed each dataset and provides the type of analysis, graphics, and a corresponding set of certified values. After analyzing each dataset in Python, R, and SAS with the recommended data analysis technique (regression, ANOVA, or univariate statistical summary), the output values from each of the 3 programs are compared to one another and compared to the NIST certified values to determine the precision of their calculations."
     ]
    },
    {
     "cell_type": "markdown",
     "metadata": {},
     "source": [
      "Throughout this chapter, Python code will be introduced and commented. Some syntactical and object oriented language elements will be explained as needed. If you would like to learn more about Python syntax, visit Dr. Grangers' notebook at http://bit.ly/1tGJgxu."
     ]
    },
    {
     "cell_type": "heading",
     "level": 2,
     "metadata": {},
     "source": [
      "7.1 Python Packages for data analysis and the Import Cell"
     ]
    },
    {
     "cell_type": "markdown",
     "metadata": {},
     "source": [
      "Packages can be imported in any cell at any time. My preference is to import relevant packages and commands into a common cell at the beginning of the notebook, or section of the notebook. This will provide a collection of packages, with their abbreviations, in one location. In the event that you cannot remember if you have imported a package, or what you imported it as, revisit the import cell."
     ]
    },
    {
     "cell_type": "markdown",
     "metadata": {},
     "source": [
      "Below is the list of packages we will need for this section. Open the command prompt and submit the following lines:\n",
      "\n",
      "    pip install seaborn\n",
      "    pip install urllib2\n",
      "    \n",
      "See Section 2.3 for a detailed description of this process. Then, copy and execute the cell of packages by pasting them into your notebook cell and hitting shift+enter."
     ]
    },
    {
     "cell_type": "code",
     "collapsed": false,
     "input": [
      "import urllib2 as ul\n",
      "import pandas as pd\n",
      "import numpy as np\n",
      "import matplotlib\n",
      "import scipy as sp\n",
      "from statsmodels.formula.api import ols\n",
      "from statsmodels.stats.anova import anova_lm\n",
      "import matplotlib.pyplot as plt\n",
      "from IPython.core.display import Image\n",
      "from matplotlib.gridspec import GridSpec\n",
      "import seaborn as sns\n",
      "\n",
      "#This command enables plots to appear below the cell they are created in\n",
      "%matplotlib inline"
     ],
     "language": "python",
     "metadata": {},
     "outputs": [],
     "prompt_number": 4
    },
    {
     "cell_type": "heading",
     "level": 2,
     "metadata": {},
     "source": [
      "7.2 Linear Regression Analysis: Norris Dataset"
     ]
    },
    {
     "cell_type": "heading",
     "level": 3,
     "metadata": {},
     "source": [
      "7.2.1 Object Oriented Language Introduction: Reading in and preparing data from an ASCII webpage"
     ]
    },
    {
     "cell_type": "markdown",
     "metadata": {},
     "source": [
      "In this section we will read data from a webpage into a Pandas DataFrame. The goal, for most of the data analysis performed in this notebook, is to get data from any source into a Pandas DataFrame. In addition to the DataFrame's built-in functionality, the DataFrame object is simple to access, analyze, and manipulate. "
     ]
    },
    {
     "cell_type": "code",
     "collapsed": false,
     "input": [
      "#create a variable for the web address.\n",
      "url = 'http://www.itl.nist.gov/div898/strd/lls/data/LINKS/DATA/Norris.dat'\n",
      "\n",
      "#open creates a file object named Norris.dat.\n",
      "#wb allows us to write to the file object.\n",
      "#file objects have a built-in function to write to the file.\n",
      "#use the urllib2 package as ul to write the website to the file.\n",
      "#the .read function is built-in to the ul object.\n",
      "open('data/Norris.dat','wb').write(ul.urlopen(url).read())"
     ],
     "language": "python",
     "metadata": {},
     "outputs": [],
     "prompt_number": 2
    },
    {
     "cell_type": "markdown",
     "metadata": {},
     "source": [
      "All relevant Python arguments and functions are described in embedded comments in the cell above. The majority of this section will thoroughly introduce new functions, arguments, and the reason for using them."
     ]
    },
    {
     "cell_type": "markdown",
     "metadata": {},
     "source": [
      "This is the first cell that takes advantage of Python being an object oriented language. As demonstrated objects have data and functions associated with them.\n",
      "A file knows how to write to itself, and the open function knows how to read the content of the page. By passing arguments (such as the filename and url) we are using what the objects know to accomplish what we need to accomplish."
     ]
    },
    {
     "cell_type": "code",
     "collapsed": false,
     "input": [
      "#creates a NumPy array named NorrisData.\n",
      "#uses the loadtxt method from the NumPy package (np) to read in \n",
      "#the data from line 60 to the end of the file.\n",
      "NorrisData = np.loadtxt('data/Norris.dat',skiprows=60)"
     ],
     "language": "python",
     "metadata": {},
     "outputs": [],
     "prompt_number": 3
    },
    {
     "cell_type": "markdown",
     "metadata": {},
     "source": [
      "Since the NIST datasets are provided in ASCII and start on line 60 of the webpage, creating a file and reading the file into a NumPy array proved to be the best method. From there, the data can be converted to a DataFrame. "
     ]
    },
    {
     "cell_type": "markdown",
     "metadata": {},
     "source": [
      "Note: Pandas does have its own file reading functions. Some later datasets will be read directly from a file/source into a DataFrame (instead of first reading into a NumPy array)."
     ]
    },
    {
     "cell_type": "code",
     "collapsed": false,
     "input": [
      "#create a DataFrame object using the Pandas package (pd).\n",
      "#the first argument is the np object with the data.\n",
      "#the second argument contains the desired column names.\n",
      "NorrisFrame = pd.DataFrame(NorrisData,columns=['y','x'])"
     ],
     "language": "python",
     "metadata": {},
     "outputs": [],
     "prompt_number": 4
    },
    {
     "cell_type": "markdown",
     "metadata": {},
     "source": [
      "There are many ways to verify if the data was read in correctly."
     ]
    },
    {
     "cell_type": "code",
     "collapsed": false,
     "input": [
      "#the dataframe object displays its first five observations.\n",
      "NorrisFrame.head()"
     ],
     "language": "python",
     "metadata": {},
     "outputs": [
      {
       "html": [
        "<div style=\"max-height:1000px;max-width:1500px;overflow:auto;\">\n",
        "<table border=\"1\" class=\"dataframe\">\n",
        "  <thead>\n",
        "    <tr style=\"text-align: right;\">\n",
        "      <th></th>\n",
        "      <th>y</th>\n",
        "      <th>x</th>\n",
        "    </tr>\n",
        "  </thead>\n",
        "  <tbody>\n",
        "    <tr>\n",
        "      <th>0</th>\n",
        "      <td>   0.1</td>\n",
        "      <td>   0.2</td>\n",
        "    </tr>\n",
        "    <tr>\n",
        "      <th>1</th>\n",
        "      <td> 338.8</td>\n",
        "      <td> 337.4</td>\n",
        "    </tr>\n",
        "    <tr>\n",
        "      <th>2</th>\n",
        "      <td> 118.1</td>\n",
        "      <td> 118.2</td>\n",
        "    </tr>\n",
        "    <tr>\n",
        "      <th>3</th>\n",
        "      <td> 888.0</td>\n",
        "      <td> 884.6</td>\n",
        "    </tr>\n",
        "    <tr>\n",
        "      <th>4</th>\n",
        "      <td>   9.2</td>\n",
        "      <td>  10.1</td>\n",
        "    </tr>\n",
        "  </tbody>\n",
        "</table>\n",
        "</div>"
       ],
       "metadata": {},
       "output_type": "pyout",
       "prompt_number": 5,
       "text": [
        "       y      x\n",
        "0    0.1    0.2\n",
        "1  338.8  337.4\n",
        "2  118.1  118.2\n",
        "3  888.0  884.6\n",
        "4    9.2   10.1"
       ]
      }
     ],
     "prompt_number": 5
    },
    {
     "cell_type": "code",
     "collapsed": false,
     "input": [
      "#the dataframe object displays its last five observations.\n",
      "NorrisFrame.tail()"
     ],
     "language": "python",
     "metadata": {},
     "outputs": [
      {
       "html": [
        "<div style=\"max-height:1000px;max-width:1500px;overflow:auto;\">\n",
        "<table border=\"1\" class=\"dataframe\">\n",
        "  <thead>\n",
        "    <tr style=\"text-align: right;\">\n",
        "      <th></th>\n",
        "      <th>y</th>\n",
        "      <th>x</th>\n",
        "    </tr>\n",
        "  </thead>\n",
        "  <tbody>\n",
        "    <tr>\n",
        "      <th>31</th>\n",
        "      <td> 117.6</td>\n",
        "      <td> 118.3</td>\n",
        "    </tr>\n",
        "    <tr>\n",
        "      <th>32</th>\n",
        "      <td> 228.9</td>\n",
        "      <td> 229.2</td>\n",
        "    </tr>\n",
        "    <tr>\n",
        "      <th>33</th>\n",
        "      <td> 668.4</td>\n",
        "      <td> 669.1</td>\n",
        "    </tr>\n",
        "    <tr>\n",
        "      <th>34</th>\n",
        "      <td> 449.2</td>\n",
        "      <td> 448.9</td>\n",
        "    </tr>\n",
        "    <tr>\n",
        "      <th>35</th>\n",
        "      <td>   0.2</td>\n",
        "      <td>   0.5</td>\n",
        "    </tr>\n",
        "  </tbody>\n",
        "</table>\n",
        "</div>"
       ],
       "metadata": {},
       "output_type": "pyout",
       "prompt_number": 6,
       "text": [
        "        y      x\n",
        "31  117.6  118.3\n",
        "32  228.9  229.2\n",
        "33  668.4  669.1\n",
        "34  449.2  448.9\n",
        "35    0.2    0.5"
       ]
      }
     ],
     "prompt_number": 6
    },
    {
     "cell_type": "markdown",
     "metadata": {},
     "source": [
      "It's clear the DataFrame contains all 36 observations (indices 0 to 35). The first value matches the first value of the webpage and the last value matches the last value of the webpage."
     ]
    },
    {
     "cell_type": "markdown",
     "metadata": {},
     "source": [
      "The number of observations can be verified using the length function."
     ]
    },
    {
     "cell_type": "code",
     "collapsed": false,
     "input": [
      "#length function used on the DataFrame.\n",
      "len(NorrisFrame)"
     ],
     "language": "python",
     "metadata": {},
     "outputs": [
      {
       "metadata": {},
       "output_type": "pyout",
       "prompt_number": 7,
       "text": [
        "36"
       ]
      }
     ],
     "prompt_number": 7
    },
    {
     "cell_type": "markdown",
     "metadata": {},
     "source": [
      "Before proceeding to the next section, we need to understand why the head and tail functions did not require arguments and how a user can find and call similar functions."
     ]
    },
    {
     "cell_type": "markdown",
     "metadata": {},
     "source": [
      "In Python, accessing functions/methods of an object always passes the object as the first argument. We do not see it, but what the code is really doing is executing <b>NorrisFrame.head(NorrisFrame)</b>, which returns the head of the NorrisFrame object."
     ]
    },
    {
     "cell_type": "markdown",
     "metadata": {},
     "source": [
      "The <b>dir()</b> function is how I decided to use the .head() and .tail() functions to verify the data read in correctly.\n",
      "\n",
      "To access the full list of data and methods an object has, execute:<b> dir(object name)</b>"
     ]
    },
    {
     "cell_type": "code",
     "collapsed": false,
     "input": [
      "#execute this code in your notebook. there is too much output for\n",
      "#this guide.\n",
      "dir(NorrisFrame)"
     ],
     "language": "python",
     "metadata": {},
     "outputs": []
    },
    {
     "cell_type": "markdown",
     "metadata": {},
     "source": [
      "Another way to access the directory of an object is to type <b>[object name].</b> into a cell and press the tab button on the keyboard.\n",
      "<img src = \"images/dir.PNG\">"
     ]
    },
    {
     "cell_type": "markdown",
     "metadata": {},
     "source": [
      "To recap this section, we created a data file from an ASCII webpage, read the data file into an array, and converted the array to a DataFrame with named columns - in 3 lines of code."
     ]
    },
    {
     "cell_type": "heading",
     "level": 3,
     "metadata": {},
     "source": [
      "7.2.2 NIST Certified Values"
     ]
    },
    {
     "cell_type": "markdown",
     "metadata": {},
     "source": [
      "The Certified values for this dataset can be found at:<br>\n",
      "http://www.itl.nist.gov/div898/strd/lls/data/LINKS/v-Norris.shtml\n",
      "\n",
      "For easy reference, they are included here.\n",
      "<img src='images/Capture.PNG' , height =50%, width = 50%>"
     ]
    },
    {
     "cell_type": "markdown",
     "metadata": {},
     "source": [
      "Store the NIST certified values in a np.array for later analysis."
     ]
    },
    {
     "cell_type": "code",
     "collapsed": false,
     "input": [
      "#saving the values as strings (i.e. in quotes '') will be useful later.\n",
      "B0 = '-0.262323073774029'\n",
      "B1 = '1.00211681802045'\n",
      "STDofEstB0 = '0.232818234301152'\n",
      "STDofEstB1 = '0.000429796848199937'\n",
      "resstd = '0.884796396144373'\n",
      "Rsq = '0.999993745883712'\n",
      "ModSS = '4255954.13232369'\n",
      "ModMSE = '4255954.13232369'\n",
      "ModSSResid = '26.6173985294224'\n",
      "ModMSEResid = '0.782864662630069'\n",
      "Fstat = '5436385.54079785'\n",
      "\n",
      "#creates an array object named CertVals containing the certified \n",
      "#values from above.\n",
      "CertVals = np.array([B0, B1, STDofEstB0, STDofEstB1,resstd,Rsq,ModSS,\n",
      "                     ModMSE, ModSSResid,ModMSEResid,Fstat])"
     ],
     "language": "python",
     "metadata": {},
     "outputs": [],
     "prompt_number": 9
    },
    {
     "cell_type": "markdown",
     "metadata": {},
     "source": [
      "The parameters estimates in Python, R, and SAS will be calculated and extracted in Sections 7.2.3, 7.2.4, and 7.2.5 respectively."
     ]
    },
    {
     "cell_type": "markdown",
     "metadata": {},
     "source": [
      "In Section 7.2.6 a full comparison and summary of the parameter estimates across the 3 packages with the NIST certified values will be performed."
     ]
    },
    {
     "cell_type": "heading",
     "level": 3,
     "metadata": {},
     "source": [
      "7.2.3 Linear Regression and ANOVA values in Python"
     ]
    },
    {
     "cell_type": "markdown",
     "metadata": {},
     "source": [
      "The package we will use for data analysis in this notebook is Statsmodels.\n",
      "\n",
      "The help documentation can be found at:<br>\n",
      "http://statsmodels.sourceforge.net/"
     ]
    },
    {
     "cell_type": "markdown",
     "metadata": {},
     "source": [
      "The Ordinary Least Squares function was imported as <b>ols</b> in the import cell (Section 7.1). Perform a regression on the Norris data to calculate the values needed for the accuracy comparison."
     ]
    },
    {
     "cell_type": "code",
     "collapsed": false,
     "input": [
      "#use the ols function with the column names from Section 7.2.1.\n",
      "#the first argument is regressing the y column on the x column. \n",
      "#the second argument is the DataFrame that contains the columns.\n",
      "#.fit() creates a full fit of the model.\n",
      "NorrisLM = ols('y ~ x', NorrisFrame).fit()\n",
      "print NorrisLM.summary()"
     ],
     "language": "python",
     "metadata": {},
     "outputs": [],
     "prompt_number": 11
    },
    {
     "cell_type": "markdown",
     "metadata": {},
     "source": [
      "<img src=\"images/ols.PNG\">"
     ]
    },
    {
     "cell_type": "markdown",
     "metadata": {},
     "source": [
      "Note: Access the directory of this new object by using dir() or tab. The linear model object has a wealth of information such as:"
     ]
    },
    {
     "cell_type": "markdown",
     "metadata": {},
     "source": [
      "<b>.get_influence().summary_table()</b>  (for Cook's distances, student residuals, leverage, fitted values, etc)"
     ]
    },
    {
     "cell_type": "markdown",
     "metadata": {},
     "source": [
      "<b>.resid()</b>   (for residuals)"
     ]
    },
    {
     "cell_type": "markdown",
     "metadata": {},
     "source": [
      "The <b>anova_lm()</b> function provides only the ANOVA table from the output."
     ]
    },
    {
     "cell_type": "markdown",
     "metadata": {},
     "source": [
      "<b>print NorrisLM.summary()</b> and executing <b>NorrisLM.summary()</b> (without the print command) provide the table in different formats."
     ]
    },
    {
     "cell_type": "markdown",
     "metadata": {},
     "source": [
      "The results provided by .summary() are far from the precision of the NIST values. Similar to R and SAS, more precise values can be extracted. Some values can be extracted directly from the linear model object and others have to be accessed through the EstimatedParameters object."
     ]
    },
    {
     "cell_type": "code",
     "collapsed": false,
     "input": [
      "#create an EstimatedParameters object.\n",
      "NorrisParams = NorrisLM.params"
     ],
     "language": "python",
     "metadata": {},
     "outputs": [],
     "prompt_number": 12
    },
    {
     "cell_type": "markdown",
     "metadata": {},
     "source": [
      "Store the Python values in a np.array for later analysis."
     ]
    },
    {
     "cell_type": "code",
     "collapsed": false,
     "input": [
      "#repr() converts values to strings without truncating them.\n",
      "PB0 = repr(NorrisParams[0])\n",
      "PB1 = repr(NorrisParams[1])\n",
      "PSTDofEstB0 = repr(NorrisLM.bse[0])\n",
      "PSTDofEstB1 = repr(NorrisLM.bse[1])\n",
      "Presstd = repr(np.sqrt(NorrisLM.mse_resid))\n",
      "PRsq = repr(NorrisLM.rsquared)\n",
      "PModSS = repr(NorrisLM.ess)\n",
      "PModMSE = repr(NorrisLM.mse_model)\n",
      "PModSSResid = repr(NorrisLM.ssr)\n",
      "PModMSEResid = repr(NorrisLM.mse_resid)\n",
      "PFstat = repr(NorrisLM.fvalue)\n",
      "\n",
      "PyVals = np.array([PB0, PB1, PSTDofEstB0, PSTDofEstB1,Presstd,PRsq,\n",
      "                     PModSS,PModMSE, PModSSResid,PModMSEResid,PFstat])"
     ],
     "language": "python",
     "metadata": {},
     "outputs": [],
     "prompt_number": 13
    },
    {
     "cell_type": "markdown",
     "metadata": {},
     "source": [
      "There is no shortcut or easier explanation to what happened in the cell above. Determining how to extract those values was the result of a lot of time, dir() usage, and help documentation. Use the code from this section in the future if you need to extract similar values from ols objects."
     ]
    },
    {
     "cell_type": "heading",
     "level": 3,
     "metadata": {},
     "source": [
      "7.2.4 Linear Regression and ANOVA values in R (using Rpy2)"
     ]
    },
    {
     "cell_type": "markdown",
     "metadata": {},
     "source": [
      "R or the IPython Notebook can be used to extract the necessary values for the accuracy comparison."
     ]
    },
    {
     "cell_type": "markdown",
     "metadata": {},
     "source": [
      "To prepare for working with R, export the Norris DataFrame as a csv file."
     ]
    },
    {
     "cell_type": "code",
     "collapsed": false,
     "input": [
      "NorrisFrame.to_csv('C:/Users/flunk_000/Desktop/CalPoly/IPythonNotebook/SeniorProject/data/NorrisFrame.txt')"
     ],
     "language": "python",
     "metadata": {},
     "outputs": [],
     "prompt_number": 34
    },
    {
     "cell_type": "code",
     "collapsed": false,
     "input": [
      "import rpy2\n",
      "%load_ext rpy2.ipython"
     ],
     "language": "python",
     "metadata": {},
     "outputs": [],
     "prompt_number": 35
    },
    {
     "cell_type": "markdown",
     "metadata": {},
     "source": [
      "Since this notebook is about using Python and the IPython Notebook, the R and SAS data extractions will be brief. \n",
      "\n",
      "To run R code in your notebook, start the line with <b>%R</b>.\n",
      "If you want execute an entire cell of R code, start the cell with <b>%%R</b>."
     ]
    },
    {
     "cell_type": "code",
     "collapsed": false,
     "input": [
      "%%R\n",
      "#read in data\n",
      "setwd(\"C:/Users/flunk_000/Desktop/CalPoly/IPythonNotebook/SeniorProject/\")\n",
      "Norris = read.csv('data/NorrisFrame.txt', header=T);\n",
      "NorrisFrame = as.data.frame(Norris);"
     ],
     "language": "python",
     "metadata": {},
     "outputs": [],
     "prompt_number": 36
    },
    {
     "cell_type": "code",
     "collapsed": false,
     "input": [
      "%R head(NorrisFrame)"
     ],
     "language": "python",
     "metadata": {},
     "outputs": [
      {
       "html": [
        "<div style=\"max-height:1000px;max-width:1500px;overflow:auto;\">\n",
        "<table border=\"1\" class=\"dataframe\">\n",
        "  <thead>\n",
        "    <tr style=\"text-align: right;\">\n",
        "      <th></th>\n",
        "      <th>X</th>\n",
        "      <th>y</th>\n",
        "      <th>x</th>\n",
        "    </tr>\n",
        "  </thead>\n",
        "  <tbody>\n",
        "    <tr>\n",
        "      <th>0</th>\n",
        "      <td> 0</td>\n",
        "      <td>   0.1</td>\n",
        "      <td>   0.2</td>\n",
        "    </tr>\n",
        "    <tr>\n",
        "      <th>1</th>\n",
        "      <td> 1</td>\n",
        "      <td> 338.8</td>\n",
        "      <td> 337.4</td>\n",
        "    </tr>\n",
        "    <tr>\n",
        "      <th>2</th>\n",
        "      <td> 2</td>\n",
        "      <td> 118.1</td>\n",
        "      <td> 118.2</td>\n",
        "    </tr>\n",
        "    <tr>\n",
        "      <th>3</th>\n",
        "      <td> 3</td>\n",
        "      <td> 888.0</td>\n",
        "      <td> 884.6</td>\n",
        "    </tr>\n",
        "    <tr>\n",
        "      <th>4</th>\n",
        "      <td> 4</td>\n",
        "      <td>   9.2</td>\n",
        "      <td>  10.1</td>\n",
        "    </tr>\n",
        "    <tr>\n",
        "      <th>5</th>\n",
        "      <td> 5</td>\n",
        "      <td> 228.1</td>\n",
        "      <td> 226.5</td>\n",
        "    </tr>\n",
        "  </tbody>\n",
        "</table>\n",
        "</div>"
       ],
       "metadata": {},
       "output_type": "pyout",
       "prompt_number": 37,
       "text": [
        "   X      y      x\n",
        "0  0    0.1    0.2\n",
        "1  1  338.8  337.4\n",
        "2  2  118.1  118.2\n",
        "3  3  888.0  884.6\n",
        "4  4    9.2   10.1\n",
        "5  5  228.1  226.5"
       ]
      }
     ],
     "prompt_number": 37
    },
    {
     "cell_type": "code",
     "collapsed": false,
     "input": [
      "%R tail(NorrisFrame)"
     ],
     "language": "python",
     "metadata": {},
     "outputs": [
      {
       "html": [
        "<div style=\"max-height:1000px;max-width:1500px;overflow:auto;\">\n",
        "<table border=\"1\" class=\"dataframe\">\n",
        "  <thead>\n",
        "    <tr style=\"text-align: right;\">\n",
        "      <th></th>\n",
        "      <th>X</th>\n",
        "      <th>y</th>\n",
        "      <th>x</th>\n",
        "    </tr>\n",
        "  </thead>\n",
        "  <tbody>\n",
        "    <tr>\n",
        "      <th>0</th>\n",
        "      <td> 30</td>\n",
        "      <td>  10.2</td>\n",
        "      <td>  11.1</td>\n",
        "    </tr>\n",
        "    <tr>\n",
        "      <th>1</th>\n",
        "      <td> 31</td>\n",
        "      <td> 117.6</td>\n",
        "      <td> 118.3</td>\n",
        "    </tr>\n",
        "    <tr>\n",
        "      <th>2</th>\n",
        "      <td> 32</td>\n",
        "      <td> 228.9</td>\n",
        "      <td> 229.2</td>\n",
        "    </tr>\n",
        "    <tr>\n",
        "      <th>3</th>\n",
        "      <td> 33</td>\n",
        "      <td> 668.4</td>\n",
        "      <td> 669.1</td>\n",
        "    </tr>\n",
        "    <tr>\n",
        "      <th>4</th>\n",
        "      <td> 34</td>\n",
        "      <td> 449.2</td>\n",
        "      <td> 448.9</td>\n",
        "    </tr>\n",
        "    <tr>\n",
        "      <th>5</th>\n",
        "      <td> 35</td>\n",
        "      <td>   0.2</td>\n",
        "      <td>   0.5</td>\n",
        "    </tr>\n",
        "  </tbody>\n",
        "</table>\n",
        "</div>"
       ],
       "metadata": {},
       "output_type": "pyout",
       "prompt_number": 38,
       "text": [
        "    X      y      x\n",
        "0  30   10.2   11.1\n",
        "1  31  117.6  118.3\n",
        "2  32  228.9  229.2\n",
        "3  33  668.4  669.1\n",
        "4  34  449.2  448.9\n",
        "5  35    0.2    0.5"
       ]
      }
     ],
     "prompt_number": 38
    },
    {
     "cell_type": "markdown",
     "metadata": {},
     "source": [
      "The data appears to have been read in correctly."
     ]
    },
    {
     "cell_type": "code",
     "collapsed": false,
     "input": [
      "%%R\n",
      "#analysis in R\n",
      "NorrisLM = lm(y ~ x, data=NorrisFrame);\n",
      "NorrisResid = NorrisLM$residuals;\n",
      "NorrisCoef = NorrisLM$coefficients; \n",
      "NorrisANOVA = aov(y ~ x, data=NorrisFrame);"
     ],
     "language": "python",
     "metadata": {},
     "outputs": [],
     "prompt_number": 39
    },
    {
     "cell_type": "code",
     "collapsed": false,
     "input": [
      "%%R\n",
      "#obtaining precise numbers in R\n",
      "print(summary(NorrisANOVA), digits =20);\n",
      "print(summary(NorrisLM), digits =20);\n",
      "print(sqrt(deviance(NorrisANOVA)/df.residual(NorrisANOVA)), digits = 20);"
     ],
     "language": "python",
     "metadata": {},
     "outputs": [],
     "prompt_number": 40
    },
    {
     "cell_type": "markdown",
     "metadata": {},
     "source": [
      "Currently, these values print to the R kernel in the IPython Notebook console:\n",
      "<img src='images/R.png'>"
     ]
    },
    {
     "cell_type": "markdown",
     "metadata": {},
     "source": [
      "There are different tricks you can experiment with to print to the notebook instead of the console, but they're not the focus of this section."
     ]
    },
    {
     "cell_type": "markdown",
     "metadata": {},
     "source": [
      "Store the R values in a np.array for later analysis."
     ]
    },
    {
     "cell_type": "code",
     "collapsed": false,
     "input": [
      "RB0 = '-0.26232307377411718'\n",
      "RB1 = '1.00211681802045427'\n",
      "RSTDofEstB0 = '0.23281823430115431'\n",
      "RSTDofEstB1 = '0.00042979684819994'\n",
      "Rresstd = '0.88479639614437943784'\n",
      "RRsq = '0.999993745883712'\n",
      "RModSS = '4255954.13232369348406792'\n",
      "RModMSE = '4255954.13232369348406792'\n",
      "RModSSResid = '26.61739852942280038'\n",
      "RModMSEResid = '0.78286466263010001665'\n",
      "RFstat = '5436385.5407999996096'\n",
      "\n",
      "RVals = np.array([RB0, RB1, RSTDofEstB0, RSTDofEstB1,Rresstd,RRsq,\n",
      "                    RModSS,RModMSE, RModSSResid,RModMSEResid,RFstat])"
     ],
     "language": "python",
     "metadata": {},
     "outputs": [],
     "prompt_number": 14
    },
    {
     "cell_type": "heading",
     "level": 3,
     "metadata": {},
     "source": [
      "7.2.5 Linear Regression and ANOVA values in SAS"
     ]
    },
    {
     "cell_type": "markdown",
     "metadata": {},
     "source": [
      "Below is the code for the SAS analysis and value extractions:"
     ]
    },
    {
     "cell_type": "code",
     "collapsed": false,
     "input": [
      "OPTIONS NODATE NONUMBER CENTER LS=160;\n",
      "*Removes the header information and centers output;\n",
      "OPTIONS FORMDLIM=\"~\";\t\n",
      "\n",
      "data NorrisData;\n",
      "infile \"C:/Users/flunk_000/Desktop/CalPoly/IPythonNotebook/SeniorProject/data/NorrisFrameSAS.txt\" DLM=',';\n",
      "input subject y x;\n",
      "\n",
      "ODS TRACE ON;\n",
      "proc glm data= NorrisData;\n",
      "\tmodel y = x;\n",
      "\t\toutput out = linear_norris;\n",
      "\t\tODS output ParameterEstimates = pe;\n",
      "\t\tODS output Overallanova = anova;\n",
      "\t\tODS output fitstatistics = fs;\n",
      "run;\n",
      "ODS Trace off;\n",
      "\n",
      "proc print data=pe;\n",
      "\tformat estimate 20.19\n",
      "\t\tstderr 20.19\n",
      "\t\tprobt pvalue20.19;\n",
      "\trun;\n",
      "    \n",
      "proc print data=anova;\n",
      "\tformat SS 20.19\n",
      "\t\tMS 20.19\n",
      "\t\tfvalue 20.19;\n",
      "\trun;\n",
      "    \n",
      "proc print data=fs\n",
      "\tformat \n",
      "\t\trsquare 20.19\n",
      "\t\trootmse 20.19;\n",
      "\trun;\n"
     ],
     "language": "python",
     "metadata": {},
     "outputs": [],
     "prompt_number": 33
    },
    {
     "cell_type": "markdown",
     "metadata": {},
     "source": [
      "Store the SAS values in a np.array for later analysis."
     ]
    },
    {
     "cell_type": "code",
     "collapsed": false,
     "input": [
      "SB0 = '-0.26232307377383600'\n",
      "SB1 = '1.00211681802045000'\n",
      "SSTDofEstB0 = '0.23281823431377200'\n",
      "SSTDofEstB1 = '0.0004297968482232346'\n",
      "Sresstd = '0.884796396192334000'\n",
      "SRsq = '0.9999937458837110000'\n",
      "SModSS = '4255954.132323680000'\n",
      "SModMSE = '4255954.132323680000'\n",
      "SModSSResid = '26.61739853230800000'\n",
      "SModMSEResid = '0.782864662714941000'\n",
      "SFstat = '5436385.54020847000'\n",
      "    \n",
      "SASVals = np.array([SB0, SB1, SSTDofEstB0, SSTDofEstB1,Sresstd,SRsq,\n",
      "                    SModSS,SModMSE, SModSSResid,SModMSEResid,SFstat])"
     ],
     "language": "python",
     "metadata": {},
     "outputs": [],
     "prompt_number": 15
    },
    {
     "cell_type": "heading",
     "level": 3,
     "metadata": {},
     "source": [
      "7.2.6 Testing NIST Accuracy against Python, R, and SAS"
     ]
    },
    {
     "cell_type": "markdown",
     "metadata": {},
     "source": [
      "The following functions will help compare the accuracy of the values obtained in the previous sections."
     ]
    },
    {
     "cell_type": "markdown",
     "metadata": {},
     "source": [
      "This first function determines the precision of each certified value."
     ]
    },
    {
     "cell_type": "code",
     "collapsed": false,
     "input": [
      "#def allows users to define a function.\n",
      "#cert_val_lengths is the name of the function.\n",
      "def cert_val_lengths(CertifiedValuesArray):\n",
      "\n",
      "    #creates an array of zeros to store the lengths.\n",
      "    #the dtype argument specifies integers will be returned.\n",
      "    CertValLengths = np.zeros(len(CertifiedValuesArray),dtype=int)\n",
      "    \n",
      "    #this loop determines the length of each certified value and saves\n",
      "    #the value in the array of zeros created above.\n",
      "    for val in range(len(CertifiedValuesArray)):\n",
      "        CertValLengths[val]= len(CertifiedValuesArray[val])\n",
      "        \n",
      "    #the function returns an array with the length of each certified value\n",
      "    return CertValLengths"
     ],
     "language": "python",
     "metadata": {},
     "outputs": [],
     "prompt_number": 16
    },
    {
     "cell_type": "markdown",
     "metadata": {},
     "source": [
      "The second function compares two individual values for a specified precision. The specified precision in this case are the values generated by the first function."
     ]
    },
    {
     "cell_type": "code",
     "collapsed": false,
     "input": [
      "#function requires three values.\n",
      "#first is a R, SAS, or Py, etc value.\n",
      "#second is the NIST certified values.\n",
      "#third is the precision determined by the cert_val_lengths function.\n",
      "def nist_compare(CalculatedValue, NISTValue, CertValLength):\n",
      "    \n",
      "    #converts the values to lists for element-wise comparisons.\n",
      "    CalculatedList = list(CalculatedValue)\n",
      "    NISTList = list(NISTValue)\n",
      "    \n",
      "    #counts how many values match in the lists.\n",
      "    counter = 0\n",
      "    \n",
      "    #performs the element-wise comparisons.\n",
      "    for val in range(CertValLength):\n",
      "        if CalculatedList[val] == NISTList[val]:\n",
      "            counter+=1\n",
      "        \n",
      "        #stops the loop if the values do not match.\n",
      "        else:\n",
      "            return counter\n",
      "\n",
      "    #returns how many elements matched.\n",
      "    return counter"
     ],
     "language": "python",
     "metadata": {},
     "outputs": [],
     "prompt_number": 17
    },
    {
     "cell_type": "markdown",
     "metadata": {},
     "source": [
      "The third function uses the precision determined by the first function and the individual value comparisons from the second function to compare one array of values to another."
     ]
    },
    {
     "cell_type": "code",
     "collapsed": false,
     "input": [
      "def array_compare(CalculatedArray,NISTArray,LabelArray):\n",
      "        \n",
      "    #create an empty array for value comparisons.\n",
      "    ValMatches = np.zeros(len(NISTArray),dtype=int)\n",
      "    \n",
      "    #uses the first function to create the lengths of the certified values\n",
      "    CertValLengths = cert_val_lengths(NISTArray)\n",
      "    \n",
      "    #iterates through the number of values we are comparing.\n",
      "    for val in range(len(LabelArray)):\n",
      "        \n",
      "        #compares the values using the second function.\n",
      "        ValMatch = nist_compare(CalculatedArray[val],\n",
      "                                NISTArray[val],CertValLengths[val])\n",
      "        \n",
      "        #prints the comparison.\n",
      "        print(LabelArray[val], ValMatch,'of',CertValLengths[val])\n",
      "        \n",
      "        #stores the values in an array.\n",
      "        ValMatches[val] = ValMatch\n",
      "    \n",
      "    #returns an array of accuracy values for the CalculatedArray.\n",
      "    return ValMatches    "
     ],
     "language": "python",
     "metadata": {},
     "outputs": [],
     "prompt_number": 18
    },
    {
     "cell_type": "markdown",
     "metadata": {},
     "source": [
      "The function above requires the names of the values that are being compared. The names will be printed when the accuracy of the value is compared to the NIST value."
     ]
    },
    {
     "cell_type": "code",
     "collapsed": false,
     "input": [
      "#create an array for the names of the values to be compared.\n",
      "NorrisLabels = np.array(['Beta0:','Beta1:','STDofEstimateB0:',\n",
      "                           'STDofEstimateB1','resstd:','R-sq:',\n",
      "                           'Model SS:','Model MS:','Model SSResid:',\n",
      "                           'Model MSResid:','F-stat:'])"
     ],
     "language": "python",
     "metadata": {},
     "outputs": [],
     "prompt_number": 19
    },
    {
     "cell_type": "markdown",
     "metadata": {},
     "source": [
      "Run the third function with each program's values to evaluate how accurate the program's calculations are compared to the NIST."
     ]
    },
    {
     "cell_type": "code",
     "collapsed": false,
     "input": [
      "R = array_compare(RVals,CertVals,NorrisLabels)"
     ],
     "language": "python",
     "metadata": {},
     "outputs": [
      {
       "output_type": "stream",
       "stream": "stdout",
       "text": [
        "('Beta0:', 15, 'of', 18)\n",
        "('Beta1:', 16, 'of', 16)\n",
        "('STDofEstimateB0:', 16, 'of', 17)\n",
        "('STDofEstimateB1', 18, 'of', 20)\n",
        "('resstd:', 16, 'of', 17)\n",
        "('R-sq:', 17, 'of', 17)\n",
        "('Model SS:', 16, 'of', 16)\n",
        "('Model MS:', 16, 'of', 16)\n",
        "('Model SSResid:', 15, 'of', 16)\n",
        "('Model MSResid:', 14, 'of', 17)\n",
        "('F-stat:', 13, 'of', 16)\n"
       ]
      }
     ],
     "prompt_number": 20
    },
    {
     "cell_type": "code",
     "collapsed": false,
     "input": [
      "SAS = array_compare(SASVals,CertVals,NorrisLabels)"
     ],
     "language": "python",
     "metadata": {},
     "outputs": [
      {
       "output_type": "stream",
       "stream": "stdout",
       "text": [
        "('Beta0:', 14, 'of', 18)\n",
        "('Beta1:', 16, 'of', 16)\n",
        "('STDofEstimateB0:', 12, 'of', 17)\n",
        "('STDofEstimateB1', 14, 'of', 20)\n",
        "('resstd:', 12, 'of', 17)\n",
        "('R-sq:', 16, 'of', 17)\n",
        "('Model SS:', 15, 'of', 16)\n",
        "('Model MS:', 15, 'of', 16)\n",
        "('Model SSResid:', 10, 'of', 16)\n",
        "('Model MSResid:', 11, 'of', 17)\n",
        "('F-stat:', 11, 'of', 16)\n"
       ]
      }
     ],
     "prompt_number": 21
    },
    {
     "cell_type": "code",
     "collapsed": false,
     "input": [
      "Py = array_compare(PyVals,CertVals,NorrisLabels)"
     ],
     "language": "python",
     "metadata": {},
     "outputs": [
      {
       "output_type": "stream",
       "stream": "stdout",
       "text": [
        "('Beta0:', 16, 'of', 18)\n",
        "('Beta1:', 16, 'of', 16)\n",
        "('STDofEstimateB0:', 16, 'of', 17)\n",
        "('STDofEstimateB1', 18, 'of', 20)\n",
        "('resstd:', 16, 'of', 17)\n",
        "('R-sq:', 16, 'of', 17)\n",
        "('Model SS:', 16, 'of', 16)\n",
        "('Model MS:', 16, 'of', 16)\n",
        "('Model SSResid:', 15, 'of', 16)\n",
        "('Model MSResid:', 15, 'of', 17)\n",
        "('F-stat:', 14, 'of', 16)\n"
       ]
      }
     ],
     "prompt_number": 22
    },
    {
     "cell_type": "code",
     "collapsed": false,
     "input": [
      "R,SAS,Py,cert_val_lengths(CertVals)"
     ],
     "language": "python",
     "metadata": {},
     "outputs": [
      {
       "metadata": {},
       "output_type": "pyout",
       "prompt_number": 23,
       "text": [
        "(array([15, 16, 16, 18, 16, 17, 16, 16, 15, 14, 13]),\n",
        " array([14, 16, 12, 14, 12, 16, 15, 15, 10, 11, 11]),\n",
        " array([16, 16, 16, 18, 16, 16, 16, 16, 15, 15, 14]),\n",
        " array([18, 16, 17, 20, 17, 17, 16, 16, 16, 17, 16]))"
       ]
      }
     ],
     "prompt_number": 23
    },
    {
     "cell_type": "markdown",
     "metadata": {},
     "source": [
      "Inspecting the arrays above this cell, it appears that the accuracy of the programs varies based on the calculation being performed. For instance, R, SAS and Python were very accurate matching all 16 values of Estimate for Beta1, while their accuracy for the F-statistic were 13,11, and 14 (respectively), out of 16 possible values."
     ]
    },
    {
     "cell_type": "markdown",
     "metadata": {},
     "source": [
      "Upon visual inspection, Python (using Statmodels) appears to be the most accurate for Linear Regression. R appears to be almost as accurate and SAS appears to not provide the desired precision for most calculations."
     ]
    },
    {
     "cell_type": "markdown",
     "metadata": {},
     "source": [
      "The data can be plotted directly in the notebook using matplotlib. The output below contains an array of the total number of values matched and two histogram representations of the values. The first histogram has the default plotting heights (from 0 to the total number of values matched). The second histogram is zoomed in on the tops of the bars from the first histogram."
     ]
    },
    {
     "cell_type": "code",
     "collapsed": false,
     "input": [
      "#opens a figure of size 16x4.\n",
      "hist = plt.figure(figsize=(16,4))\n",
      "\n",
      "#speficies 1 plot high, and two plots wide.\n",
      "gs = GridSpec(1,2)\n",
      "\n",
      "#puts the first histogram on the left at location [0,0].\n",
      "axis = hist.add_subplot(gs[0,0])\n",
      "\n",
      "#number of bars.\n",
      "programs=4\n",
      "\n",
      "#create array of bar values.\n",
      "Matches = [np.sum(R),np.sum(SAS),np.sum(Py),np.sum(cert_val_lengths(CertVals))]\n",
      "\n",
      "#location of bars on plot.\n",
      "loc = np.arange(programs)\n",
      "\n",
      "#plots the values with the corresponding program.\n",
      "bars = axis.bar(loc, Matches)\n",
      "\n",
      "axis.set_ylim(0,200)\n",
      "axis.set_ylabel('# of matching values')\n",
      "axis.set_title('Accuracy of R,SAS,Py')\n",
      "\n",
      "#centers the program name below the bar.\n",
      "axis.set_xticks(loc+.35)\n",
      "axis.set_xticklabels(['R', 'SAS', 'Python','NIST'])\n",
      "\n",
      "axis2 = hist.add_subplot(gs[0,1])\n",
      "bars2 = axis2.bar(loc, Matches)\n",
      "axis2.set_ylim(145,200)\n",
      "axis2.set_ylabel('# of matching values')\n",
      "axis2.set_title('Accuracy of R,SAS,Py')\n",
      "axis2.set_xticks(loc+.35)\n",
      "axis2.set_xticklabels(['R', 'SAS', 'Python','NIST'])\n",
      "\n",
      "#displays the total number of values matched between the \n",
      "#program and the NIST values.\n",
      "Matches"
     ],
     "language": "python",
     "metadata": {},
     "outputs": [
      {
       "metadata": {},
       "output_type": "pyout",
       "prompt_number": 24,
       "text": [
        "[172, 146, 174, 186]"
       ]
      },
      {
       "metadata": {},
       "output_type": "display_data",
       "png": "[encoded data removed]",
       "text": [
        "<matplotlib.figure.Figure at 0x161f7d30>"
       ]
      }
     ],
     "prompt_number": 24
    },
    {
     "cell_type": "markdown",
     "metadata": {},
     "source": [
      "Note: The plot on the right is zoomed in on the top of the bars in the left histogram. It was added to the document to provide users with the code needed to plot multiple graphics in the same window using GridSpec (see the code above) and change the scale/attributes of the plot."
     ]
    },
    {
     "cell_type": "markdown",
     "metadata": {},
     "source": [
      "Over the 11 values of concern, Python was more accurate than R by 2 decimal places. A comparison with SAS cannot be made since the values were not calculated to the desired precision. It was not immediately obvious if there is code to increase the precision of the SAS calculations instead of forcing SAS to print extraneous zero values to the specified decimal place."
     ]
    },
    {
     "cell_type": "markdown",
     "metadata": {},
     "source": [
      "Note: This does not imply that SAS miscalculated values. If you return to the SAS output, you will see that each SAS value has trailing zeros instead of additional digits. The SAS output does not provide the level of precision the NIST does for the calculations performed on this data set."
     ]
    },
    {
     "cell_type": "heading",
     "level": 3,
     "metadata": {},
     "source": [
      "7.2.7 Plotting Norris data with Matplotlib"
     ]
    },
    {
     "cell_type": "markdown",
     "metadata": {},
     "source": [
      "This section will demonstrate one method to replicate the NIST graphics using Python plotting techniques. There are many other packages and techniques to create the same plots, some of which will be introduced from Section 7.3 through Chapter 9."
     ]
    },
    {
     "cell_type": "markdown",
     "metadata": {},
     "source": [
      "Here is the NIST graphic for regressing y on x:<br>\n",
      "<img src='images/norrisreg.PNG' align='left'>"
     ]
    },
    {
     "cell_type": "code",
     "collapsed": false,
     "input": [
      "#using pyplot from matplotlib, which was imported as plt, plot the points.\n",
      "plt.scatter(NorrisFrame['y'],NorrisFrame['x'])\n",
      "\n",
      "#draws the regression line.\n",
      "plt.plot(NorrisFrame['y'],NorrisFrame['x'])\n",
      "\n",
      "#labels the x axis, title, and y axis.\n",
      "plt.xlabel('x', fontsize=15)\n",
      "plt.ylabel('y', fontsize=15)\n",
      "plt.title('y vs. x: Norris Dataset', fontsize=15)\n",
      "\n",
      "#reduce the size of the plot to match the NIST graphic.\n",
      "plt.xlim(0,1010)\n",
      "plt.ylim(-1,1010);"
     ],
     "language": "python",
     "metadata": {},
     "outputs": [
      {
       "metadata": {},
       "output_type": "display_data",
       "png": "[encoded data removed]",
       "text": [
        "<matplotlib.figure.Figure at 0x1793f828>"
       ]
      }
     ],
     "prompt_number": 72
    },
    {
     "cell_type": "markdown",
     "metadata": {},
     "source": [
      "Examining the code above, the first line of code opens a figure and plots the points from the DataFrame columns labeled y and x. Once a plot is open, additional information can be overlaid/added to the plot by typing addition plot commands, such as the regression line and the title of the plot."
     ]
    },
    {
     "cell_type": "markdown",
     "metadata": {},
     "source": [
      "Here is the NIST residual plot:\n",
      "\n",
      "<img src='images/norrisresid.PNG' align='left'>"
     ]
    },
    {
     "cell_type": "code",
     "collapsed": false,
     "input": [
      "#plot the x values against the residuals from Section 7.2.3.\n",
      "plt.scatter(NorrisFrame['x'],NorrisLM.resid)\n",
      "\n",
      "#add a horizontal line at y=0.\n",
      "plt.axhline()\n",
      "\n",
      "#add title, x axis, and y axis labels.\n",
      "plt.xlabel('Norris Dataset x values', fontsize = 13)\n",
      "plt.ylabel('Residuals from OLS of NorrisData',fontsize = 13)\n",
      "plt.title('Residuals vs. x',fontsize = 15);\n",
      "\n",
      "#reduce the size of the plot to match the NIST graphic.\n",
      "plt.ylim(-2.5,2)\n",
      "plt.xlim(-15,1010);"
     ],
     "language": "python",
     "metadata": {},
     "outputs": [
      {
       "metadata": {},
       "output_type": "display_data",
       "png": "[encoded data removed]",
       "text": [
        "<matplotlib.figure.Figure at 0x18121278>"
       ]
      }
     ],
     "prompt_number": 79
    },
    {
     "cell_type": "markdown",
     "metadata": {},
     "source": [
      "This concludes the analysis of the Norris dataset. All values have been calculated and compared, and the graphics have been replicated."
     ]
    },
    {
     "cell_type": "heading",
     "level": 2,
     "metadata": {},
     "source": [
      "7.3 ANOVA: SiR Dataset"
     ]
    },
    {
     "cell_type": "markdown",
     "metadata": {},
     "source": [
      "This section will perform ANOVA on a NIST dataset that contains a categorical variable. Any new functions and techniques will be accompanied by a detailed explanation, while all steps in the analysis that parallel Section 7.2 will not be explained."
     ]
    },
    {
     "cell_type": "markdown",
     "metadata": {},
     "source": [
      "The Certified values for this dataset can be found at:<br>\n",
      "http://www.itl.nist.gov/div898/strd/anova/SiRstv_cv.html\n",
      "\n",
      "For easy reference, they are included here.\n",
      "<img src='images/sir.PNG', height = 70%, width = 70%>"
     ]
    },
    {
     "cell_type": "heading",
     "level": 3,
     "metadata": {},
     "source": [
      "7.3.1 Reading in and preparing data from an ASCII webpage"
     ]
    },
    {
     "cell_type": "markdown",
     "metadata": {},
     "source": [
      "For a detailed explanation of this process, refer to Section 7.2.1."
     ]
    },
    {
     "cell_type": "code",
     "collapsed": false,
     "input": [
      "SiRurl = 'http://www.itl.nist.gov/div898/strd/anova/SiRstv.dat'\n",
      "open('data/SiRstv.dat','wb').write(ul.urlopen(SiRurl).read())"
     ],
     "language": "python",
     "metadata": {},
     "outputs": [],
     "prompt_number": 5
    },
    {
     "cell_type": "code",
     "collapsed": false,
     "input": [
      "SiRData = np.loadtxt('data/SiRstv.dat',skiprows=60)\n",
      "SiRFrame = pd.DataFrame(SiRData, columns=['Instrument','Resistance'])"
     ],
     "language": "python",
     "metadata": {},
     "outputs": [],
     "prompt_number": 6
    },
    {
     "cell_type": "code",
     "collapsed": false,
     "input": [
      "SiRFrame.head()"
     ],
     "language": "python",
     "metadata": {},
     "outputs": [
      {
       "html": [
        "<div style=\"max-height:1000px;max-width:1500px;overflow:auto;\">\n",
        "<table border=\"1\" class=\"dataframe\">\n",
        "  <thead>\n",
        "    <tr style=\"text-align: right;\">\n",
        "      <th></th>\n",
        "      <th>Instrument</th>\n",
        "      <th>Resistance</th>\n",
        "    </tr>\n",
        "  </thead>\n",
        "  <tbody>\n",
        "    <tr>\n",
        "      <th>0</th>\n",
        "      <td> 1</td>\n",
        "      <td> 196.3052</td>\n",
        "    </tr>\n",
        "    <tr>\n",
        "      <th>1</th>\n",
        "      <td> 1</td>\n",
        "      <td> 196.1240</td>\n",
        "    </tr>\n",
        "    <tr>\n",
        "      <th>2</th>\n",
        "      <td> 1</td>\n",
        "      <td> 196.1890</td>\n",
        "    </tr>\n",
        "    <tr>\n",
        "      <th>3</th>\n",
        "      <td> 1</td>\n",
        "      <td> 196.2569</td>\n",
        "    </tr>\n",
        "    <tr>\n",
        "      <th>4</th>\n",
        "      <td> 1</td>\n",
        "      <td> 196.3403</td>\n",
        "    </tr>\n",
        "  </tbody>\n",
        "</table>\n",
        "</div>"
       ],
       "metadata": {},
       "output_type": "pyout",
       "prompt_number": 28,
       "text": [
        "   Instrument  Resistance\n",
        "0           1    196.3052\n",
        "1           1    196.1240\n",
        "2           1    196.1890\n",
        "3           1    196.2569\n",
        "4           1    196.3403"
       ]
      }
     ],
     "prompt_number": 28
    },
    {
     "cell_type": "code",
     "collapsed": false,
     "input": [
      "SiRFrame.tail()"
     ],
     "language": "python",
     "metadata": {},
     "outputs": [
      {
       "html": [
        "<div style=\"max-height:1000px;max-width:1500px;overflow:auto;\">\n",
        "<table border=\"1\" class=\"dataframe\">\n",
        "  <thead>\n",
        "    <tr style=\"text-align: right;\">\n",
        "      <th></th>\n",
        "      <th>Instrument</th>\n",
        "      <th>Resistance</th>\n",
        "    </tr>\n",
        "  </thead>\n",
        "  <tbody>\n",
        "    <tr>\n",
        "      <th>20</th>\n",
        "      <td> 5</td>\n",
        "      <td> 196.2119</td>\n",
        "    </tr>\n",
        "    <tr>\n",
        "      <th>21</th>\n",
        "      <td> 5</td>\n",
        "      <td> 196.1051</td>\n",
        "    </tr>\n",
        "    <tr>\n",
        "      <th>22</th>\n",
        "      <td> 5</td>\n",
        "      <td> 196.1850</td>\n",
        "    </tr>\n",
        "    <tr>\n",
        "      <th>23</th>\n",
        "      <td> 5</td>\n",
        "      <td> 196.0052</td>\n",
        "    </tr>\n",
        "    <tr>\n",
        "      <th>24</th>\n",
        "      <td> 5</td>\n",
        "      <td> 196.2090</td>\n",
        "    </tr>\n",
        "  </tbody>\n",
        "</table>\n",
        "</div>"
       ],
       "metadata": {},
       "output_type": "pyout",
       "prompt_number": 29,
       "text": [
        "    Instrument  Resistance\n",
        "20           5    196.2119\n",
        "21           5    196.1051\n",
        "22           5    196.1850\n",
        "23           5    196.0052\n",
        "24           5    196.2090"
       ]
      }
     ],
     "prompt_number": 29
    },
    {
     "cell_type": "markdown",
     "metadata": {},
     "source": [
      "Data was read in correctly."
     ]
    },
    {
     "cell_type": "heading",
     "level": 3,
     "metadata": {},
     "source": [
      "7.3.2 NIST Certified Values"
     ]
    },
    {
     "cell_type": "markdown",
     "metadata": {},
     "source": [
      "For a detailed explanation of this process, refer to Section 7.2.2."
     ]
    },
    {
     "cell_type": "markdown",
     "metadata": {},
     "source": [
      "The certified values for this dataset can be found at:<br>http://www.itl.nist.gov/div898/strd/anova/SiRstv_cv.html"
     ]
    },
    {
     "cell_type": "code",
     "collapsed": false,
     "input": [
      "Certresstd = '0.104076068334656'\n",
      "CertRsq = '0.190999039051129'\n",
      "CertModSS = '0.0511462616000000'\n",
      "CertModMSE = '0.0127865654000000'\n",
      "CertModSSResid = '0.216636560000000'\n",
      "CertModMSEResid = '0.0108318280000000'\n",
      "CertFstat = '1.18046237440255'\n",
      "\n",
      "SiRCertVals = np.array([Certresstd,CertRsq,CertModSS,CertModMSE,\n",
      "                        CertModSSResid,CertModMSEResid,CertFstat])"
     ],
     "language": "python",
     "metadata": {},
     "outputs": [],
     "prompt_number": 25
    },
    {
     "cell_type": "heading",
     "level": 3,
     "metadata": {},
     "source": [
      "7.3.3 ANOVA values in Python"
     ]
    },
    {
     "cell_type": "markdown",
     "metadata": {},
     "source": [
      "For a detailed explanation of this process, refer to Section 7.2.3."
     ]
    },
    {
     "cell_type": "code",
     "collapsed": false,
     "input": [
      "#use the function C() on the Instrument variable to designate that\n",
      "#variable as categorical.\n",
      "SiRLM = ols('Resistance ~ C(Instrument)', SiRFrame).fit()\n",
      "\n",
      "#the following function can be executed to generate an ANOVA table.\n",
      "SiRANOVA = anova_lm(SiRLM)\n",
      "SiRANOVA"
     ],
     "language": "python",
     "metadata": {},
     "outputs": [
      {
       "html": [
        "<div style=\"max-height:1000px;max-width:1500px;overflow:auto;\">\n",
        "<table border=\"1\" class=\"dataframe\">\n",
        "  <thead>\n",
        "    <tr style=\"text-align: right;\">\n",
        "      <th></th>\n",
        "      <th>df</th>\n",
        "      <th>sum_sq</th>\n",
        "      <th>mean_sq</th>\n",
        "      <th>F</th>\n",
        "      <th>PR(&gt;F)</th>\n",
        "    </tr>\n",
        "  </thead>\n",
        "  <tbody>\n",
        "    <tr>\n",
        "      <th>C(Instrument)</th>\n",
        "      <td>  4</td>\n",
        "      <td> 0.051146</td>\n",
        "      <td> 0.012787</td>\n",
        "      <td> 1.180462</td>\n",
        "      <td> 0.349447</td>\n",
        "    </tr>\n",
        "    <tr>\n",
        "      <th>Residual</th>\n",
        "      <td> 20</td>\n",
        "      <td> 0.216637</td>\n",
        "      <td> 0.010832</td>\n",
        "      <td>      NaN</td>\n",
        "      <td>      NaN</td>\n",
        "    </tr>\n",
        "  </tbody>\n",
        "</table>\n",
        "</div>"
       ],
       "metadata": {},
       "output_type": "pyout",
       "prompt_number": 30,
       "text": [
        "               df    sum_sq   mean_sq         F    PR(>F)\n",
        "C(Instrument)   4  0.051146  0.012787  1.180462  0.349447\n",
        "Residual       20  0.216637  0.010832       NaN       NaN"
       ]
      }
     ],
     "prompt_number": 30
    },
    {
     "cell_type": "markdown",
     "metadata": {},
     "source": [
      "Since the analysis of the Norris dataset included extracting ANOVA values, the ANOVA values for this dataset will also be extracted from the OLS output, instead of the ANOVA output (using the extraction techniques from Section 7.2.3)."
     ]
    },
    {
     "cell_type": "markdown",
     "metadata": {},
     "source": [
      "Note: The ANOVA values can always be extracted from the OLS output in this way."
     ]
    },
    {
     "cell_type": "code",
     "collapsed": false,
     "input": [
      "Pyresstd = repr(np.sqrt(SiRLM.mse_resid))\n",
      "PyRsq = repr(SiRLM.rsquared)\n",
      "PyModSS = repr(SiRLM.ess)\n",
      "PyModMSE = repr(SiRLM.mse_model)\n",
      "PyModSSResid = repr(SiRLM.ssr)\n",
      "PyModMSEResid = repr(SiRLM.mse_resid)\n",
      "PyFstat = repr(SiRLM.fvalue)\n",
      "\n",
      "SiRPyVals = np.array([Pyresstd, PyRsq, PyModSS, PyModMSE,PyModSSResid,\n",
      "                      PyModMSEResid,PyFstat])"
     ],
     "language": "python",
     "metadata": {},
     "outputs": [],
     "prompt_number": 31
    },
    {
     "cell_type": "heading",
     "level": 3,
     "metadata": {},
     "source": [
      "7.3.4 ANOVA values in R"
     ]
    },
    {
     "cell_type": "markdown",
     "metadata": {},
     "source": [
      "For a detailed explanation of this process, refer to Section 7.2.4."
     ]
    },
    {
     "cell_type": "code",
     "collapsed": false,
     "input": [
      "SiRFrame.to_csv('C:/Users/flunk_000/Desktop/CalPoly/IPythonNotebook/SeniorProject/data/SiRFrame.txt')"
     ],
     "language": "python",
     "metadata": {},
     "outputs": [],
     "prompt_number": 32
    },
    {
     "cell_type": "code",
     "collapsed": false,
     "input": [
      "import rpy2\n",
      "%load_ext rpy2.ipython"
     ],
     "language": "python",
     "metadata": {},
     "outputs": []
    },
    {
     "cell_type": "code",
     "collapsed": false,
     "input": [
      "%%R\n",
      "#read in data\n",
      "setwd(\"C:/Users/flunk_000/Desktop/CalPoly/IPythonNotebook/SeniorProject/\")\n",
      "SiR = read.csv('data/SiRFrame.txt', header=T);\n",
      "SiRFrame = as.data.frame(SiR);"
     ],
     "language": "python",
     "metadata": {},
     "outputs": [],
     "prompt_number": 93
    },
    {
     "cell_type": "code",
     "collapsed": false,
     "input": [
      "%R head(SiRFrame)"
     ],
     "language": "python",
     "metadata": {},
     "outputs": [
      {
       "html": [
        "<div style=\"max-height:1000px;max-width:1500px;overflow:auto;\">\n",
        "<table border=\"1\" class=\"dataframe\">\n",
        "  <thead>\n",
        "    <tr style=\"text-align: right;\">\n",
        "      <th></th>\n",
        "      <th>X</th>\n",
        "      <th>Instrument</th>\n",
        "      <th>Resistance</th>\n",
        "    </tr>\n",
        "  </thead>\n",
        "  <tbody>\n",
        "    <tr>\n",
        "      <th>0</th>\n",
        "      <td> 0</td>\n",
        "      <td> 1</td>\n",
        "      <td> 196.3052</td>\n",
        "    </tr>\n",
        "    <tr>\n",
        "      <th>1</th>\n",
        "      <td> 1</td>\n",
        "      <td> 1</td>\n",
        "      <td> 196.1240</td>\n",
        "    </tr>\n",
        "    <tr>\n",
        "      <th>2</th>\n",
        "      <td> 2</td>\n",
        "      <td> 1</td>\n",
        "      <td> 196.1890</td>\n",
        "    </tr>\n",
        "    <tr>\n",
        "      <th>3</th>\n",
        "      <td> 3</td>\n",
        "      <td> 1</td>\n",
        "      <td> 196.2569</td>\n",
        "    </tr>\n",
        "    <tr>\n",
        "      <th>4</th>\n",
        "      <td> 4</td>\n",
        "      <td> 1</td>\n",
        "      <td> 196.3403</td>\n",
        "    </tr>\n",
        "    <tr>\n",
        "      <th>5</th>\n",
        "      <td> 5</td>\n",
        "      <td> 2</td>\n",
        "      <td> 196.3042</td>\n",
        "    </tr>\n",
        "  </tbody>\n",
        "</table>\n",
        "</div>"
       ],
       "metadata": {},
       "output_type": "pyout",
       "prompt_number": 93,
       "text": [
        "   X  Instrument  Resistance\n",
        "0  0           1    196.3052\n",
        "1  1           1    196.1240\n",
        "2  2           1    196.1890\n",
        "3  3           1    196.2569\n",
        "4  4           1    196.3403\n",
        "5  5           2    196.3042"
       ]
      }
     ],
     "prompt_number": 93
    },
    {
     "cell_type": "code",
     "collapsed": false,
     "input": [
      "%R tail(SiRFrame)"
     ],
     "language": "python",
     "metadata": {},
     "outputs": [
      {
       "html": [
        "<div style=\"max-height:1000px;max-width:1500px;overflow:auto;\">\n",
        "<table border=\"1\" class=\"dataframe\">\n",
        "  <thead>\n",
        "    <tr style=\"text-align: right;\">\n",
        "      <th></th>\n",
        "      <th>X</th>\n",
        "      <th>Instrument</th>\n",
        "      <th>Resistance</th>\n",
        "    </tr>\n",
        "  </thead>\n",
        "  <tbody>\n",
        "    <tr>\n",
        "      <th>0</th>\n",
        "      <td> 19</td>\n",
        "      <td> 4</td>\n",
        "      <td> 195.9885</td>\n",
        "    </tr>\n",
        "    <tr>\n",
        "      <th>1</th>\n",
        "      <td> 20</td>\n",
        "      <td> 5</td>\n",
        "      <td> 196.2119</td>\n",
        "    </tr>\n",
        "    <tr>\n",
        "      <th>2</th>\n",
        "      <td> 21</td>\n",
        "      <td> 5</td>\n",
        "      <td> 196.1051</td>\n",
        "    </tr>\n",
        "    <tr>\n",
        "      <th>3</th>\n",
        "      <td> 22</td>\n",
        "      <td> 5</td>\n",
        "      <td> 196.1850</td>\n",
        "    </tr>\n",
        "    <tr>\n",
        "      <th>4</th>\n",
        "      <td> 23</td>\n",
        "      <td> 5</td>\n",
        "      <td> 196.0052</td>\n",
        "    </tr>\n",
        "    <tr>\n",
        "      <th>5</th>\n",
        "      <td> 24</td>\n",
        "      <td> 5</td>\n",
        "      <td> 196.2090</td>\n",
        "    </tr>\n",
        "  </tbody>\n",
        "</table>\n",
        "</div>"
       ],
       "metadata": {},
       "output_type": "pyout",
       "prompt_number": 94,
       "text": [
        "    X  Instrument  Resistance\n",
        "0  19           4    195.9885\n",
        "1  20           5    196.2119\n",
        "2  21           5    196.1051\n",
        "3  22           5    196.1850\n",
        "4  23           5    196.0052\n",
        "5  24           5    196.2090"
       ]
      }
     ],
     "prompt_number": 94
    },
    {
     "cell_type": "markdown",
     "metadata": {},
     "source": [
      "Data was read in correctly."
     ]
    },
    {
     "cell_type": "code",
     "collapsed": false,
     "input": [
      "%%R\n",
      "#analysis in R.\n",
      "SiRFrame$Instrument = factor(SiRFrame$Instrument);\n",
      "SiRANOVA = aov(Resistance ~ Instrument, data=SiRFrame);\n",
      "SiRLM = lm(Resistance ~ Instrument, data=SiRFrame);"
     ],
     "language": "python",
     "metadata": {},
     "outputs": [],
     "prompt_number": 95
    },
    {
     "cell_type": "code",
     "collapsed": false,
     "input": [
      "%%R\n",
      "#extracting desired precision in R.\n",
      "print(summary(SiRANOVA), digits =17);\n",
      "print(sqrt(deviance(SiRANOVA)/df.residual(SiRANOVA)), digits = 17);\n",
      "print(summary(SiRLM), digits =17);"
     ],
     "language": "python",
     "metadata": {},
     "outputs": [],
     "prompt_number": 192
    },
    {
     "cell_type": "code",
     "collapsed": false,
     "input": [
      "SiRRresstd = '0.10407606833466272189'\n",
      "SiRRRsq = '0.19099903905112250446'\n",
      "SiRRModSS = '0.051146261600009186588'\n",
      "SiRRModMSE = '0.012786565400002294912'\n",
      "SiRRModSSResid = '0.216636560000027678097'\n",
      "SiRRModMSEResid = '0.010831828000001384252'\n",
      "SiRRFstat = '1.1804600000000000648'\n",
      "\n",
      "SiRRVals = np.array([SiRRresstd, SiRRRsq, SiRRModSS, SiRRModMSE,\n",
      "                     SiRRModSSResid,SiRRModMSEResid,SiRRFstat])"
     ],
     "language": "python",
     "metadata": {},
     "outputs": [],
     "prompt_number": 33
    },
    {
     "cell_type": "heading",
     "level": 3,
     "metadata": {},
     "source": [
      "7.3.5 ANOVA values in SAS"
     ]
    },
    {
     "cell_type": "markdown",
     "metadata": {},
     "source": [
      "Below is the code for the SAS analysis and value extractions:"
     ]
    },
    {
     "cell_type": "code",
     "collapsed": false,
     "input": [
      "OPTIONS NODATE NONUMBER CENTER LS=160;\n",
      "*Removes the header information and centers output;\n",
      "OPTIONS FORMDLIM=\"~\";\t\n",
      "\n",
      "data SiRData;\n",
      "infile \"C:/Users/flunk_000/Desktop/CalPoly/IPythonNotebook/SeniorProject/data/SiRFrameSAS.txt\" DLM=',';\n",
      "input Instrument $ Resistance;\n",
      "proc print data=SiRData;\n",
      "run;\n",
      "\n",
      "proc glm data= SiRData;\n",
      "\tclass Instrument;\n",
      "\tmodel Resistance = Instrument;\n",
      "\t\tODS output Overallanova = SiRanova;\n",
      "\t\tODS output fitstatistics = SiRfs;\n",
      "run;\n",
      "\n",
      "proc print data=SiRanova;\n",
      "\tformat SS 17.16\n",
      "\t\tMS 17.16\n",
      "\t\tfvalue 17.16;\n",
      "\trun;\n",
      "    \n",
      "proc print data=SiRfs;\n",
      "\tformat rsquare 17.16\n",
      "\t\trootmse 17.16;\n",
      "\trun;"
     ],
     "language": "python",
     "metadata": {},
     "outputs": []
    },
    {
     "cell_type": "code",
     "collapsed": false,
     "input": [
      "SiRSASresstd = '0.1040760683346600'\n",
      "SiRSASRsq = '0.1909990390511160'\n",
      "SiRSASModSS = '0.0511462615999996'\n",
      "SiRSASModMSE = '0.0127865653999999'\n",
      "SiRSASModSSResid = '0.2166365600000160'\n",
      "SiRSASModMSEResid = '0.0108318280000008'\n",
      "SiRSASFstat = '1.180462374402440'\n",
      "\n",
      "SiRSASVals = np.array([SiRSASresstd,SiRSASRsq,SiRSASModSS,SiRSASModMSE\n",
      "                    ,SiRSASModSSResid,SiRSASModMSEResid,SiRSASFstat])"
     ],
     "language": "python",
     "metadata": {},
     "outputs": [],
     "prompt_number": 34
    },
    {
     "cell_type": "heading",
     "level": 3,
     "metadata": {},
     "source": [
      "7.3.6 Testing NIST Accuracy against Python, R, and SAS"
     ]
    },
    {
     "cell_type": "markdown",
     "metadata": {},
     "source": [
      "For a detailed explanation of this process, refer to Section 7.2.6."
     ]
    },
    {
     "cell_type": "markdown",
     "metadata": {},
     "source": [
      "The <b>array_compare</b> function written in Section 7.2.6 required the names of the variables of interest to be specified in an array and passed as an argument. Below is the new array for the names of the variables we are comparing from the analysis of the SiR dataset."
     ]
    },
    {
     "cell_type": "code",
     "collapsed": false,
     "input": [
      "SiRLabels = np.array(['resstd:','R-sq:','Model SS:','Model MS:',\n",
      "                          'Model SSResid:','Model MSResid:','F-stat:'])"
     ],
     "language": "python",
     "metadata": {},
     "outputs": [],
     "prompt_number": 35
    },
    {
     "cell_type": "code",
     "collapsed": false,
     "input": [
      "SiRR = array_compare(SiRRVals,SiRCertVals,SiRLabels)"
     ],
     "language": "python",
     "metadata": {},
     "outputs": [
      {
       "output_type": "stream",
       "stream": "stdout",
       "text": [
        "('resstd:', 15, 'of', 17)\n",
        "('R-sq:', 16, 'of', 17)\n",
        "('Model SS:', 16, 'of', 18)\n",
        "('Model MS:', 16, 'of', 18)\n",
        "('Model SSResid:', 15, 'of', 17)\n",
        "('Model MSResid:', 16, 'of', 18)\n",
        "('F-stat:', 7, 'of', 16)\n"
       ]
      }
     ],
     "prompt_number": 36
    },
    {
     "cell_type": "code",
     "collapsed": false,
     "input": [
      "SiRSAS = array_compare(SiRSASVals,SiRCertVals,SiRLabels)"
     ],
     "language": "python",
     "metadata": {},
     "outputs": [
      {
       "output_type": "stream",
       "stream": "stdout",
       "text": [
        "('resstd:', 15, 'of', 17)\n",
        "('R-sq:', 15, 'of', 17)\n",
        "('Model SS:', 11, 'of', 18)\n",
        "('Model MS:', 11, 'of', 18)\n",
        "('Model SSResid:', 15, 'of', 17)\n",
        "('Model MSResid:', 17, 'of', 18)\n",
        "('F-stat:', 14, 'of', 16)\n"
       ]
      }
     ],
     "prompt_number": 37
    },
    {
     "cell_type": "code",
     "collapsed": false,
     "input": [
      "SiRPy = array_compare(SiRPyVals,SiRCertVals,SiRLabels)"
     ],
     "language": "python",
     "metadata": {},
     "outputs": [
      {
       "output_type": "stream",
       "stream": "stdout",
       "text": [
        "('resstd:', 15, 'of', 17)\n",
        "('R-sq:', 15, 'of', 17)\n",
        "('Model SS:', 11, 'of', 18)\n",
        "('Model MS:', 11, 'of', 18)\n",
        "('Model SSResid:', 15, 'of', 17)\n",
        "('Model MSResid:', 17, 'of', 18)\n",
        "('F-stat:', 14, 'of', 16)\n"
       ]
      }
     ],
     "prompt_number": 38
    },
    {
     "cell_type": "code",
     "collapsed": false,
     "input": [
      "SiRR, SiRSAS, SiRPy, cert_val_lengths(SiRCertVals)"
     ],
     "language": "python",
     "metadata": {},
     "outputs": [
      {
       "metadata": {},
       "output_type": "pyout",
       "prompt_number": 39,
       "text": [
        "(array([15, 16, 16, 16, 15, 16,  7]),\n",
        " array([15, 15, 11, 11, 15, 17, 14]),\n",
        " array([15, 15, 11, 11, 15, 17, 14]),\n",
        " array([17, 17, 18, 18, 17, 18, 16]))"
       ]
      }
     ],
     "prompt_number": 39
    },
    {
     "cell_type": "markdown",
     "metadata": {},
     "source": [
      "Upon visual inspection, Python and SAS appear to have encountered an issue matching the accuracy of the certified values while R appears to have consistently matched the precision (with the exception of the F-test statistic."
     ]
    },
    {
     "cell_type": "markdown",
     "metadata": {},
     "source": [
      "Returning to the cell containing the SiR dataset's certified values, you will notice trailing zeros on several values. With this dataset, SAS and Python did not agree with the NIST provided accuracy, or filled the decimal places with extraneous digits."
     ]
    },
    {
     "cell_type": "code",
     "collapsed": false,
     "input": [
      "#open a figure and add the axes\n",
      "SiRhist = plt.figure(figsize=(16,4))\n",
      "gs=GridSpec(1,2)\n",
      "SiRaxis = SiRhist.add_subplot(gs[0,0])\n",
      "\n",
      "SiRprograms=4\n",
      "#create array of bar values\n",
      "SiRMatches = [np.sum(SiRR),np.sum(SiRSAS),np.sum(SiRPy),\n",
      "              np.sum(cert_val_lengths(SiRCertVals))]\n",
      "\n",
      "#location of bars on plot\n",
      "SiRloc = np.arange(SiRprograms)\n",
      "\n",
      "SiRbars = SiRaxis.bar(SiRloc, SiRMatches)\n",
      "\n",
      "SiRaxis.set_ylim(0,130)\n",
      "SiRaxis.set_ylabel('# of matching values')\n",
      "SiRaxis.set_title('Accuracy of R,SAS,Py')\n",
      "SiRaxis.set_xticks(SiRloc+.35)\n",
      "SiRXNames = SiRaxis.set_xticklabels(['R', 'SAS', 'Python','NIST'])\n",
      "\n",
      "SiRaxis2 = SiRhist.add_subplot(gs[0,1])\n",
      "SiRbars2 = SiRaxis2.bar(SiRloc, SiRMatches)\n",
      "SiRaxis2.set_ylim(95,125)\n",
      "SiRaxis2.set_ylabel('# of matching values')\n",
      "SiRaxis2.set_title('Accuracy of R,SAS,Py')\n",
      "SiRaxis2.set_xticks(SiRloc+.35)\n",
      "SiRXNames = SiRaxis2.set_xticklabels(['R', 'SAS', 'Python','NIST'])\n",
      "SiRMatches"
     ],
     "language": "python",
     "metadata": {},
     "outputs": [
      {
       "metadata": {},
       "output_type": "pyout",
       "prompt_number": 40,
       "text": [
        "[101, 98, 98, 121]"
       ]
      },
      {
       "metadata": {},
       "output_type": "display_data",
       "png": "[encoded data removed]",
       "text": [
        "<matplotlib.figure.Figure at 0x161f79b0>"
       ]
      }
     ],
     "prompt_number": 40
    },
    {
     "cell_type": "markdown",
     "metadata": {},
     "source": [
      "Note: The plot on the right is zoomed in on the top of the bars in the left histogram. It was added to the document to provide users with the code needed to plot multiple graphics in the same window using GridSpec (see the code above) and change the scale/attributes of the plot."
     ]
    },
    {
     "cell_type": "markdown",
     "metadata": {},
     "source": [
      "Over the 7 values of concern, R was more accurate than SAS and Python by 2 decimal places. The programs appear to have about the same accuracy overall, but this is due to big mismatches on some values. R rounded the F-stat early (7 decimal places before SAS and Python), yet R was 5 decimal places more accurate than SAS and Python for calculating Model SS and Model MSE."
     ]
    },
    {
     "cell_type": "heading",
     "level": 3,
     "metadata": {},
     "source": [
      "7.3.7 Plotting SiR data with Seaborn"
     ]
    },
    {
     "cell_type": "markdown",
     "metadata": {},
     "source": [
      "This section will demonstrate one method to replicate the NIST graphics using Python plotting techniques. There are many other packages and techniques to create the same plots, some of which will be introduced in Chapters 8 and 9."
     ]
    },
    {
     "cell_type": "markdown",
     "metadata": {},
     "source": [
      "Here is the NIST scatterplot:<br>\n",
      "<img src='images/SiRplot.PNG' align='left', height =35%, width = 35%>"
     ]
    },
    {
     "cell_type": "code",
     "collapsed": false,
     "input": [
      "#plot with seaborn (import as sns) linear model plot.\n",
      "#use the column names as the first and second argument,\n",
      "#and the DataFrame as the third argument.\n",
      "SiRANOVA = sns.lmplot('Instrument','Resistance',data=SiRFrame,\n",
      "           ci=False, hue='Instrument',fit_reg=False)\n",
      "SiRANOVA.set(title ='Resistivity vs Instrument')\n",
      "SiRANOVA.set(ylabel = 'Resistivity,ohm*cm');"
     ],
     "language": "python",
     "metadata": {},
     "outputs": [
      {
       "metadata": {},
       "output_type": "display_data",
       "png": "[encoded data removed]",
       "text": [
        "<matplotlib.figure.Figure at 0x16231748>"
       ]
      }
     ],
     "prompt_number": 7
    },
    {
     "cell_type": "markdown",
     "metadata": {},
     "source": [
      "The plot above uses seaborn's <b>lmplot</b> function. The <b>lmplot</b> function only requires variables to produce a regression plot (unlike the plots in Section 7.2.7, which require an object from linear regression). Many seaborn functions create post-analysis plots from data without running the analysis of interest."
     ]
    },
    {
     "cell_type": "markdown",
     "metadata": {},
     "source": [
      "Here is the NIST graphic for Residuals vs. Instrument:<br>\n",
      "<img src='images/SiRResid.PNG' align='left'>"
     ]
    },
    {
     "cell_type": "code",
     "collapsed": false,
     "input": [
      "SiRPlot = sns.regplot(SiRFrame['Instrument'],SiRLM.resid, ci=False)\n",
      "SiRPlot.set(ylabel = 'Residuals')\n",
      "SiRPlot.set(title='Residuals vs Instrument');"
     ],
     "language": "python",
     "metadata": {},
     "outputs": [
      {
       "metadata": {},
       "output_type": "display_data",
       "png": "[encoded data removed]",
       "text": [
        "<matplotlib.figure.Figure at 0x16c91ef0>"
       ]
      }
     ],
     "prompt_number": 101
    },
    {
     "cell_type": "markdown",
     "metadata": {},
     "source": [
      "The regplot function was used in the plot above. This was done in order to use values that were not present in the data frame (i.e. the residuals). To use lmplot, the residual values could be added to the DataFrame (adding and manipulating columns in a DataFrame is covered in Chapter 9)."
     ]
    },
    {
     "cell_type": "markdown",
     "metadata": {},
     "source": [
      "This concludes the analysis of the SiR dataset. All values have been calculated and compared, and the graphics have been replicated."
     ]
    },
    {
     "cell_type": "heading",
     "level": 2,
     "metadata": {},
     "source": [
      "7.4 Univariate Summary Statistics: PiDigits"
     ]
    },
    {
     "cell_type": "markdown",
     "metadata": {},
     "source": [
      "This section will perform examine the Univariate Summary Statistics for the first 5000 digits of Pi. Any new functions and techniques will be accompanied by a detailed explanation, while all steps in the analysis that parallel Section 7.2 will not be explained."
     ]
    },
    {
     "cell_type": "markdown",
     "metadata": {},
     "source": [
      "The Certified values for this dataset can be found at:<br>\n",
      "http://www.itl.nist.gov/div898/strd/univ/certvalues/pidigits.html\n",
      "\n",
      "For easy reference, they are included here.\n",
      "<img src='images/pi.PNG'>"
     ]
    },
    {
     "cell_type": "heading",
     "level": 3,
     "metadata": {},
     "source": [
      "7.4.1 Reading in and preparing data from an ASCII webpage"
     ]
    },
    {
     "cell_type": "markdown",
     "metadata": {},
     "source": [
      "For a detailed explanation of this process, refer to Section 7.2.1."
     ]
    },
    {
     "cell_type": "code",
     "collapsed": false,
     "input": [
      "PiUrl = 'http://www.itl.nist.gov/div898/strd/univ/data/PiDigits.dat'\n",
      "open('data/Pi.dat','wb').write(ul.urlopen(PiUrl).read())"
     ],
     "language": "python",
     "metadata": {},
     "outputs": [],
     "prompt_number": 111
    },
    {
     "cell_type": "code",
     "collapsed": false,
     "input": [
      "PiData = np.loadtxt('data/Pi.dat',skiprows=60,dtype=int)\n",
      "PiFrame = pd.DataFrame(PiData)"
     ],
     "language": "python",
     "metadata": {},
     "outputs": [],
     "prompt_number": 112
    },
    {
     "cell_type": "markdown",
     "metadata": {},
     "source": [
      "<br><br>"
     ]
    },
    {
     "cell_type": "code",
     "collapsed": false,
     "input": [
      "PiFrame.head()"
     ],
     "language": "python",
     "metadata": {},
     "outputs": [
      {
       "html": [
        "<div style=\"max-height:1000px;max-width:1500px;overflow:auto;\">\n",
        "<table border=\"1\" class=\"dataframe\">\n",
        "  <thead>\n",
        "    <tr style=\"text-align: right;\">\n",
        "      <th></th>\n",
        "      <th>0</th>\n",
        "    </tr>\n",
        "  </thead>\n",
        "  <tbody>\n",
        "    <tr>\n",
        "      <th>0</th>\n",
        "      <td> 3</td>\n",
        "    </tr>\n",
        "    <tr>\n",
        "      <th>1</th>\n",
        "      <td> 1</td>\n",
        "    </tr>\n",
        "    <tr>\n",
        "      <th>2</th>\n",
        "      <td> 4</td>\n",
        "    </tr>\n",
        "    <tr>\n",
        "      <th>3</th>\n",
        "      <td> 1</td>\n",
        "    </tr>\n",
        "    <tr>\n",
        "      <th>4</th>\n",
        "      <td> 5</td>\n",
        "    </tr>\n",
        "  </tbody>\n",
        "</table>\n",
        "</div>"
       ],
       "metadata": {},
       "output_type": "pyout",
       "prompt_number": 113,
       "text": [
        "   0\n",
        "0  3\n",
        "1  1\n",
        "2  4\n",
        "3  1\n",
        "4  5"
       ]
      }
     ],
     "prompt_number": 113
    },
    {
     "cell_type": "code",
     "collapsed": false,
     "input": [
      "PiFrame.tail()"
     ],
     "language": "python",
     "metadata": {},
     "outputs": [
      {
       "html": [
        "<div style=\"max-height:1000px;max-width:1500px;overflow:auto;\">\n",
        "<table border=\"1\" class=\"dataframe\">\n",
        "  <thead>\n",
        "    <tr style=\"text-align: right;\">\n",
        "      <th></th>\n",
        "      <th>0</th>\n",
        "    </tr>\n",
        "  </thead>\n",
        "  <tbody>\n",
        "    <tr>\n",
        "      <th>4995</th>\n",
        "      <td> 6</td>\n",
        "    </tr>\n",
        "    <tr>\n",
        "      <th>4996</th>\n",
        "      <td> 0</td>\n",
        "    </tr>\n",
        "    <tr>\n",
        "      <th>4997</th>\n",
        "      <td> 4</td>\n",
        "    </tr>\n",
        "    <tr>\n",
        "      <th>4998</th>\n",
        "      <td> 7</td>\n",
        "    </tr>\n",
        "    <tr>\n",
        "      <th>4999</th>\n",
        "      <td> 2</td>\n",
        "    </tr>\n",
        "  </tbody>\n",
        "</table>\n",
        "</div>"
       ],
       "metadata": {},
       "output_type": "pyout",
       "prompt_number": 114,
       "text": [
        "      0\n",
        "4995  6\n",
        "4996  0\n",
        "4997  4\n",
        "4998  7\n",
        "4999  2"
       ]
      }
     ],
     "prompt_number": 114
    },
    {
     "cell_type": "markdown",
     "metadata": {},
     "source": [
      "Data was read in correctly."
     ]
    },
    {
     "cell_type": "heading",
     "level": 3,
     "metadata": {},
     "source": [
      "7.4.2 NIST Certified Values"
     ]
    },
    {
     "cell_type": "markdown",
     "metadata": {},
     "source": [
      "For a detailed explanation of this process, refer to Section 7.2.2."
     ]
    },
    {
     "cell_type": "markdown",
     "metadata": {},
     "source": [
      "The certified values for this dataset can be found at:<br> http://www.itl.nist.gov/div898/strd/univ/certvalues/pidigits.html"
     ]
    },
    {
     "cell_type": "code",
     "collapsed": false,
     "input": [
      "PiMean = '4.53480000000000'\n",
      "PiSigma = '2.86733906028871'\n",
      "\n",
      "PiCertVals = np.array([PiMean,PiSigma])"
     ],
     "language": "python",
     "metadata": {},
     "outputs": [],
     "prompt_number": 115
    },
    {
     "cell_type": "heading",
     "level": 3,
     "metadata": {},
     "source": [
      "7.4.3 Univariate Summary Statistics in Python"
     ]
    },
    {
     "cell_type": "markdown",
     "metadata": {},
     "source": [
      "From the section above (7.4.2), there are only two values of interest for this dataset. In addition to the extraction of these two values, a couple built-in DataFrame functions to find and display other summary statistics will be covered in this section. "
     ]
    },
    {
     "cell_type": "markdown",
     "metadata": {},
     "source": [
      "Note: These functions were discovered using dir() (see Section 7.2.1)."
     ]
    },
    {
     "cell_type": "code",
     "collapsed": false,
     "input": [
      "#describe provides a table with five number summary, number of \n",
      "#observations, mean, and standard deviation for the DataFrame.\n",
      "PiFrame.describe()"
     ],
     "language": "python",
     "metadata": {},
     "outputs": [
      {
       "html": [
        "<div style=\"max-height:1000px;max-width:1500px;overflow:auto;\">\n",
        "<table border=\"1\" class=\"dataframe\">\n",
        "  <thead>\n",
        "    <tr style=\"text-align: right;\">\n",
        "      <th></th>\n",
        "      <th>0</th>\n",
        "    </tr>\n",
        "  </thead>\n",
        "  <tbody>\n",
        "    <tr>\n",
        "      <th>count</th>\n",
        "      <td> 5000.000000</td>\n",
        "    </tr>\n",
        "    <tr>\n",
        "      <th>mean</th>\n",
        "      <td>    4.534800</td>\n",
        "    </tr>\n",
        "    <tr>\n",
        "      <th>std</th>\n",
        "      <td>    2.867339</td>\n",
        "    </tr>\n",
        "    <tr>\n",
        "      <th>min</th>\n",
        "      <td>    0.000000</td>\n",
        "    </tr>\n",
        "    <tr>\n",
        "      <th>25%</th>\n",
        "      <td>    2.000000</td>\n",
        "    </tr>\n",
        "    <tr>\n",
        "      <th>50%</th>\n",
        "      <td>    5.000000</td>\n",
        "    </tr>\n",
        "    <tr>\n",
        "      <th>75%</th>\n",
        "      <td>    7.000000</td>\n",
        "    </tr>\n",
        "    <tr>\n",
        "      <th>max</th>\n",
        "      <td>    9.000000</td>\n",
        "    </tr>\n",
        "  </tbody>\n",
        "</table>\n",
        "</div>"
       ],
       "metadata": {},
       "output_type": "pyout",
       "prompt_number": 116,
       "text": [
        "                 0\n",
        "count  5000.000000\n",
        "mean      4.534800\n",
        "std       2.867339\n",
        "min       0.000000\n",
        "25%       2.000000\n",
        "50%       5.000000\n",
        "75%       7.000000\n",
        "max       9.000000"
       ]
      }
     ],
     "prompt_number": 116
    },
    {
     "cell_type": "code",
     "collapsed": false,
     "input": [
      "PiFrame.hist();"
     ],
     "language": "python",
     "metadata": {},
     "outputs": [
      {
       "metadata": {},
       "output_type": "display_data",
       "png": "[encoded data removed]",
       "text": [
        "<matplotlib.figure.Figure at 0x1b197668>"
       ]
      }
     ],
     "prompt_number": 118
    },
    {
     "cell_type": "markdown",
     "metadata": {},
     "source": [
      "The histogram above was generated using the DataFrame's built-in histogram function. The histogram contains the number of times a digit appears in the first 5000 digits of Pi."
     ]
    },
    {
     "cell_type": "markdown",
     "metadata": {},
     "source": [
      "For this analysis, using NumPy to calculate the values should be faster than extracting them from the <b>.describe()</b> output table."
     ]
    },
    {
     "cell_type": "code",
     "collapsed": false,
     "input": [
      "PyPiMean = repr(np.mean(PiData))\n",
      "PyPistd = repr(np.std(PiData))\n",
      "\n",
      "PyPiVals = np.array([PyPiMean, PyPistd])"
     ],
     "language": "python",
     "metadata": {},
     "outputs": [],
     "prompt_number": 119
    },
    {
     "cell_type": "heading",
     "level": 3,
     "metadata": {},
     "source": [
      "7.4.4 Testing NIST Accuracy against Python"
     ]
    },
    {
     "cell_type": "markdown",
     "metadata": {},
     "source": [
      "For a detailed explanation of this process, refer to Section 7.2.6."
     ]
    },
    {
     "cell_type": "code",
     "collapsed": false,
     "input": [
      "#specify titles for the output values.\n",
      "PiLabelArray = np.array(['Mean:','Sigma:'])"
     ],
     "language": "python",
     "metadata": {},
     "outputs": [],
     "prompt_number": 120
    },
    {
     "cell_type": "code",
     "collapsed": false,
     "input": [
      "PiPy = array_compare(PyPiVals,PiCertVals,PiLabelArray)"
     ],
     "language": "python",
     "metadata": {},
     "outputs": [
      {
       "output_type": "stream",
       "stream": "stdout",
       "text": [
        "('Mean:', 5, 'of', 16)\n",
        "('Sigma:', 5, 'of', 16)\n"
       ]
      }
     ],
     "prompt_number": 121
    },
    {
     "cell_type": "markdown",
     "metadata": {},
     "source": [
      "Either NumPy miscalculated the values, or the previous comparison method is causing a problem."
     ]
    },
    {
     "cell_type": "markdown",
     "metadata": {},
     "source": [
      "As done in the previous analyses (Sections 7.2.6 and 7.3.6) examine relevant values to determine what the issue might be."
     ]
    },
    {
     "cell_type": "code",
     "collapsed": false,
     "input": [
      "print(PyPiVals[0])\n",
      "print(PiCertVals[0])"
     ],
     "language": "python",
     "metadata": {},
     "outputs": [
      {
       "output_type": "stream",
       "stream": "stdout",
       "text": [
        "4.5347999999999997\n",
        "4.53480000000000\n"
       ]
      }
     ],
     "prompt_number": 401
    },
    {
     "cell_type": "markdown",
     "metadata": {},
     "source": [
      "These means are essentially the same. Much more accurate than matching 5 of 16 digits indicates."
     ]
    },
    {
     "cell_type": "code",
     "collapsed": false,
     "input": [
      "print(PyPiVals[1])\n",
      "print(PiCertVals[1])"
     ],
     "language": "python",
     "metadata": {},
     "outputs": [
      {
       "output_type": "stream",
       "stream": "stdout",
       "text": [
        "2.8670523120445486\n",
        "2.86733906028871\n"
       ]
      }
     ],
     "prompt_number": 403
    },
    {
     "cell_type": "markdown",
     "metadata": {},
     "source": [
      "The standard deviation (obtained using NumPy) does not match the desired accuracy."
     ]
    },
    {
     "cell_type": "markdown",
     "metadata": {},
     "source": [
      "NumPy is less code, and an intuitive way, for new Python users to obtain these summary statistics, but it did not match the NIST accuracy."
     ]
    },
    {
     "cell_type": "markdown",
     "metadata": {},
     "source": [
      "Let's obtain the same values using the Pandas DataFrame."
     ]
    },
    {
     "cell_type": "code",
     "collapsed": false,
     "input": [
      "#the code in this print technique is similar to SAS code.\n",
      "#print is customized to provide 17 digits maximum, \n",
      "#14 of which are decimal places.\n",
      "PyMean = PiFrame.mean()\n",
      "print '%17.14f' % (PyMean)\n",
      "print(PiCertVals[0])\n",
      "\n",
      "PySTD = PiFrame.std()\n",
      "print '%17.14f' % (PySTD)\n",
      "print(PiCertVals[1])"
     ],
     "language": "python",
     "metadata": {},
     "outputs": [
      {
       "output_type": "stream",
       "stream": "stdout",
       "text": [
        " 4.53480000000000\n",
        "4.53480000000000\n",
        " 2.86733906028871\n",
        "2.86733906028871\n"
       ]
      }
     ],
     "prompt_number": 416
    },
    {
     "cell_type": "markdown",
     "metadata": {},
     "source": [
      "The DataFrame, which is the central object for data analysis in this guide, provided the desired accuracy and exactly matched the NIST certified values. My recommendation for new users is to always work with the Pandas DataFrame object."
     ]
    },
    {
     "cell_type": "markdown",
     "metadata": {},
     "source": [
      "This concludes the analysis of the PiDigits dataset."
     ]
    }
   ],
   "metadata": {}
  }
 ]
}