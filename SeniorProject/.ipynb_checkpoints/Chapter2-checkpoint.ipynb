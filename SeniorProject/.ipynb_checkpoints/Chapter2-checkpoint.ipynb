{
 "metadata": {
  "name": "",
  "signature": "sha256:2002af17663d3e50ca19ca8f09391cde8da066e35cf6807aba8d0ac260f7f85f"
 },
 "nbformat": 3,
 "nbformat_minor": 0,
 "worksheets": [
  {
   "cells": [
    {
     "cell_type": "heading",
     "level": 1,
     "metadata": {},
     "source": [
      "Chapter 2<br>\n",
      "Python and Anaconda"
     ]
    },
    {
     "cell_type": "heading",
     "level": 2,
     "metadata": {},
     "source": [
      "2.1 Installing Anaconda"
     ]
    },
    {
     "cell_type": "markdown",
     "metadata": {},
     "source": [
      "Dr. Jimmy Doi, a Professor of Statistics at California Polytechnic State University San Luis Obispo (and the primary adviser of this project), put together a document for \"Installation and Configuration of Python on PC<b>&#42;</b> (mainly based on Sheppard's Intro to Python for Econometrics, Statistics, and Data Analysis - IPESDA)\". Most of this section will be directly from his document.<br>\n",
      "<b>&#42;</b>[see IPESDA for install instructions for Mac/Linux]\n",
      "\n",
      "Anaconda is a \"Completely free enterprise-ready Python distribution for large-scale data processing, predictive analytics, and scientific computing\" with \"195+ of the most popular Python packages for science, math, engineering, and data analysis\". "
     ]
    },
    {
     "cell_type": "markdown",
     "metadata": {},
     "source": [
      "\u2022\tDownload Anaconda (https://store.continuum.io/cshop/anaconda/)\n",
      "\n",
      "Follow the link above then click on \"Download Anaconda\" in the upper right corner of the web browser.\n",
      "<img src='images/downloadAnaconda.PNG'><br>\n",
      "\n",
      "Click on the picture that matches your operating system.\n",
      "<img src='images/chooseInstall.PNG'><br>\n",
      "\n",
      "For this project, everything is coded in Python 2.7, not 3.4. Additionally, the books and resources Dr. Doi and I used to learn python and build this project suggest the use of Python 2.7.\n",
      "<img src='images/installer.PNG'><br>\n",
      "\n",
      "Open the installer and follow the steps for the steps for the default/recommended installation. During installation, be sure to install in the default directory (C:/Anaconda). If Anaconda is not installed there, be sure that target directory contains no unicode characters or spaces. Otherwise subsequent steps may not work well.\n",
      "<img src='images/anaconda.PNG'>"
     ]
    },
    {
     "cell_type": "heading",
     "level": 2,
     "metadata": {},
     "source": [
      "2.2 Updating Conda, Anaconda, and Anaconda Packages"
     ]
    },
    {
     "cell_type": "markdown",
     "metadata": {},
     "source": [
      "After installation is complete, open the command prompt. This can be done by opening the windows start menu by clicking in the lower left corner of the desktop. Just above the icon there will be a search box. Type <b>cmd</b> into the search box and hit enter.\n",
      "<img src='images/cmd.PNG'>\n",
      "A black window will open on the screen. Type the following lines one at time, hitting enter after each one and allowing the program to finish before submitting the next line:\n",
      "\n",
      "\tconda update conda\n",
      "\tconda update anaconda\n",
      "    \n",
      "The statements above can be used at any point to ensure that Anaconda is up to date with the latest packages.\n",
      "<img src='images/Conda.PNG'>\n",
      "\n",
      "\n",
      "I recommend repeating this update process periodically with any packages you use. Simply open <b>cmd</b>, type <b>conda update</b> and the name of the package you want to check for update and hit enter.\n",
      "\n",
      "    conda update pandas\n",
      "\n",
      "The statement above will update the pandas package and the packages it is built on (i.e. NumPy). This is helpful since the individual packages update more frequently than Anaconda. A few times during this project I was attempting to access functions in a package that I found in online documentation, but they did not exist. Executing these update commands solved the problem every time. "
     ]
    },
    {
     "cell_type": "heading",
     "level": 2,
     "metadata": {},
     "source": [
      "2.3 Installing and Updating Additional Packages"
     ]
    },
    {
     "cell_type": "markdown",
     "metadata": {},
     "source": [
      "Installing a package is similar to the update performed in the previous section. To install a new package, type the following line in the command prompt (cmd from the previous section) and hit enter:\n",
      "\n",
      "    pip install seaborn\n",
      "    \n",
      "This statement installs the \"Seaborn: statistical data visualization\" package. This package will be used in a later section.\n",
      "\n",
      "This process can be repeated for any packages.\n",
      "\n",
      "    pip install [name of package]\n",
      "    \n",
      "Note: Packages installed using pip have a different update command:\n",
      "\n",
      "    pip install --upgrade [name of package]\n",
      "    \n",
      "For pip packages that fail to update, try to uninstall and reinstall the package. Here an example of the command line entries to uninstall and reinstall the seaborn package.\n",
      "\n",
      "    pip uninstall seaborn\n",
      "    pip install seaborn"
     ]
    },
    {
     "cell_type": "heading",
     "level": 2,
     "metadata": {},
     "source": [
      "2.4 Anaconda Add-Ons (Optional)"
     ]
    },
    {
     "cell_type": "markdown",
     "metadata": {},
     "source": [
      "The Add-Ons in this section were not used for this project. Below are the descriptions and instructions from Dr. Doi's installation guide.\n",
      "\n",
      "\u2022\tGet Anaconda Add-Ons (https://store.continuum.io/cshop/anaconda/).\n",
      "<PRE>The Accelerate and IOPro Add-Ons speed up Python (Accelerate contains MKL optimizations)<br>\n",
      "<li>Select \"All Product are Free for Academic Use\"</li>\n",
      "<li>Get license by email by filling out form (select \"Anaconda Academic License\")</li>\n",
      "This license is good for one year.<br>\n",
      "<li>Copy the license file in the .continuum folder found in the root USER directory of Windows.</li>\n",
      "At the command prompt submit:</PRE>\n",
      "\n",
      "\tconda update conda\n",
      "\tconda install accelerate\n",
      "\tconda install iopro\n",
      "\n",
      "<PRE><li>If you look in the license file, it seems to grant access to numbapro, mkl, and iopro. So, the 30-day trial for mkl should now automatically be upgraded to a 1-year trial. If you remove the license file from the .continuum directory, you should see a message in the console when launching IPython Notebook that mkl is only good for xxx days if you're still within the 30-day trial window. When the license file is in the directory the warning message disappears.</li></PRE>"
     ]
    }
   ],
   "metadata": {}
  }
 ]
}