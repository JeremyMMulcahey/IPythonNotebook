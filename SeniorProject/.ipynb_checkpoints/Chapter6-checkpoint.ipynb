{
 "metadata": {
  "name": "",
  "signature": "sha256:fae6eee736f63feaf2d2a93977a5d5e26a2f285d81f7a30edca5d89a25eea7bb"
 },
 "nbformat": 3,
 "nbformat_minor": 0,
 "worksheets": [
  {
   "cells": [
    {
     "cell_type": "heading",
     "level": 1,
     "metadata": {},
     "source": [
      "Chapter 6<br>R for IPython Notebook"
     ]
    },
    {
     "cell_type": "markdown",
     "metadata": {},
     "source": [
      "In Dr. Grangers' presentation to the Statistic Department at Cal Poly SLO (on October 30, 2014) titled \"Open, Reproducible, and Exploratory Data Science\", he states that there is a positive correlation between R and Python users. Data scientists that use R tend to use Python and data scientists that use Python tend to use R. Dr. Granger also stated that Silicon Valley companies are putting a heavy emphasis on hiring applicants that know both languages."
     ]
    },
    {
     "cell_type": "markdown",
     "metadata": {},
     "source": [
      "NOTE: By the end of November 2014, the IPython Notebook will offer built-in R functionality. Switching to an R kernel will be as simple as a dropdown menu in the upper-right corner of the notebook.\n",
      "\n",
      "<img src='images/rpython.PNG'>"
     ]
    },
    {
     "cell_type": "markdown",
     "metadata": {},
     "source": [
      "This new R support does not invalidate this chapter. Users that wish to alternate between executing R code and Python code in the same notebook (without switching the kernels) can use Rpy2. The execution of alternating R cells and Python cells is demonstrated in Chapter 7. Replicating the work from Chapter 7 with the new R support would be cumbersome. "
     ]
    },
    {
     "cell_type": "heading",
     "level": 2,
     "metadata": {},
     "source": [
      "6.1 Installing Rpy2"
     ]
    },
    {
     "cell_type": "markdown",
     "metadata": {},
     "source": [
      "Rpy2 is the current package (formerly Rpy2) used to run R in IPython Notebook cells. The installation of Rpy2 not as simple as pip install rpy2.\n",
      "\n",
      "I have it on good authority that this entire section is completely unnecessary for Mac users. Rpy2 installs and works on Macs with zero issues. For us Windows users, you are benefiting from many meetings between Cal Poly's Dr. Brian Granger and myself, and many failed attempts to install Rpy2 on Windows. Luckly, there is now a native R kernel for IPython.\n",
      "\n",
      "To obtain Rpy2, click on the link. Hit control+f and type <b>rpy2</b> into the search bar.<br>\n",
      "http://www.lfd.uci.edu/~gohlke/pythonlibs/\n",
      "\n",
      "Hitting enter a couple times should take you to the Rpy2 section. Download version 2-2.4.3 for the correct operating system.\n",
      "<img src='images/rpy2.PNG'>\n",
      "\n",
      "<b>Follow the next steps carefully.</b> In my experience, here's where it gets tricky. The wrong combination of Rpy2 and version of R crashes the kernel. <br>\n",
      "    If you have R installed, I recommend backing up your scripts before proceeding (and anything else you want to save). <br>\n",
      "    If you do not have R installed, and you are using Windows 8.1, I recommend installing R version 3.0.2.\n",
      "    http://cran.r-project.org/bin/windows/base/old/3.0.2/\n",
      "\n",
      "<b>For those without R installed:</b>\n",
      "<li>Follow the link above. Download and install R version 3.0.2.</li>\n",
      "<li>Run the Rpy2 installation file.</li>\n",
      "\n",
      "<b>For those with R installed:</b>\n",
      "<li>Run the Rpy2 installation file.</li>"
     ]
    },
    {
     "cell_type": "heading",
     "level": 2,
     "metadata": {},
     "source": [
      "6.2 Testing the Rpy2 installation"
     ]
    },
    {
     "cell_type": "markdown",
     "metadata": {},
     "source": [
      "Go to your IPython Notebook. In the next cell (the empty one below Hello World), type these lines in their own cells (hitting shift+enter after each line):"
     ]
    },
    {
     "cell_type": "code",
     "collapsed": false,
     "input": [
      "import rpy2"
     ],
     "language": "python",
     "metadata": {},
     "outputs": [],
     "prompt_number": 1
    },
    {
     "cell_type": "code",
     "collapsed": false,
     "input": [
      "%load_ext rpy2.ipython"
     ],
     "language": "python",
     "metadata": {},
     "outputs": [],
     "prompt_number": 2
    },
    {
     "cell_type": "code",
     "collapsed": false,
     "input": [
      "%R install.packages(\"lattice\")"
     ],
     "language": "python",
     "metadata": {},
     "outputs": [],
     "prompt_number": 3
    },
    {
     "cell_type": "markdown",
     "metadata": {},
     "source": [
      "Scroll down to USA and select one of the USA portals."
     ]
    },
    {
     "cell_type": "code",
     "collapsed": false,
     "input": [
      "%R library(lattice)"
     ],
     "language": "python",
     "metadata": {},
     "outputs": [
      {
       "metadata": {},
       "output_type": "pyout",
       "prompt_number": 4,
       "text": [
        "<StrVector - Python:0x000000000CDD5E48 / R:0x0000000022F81408>\n",
        "[str, str, str, ..., str, str, str]"
       ]
      }
     ],
     "prompt_number": 4
    },
    {
     "cell_type": "markdown",
     "metadata": {},
     "source": [
      "If your output matches mine, then R is working. It is successfully downloading and installing packages. Skip ahead to Chapter 7."
     ]
    },
    {
     "cell_type": "heading",
     "level": 2,
     "metadata": {},
     "source": [
      "6.3 If the Kernel Crashes"
     ]
    },
    {
     "cell_type": "markdown",
     "metadata": {},
     "source": [
      "Go to your windows control panel.\n",
      "<img src='images/controlpanel.PNG'>\n",
      "\n",
      "Scroll down to <b>Programs and Features</b>.\n",
      "<img src='images/uninstall.PNG'>\n",
      "\n",
      "Uninstall both <b>R for Windows</b> and <b>Python 2.7 rpy2-2.4.3</b>.\n",
      "\n",
      "Download a different version of R (ie 3.0.1, 3.0.3, 3.1.0, etc). Install the new version of R and install Rpy2 again. \n",
      "\n",
      "Return to the \"Testing Rpy2 Installation\" section above and repeat the process.\n",
      "\n",
      "There should be a combination that enables R to work in the IPython Notebook. \n",
      "\n",
      "After Rpy2 is working as intended, install any version of R you prefer and add your backed up files. Rpy2 will work with the version it needs to and when you work exclusively in R, you can use your preferred version."
     ]
    },
    {
     "cell_type": "heading",
     "level": 2,
     "metadata": {},
     "source": [
      "6.4 R installation Final Notes"
     ]
    },
    {
     "cell_type": "markdown",
     "metadata": {},
     "source": [
      "Dr. Granger and his team are constantly working to improve functionality in all areas of the IPython Notebook. R is one of those areas. Originally, getting Rpy2 to work on a PC was almost impossible. Then, it was very hard. Now, it's a bit touchy. The new R support (the built-in dropdown menu mentioned at the beginning of the chapter) might slow the evolution of Rpy2, but Rpy2 should reach a point where it installs like any other package."
     ]
    }
   ],
   "metadata": {}
  }
 ]
}