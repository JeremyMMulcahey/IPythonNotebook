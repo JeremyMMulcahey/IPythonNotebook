{
 "metadata": {
  "name": "",
  "signature": "sha256:ef864a864e9c3de7443dc80c1fa912d793cd76471b109b827d88ab5d1db397b8"
 },
 "nbformat": 3,
 "nbformat_minor": 0,
 "worksheets": [
  {
   "cells": [
    {
     "cell_type": "heading",
     "level": 1,
     "metadata": {},
     "source": [
      "Accomplished Primary Goal"
     ]
    },
    {
     "cell_type": "markdown",
     "metadata": {},
     "source": [
      "<font size = '4'>Learn Python and its Libraries for Data Analysis\n",
      "</font>"
     ]
    },
    {
     "cell_type": "heading",
     "level": 1,
     "metadata": {},
     "source": [
      "Accomplished Secondary Goals"
     ]
    },
    {
     "cell_type": "markdown",
     "metadata": {},
     "source": [
      "<font size ='4'>Produced an instructional guide for using Python and the IPython Notebook for Data Analysis that contains:\n",
      "<ul>\n",
      "<li>Installation and set up of Python and the IPython Notebook</li>\n",
      "<li>Setting up and using GitHub Desktop</li>\n",
      "<li>Using R in the IPython Notebook</li>\n",
      "<li>Running ANOVA and Linear Regression</li>\n",
      "<li>Visualization techniques</li>\n",
      "<li>DataFrame manipulation</li>\n",
      "<li>Working with a json datastream</li>\n",
      "</ul></font>"
     ]
    },
    {
     "cell_type": "markdown",
     "metadata": {},
     "source": [
      "<font size ='4'>The guide is available as a static HTML notebook on my GitHub or as a PDF through the Cal Poly SLO Library or Cal Poly SLO Statistics department.</font>"
     ]
    },
    {
     "cell_type": "heading",
     "level": 1,
     "metadata": {},
     "source": [
      "Additional Accomplishment"
     ]
    },
    {
     "cell_type": "markdown",
     "metadata": {},
     "source": [
      "<font size ='4'>Explored widgets in the IPython Notebook</font>"
     ]
    },
    {
     "cell_type": "heading",
     "level": 1,
     "metadata": {},
     "source": [
      "Acknowledgments"
     ]
    },
    {
     "cell_type": "markdown",
     "metadata": {},
     "source": [
      "<font size ='4'><ul><li>Project Adviser: Dr. Jimmy Doi</li>\n",
      "<li>Dr. Brian Granger, Co-founder of the IPython Notebook</li>\n",
      "<li>Dr. Gary Hughes</li></ul></font>"
     ]
    },
    {
     "cell_type": "code",
     "collapsed": false,
     "input": [],
     "language": "python",
     "metadata": {},
     "outputs": []
    },
    {
     "cell_type": "raw",
     "metadata": {},
     "source": []
    },
    {
     "cell_type": "heading",
     "level": 1,
     "metadata": {},
     "source": [
      "Thank you, Questions?"
     ]
    }
   ],
   "metadata": {}
  }
 ]
}