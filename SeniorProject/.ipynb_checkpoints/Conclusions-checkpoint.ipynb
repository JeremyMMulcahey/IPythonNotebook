{
 "metadata": {
  "name": "",
  "signature": "sha256:b18c46a554fdca3079c933a4217ab8b50aa1e3189ea09d83af0ef7331574e320"
 },
 "nbformat": 3,
 "nbformat_minor": 0,
 "worksheets": [
  {
   "cells": [
    {
     "cell_type": "heading",
     "level": 1,
     "metadata": {},
     "source": [
      "Completed Primary Goal"
     ]
    },
    {
     "cell_type": "markdown",
     "metadata": {},
     "source": [
      "\"Learn Python and its Libraries\""
     ]
    },
    {
     "cell_type": "heading",
     "level": 1,
     "metadata": {},
     "source": [
      "Completed Secondary Goal"
     ]
    },
    {
     "cell_type": "markdown",
     "metadata": {},
     "source": [
      "Data streaming and widget/app development"
     ]
    },
    {
     "cell_type": "heading",
     "level": 1,
     "metadata": {},
     "source": [
      "Completed Unanticipated Goal "
     ]
    },
    {
     "cell_type": "markdown",
     "metadata": {},
     "source": [
      "Produced a guide for installing, using the IPython Notebook for Data Analysis, and sharing the IPython Notebook with GitHub and NBViewer available as a static HTML notebook at http://bit.ly/1AVv0pO or a PDF through the Library or Statistics department."
     ]
    },
    {
     "cell_type": "heading",
     "level": 1,
     "metadata": {},
     "source": [
      "Acknowledgments"
     ]
    },
    {
     "cell_type": "markdown",
     "metadata": {},
     "source": [
      "Project Adviser: Dr. Jimmy Doi"
     ]
    },
    {
     "cell_type": "markdown",
     "metadata": {},
     "source": [
      "Dr. Brian Granger, Co-founder of the IPython Notebook"
     ]
    },
    {
     "cell_type": "markdown",
     "metadata": {},
     "source": [
      "Dr. Gary Hughes"
     ]
    }
   ],
   "metadata": {}
  }
 ]
}