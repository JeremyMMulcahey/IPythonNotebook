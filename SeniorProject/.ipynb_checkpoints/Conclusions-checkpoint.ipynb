{
 "metadata": {
  "name": "",
  "signature": "sha256:4d02a11dd2217a5291d7f83e262126c4bdd485e9786b7f92506d0596cfd5cf43"
 },
 "nbformat": 3,
 "nbformat_minor": 0,
 "worksheets": [
  {
   "cells": [
    {
     "cell_type": "heading",
     "level": 1,
     "metadata": {},
     "source": [
      "Completed Primary Goal"
     ]
    },
    {
     "cell_type": "markdown",
     "metadata": {},
     "source": [
      "\"Learn Python and its Libraries\""
     ]
    },
    {
     "cell_type": "heading",
     "level": 1,
     "metadata": {},
     "source": [
      "Completed Secondary Goals"
     ]
    },
    {
     "cell_type": "markdown",
     "metadata": {},
     "source": [
      "Data streaming and widget/app"
     ]
    },
    {
     "cell_type": "markdown",
     "metadata": {},
     "source": [
      "Produced a guide for installing, using the IPython Notebook for Data Analysis, and sharing the IPython Notebook with GitHub and NBViewer."
     ]
    },
    {
     "cell_type": "markdown",
     "metadata": {},
     "source": [
      "The guide is available as a static HTML notebook at http://bit.ly/1zqK5hj or as a PDF through the Library or Statistics department."
     ]
    },
    {
     "cell_type": "heading",
     "level": 1,
     "metadata": {},
     "source": [
      "Acknowledgments"
     ]
    },
    {
     "cell_type": "markdown",
     "metadata": {},
     "source": [
      "Project Adviser: Dr. Jimmy Doi"
     ]
    },
    {
     "cell_type": "markdown",
     "metadata": {},
     "source": [
      "Dr. Brian Granger, Co-founder of the IPython Notebook"
     ]
    },
    {
     "cell_type": "markdown",
     "metadata": {},
     "source": [
      "Dr. Gary Hughes"
     ]
    }
   ],
   "metadata": {}
  }
 ]
}